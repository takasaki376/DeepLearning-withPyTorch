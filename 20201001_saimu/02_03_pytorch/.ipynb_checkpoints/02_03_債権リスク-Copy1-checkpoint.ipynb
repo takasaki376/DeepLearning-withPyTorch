{
 "cells": [
  {
   "cell_type": "code",
   "execution_count": 48,
   "metadata": {},
   "outputs": [],
   "source": [
    "import numpy as np\n",
    "# 訓練データと検証データの分割\n",
    "from sklearn.model_selection import train_test_split\n",
    "# データを扱う\n",
    "import pandas as pd\n",
    "# グラフ描画\n",
    "from matplotlib import pyplot as plt\n",
    "%matplotlib inline\n",
    "import seaborn as sns\n",
    "# 評価関数（f1_score）\n",
    "from sklearn.metrics import f1_score \n",
    "# 混同行列\n",
    "from sklearn.metrics import confusion_matrix\n",
    "from sklearn.metrics import classification_report"
   ]
  },
  {
   "cell_type": "code",
   "execution_count": 49,
   "metadata": {},
   "outputs": [],
   "source": [
    "import torch\n",
    "# 自動微分の関数 \n",
    "from torch.autograd import Variable\n",
    "# ニューラルネットワークの関数\n",
    "import torch.nn as nn\n",
    "# 活性化関数\n",
    "import torch.nn.functional as F\n",
    "# 最適化のアルゴリズムの関数\n",
    "import torch.optim as optim\n",
    "#ユーティリティのデータから\n",
    "from torch.utils.data import DataLoader ,TensorDataset, Dataset"
   ]
  },
  {
   "cell_type": "markdown",
   "metadata": {},
   "source": [
    "## 訓練データの読み込み"
   ]
  },
  {
   "cell_type": "code",
   "execution_count": 165,
   "metadata": {},
   "outputs": [],
   "source": [
    "class TrainDataset(Dataset):\n",
    "    def __init__(self):\n",
    "        super().__init__()\n",
    "        # CSVファイル読み込み（訓練データ）\n",
    "        self.df = pd.read_csv('train.csv')\n",
    "        \n",
    "        # 不正データの補正 (レコード削除のパターンもあるため、ファイル読み込み直後に処理する)\n",
    "        self.df = self.correction(self.df)\n",
    "        \n",
    "        # 説明変数と目的変数に分割する\n",
    "        df_x = self.df.drop(['loan_status'], axis=1)\n",
    "        self.df_y = self.df.loc[:,['loan_status']]\n",
    "        self.targetConv()\n",
    "        \n",
    "        # 説明変数の量的データ、質的データ分割\n",
    "        self.x_cate , self.x_cont, self.x_id = self.DataChange(df_x.copy())\n",
    "        self.x_desc = self.x_cont.describe()\n",
    "        \n",
    "        self.x_cate_conv = self.x_cate.copy()\n",
    "        self.x_cont_conv = self.x_cont.copy()\n",
    "        \n",
    "        # データの加工（標準化や対数化など）\n",
    "        #self.std_scale = 0\n",
    "        self.max_scale = 0\n",
    "        #self.dobule_scale = 0\n",
    "        #self.polynomialFlg = 0\n",
    "        #self.binSplitFlg = 0\n",
    "        self.logFlg = 0\n",
    "        self.DataConv()\n",
    "        \n",
    "        #self.NpToPy()\n",
    "        #self.num = len(self.X_train)\n",
    "        self.num = len(self.X_train_cate)\n",
    "        \n",
    "    def __getitem__(self, index):\n",
    "        return self.X_train_cate[index], self.X_train_cont[index], self.Y_train[index]\n",
    "    \n",
    "    def __len__(self):\n",
    "        return self.num\n",
    "    \n",
    "    def correction(self, df):\n",
    "        \n",
    "        print('null check')\n",
    "        print(df.isnull().sum())\n",
    "        print('-------------------------')\n",
    "        \n",
    "        return df\n",
    "    \n",
    "    def viewDescribe(self):\n",
    "        self.x_cont.describe()\n",
    "        self.x_cate.describe(include='O')\n",
    "    \n",
    "    def dropCol(self):\n",
    "        \n",
    "        #self.x_cate_conv = self.x_cate_conv.drop(columns=['employment_length'], axis=1)\n",
    "        self.x_cate_conv = self.x_cate_conv.drop(columns=['employment_length','application_type'], axis=1)\n",
    "        # application_type  は使ってみる\n",
    "        \n",
    "        \n",
    "        #self.x_cont_conv = self.x_cont_conv.drop(columns=['loan_amnt'], axis=1)\n",
    "        self.x_cont_conv = self.x_cont_conv.drop(columns=['loan_amnt','credit_score'], axis=1)\n",
    "        # credit_score  は使ってみる（差があるかは要確認）\n",
    "        \n",
    "    def DataChange(self, df_x):\n",
    "        categ_cols = ['term' ,'grade' ,'employment_length', 'purpose' ,'application_type']\n",
    "        contin_cols = ['loan_amnt', 'interest_rate', 'credit_score']\n",
    "        index_cols = ['id']\n",
    "\n",
    "        ####################################\n",
    "        ##  データ分割\n",
    "        ##  説明変数と目的変数に分ける。\n",
    "        ##  説明変数はカテゴリデータと連続データに分ける。\n",
    "        ####################################\n",
    "        x_cate = df_x[categ_cols].copy()\n",
    "        x_cont = df_x[contin_cols].copy()\n",
    "        x_id = df_x[index_cols].copy()\n",
    "        x_id = x_id.astype('int64')\n",
    "        \n",
    "        return x_cate , x_cont  ,x_id\n",
    "    \n",
    "    def targetConv(self):\n",
    "        self.df_y['loan_status'] = self.df_y.replace('FullyPaid', '0').replace('ChargedOff', '1')\n",
    "        #self.df_y.astype('float32')\n",
    "        self.df_y['loan_status'].astype('int32')\n",
    "        \n",
    "    def NpToPy(self):\n",
    "        \n",
    "        #tmp = self.x_cont[['displacement_log', 'horsepower_log', 'weight_log', 'acceleration_log']]\n",
    "        #tmp = self.x_cont[['horsepower_log', 'weight_log', 'acceleration_log']]\n",
    "\n",
    "        # 訓練データと検証データに分割\n",
    "        x_train_cate, x_test_cate ,y_train, y_test = train_test_split(self.x_cate_conv, self.df_y, test_size=0.2, random_state=3) \n",
    "        \n",
    "        # カテゴリデータと同じ行数分数値データを抽出する\n",
    "        ### 訓練データ\n",
    "        row_index = x_train_cate.index.values\n",
    "        x_train_cont = self.x_cont_conv.loc[row_index, :]\n",
    "        self.X_train_id = self.x_id.loc[row_index, :]\n",
    "        self.X_train_id.reset_index(drop=True, inplace=True)\n",
    "        \n",
    "        ###　検証データ\n",
    "        row_index = x_test_cate.index.values\n",
    "        x_test_cont = self.x_cont_conv.loc[row_index, :]\n",
    "        self.X_test_id = self.x_id.loc[row_index, :]\n",
    "        self.X_test_id.reset_index(drop=True, inplace=True)\n",
    "        \n",
    "        # pandas.DataFrame を numpyに変換する\n",
    "        x_train_cate = np.array(x_train_cate, dtype=np.float64)\n",
    "        x_test_cate = np.array(x_test_cate, dtype=np.float64)\n",
    "        x_train_cont = np.array(x_train_cont, dtype=np.float64)\n",
    "        x_test_cont = np.array(x_test_cont, dtype=np.float64)\n",
    "        y_train = np.array(y_train, dtype=np.float64)\n",
    "        y_test = np.array(y_test, dtype=np.float64)\n",
    "        \n",
    "        \n",
    "        # numpy の値を torch の値に変換する\n",
    "        self.X_train_cate = torch.from_numpy(x_train_cate).float()\n",
    "        self.X_train_cont = torch.from_numpy(x_train_cont).float()\n",
    "        self.Y_train = torch.from_numpy(y_train).float()\n",
    "        self.X_test_cate = torch.from_numpy(x_test_cate).float()\n",
    "        self.X_test_cont = torch.from_numpy(x_test_cont).float()\n",
    "        self.Y_test = torch.from_numpy(y_test).float()\n",
    "        \n",
    "        # 列数\n",
    "        self.coti_size = self.X_train_cont.shape[1]\n",
    "        self.cate_size  = self.X_train_cate.shape[1]\n",
    "        self.in_size  = self.coti_size + self.cate_size\n",
    "        self.out_size = self.Y_train.shape[1]  \n",
    "\n",
    "        \n",
    "    def termConv(self):\n",
    "        \n",
    "        col = 'term'\n",
    "        \n",
    "        self.x_cate_conv[col + '_1'] = 0\n",
    "\n",
    "        row_index = self.x_cate.index[self.x_cate[col]=='3 years']\n",
    "        self.x_cate_conv.loc[row_index, col + '_1'] = 1\n",
    "        \n",
    "        row_index = self.x_cate.index[self.x_cate[col]=='5 years']\n",
    "        \n",
    "        self.x_cate_conv = self.x_cate_conv.drop(columns=col ,axis=1)\n",
    "    \n",
    "    def gradeConv(self):\n",
    "        \n",
    "        col = 'grade'\n",
    "        \n",
    "        self.x_cate_conv[col + '_01'] = 0\n",
    "        #self.x_cate_conv[col + '_02'] = 0\n",
    "        self.x_cate_conv[col + '_03'] = 0\n",
    "        self.x_cate_conv[col + '_04'] = 0\n",
    "#        self.x_cate_conv[col + '_05'] = 0\n",
    "#        \n",
    "#        self.x_cate_conv[col + '_06'] = 0\n",
    "#        self.x_cate_conv[col + '_07'] = 0\n",
    "#        self.x_cate_conv[col + '_08'] = 0\n",
    "#        self.x_cate_conv[col + '_09'] = 0\n",
    "#        self.x_cate_conv[col + '_10'] = 0\n",
    "#        \n",
    "#        self.x_cate_conv[col + '_11'] = 0\n",
    "#        self.x_cate_conv[col + '_12'] = 0\n",
    "#        self.x_cate_conv[col + '_13'] = 0\n",
    "#        self.x_cate_conv[col + '_14'] = 0\n",
    "#        self.x_cate_conv[col + '_15'] = 0\n",
    "#        \n",
    "#        self.x_cate_conv[col + '_16'] = 0\n",
    "#        self.x_cate_conv[col + '_17'] = 0\n",
    "#        self.x_cate_conv[col + '_18'] = 0\n",
    "#        self.x_cate_conv[col + '_19'] = 0\n",
    "#        self.x_cate_conv[col + '_20'] = 0        \n",
    "#\n",
    "#        self.x_cate_conv[col + '_21'] = 0\n",
    "#        self.x_cate_conv[col + '_22'] = 0\n",
    "#        self.x_cate_conv[col + '_23'] = 0\n",
    "#        self.x_cate_conv[col + '_24'] = 0\n",
    "#        self.x_cate_conv[col + '_25'] = 0\n",
    "#        \n",
    "#        self.x_cate_conv[col + '_26'] = 0\n",
    "#        self.x_cate_conv[col + '_27'] = 0\n",
    "#        self.x_cate_conv[col + '_28'] = 0\n",
    "#        self.x_cate_conv[col + '_29'] = 0\n",
    "            \n",
    "        \n",
    "        row_index = self.x_cate.index[self.x_cate[col]=='A1']\n",
    "        self.x_cate_conv.loc[row_index, col + '_01'] = 1\n",
    "        row_index = self.x_cate.index[self.x_cate[col]=='A2']\n",
    "        self.x_cate_conv.loc[row_index, col + '_01'] = 1\n",
    "        row_index = self.x_cate[(self.x_cate[col]=='A3') & (self.x_cate['purpose'] == 'car')].index\n",
    "        self.x_cate_conv.loc[row_index, col + '_01'] = 1\n",
    "        row_index = self.x_cate[(self.x_cate[col]=='A3') & (self.x_cate['purpose'] == 'credit_card')].index\n",
    "        self.x_cate_conv.loc[row_index, col + '_01'] = 1\n",
    "        row_index = self.x_cate[(self.x_cate[col]=='A3') & (self.x_cate['purpose'] == 'home_improvement')].index\n",
    "        self.x_cate_conv.loc[row_index, col + '_01'] = 1\n",
    "        row_index = self.x_cate[(self.x_cate[col]=='A3') & (self.x_cate['purpose'] == 'major_purchase')].index\n",
    "        self.x_cate_conv.loc[row_index, col + '_04'] = 1\n",
    "        row_index = self.x_cate.index[self.x_cate[col]=='A4']\n",
    "        self.x_cate_conv.loc[row_index, col + '_01'] = 1        \n",
    "        row_index = self.x_cate.index[self.x_cate[col]=='A5']\n",
    "        self.x_cate_conv.loc[row_index, col + '_01'] = 1     \n",
    "\n",
    "        row_index = self.x_cate.index[self.x_cate[col]=='B1']\n",
    "        #self.x_cate_conv.loc[row_index, col + '_02'] = 1\n",
    "        row_index = self.x_cate[(self.x_cate[col]=='B2') & ~(self.x_cate['purpose'] == 'major_purchase')].index\n",
    "        #self.x_cate_conv.loc[row_index, col + '_02'] = 1\n",
    "        row_index = self.x_cate[(self.x_cate[col]=='B2') & (self.x_cate['purpose'] == 'major_purchase')].index\n",
    "        self.x_cate_conv.loc[row_index, col + '_04'] = 1\n",
    "        row_index = self.x_cate.index[self.x_cate[col]=='B3']\n",
    "        #self.x_cate_conv.loc[row_index, col + '_02'] = 1\n",
    "        row_index = self.x_cate.index[self.x_cate[col]=='B4']\n",
    "        #self.x_cate_conv.loc[row_index, col + '_02'] = 1        \n",
    "        row_index = self.x_cate.index[self.x_cate[col]=='B5']\n",
    "        #self.x_cate_conv.loc[row_index, col + '_02'] = 1  \n",
    " \n",
    "        row_index = self.x_cate.index[self.x_cate[col]=='C1']\n",
    "        #self.x_cate_conv.loc[row_index, col + '_02'] = 1\n",
    "        row_index = self.x_cate.index[self.x_cate[col]=='C2']\n",
    "        #self.x_cate_conv.loc[row_index, col + '_02'] = 1\n",
    "        row_index = self.x_cate.index[self.x_cate[col]=='C3']\n",
    "        self.x_cate_conv.loc[row_index, col + '_03'] = 1\n",
    "        row_index = self.x_cate.index[self.x_cate[col]=='C4']\n",
    "        self.x_cate_conv.loc[row_index, col + '_03'] = 1        \n",
    "        row_index = self.x_cate.index[self.x_cate[col]=='C5']\n",
    "        self.x_cate_conv.loc[row_index, col + '_03'] = 1     \n",
    "\n",
    "        row_index = self.x_cate.index[self.x_cate[col]=='D1']\n",
    "        self.x_cate_conv.loc[row_index, col + '_03'] = 1\n",
    "        row_index = self.x_cate.index[self.x_cate[col]=='D2']\n",
    "        self.x_cate_conv.loc[row_index, col + '_03'] = 1\n",
    "        row_index = self.x_cate.index[self.x_cate[col]=='D3']\n",
    "        self.x_cate_conv.loc[row_index, col + '_04'] = 1\n",
    "        row_index = self.x_cate.index[self.x_cate[col]=='D4']\n",
    "        self.x_cate_conv.loc[row_index, col + '_04'] = 1        \n",
    "        row_index = self.x_cate.index[self.x_cate[col]=='D5']\n",
    "        self.x_cate_conv.loc[row_index, col + '_04'] = 1  \n",
    "        \n",
    "        row_index = self.x_cate.index[self.x_cate[col]=='E1']\n",
    "        self.x_cate_conv.loc[row_index, col + '_04'] = 1\n",
    "        row_index = self.x_cate.index[self.x_cate[col]=='E2']\n",
    "        self.x_cate_conv.loc[row_index, col + '_04'] = 1\n",
    "        row_index = self.x_cate.index[self.x_cate[col]=='E3']\n",
    "        self.x_cate_conv.loc[row_index, col + '_04'] = 1\n",
    "        row_index = self.x_cate.index[self.x_cate[col]=='E4']\n",
    "        self.x_cate_conv.loc[row_index, col + '_04'] = 1        \n",
    "        row_index = self.x_cate.index[self.x_cate[col]=='E5']\n",
    "        self.x_cate_conv.loc[row_index, col + '_04'] = 1     \n",
    "\n",
    "        row_index = self.x_cate.index[self.x_cate[col]=='F1']\n",
    "        self.x_cate_conv.loc[row_index, col + '_04'] = 1\n",
    "        row_index = self.x_cate.index[self.x_cate[col]=='F2']\n",
    "        self.x_cate_conv.loc[row_index, col + '_04'] = 1\n",
    "        row_index = self.x_cate.index[self.x_cate[col]=='F3']\n",
    "        self.x_cate_conv.loc[row_index, col + '_04'] = 1\n",
    "        row_index = self.x_cate.index[self.x_cate[col]=='F4']\n",
    "        self.x_cate_conv.loc[row_index, col + '_04'] = 1\n",
    "        row_index = self.x_cate.index[self.x_cate[col]=='F5']\n",
    "        self.x_cate_conv.loc[row_index, col + '_04'] = 1\n",
    "        \n",
    "        self.x_cate_conv = self.x_cate_conv.drop(columns=col ,axis=1)\n",
    "        \n",
    "        \n",
    "    def purposeConv(self):\n",
    "        \n",
    "        col = 'purpose'\n",
    "        \n",
    "        self.x_cate_conv[col + '_1'] = 0\n",
    "        #self.x_cate_conv[col + '_2'] = 0\n",
    "        #self.x_cate_conv[col + '_3'] = 0\n",
    "        #self.x_cate_conv[col + '_4'] = 0\n",
    "        #self.x_cate_conv[col + '_5'] = 0\n",
    "        #self.x_cate_conv[col + '_6'] = 0 \n",
    "        #self.x_cate_conv[col + '_7'] = 0\n",
    "        #self.x_cate_conv[col + '_8'] = 0\n",
    "        \n",
    "        #row_index = self.x_cate.index[self.x_cate[col]=='car']\n",
    "        #self.x_cate_conv.loc[row_index, col + '_3'] = 1\n",
    "        \n",
    "        #row_index = self.x_cate.index[self.x_cate[col]=='credit_card']\n",
    "        #self.x_cate_conv.loc[row_index, col + '_2'] = 1\n",
    "        \n",
    "        #row_index = self.x_cate.index[self.x_cate[col]=='debt_consolidation']\n",
    "        #self.x_cate_conv.loc[row_index, col + '_2'] = 1\n",
    "        \n",
    "        #row_index = self.x_cate.index[self.x_cate[col]=='home_improvement']\n",
    "        #self.x_cate_conv.loc[row_index, col + '_2'] = 1\n",
    "        \n",
    "        #row_index = self.x_cate.index[self.x_cate[col]=='house']\n",
    "        #self.x_cate_conv.loc[row_index, col + '_3'] = 1\n",
    "        \n",
    "        row_index = self.x_cate.index[self.x_cate[col]=='major_purchase']\n",
    "        self.x_cate_conv.loc[row_index, col + '_1'] = 1\n",
    "        \n",
    "        #row_index = self.x_cate.index[self.x_cate[col]=='medical']\n",
    "        #self.x_cate_conv.loc[row_index, col + '_7'] = 1\n",
    "        \n",
    "        #row_index = self.x_cate.index[self.x_cate[col]=='small_business']\n",
    "        #self.x_cate_conv.loc[row_index, col + '_2'] = 1\n",
    "        \n",
    "        # ALL ゼロがotherなので処理しない\n",
    "        row_index = self.x_cate.index[self.x_cate[col]=='other']\n",
    "        \n",
    "        self.x_cate_conv = self.x_cate_conv.drop(columns=col ,axis=1)\n",
    "        \n",
    "    def appConv(self):\n",
    "        \n",
    "        col = 'application_type'\n",
    "        \n",
    "        self.x_cate_conv[col + '_1'] = 0\n",
    "\n",
    "        row_index = self.x_cate.index[self.x_cate[col]=='Individual']\n",
    "        self.x_cate_conv.loc[row_index, col + '_1'] = 1\n",
    "        \n",
    "        # ALL ゼロがJoint Appなので処理しない\n",
    "        row_index = self.x_cate.index[self.x_cate[col]=='Joint App']\n",
    "        \n",
    "        self.x_cate_conv = self.x_cate_conv.drop(columns=col ,axis=1)\n",
    " \n",
    "    def binSplit(self):\n",
    "        contin_cols = self.x_cont_conv.columns.values\n",
    "\n",
    "        for col in contin_cols:\n",
    "            split_min = 0\n",
    "            split_min2 = self.x_desc.loc['min',col]\n",
    "            split1 = self.x_desc.loc['25%',col]\n",
    "            split2 = self.x_desc.loc['50%',col]\n",
    "            split3 = self.x_desc.loc['75%',col]\n",
    "            std_m = self.x_desc.loc['std',col]/3\n",
    "            std_p = self.x_desc.loc['std',col]*3\n",
    "            split_max=  self.x_desc.loc['max',col]\n",
    "            split_max2=  self.x_desc.loc['max',col]*10\n",
    "            bins = [split_min,  split_min2, split1,  split2,  split3, std_m,  std_p,  split_max, split_max2]\n",
    "            bins = np.sort(bins)\n",
    "            self.x_cont_conv[col] = pd.cut(self.x_cont_conv[col], bins=bins, labels=False)\n",
    "    \n",
    "    def binSplit2(self):\n",
    "        contin_cols = self.x_cont_conv.columns.values\n",
    "\n",
    "        for col in contin_cols:\n",
    "            \n",
    "            bins = 30\n",
    "            self.x_cont_conv[col] = pd.cut(self.x_cont_conv[col], bins=bins ,labels=False)\n",
    "\n",
    "            \n",
    "    def addCol(self):\n",
    "        \n",
    "        col = 'special'\n",
    "        \n",
    "        self.x_cate_conv['grade_x5'] = 0\n",
    "        self.x_cate_conv['grade_x5'][(self.x_cate_conv['employment_length'] == '10 years') & (self.x_cate['purpose'] == 'car')] = 1\n",
    "        self.x_cate_conv['grade_x5'][(self.x_cate_conv['employment_length'] == '10 years') & (self.x_cate['purpose'] == 'credit_card')] = 1\n",
    "        self.x_cate_conv['grade_x5'][(self.x_cate_conv['employment_length'] == '10 years') & (self.x_cate['purpose'] == 'home_improvement')] = 1\n",
    "        \n",
    "        self.x_cate_conv['grade_x6'] = 0\n",
    "        self.x_cate_conv['grade_x6'][(self.x_cate_conv['employment_length'] == '10 years') & (self.x_cate['term'] == '3 years')] = 1\n",
    "        \n",
    "        self.x_cate_conv['grade_x7'] = 0\n",
    "        self.x_cate_conv['grade_x7'][(self.x_cate_conv['employment_length'] == '10 years') & (self.x_cate['term'] == '5 years')] = 1\n",
    "        \n",
    "        self.x_cate_conv['grade_x8'] = 0\n",
    "        self.x_cate_conv['grade_x8'][self.x_cont.index[self.x_cont['credit_score'] > 720]] = 1\n",
    "        \n",
    "        \n",
    "    def snsPlot(self):\n",
    "        \n",
    "        # seabornで相関係数を描画\n",
    "        plt.figure(figsize=(15,15))\n",
    "        tmp_x = pd.concat([self.x_cont_conv , self.x_cate_conv] , axis=1)\n",
    "        tmp_y = np.array(self.df_y , dtype=np.int32)\n",
    "        tmp_y = pd.DataFrame(tmp_y, columns=['loan_status'])\n",
    "        df_sns = pd.concat([tmp_x , tmp_y] , axis=1)\n",
    "        #print(df_sns.corr())\n",
    "        sns.heatmap(df_sns.corr(), vmin=-1.0, vmax=1.0, annot=True, cmap='coolwarm', linewidths=0.1)\n",
    "        plt.show()\n",
    "            \n",
    "    def MaxScale(self):\n",
    "        roun=0\n",
    "        \n",
    "        if (self.max_scale == 0):\n",
    "            col='loan_amnt'\n",
    "            maxval=self.x_desc.loc['max',col]\n",
    "            tmp_=self.x_cont_conv.loc[:,col]/maxval*100\n",
    "            self.x_cont_conv.loc[:,col]=(tmp_.round(roun))\n",
    "\n",
    "            col='interest_rate'\n",
    "            maxval=self.x_desc.loc['max',col]\n",
    "            tmp_=self.x_cont_conv.loc[:,col]/maxval*100\n",
    "            self.x_cont_conv.loc[:,col]=(tmp_.round(roun))\n",
    "            \n",
    "            col='credit_score'\n",
    "            maxval=self.x_desc.loc['max',col]\n",
    "            tmp_=self.x_cont_conv.loc[:,col]/maxval*100\n",
    "            self.x_cont_conv.loc[:,col]=(tmp_.round(roun))\n",
    "            \n",
    "            self.max_scale = 1\n",
    "            \n",
    "    def DataConv(self):\n",
    "        \n",
    "        self.addCol()\n",
    "        self.termConv()\n",
    "        \n",
    "        self.gradeConv()\n",
    "        self.purposeConv()\n",
    "        self.MaxScale()\n",
    "        #self.appConv()\n",
    "        #self.binSplit2()\n",
    "        self.dropCol()        \n",
    "        self.NpToPy()\n",
    "        "
   ]
  },
  {
   "cell_type": "code",
   "execution_count": 166,
   "metadata": {},
   "outputs": [
    {
     "name": "stdout",
     "output_type": "stream",
     "text": [
      "null check\n",
      "id                   0\n",
      "loan_amnt            0\n",
      "term                 0\n",
      "interest_rate        0\n",
      "grade                0\n",
      "employment_length    0\n",
      "purpose              0\n",
      "credit_score         0\n",
      "application_type     0\n",
      "loan_status          0\n",
      "dtype: int64\n",
      "-------------------------\n"
     ]
    },
    {
     "name": "stderr",
     "output_type": "stream",
     "text": [
      "C:\\Users\\takasaki\\Anaconda3\\envs\\matplotlib\\lib\\site-packages\\ipykernel_launcher.py:348: SettingWithCopyWarning: \n",
      "A value is trying to be set on a copy of a slice from a DataFrame\n",
      "\n",
      "See the caveats in the documentation: https://pandas.pydata.org/pandas-docs/stable/user_guide/indexing.html#returning-a-view-versus-a-copy\n",
      "C:\\Users\\takasaki\\Anaconda3\\envs\\matplotlib\\lib\\site-packages\\ipykernel_launcher.py:349: SettingWithCopyWarning: \n",
      "A value is trying to be set on a copy of a slice from a DataFrame\n",
      "\n",
      "See the caveats in the documentation: https://pandas.pydata.org/pandas-docs/stable/user_guide/indexing.html#returning-a-view-versus-a-copy\n",
      "C:\\Users\\takasaki\\Anaconda3\\envs\\matplotlib\\lib\\site-packages\\ipykernel_launcher.py:350: SettingWithCopyWarning: \n",
      "A value is trying to be set on a copy of a slice from a DataFrame\n",
      "\n",
      "See the caveats in the documentation: https://pandas.pydata.org/pandas-docs/stable/user_guide/indexing.html#returning-a-view-versus-a-copy\n",
      "C:\\Users\\takasaki\\Anaconda3\\envs\\matplotlib\\lib\\site-packages\\ipykernel_launcher.py:353: SettingWithCopyWarning: \n",
      "A value is trying to be set on a copy of a slice from a DataFrame\n",
      "\n",
      "See the caveats in the documentation: https://pandas.pydata.org/pandas-docs/stable/user_guide/indexing.html#returning-a-view-versus-a-copy\n",
      "C:\\Users\\takasaki\\Anaconda3\\envs\\matplotlib\\lib\\site-packages\\ipykernel_launcher.py:356: SettingWithCopyWarning: \n",
      "A value is trying to be set on a copy of a slice from a DataFrame\n",
      "\n",
      "See the caveats in the documentation: https://pandas.pydata.org/pandas-docs/stable/user_guide/indexing.html#returning-a-view-versus-a-copy\n",
      "C:\\Users\\takasaki\\Anaconda3\\envs\\matplotlib\\lib\\site-packages\\ipykernel_launcher.py:359: SettingWithCopyWarning: \n",
      "A value is trying to be set on a copy of a slice from a DataFrame\n",
      "\n",
      "See the caveats in the documentation: https://pandas.pydata.org/pandas-docs/stable/user_guide/indexing.html#returning-a-view-versus-a-copy\n"
     ]
    }
   ],
   "source": [
    "train_dataset = TrainDataset()"
   ]
  },
  {
   "cell_type": "code",
   "execution_count": null,
   "metadata": {},
   "outputs": [],
   "source": []
  },
  {
   "cell_type": "code",
   "execution_count": 167,
   "metadata": {},
   "outputs": [
    {
     "data": {
      "text/html": [
       "<div>\n",
       "<style scoped>\n",
       "    .dataframe tbody tr th:only-of-type {\n",
       "        vertical-align: middle;\n",
       "    }\n",
       "\n",
       "    .dataframe tbody tr th {\n",
       "        vertical-align: top;\n",
       "    }\n",
       "\n",
       "    .dataframe thead th {\n",
       "        text-align: right;\n",
       "    }\n",
       "</style>\n",
       "<table border=\"1\" class=\"dataframe\">\n",
       "  <thead>\n",
       "    <tr style=\"text-align: right;\">\n",
       "      <th></th>\n",
       "      <th>interest_rate</th>\n",
       "    </tr>\n",
       "  </thead>\n",
       "  <tbody>\n",
       "    <tr>\n",
       "      <th>count</th>\n",
       "      <td>242150.000000</td>\n",
       "    </tr>\n",
       "    <tr>\n",
       "      <th>mean</th>\n",
       "      <td>49.323576</td>\n",
       "    </tr>\n",
       "    <tr>\n",
       "      <th>std</th>\n",
       "      <td>16.403085</td>\n",
       "    </tr>\n",
       "    <tr>\n",
       "      <th>min</th>\n",
       "      <td>20.000000</td>\n",
       "    </tr>\n",
       "    <tr>\n",
       "      <th>25%</th>\n",
       "      <td>39.000000</td>\n",
       "    </tr>\n",
       "    <tr>\n",
       "      <th>50%</th>\n",
       "      <td>48.000000</td>\n",
       "    </tr>\n",
       "    <tr>\n",
       "      <th>75%</th>\n",
       "      <td>61.000000</td>\n",
       "    </tr>\n",
       "    <tr>\n",
       "      <th>max</th>\n",
       "      <td>100.000000</td>\n",
       "    </tr>\n",
       "  </tbody>\n",
       "</table>\n",
       "</div>"
      ],
      "text/plain": [
       "       interest_rate\n",
       "count  242150.000000\n",
       "mean       49.323576\n",
       "std        16.403085\n",
       "min        20.000000\n",
       "25%        39.000000\n",
       "50%        48.000000\n",
       "75%        61.000000\n",
       "max       100.000000"
      ]
     },
     "execution_count": 167,
     "metadata": {},
     "output_type": "execute_result"
    }
   ],
   "source": [
    "train_dataset.x_cont_conv.describe()"
   ]
  },
  {
   "cell_type": "code",
   "execution_count": 168,
   "metadata": {},
   "outputs": [
    {
     "data": {
      "text/html": [
       "<div>\n",
       "<style scoped>\n",
       "    .dataframe tbody tr th:only-of-type {\n",
       "        vertical-align: middle;\n",
       "    }\n",
       "\n",
       "    .dataframe tbody tr th {\n",
       "        vertical-align: top;\n",
       "    }\n",
       "\n",
       "    .dataframe thead th {\n",
       "        text-align: right;\n",
       "    }\n",
       "</style>\n",
       "<table border=\"1\" class=\"dataframe\">\n",
       "  <thead>\n",
       "    <tr style=\"text-align: right;\">\n",
       "      <th></th>\n",
       "      <th>grade_x5</th>\n",
       "      <th>grade_x6</th>\n",
       "      <th>grade_x7</th>\n",
       "      <th>grade_x8</th>\n",
       "      <th>term_1</th>\n",
       "      <th>grade_01</th>\n",
       "      <th>grade_03</th>\n",
       "      <th>grade_04</th>\n",
       "      <th>purpose_1</th>\n",
       "      <th>purpose_2</th>\n",
       "    </tr>\n",
       "  </thead>\n",
       "  <tbody>\n",
       "    <tr>\n",
       "      <th>count</th>\n",
       "      <td>242150.000000</td>\n",
       "      <td>242150.000000</td>\n",
       "      <td>242150.000000</td>\n",
       "      <td>242150.000000</td>\n",
       "      <td>242150.000000</td>\n",
       "      <td>242150.000000</td>\n",
       "      <td>242150.000000</td>\n",
       "      <td>242150.000000</td>\n",
       "      <td>242150.000000</td>\n",
       "      <td>242150.000000</td>\n",
       "    </tr>\n",
       "    <tr>\n",
       "      <th>mean</th>\n",
       "      <td>0.109321</td>\n",
       "      <td>0.324629</td>\n",
       "      <td>0.102127</td>\n",
       "      <td>0.080558</td>\n",
       "      <td>0.784171</td>\n",
       "      <td>0.136267</td>\n",
       "      <td>0.247405</td>\n",
       "      <td>0.131518</td>\n",
       "      <td>0.001082</td>\n",
       "      <td>0.661602</td>\n",
       "    </tr>\n",
       "    <tr>\n",
       "      <th>std</th>\n",
       "      <td>0.312042</td>\n",
       "      <td>0.468237</td>\n",
       "      <td>0.302816</td>\n",
       "      <td>0.272155</td>\n",
       "      <td>0.411397</td>\n",
       "      <td>0.343072</td>\n",
       "      <td>0.431505</td>\n",
       "      <td>0.337966</td>\n",
       "      <td>0.032876</td>\n",
       "      <td>0.473166</td>\n",
       "    </tr>\n",
       "    <tr>\n",
       "      <th>min</th>\n",
       "      <td>0.000000</td>\n",
       "      <td>0.000000</td>\n",
       "      <td>0.000000</td>\n",
       "      <td>0.000000</td>\n",
       "      <td>0.000000</td>\n",
       "      <td>0.000000</td>\n",
       "      <td>0.000000</td>\n",
       "      <td>0.000000</td>\n",
       "      <td>0.000000</td>\n",
       "      <td>0.000000</td>\n",
       "    </tr>\n",
       "    <tr>\n",
       "      <th>25%</th>\n",
       "      <td>0.000000</td>\n",
       "      <td>0.000000</td>\n",
       "      <td>0.000000</td>\n",
       "      <td>0.000000</td>\n",
       "      <td>1.000000</td>\n",
       "      <td>0.000000</td>\n",
       "      <td>0.000000</td>\n",
       "      <td>0.000000</td>\n",
       "      <td>0.000000</td>\n",
       "      <td>0.000000</td>\n",
       "    </tr>\n",
       "    <tr>\n",
       "      <th>50%</th>\n",
       "      <td>0.000000</td>\n",
       "      <td>0.000000</td>\n",
       "      <td>0.000000</td>\n",
       "      <td>0.000000</td>\n",
       "      <td>1.000000</td>\n",
       "      <td>0.000000</td>\n",
       "      <td>0.000000</td>\n",
       "      <td>0.000000</td>\n",
       "      <td>0.000000</td>\n",
       "      <td>1.000000</td>\n",
       "    </tr>\n",
       "    <tr>\n",
       "      <th>75%</th>\n",
       "      <td>0.000000</td>\n",
       "      <td>1.000000</td>\n",
       "      <td>0.000000</td>\n",
       "      <td>0.000000</td>\n",
       "      <td>1.000000</td>\n",
       "      <td>0.000000</td>\n",
       "      <td>0.000000</td>\n",
       "      <td>0.000000</td>\n",
       "      <td>0.000000</td>\n",
       "      <td>1.000000</td>\n",
       "    </tr>\n",
       "    <tr>\n",
       "      <th>max</th>\n",
       "      <td>1.000000</td>\n",
       "      <td>1.000000</td>\n",
       "      <td>1.000000</td>\n",
       "      <td>1.000000</td>\n",
       "      <td>1.000000</td>\n",
       "      <td>1.000000</td>\n",
       "      <td>1.000000</td>\n",
       "      <td>1.000000</td>\n",
       "      <td>1.000000</td>\n",
       "      <td>1.000000</td>\n",
       "    </tr>\n",
       "  </tbody>\n",
       "</table>\n",
       "</div>"
      ],
      "text/plain": [
       "            grade_x5       grade_x6       grade_x7       grade_x8  \\\n",
       "count  242150.000000  242150.000000  242150.000000  242150.000000   \n",
       "mean        0.109321       0.324629       0.102127       0.080558   \n",
       "std         0.312042       0.468237       0.302816       0.272155   \n",
       "min         0.000000       0.000000       0.000000       0.000000   \n",
       "25%         0.000000       0.000000       0.000000       0.000000   \n",
       "50%         0.000000       0.000000       0.000000       0.000000   \n",
       "75%         0.000000       1.000000       0.000000       0.000000   \n",
       "max         1.000000       1.000000       1.000000       1.000000   \n",
       "\n",
       "              term_1       grade_01       grade_03       grade_04  \\\n",
       "count  242150.000000  242150.000000  242150.000000  242150.000000   \n",
       "mean        0.784171       0.136267       0.247405       0.131518   \n",
       "std         0.411397       0.343072       0.431505       0.337966   \n",
       "min         0.000000       0.000000       0.000000       0.000000   \n",
       "25%         1.000000       0.000000       0.000000       0.000000   \n",
       "50%         1.000000       0.000000       0.000000       0.000000   \n",
       "75%         1.000000       0.000000       0.000000       0.000000   \n",
       "max         1.000000       1.000000       1.000000       1.000000   \n",
       "\n",
       "           purpose_1      purpose_2  \n",
       "count  242150.000000  242150.000000  \n",
       "mean        0.001082       0.661602  \n",
       "std         0.032876       0.473166  \n",
       "min         0.000000       0.000000  \n",
       "25%         0.000000       0.000000  \n",
       "50%         0.000000       1.000000  \n",
       "75%         0.000000       1.000000  \n",
       "max         1.000000       1.000000  "
      ]
     },
     "execution_count": 168,
     "metadata": {},
     "output_type": "execute_result"
    }
   ],
   "source": [
    "train_dataset.x_cate_conv.describe()"
   ]
  },
  {
   "cell_type": "code",
   "execution_count": 169,
   "metadata": {},
   "outputs": [
    {
     "data": {
      "text/html": [
       "<div>\n",
       "<style scoped>\n",
       "    .dataframe tbody tr th:only-of-type {\n",
       "        vertical-align: middle;\n",
       "    }\n",
       "\n",
       "    .dataframe tbody tr th {\n",
       "        vertical-align: top;\n",
       "    }\n",
       "\n",
       "    .dataframe thead th {\n",
       "        text-align: right;\n",
       "    }\n",
       "</style>\n",
       "<table border=\"1\" class=\"dataframe\">\n",
       "  <thead>\n",
       "    <tr style=\"text-align: right;\">\n",
       "      <th></th>\n",
       "      <th>loan_status</th>\n",
       "    </tr>\n",
       "  </thead>\n",
       "  <tbody>\n",
       "    <tr>\n",
       "      <th>0</th>\n",
       "      <td>0</td>\n",
       "    </tr>\n",
       "    <tr>\n",
       "      <th>1</th>\n",
       "      <td>1</td>\n",
       "    </tr>\n",
       "    <tr>\n",
       "      <th>2</th>\n",
       "      <td>0</td>\n",
       "    </tr>\n",
       "    <tr>\n",
       "      <th>3</th>\n",
       "      <td>0</td>\n",
       "    </tr>\n",
       "    <tr>\n",
       "      <th>4</th>\n",
       "      <td>0</td>\n",
       "    </tr>\n",
       "  </tbody>\n",
       "</table>\n",
       "</div>"
      ],
      "text/plain": [
       "  loan_status\n",
       "0           0\n",
       "1           1\n",
       "2           0\n",
       "3           0\n",
       "4           0"
      ]
     },
     "execution_count": 169,
     "metadata": {},
     "output_type": "execute_result"
    }
   ],
   "source": [
    "train_dataset.df_y.head()"
   ]
  },
  {
   "cell_type": "code",
   "execution_count": 170,
   "metadata": {},
   "outputs": [
    {
     "data": {
      "image/png": "[encoded data removed]",
      "text/plain": [
       "<Figure size 1080x1080 with 2 Axes>"
      ]
     },
     "metadata": {
      "needs_background": "light"
     },
     "output_type": "display_data"
    }
   ],
   "source": [
    "train_dataset.snsPlot()"
   ]
  },
  {
   "cell_type": "code",
   "execution_count": 171,
   "metadata": {},
   "outputs": [],
   "source": [
    "class TestDataset(TrainDataset):\n",
    "    def __init__(self, x_desc):\n",
    "        \n",
    "        # CSVファイル読み込み（訓練データ）\n",
    "        df = pd.read_csv('test.csv' )\n",
    "        self.df_data = df.copy()\n",
    "        # 不正データの補正 (レコード削除のパターンもあるため、ファイル読み込み直後に処理する)\n",
    "        df = self.correction(df)\n",
    "        \n",
    "        # 目的変数の格納\n",
    "        self.x_cate , self.x_cont, self.x_id = self.DataChange(df.copy())\n",
    "        self.x_desc = x_desc\n",
    "        \n",
    "        self.x_cate_conv = self.x_cate.copy()\n",
    "        self.x_cont_conv = self.x_cont.copy()\n",
    "        \n",
    "        self.df_y = df.copy()\n",
    "        self.df_y['loan_status'] = 0\n",
    "        self.df_y = self.df_y.loc[:,['loan_status']]\n",
    "        \n",
    "        # データの加工（標準化や対数化など）\n",
    "        #self.std_scale = 0\n",
    "        self.max_scale = 0\n",
    "        #self.dobule_scale = 0\n",
    "        #self.polynomialFlg = 0\n",
    "        #self.binSplitFlg = 0\n",
    "        self.logFlg  = 0\n",
    "        self.DataConv()\n",
    "        \n",
    "        #self.NpToPy()\n",
    "        #self.num = len(self.x_cate)\n",
    "        self.num = len(self.x_cate_conv)\n",
    "        self.coti_size = self.x_cont_conv.shape[1]\n",
    "\n",
    "    def __getitem__(self, index):\n",
    "        return self.X_vat[index]\n",
    "    \n",
    "    def __len__(self):\n",
    "        return self.num\n",
    "    \n",
    "    def NpToPy(self):\n",
    "        \n",
    "        #x_temp = self.x_cont.copy()\n",
    "        tmp_cate = np.array(self.x_cate_conv)\n",
    "        tmp_cont = np.array(self.x_cont_conv)\n",
    "        \n",
    "        # numpy の値を torch の値に変換する\n",
    "        self.X_vat_cate = torch.from_numpy(tmp_cate).float()\n",
    "        self.X_vat_cont = torch.from_numpy(tmp_cont).float()\n",
    " \n"
   ]
  },
  {
   "cell_type": "markdown",
   "metadata": {},
   "source": []
  },
  {
   "cell_type": "markdown",
   "metadata": {},
   "source": [
    "## 評価データの読み込み"
   ]
  },
  {
   "cell_type": "code",
   "execution_count": 172,
   "metadata": {},
   "outputs": [
    {
     "name": "stdout",
     "output_type": "stream",
     "text": [
      "null check\n",
      "id                   0\n",
      "loan_amnt            0\n",
      "term                 0\n",
      "interest_rate        0\n",
      "grade                0\n",
      "employment_length    0\n",
      "purpose              0\n",
      "credit_score         0\n",
      "application_type     0\n",
      "dtype: int64\n",
      "-------------------------\n"
     ]
    },
    {
     "name": "stderr",
     "output_type": "stream",
     "text": [
      "C:\\Users\\takasaki\\Anaconda3\\envs\\matplotlib\\lib\\site-packages\\ipykernel_launcher.py:348: SettingWithCopyWarning: \n",
      "A value is trying to be set on a copy of a slice from a DataFrame\n",
      "\n",
      "See the caveats in the documentation: https://pandas.pydata.org/pandas-docs/stable/user_guide/indexing.html#returning-a-view-versus-a-copy\n",
      "C:\\Users\\takasaki\\Anaconda3\\envs\\matplotlib\\lib\\site-packages\\ipykernel_launcher.py:349: SettingWithCopyWarning: \n",
      "A value is trying to be set on a copy of a slice from a DataFrame\n",
      "\n",
      "See the caveats in the documentation: https://pandas.pydata.org/pandas-docs/stable/user_guide/indexing.html#returning-a-view-versus-a-copy\n",
      "C:\\Users\\takasaki\\Anaconda3\\envs\\matplotlib\\lib\\site-packages\\ipykernel_launcher.py:350: SettingWithCopyWarning: \n",
      "A value is trying to be set on a copy of a slice from a DataFrame\n",
      "\n",
      "See the caveats in the documentation: https://pandas.pydata.org/pandas-docs/stable/user_guide/indexing.html#returning-a-view-versus-a-copy\n",
      "C:\\Users\\takasaki\\Anaconda3\\envs\\matplotlib\\lib\\site-packages\\ipykernel_launcher.py:353: SettingWithCopyWarning: \n",
      "A value is trying to be set on a copy of a slice from a DataFrame\n",
      "\n",
      "See the caveats in the documentation: https://pandas.pydata.org/pandas-docs/stable/user_guide/indexing.html#returning-a-view-versus-a-copy\n",
      "C:\\Users\\takasaki\\Anaconda3\\envs\\matplotlib\\lib\\site-packages\\ipykernel_launcher.py:356: SettingWithCopyWarning: \n",
      "A value is trying to be set on a copy of a slice from a DataFrame\n",
      "\n",
      "See the caveats in the documentation: https://pandas.pydata.org/pandas-docs/stable/user_guide/indexing.html#returning-a-view-versus-a-copy\n",
      "C:\\Users\\takasaki\\Anaconda3\\envs\\matplotlib\\lib\\site-packages\\ipykernel_launcher.py:359: SettingWithCopyWarning: \n",
      "A value is trying to be set on a copy of a slice from a DataFrame\n",
      "\n",
      "See the caveats in the documentation: https://pandas.pydata.org/pandas-docs/stable/user_guide/indexing.html#returning-a-view-versus-a-copy\n"
     ]
    }
   ],
   "source": [
    "test_dataset = TestDataset(train_dataset.x_desc)"
   ]
  },
  {
   "cell_type": "code",
   "execution_count": 173,
   "metadata": {},
   "outputs": [
    {
     "data": {
      "text/html": [
       "<div>\n",
       "<style scoped>\n",
       "    .dataframe tbody tr th:only-of-type {\n",
       "        vertical-align: middle;\n",
       "    }\n",
       "\n",
       "    .dataframe tbody tr th {\n",
       "        vertical-align: top;\n",
       "    }\n",
       "\n",
       "    .dataframe thead th {\n",
       "        text-align: right;\n",
       "    }\n",
       "</style>\n",
       "<table border=\"1\" class=\"dataframe\">\n",
       "  <thead>\n",
       "    <tr style=\"text-align: right;\">\n",
       "      <th></th>\n",
       "      <th>interest_rate</th>\n",
       "    </tr>\n",
       "  </thead>\n",
       "  <tbody>\n",
       "    <tr>\n",
       "      <th>count</th>\n",
       "      <td>26900.000000</td>\n",
       "    </tr>\n",
       "    <tr>\n",
       "      <th>mean</th>\n",
       "      <td>49.241301</td>\n",
       "    </tr>\n",
       "    <tr>\n",
       "      <th>std</th>\n",
       "      <td>16.399007</td>\n",
       "    </tr>\n",
       "    <tr>\n",
       "      <th>min</th>\n",
       "      <td>21.000000</td>\n",
       "    </tr>\n",
       "    <tr>\n",
       "      <th>25%</th>\n",
       "      <td>39.000000</td>\n",
       "    </tr>\n",
       "    <tr>\n",
       "      <th>50%</th>\n",
       "      <td>48.000000</td>\n",
       "    </tr>\n",
       "    <tr>\n",
       "      <th>75%</th>\n",
       "      <td>61.000000</td>\n",
       "    </tr>\n",
       "    <tr>\n",
       "      <th>max</th>\n",
       "      <td>98.000000</td>\n",
       "    </tr>\n",
       "  </tbody>\n",
       "</table>\n",
       "</div>"
      ],
      "text/plain": [
       "       interest_rate\n",
       "count   26900.000000\n",
       "mean       49.241301\n",
       "std        16.399007\n",
       "min        21.000000\n",
       "25%        39.000000\n",
       "50%        48.000000\n",
       "75%        61.000000\n",
       "max        98.000000"
      ]
     },
     "execution_count": 173,
     "metadata": {},
     "output_type": "execute_result"
    }
   ],
   "source": [
    "test_dataset.x_cont_conv.describe()"
   ]
  },
  {
   "cell_type": "code",
   "execution_count": 174,
   "metadata": {},
   "outputs": [
    {
     "data": {
      "text/plain": [
       "193720"
      ]
     },
     "execution_count": 174,
     "metadata": {},
     "output_type": "execute_result"
    }
   ],
   "source": [
    "len(train_dataset)"
   ]
  },
  {
   "cell_type": "code",
   "execution_count": 175,
   "metadata": {},
   "outputs": [
    {
     "data": {
      "text/plain": [
       "11"
      ]
     },
     "execution_count": 175,
     "metadata": {},
     "output_type": "execute_result"
    }
   ],
   "source": [
    "train_dataset.in_size"
   ]
  },
  {
   "cell_type": "markdown",
   "metadata": {},
   "source": [
    "# モデル定義（分類）"
   ]
  },
  {
   "cell_type": "code",
   "execution_count": 176,
   "metadata": {},
   "outputs": [],
   "source": [
    "def classification(x ,threshold):\n",
    "    #print(len(x))\n",
    "    \n",
    "    if (x.ndim == 1)and (len(x) == 1):\n",
    "        if x >= threshold:\n",
    "            return 1\n",
    "        else:\n",
    "            return 0\n",
    "    else:\n",
    "        tmp = np.zeros(len(x) ,dtype=np.int32)\n",
    "        for i in range(len(x)):\n",
    "            if x[i] >= threshold:\n",
    "                tmp[i] = 1\n",
    "            \n",
    "        return tmp\n"
   ]
  },
  {
   "cell_type": "code",
   "execution_count": 177,
   "metadata": {},
   "outputs": [],
   "source": [
    "batchsize=500\n",
    "\n",
    "# batch_size ：学習する時にまとめるデータ数\n",
    "# shuffle    : データをランダムに並び替える場合はTrue\n",
    "#train_loader = DataLoader(train ,batch_size=30, shuffle=True, num_workers=2)\n",
    "train_loader = DataLoader(dataset=train_dataset ,batch_size=batchsize, shuffle=True)"
   ]
  },
  {
   "cell_type": "code",
   "execution_count": 178,
   "metadata": {},
   "outputs": [],
   "source": [
    "##  node1=10\n",
    "##  node2=4\n",
    "##  \n",
    "##  # Module を継承して、Netクラスを作成する\n",
    "##  #  ノード数や階層を増やす　⇒　精度が向上する、学習のパフォーマンスは落ちる\n",
    "##  #  ノード数や階層を減らす　⇒　精度が下がる、学習のパフォーマンスは上がる\n",
    "##  #   　ノードや階層を変更しても精度が上がらない　⇒　入力データが不足している\n",
    "##  class Net1(nn.Module):\n",
    "##      # 初期化の関数\n",
    "##      def __init__(self):\n",
    "##          super(Net1 ,self).__init__()\n",
    "##          # ドロップアウト\n",
    "##          p=0.5\n",
    "##          self.dropout1 = nn.Dropout(p)\n",
    "##          self.dropout2 = nn.Dropout(p)\n",
    "##          \n",
    "##          # バッチ正規化\n",
    "##          self.bn_cont = nn.BatchNorm1d(train_dataset.coti_size)\n",
    "##          \n",
    "##          # 全結合層\n",
    "##          self.fc1 = nn.Linear(train_dataset.in_size , node1)         # nn.Linear (入力のノード数 , 中間層ノード数)\n",
    "##          self.fc2 = nn.Linear(node1 , node2)           # nn.Linear (中間層ノード数 , 中間層ノード数)\n",
    "##          self.fc3 = nn.Linear(node2,  train_dataset.out_size)        # nn.Linear (中間層ノード数 , 出力のノード数)\n",
    "##      \n",
    "##      # ネットワークを通して、出力値を求める関数\n",
    "##      def forward(self ,x_cate, x_cont):\n",
    "##  #        x = torch.relu(self.fc1(x))              # 入力のノードを中間層（１階層目）に渡して結果を得る\n",
    "##  #        x = F.sigmoid(self.fc2(x))               # 中間層（１階層目）を中間層（２階層目）に渡して結果を得る\n",
    "##  \n",
    "##          # バッチ正規化\n",
    "##          x_cont = self.bn_cont(x_cont)\n",
    "##          x = torch.cat([x_cate, x_cont], 1)\n",
    "##          \n",
    "##          x = torch.sigmoid (self.fc1(x))           # 入力のノードを中間層（１階層目）に渡して結果を得る\n",
    "##          x = self.dropout1(x)\n",
    "##          x = torch.sigmoid(self.fc2(x))           # 中間層（１階層目）を中間層（２階層目）に渡して結果を得る\n",
    "##          x = self.dropout2(x)\n",
    "##          x = torch.sigmoid(self.fc3(x))           # 中間層（２階層目）の結果を出力層に渡す\n",
    "##          return x"
   ]
  },
  {
   "cell_type": "code",
   "execution_count": 179,
   "metadata": {},
   "outputs": [],
   "source": [
    "\n",
    "node1=6\n",
    "\n",
    "# Module を継承して、Netクラスを作成する\n",
    "#  ノード数や階層を増やす　⇒　精度が向上する、学習のパフォーマンスは落ちる\n",
    "#  ノード数や階層を減らす　⇒　精度が下がる、学習のパフォーマンスは上がる\n",
    "#   　ノードや階層を変更しても精度が上がらない　⇒　入力データが不足している\n",
    "class Net1(nn.Module):\n",
    "    # 初期化の関数\n",
    "    def __init__(self):\n",
    "        super(Net1 ,self).__init__()\n",
    "        #ドロップアウト\n",
    "        p=0.5\n",
    "        self.dropout1 = nn.Dropout(p)\n",
    "\n",
    "        # バッチ正規化\n",
    "        self.bn_cont = nn.BatchNorm1d(train_dataset.coti_size)\n",
    "\n",
    "        # 全結合層\n",
    "        self.fc1 = nn.Linear(train_dataset.in_size , node1)      \n",
    "        self.fc2 = nn.Linear(node1,  train_dataset.out_size)     \n",
    "\n",
    "    # ネットワークを通して、出力値を求める関数\n",
    "    def forward(self ,x_cate, x_cont):\n",
    "#        x = torch.relu(self.fc1(x))              \n",
    "#        x = F.sigmoid(self.fc2(x))               \n",
    "\n",
    "        # バッチ正規化\n",
    "        x_cont = self.bn_cont(x_cont)\n",
    "        x = torch.cat([x_cate, x_cont], 1)\n",
    "        \n",
    "        x = torch.sigmoid (self.fc1(x))\n",
    "        x = self.dropout1(x)\n",
    "        x = torch.sigmoid(self.fc2(x))      \n",
    "        return x"
   ]
  },
  {
   "cell_type": "code",
   "execution_count": 180,
   "metadata": {},
   "outputs": [],
   "source": [
    "# モデルの定義\n",
    "model1 = Net1()\n",
    "# 損失の定義\n",
    "criterion1 = nn.BCELoss()\n",
    "# 最適化のアルゴリズムの選択　（Adam：Stochastic Gradient Descent）\n",
    "optimizer1 = optim.Adam(model1.parameters() , lr=0.005)"
   ]
  },
  {
   "cell_type": "code",
   "execution_count": 181,
   "metadata": {},
   "outputs": [
    {
     "name": "stdout",
     "output_type": "stream",
     "text": [
      "rec_cnt 500\n",
      "Epoch\t1\tLoss\t0.36407247\tf1_score:\t0.333524\n",
      "Epoch\t2\tLoss\t0.34194301\tf1_score:\t0.361201\n",
      "Epoch\t3\tLoss\t0.33931213\tf1_score:\t0.358846\n",
      "Epoch\t4\tLoss\t0.33798171\tf1_score:\t0.345767\n",
      "Epoch\t5\tLoss\t0.33732633\tf1_score:\t0.323186\n",
      "Epoch\t6\tLoss\t0.33676325\tf1_score:\t0.320989\n",
      "Epoch\t7\tLoss\t0.33643764\tf1_score:\t0.305682\n",
      "Epoch\t8\tLoss\t0.33684841\tf1_score:\t0.308951\n",
      "Epoch\t9\tLoss\t0.33689968\tf1_score:\t0.322146\n",
      "Epoch\t10\tLoss\t0.33685253\tf1_score:\t0.313156\n",
      "Epoch\t11\tLoss\t0.33657173\tf1_score:\t0.270147\n",
      "Epoch\t12\tLoss\t0.33633691\tf1_score:\t0.297239\n"
     ]
    }
   ],
   "source": [
    "loss_list1 = []\n",
    "accuracy_list1 = []\n",
    "\n",
    "correct_counter1 = 0\n",
    "logdisp=1\n",
    "#acccnt=len(train_dataset)*logdisp\n",
    "acccnt=batchsize*logdisp\n",
    "print('rec_cnt', acccnt)\n",
    "epochs=12\n",
    "mathcnt = 0\n",
    "\n",
    "# トレーニングの回数分ループする。\n",
    "for epoch in range(epochs):\n",
    "    # 損失を初期化　\n",
    "    total_loss1 = 0\n",
    "    \n",
    "    for x_train_cate, x_train_cont, y_train in train_loader:\n",
    "\n",
    "        # 出力を計算する \n",
    "        output1 = model1(x_train_cate, x_train_cont)\n",
    "        # 損失の計算 (出力の結果；output と 正解：y_trainを渡す)\n",
    "        loss1 = criterion1(output1 ,y_train)\n",
    "        \n",
    "        correct_temp = f1_score(y_train.detach().numpy(), classification(output1.detach().numpy() , 0.23))\n",
    "        correct_counter1 += correct_temp\n",
    "        mathcnt += 1\n",
    "\n",
    "        \n",
    "        # パラメータの勾配を初期化する\n",
    "        optimizer1.zero_grad()\n",
    "        # ロスを伝播する\n",
    "        loss1.backward()\n",
    "        # パラメータを更新する\n",
    "        optimizer1.step()\n",
    "\n",
    "        # トータルロスを格納\n",
    "        total_loss1 += loss1.item()\n",
    "\n",
    "    \n",
    "    # 回数とトータルロスを表示する\n",
    "    if (epoch+1)%logdisp == 0:\n",
    "        loss_tmp1=total_loss1/acccnt\n",
    "        print(f'Epoch\\t{epoch+1}\\tLoss\\t{loss_tmp1:.8f}\\tf1_score:\\t{correct_counter1/mathcnt:.6f}')\n",
    "        \n",
    "        \n",
    "        accuracy_list1.append(correct_counter1.item()/(mathcnt))\n",
    "        loss_list1.append(loss_tmp1)\n",
    "        total_loss=0\n",
    "        correct_counter1 = 0\n",
    "        mathcnt = 0\n",
    "        "
   ]
  },
  {
   "cell_type": "code",
   "execution_count": 182,
   "metadata": {},
   "outputs": [
    {
     "data": {
      "text/plain": [
       "[<matplotlib.lines.Line2D at 0x2010acad390>]"
      ]
     },
     "execution_count": 182,
     "metadata": {},
     "output_type": "execute_result"
    },
    {
     "data": {
      "image/png": "[encoded data removed]",
      "text/plain": [
       "<Figure size 432x288 with 1 Axes>"
      ]
     },
     "metadata": {
      "needs_background": "light"
     },
     "output_type": "display_data"
    }
   ],
   "source": [
    "# ロスのプロット\n",
    "plt.plot(loss_list1)"
   ]
  },
  {
   "cell_type": "code",
   "execution_count": 183,
   "metadata": {},
   "outputs": [
    {
     "data": {
      "text/plain": [
       "[<matplotlib.lines.Line2D at 0x2010acc9b70>]"
      ]
     },
     "execution_count": 183,
     "metadata": {},
     "output_type": "execute_result"
    },
    {
     "data": {
      "image/png": "[encoded data removed]",
      "text/plain": [
       "<Figure size 432x288 with 1 Axes>"
      ]
     },
     "metadata": {
      "needs_background": "light"
     },
     "output_type": "display_data"
    }
   ],
   "source": [
    "plt.plot(accuracy_list1)"
   ]
  },
  {
   "cell_type": "markdown",
   "metadata": {},
   "source": []
  },
  {
   "cell_type": "markdown",
   "metadata": {},
   "source": [
    "# 予測精度の確認"
   ]
  },
  {
   "cell_type": "markdown",
   "metadata": {},
   "source": [
    "## 訓練データ "
   ]
  },
  {
   "cell_type": "code",
   "execution_count": 76,
   "metadata": {},
   "outputs": [
    {
     "data": {
      "text/plain": [
       "Net1(\n",
       "  (dropout1): Dropout(p=0.5, inplace=False)\n",
       "  (bn_cont): BatchNorm1d(1, eps=1e-05, momentum=0.1, affine=True, track_running_stats=True)\n",
       "  (fc1): Linear(in_features=10, out_features=6, bias=True)\n",
       "  (fc2): Linear(in_features=6, out_features=1, bias=True)\n",
       ")"
      ]
     },
     "execution_count": 76,
     "metadata": {},
     "output_type": "execute_result"
    }
   ],
   "source": [
    "# 学習を行わないモードに変更\n",
    "model1.eval()"
   ]
  },
  {
   "cell_type": "code",
   "execution_count": 77,
   "metadata": {},
   "outputs": [
    {
     "name": "stdout",
     "output_type": "stream",
     "text": [
      "            id       vat\n",
      "0       142857  0.222519\n",
      "1       150352  0.185847\n",
      "2        88069  0.121306\n",
      "3       223288  0.137173\n",
      "4       210164  0.167262\n",
      "...        ...       ...\n",
      "193715   48056  0.193970\n",
      "193716  190083  0.194439\n",
      "193717   77049  0.149050\n",
      "193718  198296  0.216608\n",
      "193719   71530  0.249569\n",
      "\n",
      "[193720 rows x 2 columns]\n"
     ]
    }
   ],
   "source": [
    "y_pred_train=model1(train_dataset.X_train_cate, train_dataset.X_train_cont).data\n",
    "df_pred_train = pd.DataFrame(y_pred_train.numpy() , columns=['vat'])\n",
    "df_pred_train = pd.concat([train_dataset.X_train_id , df_pred_train] , axis=1)\n",
    "print(df_pred_train)\n"
   ]
  },
  {
   "cell_type": "code",
   "execution_count": 78,
   "metadata": {},
   "outputs": [
    {
     "name": "stdout",
     "output_type": "stream",
     "text": [
      "0.2554194\n"
     ]
    }
   ],
   "source": [
    "# 予測結果から閾値の算出\n",
    "chargedoff_val = train_dataset.Y_train.sum()\n",
    "chargedoff_val = int(chargedoff_val)\n",
    "proba_desc = df_pred_train.loc[:,'vat'].sort_values(ascending = False)\n",
    "threshold = proba_desc.iat[chargedoff_val]\n",
    "print(threshold)\n"
   ]
  },
  {
   "cell_type": "code",
   "execution_count": 79,
   "metadata": {},
   "outputs": [],
   "source": [
    "threshold=0.2481926\n",
    "threshold=0.25330406\n",
    "threshold=0.2554194"
   ]
  },
  {
   "cell_type": "code",
   "execution_count": 88,
   "metadata": {},
   "outputs": [],
   "source": [
    "threshold=0.20"
   ]
  },
  {
   "cell_type": "code",
   "execution_count": 89,
   "metadata": {},
   "outputs": [
    {
     "name": "stdout",
     "output_type": "stream",
     "text": [
      "0.3806330472103004\n"
     ]
    }
   ],
   "source": [
    "pred_tmp = classification(y_pred_train.numpy() ,threshold)\n",
    "score_train = f1_score(train_dataset.Y_train, pred_tmp)\n",
    "# f1_scoreの表示\n",
    "print(score_train)"
   ]
  },
  {
   "cell_type": "code",
   "execution_count": 90,
   "metadata": {},
   "outputs": [],
   "source": [
    "threshold=0.21"
   ]
  },
  {
   "cell_type": "code",
   "execution_count": 91,
   "metadata": {},
   "outputs": [
    {
     "name": "stdout",
     "output_type": "stream",
     "text": [
      "0.38123409943512565\n"
     ]
    }
   ],
   "source": [
    "pred_tmp = classification(y_pred_train.numpy() ,threshold)\n",
    "score_train = f1_score(train_dataset.Y_train, pred_tmp)\n",
    "# f1_scoreの表示\n",
    "print(score_train)"
   ]
  },
  {
   "cell_type": "code",
   "execution_count": 92,
   "metadata": {},
   "outputs": [],
   "source": [
    "threshold=0.22"
   ]
  },
  {
   "cell_type": "code",
   "execution_count": 93,
   "metadata": {},
   "outputs": [
    {
     "name": "stdout",
     "output_type": "stream",
     "text": [
      "0.38249169079017903\n"
     ]
    }
   ],
   "source": [
    "pred_tmp = classification(y_pred_train.numpy() ,threshold)\n",
    "score_train = f1_score(train_dataset.Y_train, pred_tmp)\n",
    "# f1_scoreの表示\n",
    "print(score_train)"
   ]
  },
  {
   "cell_type": "code",
   "execution_count": 94,
   "metadata": {},
   "outputs": [],
   "source": [
    "threshold=0.23"
   ]
  },
  {
   "cell_type": "code",
   "execution_count": 95,
   "metadata": {},
   "outputs": [
    {
     "name": "stdout",
     "output_type": "stream",
     "text": [
      "0.3792304307436562\n"
     ]
    }
   ],
   "source": [
    "pred_tmp = classification(y_pred_train.numpy() ,threshold)\n",
    "score_train = f1_score(train_dataset.Y_train, pred_tmp)\n",
    "# f1_scoreの表示\n",
    "print(score_train)"
   ]
  },
  {
   "cell_type": "code",
   "execution_count": null,
   "metadata": {},
   "outputs": [],
   "source": []
  },
  {
   "cell_type": "code",
   "execution_count": null,
   "metadata": {},
   "outputs": [],
   "source": []
  },
  {
   "cell_type": "code",
   "execution_count": 98,
   "metadata": {},
   "outputs": [],
   "source": [
    "threshold=0.22\n",
    "pred_tmp = classification(y_pred_train.numpy() ,threshold)"
   ]
  },
  {
   "cell_type": "code",
   "execution_count": 99,
   "metadata": {},
   "outputs": [
    {
     "data": {
      "text/plain": [
       "array([[103201,  56608],\n",
       "       [ 12506,  21405]], dtype=int64)"
      ]
     },
     "execution_count": 99,
     "metadata": {},
     "output_type": "execute_result"
    }
   ],
   "source": [
    "# 混同行列\n",
    "confusion_matrix(train_dataset.Y_train, pred_tmp)"
   ]
  },
  {
   "cell_type": "code",
   "execution_count": 100,
   "metadata": {},
   "outputs": [
    {
     "name": "stdout",
     "output_type": "stream",
     "text": [
      "              precision    recall  f1-score   support\n",
      "\n",
      "         0.0       0.89      0.65      0.75    159809\n",
      "         1.0       0.27      0.63      0.38     33911\n",
      "\n",
      "    accuracy                           0.64    193720\n",
      "   macro avg       0.58      0.64      0.57    193720\n",
      "weighted avg       0.78      0.64      0.68    193720\n",
      "\n"
     ]
    }
   ],
   "source": [
    "print(classification_report(train_dataset.Y_train, pred_tmp))"
   ]
  },
  {
   "cell_type": "code",
   "execution_count": null,
   "metadata": {},
   "outputs": [],
   "source": []
  },
  {
   "cell_type": "code",
   "execution_count": null,
   "metadata": {},
   "outputs": [],
   "source": []
  },
  {
   "cell_type": "code",
   "execution_count": null,
   "metadata": {},
   "outputs": [],
   "source": []
  },
  {
   "cell_type": "markdown",
   "metadata": {},
   "source": [
    "## 検証データ"
   ]
  },
  {
   "cell_type": "code",
   "execution_count": 101,
   "metadata": {},
   "outputs": [
    {
     "name": "stdout",
     "output_type": "stream",
     "text": [
      "           id       vat\n",
      "0      169435  0.273248\n",
      "1      216164  0.250305\n",
      "2      158682  0.121981\n",
      "3      121892  0.037048\n",
      "4       85644  0.154101\n",
      "...       ...       ...\n",
      "48425   27757  0.185847\n",
      "48426  215081  0.261087\n",
      "48427  163023  0.093475\n",
      "48428   72738  0.127013\n",
      "48429  142864  0.226031\n",
      "\n",
      "[48430 rows x 2 columns]\n"
     ]
    }
   ],
   "source": [
    "y_pred_test=model1(train_dataset.X_test_cate, train_dataset.X_test_cont).data\n",
    "df_pred_test = pd.DataFrame(y_pred_test.numpy() ,columns=['vat'])\n",
    "df_pred_test = pd.concat([train_dataset.X_test_id , df_pred_test] , axis=1)\n",
    "print(df_pred_test)\n"
   ]
  },
  {
   "cell_type": "code",
   "execution_count": 102,
   "metadata": {},
   "outputs": [
    {
     "name": "stdout",
     "output_type": "stream",
     "text": [
      "0.37686297207350594\n"
     ]
    }
   ],
   "source": [
    "pred_tmp = classification(np.array(df_pred_test.loc[:,'vat']) ,threshold)\n",
    "score_test = f1_score(train_dataset.Y_test, pred_tmp)\n",
    "# f1_scoreの表示\n",
    "print(score_test)"
   ]
  },
  {
   "cell_type": "code",
   "execution_count": 103,
   "metadata": {},
   "outputs": [
    {
     "data": {
      "text/plain": [
       "array([[25995, 13990],\n",
       "       [ 3236,  5209]], dtype=int64)"
      ]
     },
     "execution_count": 103,
     "metadata": {},
     "output_type": "execute_result"
    }
   ],
   "source": [
    "# 混同行列\n",
    "confusion_matrix(train_dataset.Y_test, pred_tmp)"
   ]
  },
  {
   "cell_type": "code",
   "execution_count": 104,
   "metadata": {},
   "outputs": [
    {
     "name": "stdout",
     "output_type": "stream",
     "text": [
      "              precision    recall  f1-score   support\n",
      "\n",
      "         0.0       0.89      0.65      0.75     39985\n",
      "         1.0       0.27      0.62      0.38      8445\n",
      "\n",
      "    accuracy                           0.64     48430\n",
      "   macro avg       0.58      0.63      0.56     48430\n",
      "weighted avg       0.78      0.64      0.69     48430\n",
      "\n"
     ]
    }
   ],
   "source": [
    "print(classification_report(train_dataset.Y_test, pred_tmp))"
   ]
  },
  {
   "cell_type": "code",
   "execution_count": null,
   "metadata": {},
   "outputs": [],
   "source": []
  },
  {
   "cell_type": "markdown",
   "metadata": {},
   "source": [
    "# 予測結果から予測を外す対象の分析"
   ]
  },
  {
   "cell_type": "code",
   "execution_count": 147,
   "metadata": {},
   "outputs": [],
   "source": [
    "tmp = pd.concat([df_pred_train  ,df_pred_test] )\n",
    "#tmp = tmp.drop(columns=['capa', 'vat_tmp'] , axis=1)\n",
    "\n",
    "data = pd.merge(train_dataset.df, tmp , on='id' , how='left')\n",
    "data['bat_val'] =  classification(np.array(tmp['vat']) ,threshold)\n",
    "data['loan_status_val'] = data['loan_status'].replace('FullyPaid', '0').replace('ChargedOff', '1')\n",
    "\n",
    "\n"
   ]
  },
  {
   "cell_type": "code",
   "execution_count": 148,
   "metadata": {},
   "outputs": [
    {
     "data": {
      "text/html": [
       "<div>\n",
       "<style scoped>\n",
       "    .dataframe tbody tr th:only-of-type {\n",
       "        vertical-align: middle;\n",
       "    }\n",
       "\n",
       "    .dataframe tbody tr th {\n",
       "        vertical-align: top;\n",
       "    }\n",
       "\n",
       "    .dataframe thead th {\n",
       "        text-align: right;\n",
       "    }\n",
       "</style>\n",
       "<table border=\"1\" class=\"dataframe\">\n",
       "  <thead>\n",
       "    <tr style=\"text-align: right;\">\n",
       "      <th></th>\n",
       "      <th>id</th>\n",
       "      <th>loan_amnt</th>\n",
       "      <th>term</th>\n",
       "      <th>interest_rate</th>\n",
       "      <th>grade</th>\n",
       "      <th>employment_length</th>\n",
       "      <th>purpose</th>\n",
       "      <th>credit_score</th>\n",
       "      <th>application_type</th>\n",
       "      <th>loan_status</th>\n",
       "      <th>vat</th>\n",
       "      <th>bat_val</th>\n",
       "      <th>loan_status_val</th>\n",
       "    </tr>\n",
       "  </thead>\n",
       "  <tbody>\n",
       "    <tr>\n",
       "      <th>0</th>\n",
       "      <td>0</td>\n",
       "      <td>609.296068</td>\n",
       "      <td>3 years</td>\n",
       "      <td>8.421982</td>\n",
       "      <td>A5</td>\n",
       "      <td>0 years</td>\n",
       "      <td>debt_consolidation</td>\n",
       "      <td>714.061803</td>\n",
       "      <td>Individual</td>\n",
       "      <td>FullyPaid</td>\n",
       "      <td>0.042086</td>\n",
       "      <td>1</td>\n",
       "      <td>0</td>\n",
       "    </tr>\n",
       "    <tr>\n",
       "      <th>1</th>\n",
       "      <td>1</td>\n",
       "      <td>1183.266999</td>\n",
       "      <td>5 years</td>\n",
       "      <td>10.286776</td>\n",
       "      <td>B1</td>\n",
       "      <td>10 years</td>\n",
       "      <td>credit_card</td>\n",
       "      <td>697.706701</td>\n",
       "      <td>Individual</td>\n",
       "      <td>ChargedOff</td>\n",
       "      <td>0.180858</td>\n",
       "      <td>0</td>\n",
       "      <td>1</td>\n",
       "    </tr>\n",
       "    <tr>\n",
       "      <th>2</th>\n",
       "      <td>2</td>\n",
       "      <td>695.783256</td>\n",
       "      <td>3 years</td>\n",
       "      <td>14.723425</td>\n",
       "      <td>C2</td>\n",
       "      <td>1 year</td>\n",
       "      <td>debt_consolidation</td>\n",
       "      <td>656.419357</td>\n",
       "      <td>Individual</td>\n",
       "      <td>FullyPaid</td>\n",
       "      <td>0.198536</td>\n",
       "      <td>0</td>\n",
       "      <td>0</td>\n",
       "    </tr>\n",
       "    <tr>\n",
       "      <th>3</th>\n",
       "      <td>3</td>\n",
       "      <td>738.392546</td>\n",
       "      <td>3 years</td>\n",
       "      <td>14.260708</td>\n",
       "      <td>C1</td>\n",
       "      <td>0 years</td>\n",
       "      <td>credit_card</td>\n",
       "      <td>657.906852</td>\n",
       "      <td>Individual</td>\n",
       "      <td>FullyPaid</td>\n",
       "      <td>0.190207</td>\n",
       "      <td>0</td>\n",
       "      <td>0</td>\n",
       "    </tr>\n",
       "    <tr>\n",
       "      <th>4</th>\n",
       "      <td>4</td>\n",
       "      <td>1642.400654</td>\n",
       "      <td>5 years</td>\n",
       "      <td>25.217452</td>\n",
       "      <td>E5</td>\n",
       "      <td>10 years</td>\n",
       "      <td>debt_consolidation</td>\n",
       "      <td>662.972297</td>\n",
       "      <td>Individual</td>\n",
       "      <td>FullyPaid</td>\n",
       "      <td>0.274020</td>\n",
       "      <td>0</td>\n",
       "      <td>0</td>\n",
       "    </tr>\n",
       "  </tbody>\n",
       "</table>\n",
       "</div>"
      ],
      "text/plain": [
       "   id    loan_amnt     term  interest_rate grade employment_length  \\\n",
       "0   0   609.296068  3 years       8.421982    A5           0 years   \n",
       "1   1  1183.266999  5 years      10.286776    B1          10 years   \n",
       "2   2   695.783256  3 years      14.723425    C2            1 year   \n",
       "3   3   738.392546  3 years      14.260708    C1           0 years   \n",
       "4   4  1642.400654  5 years      25.217452    E5          10 years   \n",
       "\n",
       "              purpose  credit_score application_type loan_status       vat  \\\n",
       "0  debt_consolidation    714.061803       Individual   FullyPaid  0.042086   \n",
       "1         credit_card    697.706701       Individual  ChargedOff  0.180858   \n",
       "2  debt_consolidation    656.419357       Individual   FullyPaid  0.198536   \n",
       "3         credit_card    657.906852       Individual   FullyPaid  0.190207   \n",
       "4  debt_consolidation    662.972297       Individual   FullyPaid  0.274020   \n",
       "\n",
       "   bat_val loan_status_val  \n",
       "0        1               0  \n",
       "1        0               1  \n",
       "2        0               0  \n",
       "3        0               0  \n",
       "4        0               0  "
      ]
     },
     "execution_count": 148,
     "metadata": {},
     "output_type": "execute_result"
    }
   ],
   "source": [
    "data.head()"
   ]
  },
  {
   "cell_type": "code",
   "execution_count": 149,
   "metadata": {},
   "outputs": [
    {
     "data": {
      "text/plain": [
       "10 years    34025\n",
       "0 years      6218\n",
       "9 years      5974\n",
       "1 year       5138\n",
       "2 years      5000\n",
       "6 years      4977\n",
       "4 years      4799\n",
       "7 years      4352\n",
       "5 years      4345\n",
       "3 years      3820\n",
       "8 years      1653\n",
       "Name: employment_length, dtype: int64"
      ]
     },
     "execution_count": 149,
     "metadata": {},
     "output_type": "execute_result"
    }
   ],
   "source": [
    "values1 = ['1']\n",
    "values0 = ['0']\n",
    "col = 'employment_length'\n",
    "## 全件\n",
    "#tmp = data.loc[data.index[data['bat_val'].isin([1]),col]\n",
    "tmp1 = data.loc[(data.index[data['bat_val'].isin(values1)]) & (data.index[data['loan_status_val'].isin(values0)]) ,col].copy()\n",
    "\n",
    "tmp1.value_counts()"
   ]
  },
  {
   "cell_type": "code",
   "execution_count": 150,
   "metadata": {},
   "outputs": [
    {
     "data": {
      "text/plain": [
       "10 years    11492\n",
       "0 years      2375\n",
       "9 years      2051\n",
       "2 years      1815\n",
       "1 year       1421\n",
       "6 years      1363\n",
       "5 years      1217\n",
       "3 years      1145\n",
       "7 years      1071\n",
       "4 years       929\n",
       "8 years       566\n",
       "Name: employment_length, dtype: int64"
      ]
     },
     "execution_count": 150,
     "metadata": {},
     "output_type": "execute_result"
    }
   ],
   "source": [
    "tmp2 = data.loc[(data.index[data['bat_val'].isin(values0)]) & (data.index[data['loan_status_val'].isin(values1)]) ,col].copy()\n",
    "\n",
    "tmp2.value_counts()"
   ]
  },
  {
   "cell_type": "code",
   "execution_count": 151,
   "metadata": {},
   "outputs": [
    {
     "name": "stdout",
     "output_type": "stream",
     "text": [
      "105746\n"
     ]
    }
   ],
   "source": [
    "print(len(tmp1) + len(tmp2))"
   ]
  },
  {
   "cell_type": "code",
   "execution_count": null,
   "metadata": {},
   "outputs": [],
   "source": []
  },
  {
   "cell_type": "code",
   "execution_count": 110,
   "metadata": {},
   "outputs": [
    {
     "data": {
      "text/plain": [
       "C4    2715\n",
       "C5    1904\n",
       "B5    1788\n",
       "B2    1592\n",
       "D4    1573\n",
       "C1    1545\n",
       "D5    1381\n",
       "C2    1357\n",
       "B4    1347\n",
       "D3    1344\n",
       "D1    1314\n",
       "D2    1282\n",
       "C3    1279\n",
       "B1    1039\n",
       "A3     984\n",
       "B3     948\n",
       "E2     553\n",
       "E4     375\n",
       "A4     316\n",
       "A5     232\n",
       "A2     195\n",
       "E5     167\n",
       "A1      89\n",
       "E1      85\n",
       "E3      36\n",
       "F5       3\n",
       "F3       2\n",
       "Name: grade, dtype: int64"
      ]
     },
     "execution_count": 110,
     "metadata": {},
     "output_type": "execute_result"
    }
   ],
   "source": [
    "tmp3 = data.loc[tmp2.index.values , 'grade']\n",
    "tmp3.value_counts()"
   ]
  },
  {
   "cell_type": "code",
   "execution_count": 158,
   "metadata": {},
   "outputs": [],
   "source": [
    "tmp1 = data.loc[(data.index[data['bat_val'].isin(values1)]) & (data.index[data['loan_status_val'].isin(values0)]) ,:].copy()\n",
    "tmp2 = data.loc[(data.index[data['bat_val'].isin(values0)]) & (data.index[data['loan_status_val'].isin(values1)]) ,:].copy()\n",
    "tmp_err = pd.concat([tmp1 , tmp2])"
   ]
  },
  {
   "cell_type": "code",
   "execution_count": 159,
   "metadata": {},
   "outputs": [
    {
     "data": {
      "text/html": [
       "<div>\n",
       "<style scoped>\n",
       "    .dataframe tbody tr th:only-of-type {\n",
       "        vertical-align: middle;\n",
       "    }\n",
       "\n",
       "    .dataframe tbody tr th {\n",
       "        vertical-align: top;\n",
       "    }\n",
       "\n",
       "    .dataframe thead th {\n",
       "        text-align: right;\n",
       "    }\n",
       "</style>\n",
       "<table border=\"1\" class=\"dataframe\">\n",
       "  <thead>\n",
       "    <tr style=\"text-align: right;\">\n",
       "      <th></th>\n",
       "      <th>id</th>\n",
       "      <th>loan_amnt</th>\n",
       "      <th>term</th>\n",
       "      <th>interest_rate</th>\n",
       "      <th>grade</th>\n",
       "      <th>employment_length</th>\n",
       "      <th>purpose</th>\n",
       "      <th>credit_score</th>\n",
       "      <th>application_type</th>\n",
       "      <th>loan_status</th>\n",
       "      <th>vat</th>\n",
       "      <th>bat_val</th>\n",
       "      <th>loan_status_val</th>\n",
       "    </tr>\n",
       "  </thead>\n",
       "  <tbody>\n",
       "    <tr>\n",
       "      <th>0</th>\n",
       "      <td>0</td>\n",
       "      <td>609.296068</td>\n",
       "      <td>3 years</td>\n",
       "      <td>8.421982</td>\n",
       "      <td>A5</td>\n",
       "      <td>0 years</td>\n",
       "      <td>debt_consolidation</td>\n",
       "      <td>714.061803</td>\n",
       "      <td>Individual</td>\n",
       "      <td>FullyPaid</td>\n",
       "      <td>0.042086</td>\n",
       "      <td>1</td>\n",
       "      <td>0</td>\n",
       "    </tr>\n",
       "    <tr>\n",
       "      <th>10</th>\n",
       "      <td>10</td>\n",
       "      <td>1563.389776</td>\n",
       "      <td>3 years</td>\n",
       "      <td>13.612753</td>\n",
       "      <td>C1</td>\n",
       "      <td>3 years</td>\n",
       "      <td>debt_consolidation</td>\n",
       "      <td>656.650244</td>\n",
       "      <td>Individual</td>\n",
       "      <td>FullyPaid</td>\n",
       "      <td>0.181363</td>\n",
       "      <td>1</td>\n",
       "      <td>0</td>\n",
       "    </tr>\n",
       "    <tr>\n",
       "      <th>13</th>\n",
       "      <td>13</td>\n",
       "      <td>664.330513</td>\n",
       "      <td>3 years</td>\n",
       "      <td>8.550379</td>\n",
       "      <td>B1</td>\n",
       "      <td>10 years</td>\n",
       "      <td>other</td>\n",
       "      <td>711.151332</td>\n",
       "      <td>Individual</td>\n",
       "      <td>FullyPaid</td>\n",
       "      <td>0.108842</td>\n",
       "      <td>1</td>\n",
       "      <td>0</td>\n",
       "    </tr>\n",
       "    <tr>\n",
       "      <th>15</th>\n",
       "      <td>15</td>\n",
       "      <td>1088.336719</td>\n",
       "      <td>3 years</td>\n",
       "      <td>13.658647</td>\n",
       "      <td>C1</td>\n",
       "      <td>0 years</td>\n",
       "      <td>debt_consolidation</td>\n",
       "      <td>679.333831</td>\n",
       "      <td>Individual</td>\n",
       "      <td>FullyPaid</td>\n",
       "      <td>0.181363</td>\n",
       "      <td>1</td>\n",
       "      <td>0</td>\n",
       "    </tr>\n",
       "    <tr>\n",
       "      <th>19</th>\n",
       "      <td>19</td>\n",
       "      <td>2329.153979</td>\n",
       "      <td>3 years</td>\n",
       "      <td>8.694068</td>\n",
       "      <td>B1</td>\n",
       "      <td>2 years</td>\n",
       "      <td>debt_consolidation</td>\n",
       "      <td>696.958513</td>\n",
       "      <td>Individual</td>\n",
       "      <td>FullyPaid</td>\n",
       "      <td>0.093475</td>\n",
       "      <td>1</td>\n",
       "      <td>0</td>\n",
       "    </tr>\n",
       "    <tr>\n",
       "      <th>...</th>\n",
       "      <td>...</td>\n",
       "      <td>...</td>\n",
       "      <td>...</td>\n",
       "      <td>...</td>\n",
       "      <td>...</td>\n",
       "      <td>...</td>\n",
       "      <td>...</td>\n",
       "      <td>...</td>\n",
       "      <td>...</td>\n",
       "      <td>...</td>\n",
       "      <td>...</td>\n",
       "      <td>...</td>\n",
       "      <td>...</td>\n",
       "    </tr>\n",
       "    <tr>\n",
       "      <th>242125</th>\n",
       "      <td>242125</td>\n",
       "      <td>2328.765072</td>\n",
       "      <td>5 years</td>\n",
       "      <td>24.047946</td>\n",
       "      <td>A3</td>\n",
       "      <td>10 years</td>\n",
       "      <td>debt_consolidation</td>\n",
       "      <td>657.468869</td>\n",
       "      <td>Individual</td>\n",
       "      <td>ChargedOff</td>\n",
       "      <td>0.272415</td>\n",
       "      <td>0</td>\n",
       "      <td>1</td>\n",
       "    </tr>\n",
       "    <tr>\n",
       "      <th>242130</th>\n",
       "      <td>242130</td>\n",
       "      <td>2358.765085</td>\n",
       "      <td>3 years</td>\n",
       "      <td>18.168924</td>\n",
       "      <td>D2</td>\n",
       "      <td>1 year</td>\n",
       "      <td>debt_consolidation</td>\n",
       "      <td>656.942251</td>\n",
       "      <td>Individual</td>\n",
       "      <td>ChargedOff</td>\n",
       "      <td>0.253333</td>\n",
       "      <td>0</td>\n",
       "      <td>1</td>\n",
       "    </tr>\n",
       "    <tr>\n",
       "      <th>242131</th>\n",
       "      <td>242131</td>\n",
       "      <td>2136.927205</td>\n",
       "      <td>5 years</td>\n",
       "      <td>23.521380</td>\n",
       "      <td>A4</td>\n",
       "      <td>10 years</td>\n",
       "      <td>debt_consolidation</td>\n",
       "      <td>680.827109</td>\n",
       "      <td>Individual</td>\n",
       "      <td>ChargedOff</td>\n",
       "      <td>0.265021</td>\n",
       "      <td>0</td>\n",
       "      <td>1</td>\n",
       "    </tr>\n",
       "    <tr>\n",
       "      <th>242133</th>\n",
       "      <td>242133</td>\n",
       "      <td>1469.716996</td>\n",
       "      <td>5 years</td>\n",
       "      <td>13.960387</td>\n",
       "      <td>C4</td>\n",
       "      <td>1 year</td>\n",
       "      <td>debt_consolidation</td>\n",
       "      <td>658.992383</td>\n",
       "      <td>Individual</td>\n",
       "      <td>ChargedOff</td>\n",
       "      <td>0.248652</td>\n",
       "      <td>0</td>\n",
       "      <td>1</td>\n",
       "    </tr>\n",
       "    <tr>\n",
       "      <th>242134</th>\n",
       "      <td>242134</td>\n",
       "      <td>3239.088470</td>\n",
       "      <td>3 years</td>\n",
       "      <td>14.717329</td>\n",
       "      <td>C5</td>\n",
       "      <td>6 years</td>\n",
       "      <td>medical</td>\n",
       "      <td>674.587893</td>\n",
       "      <td>Individual</td>\n",
       "      <td>ChargedOff</td>\n",
       "      <td>0.228855</td>\n",
       "      <td>0</td>\n",
       "      <td>1</td>\n",
       "    </tr>\n",
       "  </tbody>\n",
       "</table>\n",
       "<p>105746 rows × 13 columns</p>\n",
       "</div>"
      ],
      "text/plain": [
       "            id    loan_amnt     term  interest_rate grade employment_length  \\\n",
       "0            0   609.296068  3 years       8.421982    A5           0 years   \n",
       "10          10  1563.389776  3 years      13.612753    C1           3 years   \n",
       "13          13   664.330513  3 years       8.550379    B1          10 years   \n",
       "15          15  1088.336719  3 years      13.658647    C1           0 years   \n",
       "19          19  2329.153979  3 years       8.694068    B1           2 years   \n",
       "...        ...          ...      ...            ...   ...               ...   \n",
       "242125  242125  2328.765072  5 years      24.047946    A3          10 years   \n",
       "242130  242130  2358.765085  3 years      18.168924    D2            1 year   \n",
       "242131  242131  2136.927205  5 years      23.521380    A4          10 years   \n",
       "242133  242133  1469.716996  5 years      13.960387    C4            1 year   \n",
       "242134  242134  3239.088470  3 years      14.717329    C5           6 years   \n",
       "\n",
       "                   purpose  credit_score application_type loan_status  \\\n",
       "0       debt_consolidation    714.061803       Individual   FullyPaid   \n",
       "10      debt_consolidation    656.650244       Individual   FullyPaid   \n",
       "13                   other    711.151332       Individual   FullyPaid   \n",
       "15      debt_consolidation    679.333831       Individual   FullyPaid   \n",
       "19      debt_consolidation    696.958513       Individual   FullyPaid   \n",
       "...                    ...           ...              ...         ...   \n",
       "242125  debt_consolidation    657.468869       Individual  ChargedOff   \n",
       "242130  debt_consolidation    656.942251       Individual  ChargedOff   \n",
       "242131  debt_consolidation    680.827109       Individual  ChargedOff   \n",
       "242133  debt_consolidation    658.992383       Individual  ChargedOff   \n",
       "242134             medical    674.587893       Individual  ChargedOff   \n",
       "\n",
       "             vat  bat_val loan_status_val  \n",
       "0       0.042086        1               0  \n",
       "10      0.181363        1               0  \n",
       "13      0.108842        1               0  \n",
       "15      0.181363        1               0  \n",
       "19      0.093475        1               0  \n",
       "...          ...      ...             ...  \n",
       "242125  0.272415        0               1  \n",
       "242130  0.253333        0               1  \n",
       "242131  0.265021        0               1  \n",
       "242133  0.248652        0               1  \n",
       "242134  0.228855        0               1  \n",
       "\n",
       "[105746 rows x 13 columns]"
      ]
     },
     "execution_count": 159,
     "metadata": {},
     "output_type": "execute_result"
    }
   ],
   "source": [
    "tmp_err"
   ]
  },
  {
   "cell_type": "code",
   "execution_count": 163,
   "metadata": {
    "scrolled": true
   },
   "outputs": [],
   "source": [
    "group = tmp_err.groupby(['grade', 'employment_length' , 'term', 'purpose'])['bat_val'].count()"
   ]
  },
  {
   "cell_type": "code",
   "execution_count": 164,
   "metadata": {},
   "outputs": [],
   "source": [
    "group.to_csv('./group.csv', encoding='utf_8_sig' )"
   ]
  },
  {
   "cell_type": "code",
   "execution_count": null,
   "metadata": {},
   "outputs": [],
   "source": []
  },
  {
   "cell_type": "code",
   "execution_count": null,
   "metadata": {},
   "outputs": [],
   "source": []
  },
  {
   "cell_type": "code",
   "execution_count": null,
   "metadata": {},
   "outputs": [],
   "source": []
  },
  {
   "cell_type": "markdown",
   "metadata": {},
   "source": [
    "#  予測する"
   ]
  },
  {
   "cell_type": "code",
   "execution_count": 111,
   "metadata": {},
   "outputs": [
    {
     "data": {
      "text/html": [
       "<div>\n",
       "<style scoped>\n",
       "    .dataframe tbody tr th:only-of-type {\n",
       "        vertical-align: middle;\n",
       "    }\n",
       "\n",
       "    .dataframe tbody tr th {\n",
       "        vertical-align: top;\n",
       "    }\n",
       "\n",
       "    .dataframe thead th {\n",
       "        text-align: right;\n",
       "    }\n",
       "</style>\n",
       "<table border=\"1\" class=\"dataframe\">\n",
       "  <thead>\n",
       "    <tr style=\"text-align: right;\">\n",
       "      <th></th>\n",
       "      <th>id</th>\n",
       "      <th>val</th>\n",
       "    </tr>\n",
       "  </thead>\n",
       "  <tbody>\n",
       "    <tr>\n",
       "      <th>0</th>\n",
       "      <td>242150</td>\n",
       "      <td>0</td>\n",
       "    </tr>\n",
       "    <tr>\n",
       "      <th>1</th>\n",
       "      <td>242151</td>\n",
       "      <td>1</td>\n",
       "    </tr>\n",
       "    <tr>\n",
       "      <th>2</th>\n",
       "      <td>242152</td>\n",
       "      <td>0</td>\n",
       "    </tr>\n",
       "    <tr>\n",
       "      <th>3</th>\n",
       "      <td>242153</td>\n",
       "      <td>0</td>\n",
       "    </tr>\n",
       "    <tr>\n",
       "      <th>4</th>\n",
       "      <td>242154</td>\n",
       "      <td>0</td>\n",
       "    </tr>\n",
       "    <tr>\n",
       "      <th>...</th>\n",
       "      <td>...</td>\n",
       "      <td>...</td>\n",
       "    </tr>\n",
       "    <tr>\n",
       "      <th>26895</th>\n",
       "      <td>269045</td>\n",
       "      <td>0</td>\n",
       "    </tr>\n",
       "    <tr>\n",
       "      <th>26896</th>\n",
       "      <td>269046</td>\n",
       "      <td>0</td>\n",
       "    </tr>\n",
       "    <tr>\n",
       "      <th>26897</th>\n",
       "      <td>269047</td>\n",
       "      <td>0</td>\n",
       "    </tr>\n",
       "    <tr>\n",
       "      <th>26898</th>\n",
       "      <td>269048</td>\n",
       "      <td>0</td>\n",
       "    </tr>\n",
       "    <tr>\n",
       "      <th>26899</th>\n",
       "      <td>269049</td>\n",
       "      <td>0</td>\n",
       "    </tr>\n",
       "  </tbody>\n",
       "</table>\n",
       "<p>26900 rows × 2 columns</p>\n",
       "</div>"
      ],
      "text/plain": [
       "           id  val\n",
       "0      242150    0\n",
       "1      242151    1\n",
       "2      242152    0\n",
       "3      242153    0\n",
       "4      242154    0\n",
       "...       ...  ...\n",
       "26895  269045    0\n",
       "26896  269046    0\n",
       "26897  269047    0\n",
       "26898  269048    0\n",
       "26899  269049    0\n",
       "\n",
       "[26900 rows x 2 columns]"
      ]
     },
     "execution_count": 111,
     "metadata": {},
     "output_type": "execute_result"
    }
   ],
   "source": [
    "y_predict=model1(test_dataset.X_vat_cate, test_dataset.X_vat_cont).data\n",
    "df_predict = pd.DataFrame(y_predict.numpy())\n",
    "y_predict = classification(np.array(df_predict[0]), threshold)\n",
    "\n",
    "df_out = pd.DataFrame(y_predict, columns=['val'])\n",
    "df_out = pd.concat([test_dataset.x_id['id'] ,df_out['val']] , axis=1)\n",
    "df_out.to_csv('./submit.csv', encoding='utf_8_sig' , header=False ,index=False)\n",
    "df_out\n",
    "\n",
    "\n"
   ]
  },
  {
   "cell_type": "markdown",
   "metadata": {},
   "source": [
    "# モデルの保存"
   ]
  },
  {
   "cell_type": "code",
   "execution_count": 112,
   "metadata": {},
   "outputs": [],
   "source": [
    "model_path = 'model1.pth'\n",
    "torch.save(model1.to('cpu').state_dict(), model_path)\n"
   ]
  },
  {
   "cell_type": "code",
   "execution_count": null,
   "metadata": {},
   "outputs": [],
   "source": []
  },
  {
   "cell_type": "code",
   "execution_count": null,
   "metadata": {},
   "outputs": [],
   "source": []
  }
 ],
 "metadata": {
  "kernelspec": {
   "display_name": "Python 3",
   "language": "python",
   "name": "python3"
  },
  "language_info": {
   "codemirror_mode": {
    "name": "ipython",
    "version": 3
   },
   "file_extension": ".py",
   "mimetype": "text/x-python",
   "name": "python",
   "nbconvert_exporter": "python",
   "pygments_lexer": "ipython3",
   "version": "3.7.1"
  }
 },
 "nbformat": 4,
 "nbformat_minor": 4
}
