{
 "cells": [
  {
   "cell_type": "code",
   "execution_count": 1,
   "metadata": {},
   "outputs": [],
   "source": [
    "import numpy as np\n",
    "# 訓練データと検証データの分割\n",
    "from sklearn.model_selection import train_test_split\n",
    "# データを扱う\n",
    "import pandas as pd\n",
    "# グラフ描画\n",
    "from matplotlib import pyplot as plt\n",
    "%matplotlib inline\n",
    "import seaborn as sns\n",
    "# 特徴量選択\n",
    "from sklearn.linear_model import LogisticRegression\n",
    "from sklearn.feature_selection import SelectFromModel\n",
    "# 多項式・交互作用特徴量\n",
    "from sklearn.preprocessing import PolynomialFeatures\n",
    "import math\n",
    "# 評価関数（f1_score）\n",
    "from sklearn.metrics import f1_score \n",
    "# 混同行列\n",
    "from sklearn.metrics import confusion_matrix\n",
    "from sklearn.metrics import classification_report"
   ]
  },
  {
   "cell_type": "code",
   "execution_count": 2,
   "metadata": {},
   "outputs": [],
   "source": [
    "import torch\n",
    "# 自動微分の関数 \n",
    "from torch.autograd import Variable\n",
    "# ニューラルネットワークの関数\n",
    "import torch.nn as nn\n",
    "# 活性化関数\n",
    "import torch.nn.functional as F\n",
    "# 最適化のアルゴリズムの関数\n",
    "import torch.optim as optim\n",
    "#ユーティリティのデータから\n",
    "from torch.utils.data import DataLoader ,TensorDataset, Dataset"
   ]
  },
  {
   "cell_type": "markdown",
   "metadata": {},
   "source": [
    "## 訓練データの読み込み"
   ]
  },
  {
   "cell_type": "code",
   "execution_count": 3,
   "metadata": {},
   "outputs": [],
   "source": [
    "class TrainDataset(Dataset):\n",
    "    def __init__(self):\n",
    "        super().__init__()\n",
    "        # CSVファイル読み込み（訓練データ）\n",
    "        df = pd.read_csv('train.csv')\n",
    "        \n",
    "        # 不正データの補正 (レコード削除のパターンもあるため、ファイル読み込み直後に処理する)\n",
    "        df = self.correction(df)\n",
    "        \n",
    "        # 説明変数と目的変数に分割する\n",
    "        df_x = df.drop(['loan_status'], axis=1)\n",
    "        self.df_y = df.loc[:,['loan_status']]\n",
    "        self.targetConv()\n",
    "        \n",
    "        # 説明変数の量的データ、質的データ分割\n",
    "        self.x_cate , self.x_cont, self.x_id = self.DataChange(df_x.copy())\n",
    "        self.x_desc = self.x_cont.describe()\n",
    "        \n",
    "        self.x_cate_conv = self.x_cate.copy()\n",
    "        self.x_cont_conv = self.x_cont.copy()\n",
    "        \n",
    "        # データの加工（標準化や対数化など）\n",
    "        #self.std_scale = 0\n",
    "        #self.max_scale = 0\n",
    "        #self.dobule_scale = 0\n",
    "        #self.polynomialFlg = 0\n",
    "        #self.binSplitFlg = 0\n",
    "        self.logFlg = 0\n",
    "        self.DataConv()\n",
    "        \n",
    "        #self.NpToPy()\n",
    "        #self.num = len(self.X_train)\n",
    "        self.num = len(self.X_train_cate)\n",
    "        \n",
    "    def __getitem__(self, index):\n",
    "        return self.X_train_cate[index], self.X_train_cont[index], self.Y_train[index]\n",
    "    \n",
    "    def __len__(self):\n",
    "        return self.num\n",
    "    \n",
    "    def correction(self, df):\n",
    "        \n",
    "        print('null check')\n",
    "        print(df.isnull().sum())\n",
    "        print('-------------------------')\n",
    "        \n",
    "        return df\n",
    "    \n",
    "    def viewDescribe(self):\n",
    "        self.x_cont.describe()\n",
    "        self.x_cate.describe(include='O')\n",
    "    \n",
    "    def dropCol(self):\n",
    "        \n",
    "        #self.x_cate_conv = self.x_cate_conv.drop(columns=['employment_length'], axis=1)\n",
    "        self.x_cate_conv = self.x_cate_conv.drop(columns=['employment_length','application_type'], axis=1)\n",
    "        # application_type  は使ってみる\n",
    "        \n",
    "        \n",
    "        #self.x_cont_conv = self.x_cont_conv.drop(columns=['loan_amnt'], axis=1)\n",
    "        self.x_cont_conv = self.x_cont_conv.drop(columns=['loan_amnt','credit_score'], axis=1)\n",
    "        # credit_score  は使ってみる（差があるかは要確認）\n",
    "        \n",
    "    def DataChange(self, df_x):\n",
    "        categ_cols = ['term' ,'grade' ,'employment_length', 'purpose' ,'application_type']\n",
    "        contin_cols = ['loan_amnt', 'interest_rate', 'credit_score']\n",
    "        index_cols = ['id']\n",
    "\n",
    "        ####################################\n",
    "        ##  データ分割\n",
    "        ##  説明変数と目的変数に分ける。\n",
    "        ##  説明変数はカテゴリデータと連続データに分ける。\n",
    "        ####################################\n",
    "        x_cate = df_x[categ_cols].copy()\n",
    "        x_cont = df_x[contin_cols].copy()\n",
    "        x_id = df_x[index_cols].copy()\n",
    "        x_id = x_id.astype('int64')\n",
    "        \n",
    "        return x_cate , x_cont  ,x_id\n",
    "    \n",
    "    def targetConv(self):\n",
    "        self.df_y = self.df_y.replace('FullyPaid', '0').replace('ChargedOff', '1')\n",
    "        self.df_y.astype('float32')\n",
    "        \n",
    "    def NpToPy(self):\n",
    "        \n",
    "        #tmp = self.x_cont[['displacement_log', 'horsepower_log', 'weight_log', 'acceleration_log']]\n",
    "        #tmp = self.x_cont[['horsepower_log', 'weight_log', 'acceleration_log']]\n",
    "\n",
    "        # 訓練データと検証データに分割\n",
    "        x_train_cate, x_test_cate ,y_train, y_test = train_test_split(self.x_cate_conv, self.df_y, test_size=0.2, random_state=3) \n",
    "        \n",
    "        # カテゴリデータと同じ行数分数値データを抽出する\n",
    "        row_index = x_train_cate.index.values\n",
    "        x_train_cont = self.x_cont_conv.loc[row_index, :]\n",
    "        row_index = x_test_cate.index.values\n",
    "        x_test_cont = self.x_cont_conv.loc[row_index, :]\n",
    "        \n",
    "        # pandas.DataFrame を numpyに変換する\n",
    "        x_train_cate = np.array(x_train_cate, dtype=np.float64)\n",
    "        x_test_cate = np.array(x_test_cate, dtype=np.float64)\n",
    "        x_train_cont = np.array(x_train_cont, dtype=np.float64)\n",
    "        x_test_cont = np.array(x_test_cont, dtype=np.float64)\n",
    "        y_train = np.array(y_train, dtype=np.float64)\n",
    "        y_test = np.array(y_test, dtype=np.float64)\n",
    "        \n",
    "        \n",
    "        # numpy の値を torch の値に変換する\n",
    "        self.X_train_cate = torch.from_numpy(x_train_cate).float()\n",
    "        self.X_train_cont = torch.from_numpy(x_train_cont).float()\n",
    "        self.Y_train = torch.from_numpy(y_train).float()\n",
    "        self.X_test_cate = torch.from_numpy(x_test_cate).float()\n",
    "        self.X_test_cont = torch.from_numpy(x_test_cont).float()\n",
    "        self.Y_test = torch.from_numpy(y_test).float()\n",
    "        \n",
    "        # 列数\n",
    "        self.coti_size = self.X_train_cont.shape[1]\n",
    "        self.cate_size  = self.X_train_cate.shape[1]\n",
    "        self.in_size  = self.coti_size + self.cate_size\n",
    "        self.out_size = self.Y_train.shape[1]  \n",
    "\n",
    "        \n",
    "    def termConv(self):\n",
    "        \n",
    "        col = 'term'\n",
    "        \n",
    "        self.x_cate_conv[col + '_1'] = 0\n",
    "\n",
    "        row_index = self.x_cate.index[self.x_cate[col]=='3 years']\n",
    "        self.x_cate_conv.loc[row_index, col + '_1'] = 1\n",
    "        \n",
    "        # ALL ゼロが5 yearsなので処理しない\n",
    "        row_index = self.x_cate.index[self.x_cate[col]=='5 years']\n",
    "        \n",
    "        self.x_cate_conv = self.x_cate_conv.drop(columns=col ,axis=1)\n",
    "    \n",
    "    def gradeConv(self):\n",
    "        \n",
    "        col = 'grade'\n",
    "        \n",
    "        self.x_cate_conv[col + '_01'] = 0\n",
    "        self.x_cate_conv[col + '_02'] = 0\n",
    "        self.x_cate_conv[col + '_03'] = 0\n",
    "        self.x_cate_conv[col + '_04'] = 0\n",
    "        self.x_cate_conv[col + '_05'] = 0\n",
    "        \n",
    "        self.x_cate_conv[col + '_06'] = 0\n",
    "        self.x_cate_conv[col + '_07'] = 0\n",
    "        self.x_cate_conv[col + '_08'] = 0\n",
    "        self.x_cate_conv[col + '_09'] = 0\n",
    "        self.x_cate_conv[col + '_10'] = 0\n",
    "        \n",
    "        self.x_cate_conv[col + '_11'] = 0\n",
    "        self.x_cate_conv[col + '_12'] = 0\n",
    "        self.x_cate_conv[col + '_13'] = 0\n",
    "        self.x_cate_conv[col + '_14'] = 0\n",
    "        self.x_cate_conv[col + '_15'] = 0\n",
    "        \n",
    "        self.x_cate_conv[col + '_16'] = 0\n",
    "        self.x_cate_conv[col + '_17'] = 0\n",
    "        self.x_cate_conv[col + '_18'] = 0\n",
    "        self.x_cate_conv[col + '_19'] = 0\n",
    "        self.x_cate_conv[col + '_20'] = 0        \n",
    "\n",
    "        self.x_cate_conv[col + '_21'] = 0\n",
    "        self.x_cate_conv[col + '_22'] = 0\n",
    "        self.x_cate_conv[col + '_23'] = 0\n",
    "        self.x_cate_conv[col + '_24'] = 0\n",
    "        self.x_cate_conv[col + '_25'] = 0\n",
    "        \n",
    "        self.x_cate_conv[col + '_26'] = 0\n",
    "        self.x_cate_conv[col + '_27'] = 0\n",
    "        self.x_cate_conv[col + '_28'] = 0\n",
    "        self.x_cate_conv[col + '_29'] = 0\n",
    "            \n",
    "        \n",
    "        row_index = self.x_cate.index[self.x_cate[col]=='A1']\n",
    "        self.x_cate_conv.loc[row_index, col + '_01'] = 1\n",
    "        row_index = self.x_cate.index[self.x_cate[col]=='A2']\n",
    "        self.x_cate_conv.loc[row_index, col + '_02'] = 1\n",
    "        row_index = self.x_cate.index[self.x_cate[col]=='A3']\n",
    "        self.x_cate_conv.loc[row_index, col + '_03'] = 1\n",
    "        row_index = self.x_cate.index[self.x_cate[col]=='A4']\n",
    "        self.x_cate_conv.loc[row_index, col + '_04'] = 1        \n",
    "        row_index = self.x_cate.index[self.x_cate[col]=='A5']\n",
    "        self.x_cate_conv.loc[row_index, col + '_05'] = 1     \n",
    "\n",
    "        row_index = self.x_cate.index[self.x_cate[col]=='B1']\n",
    "        self.x_cate_conv.loc[row_index, col + '_06'] = 1\n",
    "        row_index = self.x_cate.index[self.x_cate[col]=='B2']\n",
    "        self.x_cate_conv.loc[row_index, col + '_07'] = 1\n",
    "        row_index = self.x_cate.index[self.x_cate[col]=='B3']\n",
    "        self.x_cate_conv.loc[row_index, col + '_08'] = 1\n",
    "        row_index = self.x_cate.index[self.x_cate[col]=='B4']\n",
    "        self.x_cate_conv.loc[row_index, col + '_09'] = 1        \n",
    "        row_index = self.x_cate.index[self.x_cate[col]=='B5']\n",
    "        self.x_cate_conv.loc[row_index, col + '_10'] = 1  \n",
    " \n",
    "        row_index = self.x_cate.index[self.x_cate[col]=='C1']\n",
    "        self.x_cate_conv.loc[row_index, col + '_11'] = 1\n",
    "        row_index = self.x_cate.index[self.x_cate[col]=='C2']\n",
    "        self.x_cate_conv.loc[row_index, col + '_12'] = 1\n",
    "        row_index = self.x_cate.index[self.x_cate[col]=='C3']\n",
    "        self.x_cate_conv.loc[row_index, col + '_13'] = 1\n",
    "        row_index = self.x_cate.index[self.x_cate[col]=='C4']\n",
    "        self.x_cate_conv.loc[row_index, col + '_14'] = 1        \n",
    "        row_index = self.x_cate.index[self.x_cate[col]=='C5']\n",
    "        self.x_cate_conv.loc[row_index, col + '_15'] = 1     \n",
    "\n",
    "        row_index = self.x_cate.index[self.x_cate[col]=='D1']\n",
    "        self.x_cate_conv.loc[row_index, col + '_16'] = 1\n",
    "        row_index = self.x_cate.index[self.x_cate[col]=='D2']\n",
    "        self.x_cate_conv.loc[row_index, col + '_17'] = 1\n",
    "        row_index = self.x_cate.index[self.x_cate[col]=='D3']\n",
    "        self.x_cate_conv.loc[row_index, col + '_18'] = 1\n",
    "        row_index = self.x_cate.index[self.x_cate[col]=='D4']\n",
    "        self.x_cate_conv.loc[row_index, col + '_19'] = 1        \n",
    "        row_index = self.x_cate.index[self.x_cate[col]=='D5']\n",
    "        self.x_cate_conv.loc[row_index, col + '_20'] = 1  \n",
    "        \n",
    "        row_index = self.x_cate.index[self.x_cate[col]=='E1']\n",
    "        self.x_cate_conv.loc[row_index, col + '_21'] = 1\n",
    "        row_index = self.x_cate.index[self.x_cate[col]=='E2']\n",
    "        self.x_cate_conv.loc[row_index, col + '_22'] = 1\n",
    "        row_index = self.x_cate.index[self.x_cate[col]=='E3']\n",
    "        self.x_cate_conv.loc[row_index, col + '_23'] = 1\n",
    "        row_index = self.x_cate.index[self.x_cate[col]=='E4']\n",
    "        self.x_cate_conv.loc[row_index, col + '_24'] = 1        \n",
    "        row_index = self.x_cate.index[self.x_cate[col]=='E5']\n",
    "        self.x_cate_conv.loc[row_index, col + '_25'] = 1     \n",
    "\n",
    "        row_index = self.x_cate.index[self.x_cate[col]=='F1']\n",
    "        self.x_cate_conv.loc[row_index, col + '_26'] = 1\n",
    "        row_index = self.x_cate.index[self.x_cate[col]=='F2']\n",
    "        self.x_cate_conv.loc[row_index, col + '_27'] = 1\n",
    "        row_index = self.x_cate.index[self.x_cate[col]=='F3']\n",
    "        self.x_cate_conv.loc[row_index, col + '_28'] = 1\n",
    "        row_index = self.x_cate.index[self.x_cate[col]=='F4']\n",
    "        self.x_cate_conv.loc[row_index, col + '_29'] = 1        \n",
    "        \n",
    "        # ALL ゼロがF5なので処理しない\n",
    "        row_index = self.x_cate.index[self.x_cate[col]=='F5']\n",
    "        \n",
    "        self.x_cate_conv = self.x_cate_conv.drop(columns=col ,axis=1)\n",
    "        \n",
    "        \n",
    "    def purposeConv(self):\n",
    "        \n",
    "        col = 'purpose'\n",
    "        \n",
    "        self.x_cate_conv[col + '_1'] = 0\n",
    "        self.x_cate_conv[col + '_2'] = 0\n",
    "        self.x_cate_conv[col + '_3'] = 0\n",
    "        self.x_cate_conv[col + '_4'] = 0\n",
    "        self.x_cate_conv[col + '_5'] = 0\n",
    "        self.x_cate_conv[col + '_6'] = 0 \n",
    "        self.x_cate_conv[col + '_7'] = 0\n",
    "        self.x_cate_conv[col + '_8'] = 0\n",
    "        \n",
    "        row_index = self.x_cate.index[self.x_cate[col]=='car']\n",
    "        self.x_cate_conv.loc[row_index, col + '_1'] = 1\n",
    "        \n",
    "        row_index = self.x_cate.index[self.x_cate[col]=='credit_card']\n",
    "        self.x_cate_conv.loc[row_index, col + '_2'] = 1\n",
    "        \n",
    "        row_index = self.x_cate.index[self.x_cate[col]=='debt_consolidation']\n",
    "        self.x_cate_conv.loc[row_index, col + '_3'] = 1\n",
    "        \n",
    "        row_index = self.x_cate.index[self.x_cate[col]=='home_improvement']\n",
    "        self.x_cate_conv.loc[row_index, col + '_4'] = 1\n",
    "        \n",
    "        row_index = self.x_cate.index[self.x_cate[col]=='house']\n",
    "        self.x_cate_conv.loc[row_index, col + '_5'] = 1\n",
    "        \n",
    "        row_index = self.x_cate.index[self.x_cate[col]=='major_purchase']\n",
    "        self.x_cate_conv.loc[row_index, col + '_6'] = 1\n",
    "        \n",
    "        row_index = self.x_cate.index[self.x_cate[col]=='medical']\n",
    "        self.x_cate_conv.loc[row_index, col + '_7'] = 1\n",
    "        \n",
    "        row_index = self.x_cate.index[self.x_cate[col]=='small_business']\n",
    "        self.x_cate_conv.loc[row_index, col + '_8'] = 1\n",
    "        \n",
    "        # ALL ゼロがotherなので処理しない\n",
    "        row_index = self.x_cate.index[self.x_cate[col]=='other']\n",
    "        \n",
    "        self.x_cate_conv = self.x_cate_conv.drop(columns=col ,axis=1)\n",
    "        \n",
    "    def appConv(self):\n",
    "        \n",
    "        col = 'application_type'\n",
    "        \n",
    "        self.x_cate_conv[col + '_1'] = 0\n",
    "\n",
    "        row_index = self.x_cate.index[self.x_cate[col]=='Individual']\n",
    "        self.x_cate_conv.loc[row_index, col + '_1'] = 1\n",
    "        \n",
    "        # ALL ゼロがJoint Appなので処理しない\n",
    "        row_index = self.x_cate.index[self.x_cate[col]=='Joint App']\n",
    "        \n",
    "        self.x_cate_conv = self.x_cate_conv.drop(columns=col ,axis=1)\n",
    " \n",
    "    def binSplit(self):\n",
    "        contin_cols = self.x_cont_conv.columns.values\n",
    "\n",
    "        for col in contin_cols:\n",
    "            split_min = 0\n",
    "            split_min2 = self.x_desc.loc['min',col]\n",
    "            split1 = self.x_desc.loc['25%',col]\n",
    "            split2 = self.x_desc.loc['50%',col]\n",
    "            split3 = self.x_desc.loc['75%',col]\n",
    "            std_m = self.x_desc.loc['std',col]/3\n",
    "            std_p = self.x_desc.loc['std',col]*3\n",
    "            split_max=  self.x_desc.loc['max',col]\n",
    "            split_max2=  self.x_desc.loc['max',col]*10\n",
    "            bins = [split_min,  split_min2, split1,  split2,  split3, std_m,  std_p,  split_max, split_max2]\n",
    "            bins = np.sort(bins)\n",
    "            self.x_cont_conv[col] = pd.cut(self.x_cont_conv[col], bins=bins, labels=False)\n",
    "    \n",
    "    def binSplit2(self):\n",
    "        contin_cols = self.x_cont_conv.columns.values\n",
    "\n",
    "        for col in contin_cols:\n",
    "            \n",
    "            bins = 30\n",
    "            self.x_cont_conv[col] = pd.cut(self.x_cont_conv[col], bins=bins ,labels=False)\n",
    "            \n",
    "    def DataConv(self):\n",
    "\n",
    "        self.termConv()\n",
    "        self.gradeConv()\n",
    "        self.purposeConv()\n",
    "        #self.appConv()\n",
    "        #self.binSplit2()\n",
    "        self.dropCol()        \n",
    "        self.NpToPy()\n",
    "        "
   ]
  },
  {
   "cell_type": "code",
   "execution_count": 4,
   "metadata": {},
   "outputs": [
    {
     "name": "stdout",
     "output_type": "stream",
     "text": [
      "null check\n",
      "id                   0\n",
      "loan_amnt            0\n",
      "term                 0\n",
      "interest_rate        0\n",
      "grade                0\n",
      "employment_length    0\n",
      "purpose              0\n",
      "credit_score         0\n",
      "application_type     0\n",
      "loan_status          0\n",
      "dtype: int64\n",
      "-------------------------\n"
     ]
    }
   ],
   "source": [
    "train_dataset = TrainDataset()"
   ]
  },
  {
   "cell_type": "code",
   "execution_count": null,
   "metadata": {},
   "outputs": [],
   "source": []
  },
  {
   "cell_type": "code",
   "execution_count": 5,
   "metadata": {},
   "outputs": [],
   "source": [
    "class TestDataset(TrainDataset):\n",
    "    def __init__(self, x_desc):\n",
    "        \n",
    "        # CSVファイル読み込み（訓練データ）\n",
    "        df = pd.read_csv('test.csv' )\n",
    "        self.df_data = df.copy()\n",
    "        # 不正データの補正 (レコード削除のパターンもあるため、ファイル読み込み直後に処理する)\n",
    "        df = self.correction(df)\n",
    "        \n",
    "        # 目的変数の格納\n",
    "        self.x_cate , self.x_cont, self.x_id = self.DataChange(df.copy())\n",
    "        self.x_desc = x_desc\n",
    "        \n",
    "        self.x_cate_conv = self.x_cate.copy()\n",
    "        self.x_cont_conv = self.x_cont.copy()\n",
    "        \n",
    "        # データの加工（標準化や対数化など）\n",
    "        #self.std_scale = 0\n",
    "        #self.max_scale = 0\n",
    "        #self.dobule_scale = 0\n",
    "        #self.polynomialFlg = 0\n",
    "        #self.binSplitFlg = 0\n",
    "        self.logFlg  = 0\n",
    "        self.DataConv()\n",
    "        \n",
    "        #self.NpToPy()\n",
    "        #self.num = len(self.x_cate)\n",
    "        self.num = len(self.x_cate_conv)\n",
    "        self.coti_size = self.x_cont_conv.shape[1]\n",
    "\n",
    "    def __getitem__(self, index):\n",
    "        return self.X_vat[index]\n",
    "    \n",
    "    def __len__(self):\n",
    "        return self.num\n",
    "    \n",
    "    def NpToPy(self):\n",
    "        \n",
    "        #x_temp = self.x_cont.copy()\n",
    "        tmp_cate = np.array(self.x_cate_conv)\n",
    "        tmp_cont = np.array(self.x_cont_conv)\n",
    "        \n",
    "        # numpy の値を torch の値に変換する\n",
    "        self.X_vat_cate = torch.from_numpy(tmp_cate).float()\n",
    "        self.X_vat_cont = torch.from_numpy(tmp_cont).float()\n",
    " \n"
   ]
  },
  {
   "cell_type": "markdown",
   "metadata": {},
   "source": []
  },
  {
   "cell_type": "markdown",
   "metadata": {},
   "source": [
    "## 評価データの読み込み"
   ]
  },
  {
   "cell_type": "code",
   "execution_count": 6,
   "metadata": {},
   "outputs": [
    {
     "name": "stdout",
     "output_type": "stream",
     "text": [
      "null check\n",
      "id                   0\n",
      "loan_amnt            0\n",
      "term                 0\n",
      "interest_rate        0\n",
      "grade                0\n",
      "employment_length    0\n",
      "purpose              0\n",
      "credit_score         0\n",
      "application_type     0\n",
      "dtype: int64\n",
      "-------------------------\n"
     ]
    }
   ],
   "source": [
    "test_dataset = TestDataset(train_dataset.x_desc)"
   ]
  },
  {
   "cell_type": "code",
   "execution_count": 7,
   "metadata": {},
   "outputs": [
    {
     "data": {
      "text/html": [
       "<div>\n",
       "<style scoped>\n",
       "    .dataframe tbody tr th:only-of-type {\n",
       "        vertical-align: middle;\n",
       "    }\n",
       "\n",
       "    .dataframe tbody tr th {\n",
       "        vertical-align: top;\n",
       "    }\n",
       "\n",
       "    .dataframe thead th {\n",
       "        text-align: right;\n",
       "    }\n",
       "</style>\n",
       "<table border=\"1\" class=\"dataframe\">\n",
       "  <thead>\n",
       "    <tr style=\"text-align: right;\">\n",
       "      <th></th>\n",
       "      <th>loan_amnt</th>\n",
       "      <th>interest_rate</th>\n",
       "      <th>credit_score</th>\n",
       "    </tr>\n",
       "  </thead>\n",
       "  <tbody>\n",
       "    <tr>\n",
       "      <th>count</th>\n",
       "      <td>26900.000000</td>\n",
       "      <td>26900.000000</td>\n",
       "      <td>26900.000000</td>\n",
       "    </tr>\n",
       "    <tr>\n",
       "      <th>mean</th>\n",
       "      <td>1515.095458</td>\n",
       "      <td>13.778459</td>\n",
       "      <td>683.840319</td>\n",
       "    </tr>\n",
       "    <tr>\n",
       "      <th>std</th>\n",
       "      <td>827.710449</td>\n",
       "      <td>4.587711</td>\n",
       "      <td>29.685781</td>\n",
       "    </tr>\n",
       "    <tr>\n",
       "      <th>min</th>\n",
       "      <td>353.090088</td>\n",
       "      <td>5.745858</td>\n",
       "      <td>655.435675</td>\n",
       "    </tr>\n",
       "    <tr>\n",
       "      <th>25%</th>\n",
       "      <td>753.766957</td>\n",
       "      <td>10.846102</td>\n",
       "      <td>659.589762</td>\n",
       "    </tr>\n",
       "    <tr>\n",
       "      <th>50%</th>\n",
       "      <td>1213.754480</td>\n",
       "      <td>13.551492</td>\n",
       "      <td>678.707870</td>\n",
       "    </tr>\n",
       "    <tr>\n",
       "      <th>75%</th>\n",
       "      <td>2147.699462</td>\n",
       "      <td>17.128929</td>\n",
       "      <td>698.684676</td>\n",
       "    </tr>\n",
       "    <tr>\n",
       "      <th>max</th>\n",
       "      <td>3812.969623</td>\n",
       "      <td>27.503147</td>\n",
       "      <td>811.676356</td>\n",
       "    </tr>\n",
       "  </tbody>\n",
       "</table>\n",
       "</div>"
      ],
      "text/plain": [
       "          loan_amnt  interest_rate  credit_score\n",
       "count  26900.000000   26900.000000  26900.000000\n",
       "mean    1515.095458      13.778459    683.840319\n",
       "std      827.710449       4.587711     29.685781\n",
       "min      353.090088       5.745858    655.435675\n",
       "25%      753.766957      10.846102    659.589762\n",
       "50%     1213.754480      13.551492    678.707870\n",
       "75%     2147.699462      17.128929    698.684676\n",
       "max     3812.969623      27.503147    811.676356"
      ]
     },
     "execution_count": 7,
     "metadata": {},
     "output_type": "execute_result"
    }
   ],
   "source": [
    "test_dataset.x_cont.describe()"
   ]
  },
  {
   "cell_type": "code",
   "execution_count": 8,
   "metadata": {},
   "outputs": [
    {
     "data": {
      "text/plain": [
       "193720"
      ]
     },
     "execution_count": 8,
     "metadata": {},
     "output_type": "execute_result"
    }
   ],
   "source": [
    "len(train_dataset)"
   ]
  },
  {
   "cell_type": "code",
   "execution_count": 9,
   "metadata": {},
   "outputs": [
    {
     "data": {
      "text/plain": [
       "39"
      ]
     },
     "execution_count": 9,
     "metadata": {},
     "output_type": "execute_result"
    }
   ],
   "source": [
    "train_dataset.in_size"
   ]
  },
  {
   "cell_type": "markdown",
   "metadata": {},
   "source": [
    "# モデル定義（分類）"
   ]
  },
  {
   "cell_type": "code",
   "execution_count": 10,
   "metadata": {},
   "outputs": [],
   "source": [
    "batchsize=500\n",
    "\n",
    "# batch_size ：学習する時にまとめるデータ数\n",
    "# shuffle    : データをランダムに並び替える場合はTrue\n",
    "#train_loader = DataLoader(train ,batch_size=30, shuffle=True, num_workers=2)\n",
    "train_loader = DataLoader(dataset=train_dataset ,batch_size=batchsize, shuffle=True)"
   ]
  },
  {
   "cell_type": "code",
   "execution_count": 11,
   "metadata": {},
   "outputs": [],
   "source": [
    "node1=25\n",
    "node2=8\n",
    "\n",
    "\n",
    "# Module を継承して、Netクラスを作成する\n",
    "#  ノード数や階層を増やす　⇒　精度が向上する、学習のパフォーマンスは落ちる\n",
    "#  ノード数や階層を減らす　⇒　精度が下がる、学習のパフォーマンスは上がる\n",
    "#   　ノードや階層を変更しても精度が上がらない　⇒　入力データが不足している\n",
    "class Net1(nn.Module):\n",
    "    # 初期化の関数\n",
    "    def __init__(self):\n",
    "        super(Net1 ,self).__init__()\n",
    "        # ドロップアウト\n",
    "        p=0.5\n",
    "        self.dropout1 = nn.Dropout(p)\n",
    "        self.dropout2 = nn.Dropout(p)\n",
    "        \n",
    "        # バッチ正規化\n",
    "        self.bn_cont = nn.BatchNorm1d(train_dataset.coti_size)\n",
    "        \n",
    "        # 全結合層\n",
    "        self.fc1 = nn.Linear(train_dataset.in_size , node1)         # nn.Linear (入力のノード数 , 中間層ノード数)\n",
    "        self.fc2 = nn.Linear(node1 , node2)           # nn.Linear (中間層ノード数 , 中間層ノード数)\n",
    "        self.fc3 = nn.Linear(node2,  train_dataset.out_size)        # nn.Linear (中間層ノード数 , 出力のノード数)\n",
    "    \n",
    "    # ネットワークを通して、出力値を求める関数\n",
    "    def forward(self ,x_cate, x_cont):\n",
    "#        x = torch.relu(self.fc1(x))              # 入力のノードを中間層（１階層目）に渡して結果を得る\n",
    "#        x = F.sigmoid(self.fc2(x))               # 中間層（１階層目）を中間層（２階層目）に渡して結果を得る\n",
    "\n",
    "        # バッチ正規化\n",
    "        x_cont = self.bn_cont(x_cont)\n",
    "        x = torch.cat([x_cate, x_cont], 1)\n",
    "        \n",
    "        x = torch.sigmoid (self.fc1(x))           # 入力のノードを中間層（１階層目）に渡して結果を得る\n",
    "        x = self.dropout1(x)\n",
    "        x = torch.sigmoid(self.fc2(x))           # 中間層（１階層目）を中間層（２階層目）に渡して結果を得る\n",
    "        x = self.dropout2(x)\n",
    "        x = torch.sigmoid(self.fc3(x))           # 中間層（２階層目）の結果を出力層に渡す\n",
    "        return x"
   ]
  },
  {
   "cell_type": "code",
   "execution_count": 12,
   "metadata": {},
   "outputs": [],
   "source": [
    "# モデルの定義\n",
    "model1 = Net1()\n",
    "# 損失の定義\n",
    "criterion1 = nn.BCELoss()\n",
    "# 最適化のアルゴリズムの選択　（Adam：Stochastic Gradient Descent）\n",
    "optimizer1 = optim.Adam(model1.parameters() , lr=0.005)"
   ]
  },
  {
   "cell_type": "code",
   "execution_count": 14,
   "metadata": {},
   "outputs": [
    {
     "name": "stdout",
     "output_type": "stream",
     "text": [
      "rec_cnt 50\n",
      "Epoch\t1\tLoss\t33.68708271\taccu:\t0.000%\n",
      "Epoch\t2\tLoss\t33.64774804\taccu:\t0.000%\n",
      "Epoch\t3\tLoss\t33.63661707\taccu:\t0.000%\n",
      "Epoch\t4\tLoss\t33.66890521\taccu:\t0.000%\n",
      "Epoch\t5\tLoss\t33.59885868\taccu:\t0.000%\n",
      "Epoch\t6\tLoss\t33.63007436\taccu:\t0.000%\n",
      "Epoch\t7\tLoss\t33.58550673\taccu:\t0.000%\n",
      "Epoch\t8\tLoss\t33.58657906\taccu:\t0.000%\n",
      "Epoch\t9\tLoss\t33.57775635\taccu:\t0.000%\n",
      "Epoch\t10\tLoss\t33.60345504\taccu:\t0.000%\n",
      "Epoch\t11\tLoss\t33.56510523\taccu:\t0.000%\n",
      "Epoch\t12\tLoss\t33.59066378\taccu:\t0.000%\n",
      "Epoch\t13\tLoss\t33.61363803\taccu:\t0.000%\n",
      "Epoch\t14\tLoss\t33.56823189\taccu:\t0.000%\n",
      "Epoch\t15\tLoss\t33.56814406\taccu:\t0.000%\n",
      "Epoch\t16\tLoss\t33.56096970\taccu:\t0.000%\n",
      "Epoch\t17\tLoss\t33.62002007\taccu:\t0.000%\n",
      "Epoch\t18\tLoss\t33.56195266\taccu:\t0.000%\n",
      "Epoch\t19\tLoss\t33.58083704\taccu:\t0.000%\n",
      "Epoch\t20\tLoss\t33.58844069\taccu:\t0.000%\n",
      "Epoch\t21\tLoss\t33.57215877\taccu:\t0.000%\n",
      "Epoch\t22\tLoss\t33.57036134\taccu:\t0.000%\n",
      "Epoch\t23\tLoss\t33.58046778\taccu:\t0.000%\n",
      "Epoch\t24\tLoss\t33.58748815\taccu:\t0.000%\n",
      "Epoch\t25\tLoss\t33.60037285\taccu:\t0.000%\n",
      "Epoch\t26\tLoss\t33.59757306\taccu:\t0.000%\n",
      "Epoch\t27\tLoss\t33.62159675\taccu:\t0.000%\n",
      "Epoch\t28\tLoss\t33.59447626\taccu:\t0.000%\n",
      "Epoch\t29\tLoss\t33.60810537\taccu:\t0.000%\n",
      "Epoch\t30\tLoss\t33.56913142\taccu:\t0.000%\n",
      "Epoch\t31\tLoss\t33.57984707\taccu:\t0.000%\n",
      "Epoch\t32\tLoss\t33.56885804\taccu:\t0.000%\n",
      "Epoch\t33\tLoss\t33.59699916\taccu:\t0.000%\n",
      "Epoch\t34\tLoss\t33.55237156\taccu:\t0.000%\n",
      "Epoch\t35\tLoss\t33.58246819\taccu:\t0.000%\n",
      "Epoch\t36\tLoss\t33.55846830\taccu:\t0.000%\n",
      "Epoch\t37\tLoss\t33.58749101\taccu:\t0.000%\n",
      "Epoch\t38\tLoss\t33.60991868\taccu:\t0.000%\n",
      "Epoch\t39\tLoss\t33.58371120\taccu:\t0.000%\n",
      "Epoch\t40\tLoss\t33.60153603\taccu:\t0.000%\n",
      "Epoch\t41\tLoss\t33.60184090\taccu:\t0.000%\n",
      "Epoch\t42\tLoss\t33.56664613\taccu:\t0.000%\n",
      "Epoch\t43\tLoss\t33.57506550\taccu:\t0.000%\n",
      "Epoch\t44\tLoss\t33.56203576\taccu:\t0.000%\n",
      "Epoch\t45\tLoss\t33.55611442\taccu:\t0.000%\n",
      "Epoch\t46\tLoss\t33.56145283\taccu:\t0.000%\n",
      "Epoch\t47\tLoss\t33.56521486\taccu:\t0.000%\n",
      "Epoch\t48\tLoss\t33.56172057\taccu:\t0.000%\n",
      "Epoch\t49\tLoss\t33.57426644\taccu:\t0.000%\n",
      "Epoch\t50\tLoss\t33.60767347\taccu:\t0.000%\n"
     ]
    }
   ],
   "source": [
    "loss_list1 = []\n",
    "accuracy_list1 = []\n",
    "\n",
    "correct_counter1 = 0\n",
    "logdisp=1\n",
    "#acccnt=len(train_dataset)*logdisp\n",
    "acccnt=batchsize*logdisp\n",
    "print('rec_cnt', acccnt)\n",
    "epochs=50\n",
    "mathcnt = 0\n",
    "\n",
    "# トレーニングの回数分ループする。\n",
    "for epoch in range(epochs):\n",
    "    # 損失を初期化　\n",
    "    total_loss1 = 0\n",
    "    \n",
    "    for x_train_cate, x_train_cont, y_train in train_loader:\n",
    "\n",
    "        # 出力を計算する \n",
    "        output1 = model1(x_train_cate, x_train_cont)\n",
    "        # 損失の計算 (出力の結果；output と 正解：y_trainを渡す)\n",
    "        loss1 = criterion1(output1 ,y_train)\n",
    "        \n",
    "        #correct_temp = roc_auc_score(y_true=y_train.numpy(), y_score=output1.data.numpy())\n",
    "        correct_temp = 0\n",
    "        correct_counter1 += correct_temp\n",
    "        mathcnt += 1\n",
    "\n",
    "        \n",
    "        # パラメータの勾配を初期化する\n",
    "        optimizer1.zero_grad()\n",
    "        # ロスを伝播する\n",
    "        loss1.backward()\n",
    "        # パラメータを更新する\n",
    "        optimizer1.step()\n",
    "\n",
    "        # トータルロスを格納\n",
    "        total_loss1 += loss1.item()\n",
    "\n",
    "    \n",
    "    # 回数とトータルロスを表示する\n",
    "    if (epoch+1)%logdisp == 0:\n",
    "        loss_tmp1=total_loss1/acccnt\n",
    "        print(f'Epoch\\t{epoch+1}\\tLoss\\t{loss_tmp1:.8f}\\taccu:\\t{correct_counter1*100/mathcnt:.3f}%')\n",
    "        \n",
    "        \n",
    "        #accuracy_list1.append(correct_counter1.item()*100/(mathcnt))\n",
    "        loss_list1.append(loss_tmp1)\n",
    "        total_loss=0\n",
    "        correct_counter1 = 0\n",
    "        mathcnt = 0\n",
    "        "
   ]
  },
  {
   "cell_type": "code",
   "execution_count": 15,
   "metadata": {},
   "outputs": [
    {
     "data": {
      "text/plain": [
       "[<matplotlib.lines.Line2D at 0x2412b387f28>]"
      ]
     },
     "execution_count": 15,
     "metadata": {},
     "output_type": "execute_result"
    },
    {
     "name": "stderr",
     "output_type": "stream",
     "text": [
      "findfont: Font family ['IPAexGothic'] not found. Falling back to DejaVu Sans.\n"
     ]
    },
    {
     "data": {
      "image/png": "[encoded data removed]",
      "text/plain": [
       "<Figure size 432x288 with 1 Axes>"
      ]
     },
     "metadata": {
      "needs_background": "light"
     },
     "output_type": "display_data"
    }
   ],
   "source": [
    "# ロスのプロット\n",
    "plt.plot(loss_list1)"
   ]
  },
  {
   "cell_type": "code",
   "execution_count": 16,
   "metadata": {},
   "outputs": [
    {
     "data": {
      "text/plain": [
       "[<matplotlib.lines.Line2D at 0x2412a849550>]"
      ]
     },
     "execution_count": 16,
     "metadata": {},
     "output_type": "execute_result"
    },
    {
     "data": {
      "image/png": "[encoded data removed]",
      "text/plain": [
       "<Figure size 432x288 with 1 Axes>"
      ]
     },
     "metadata": {
      "needs_background": "light"
     },
     "output_type": "display_data"
    }
   ],
   "source": [
    "plt.plot(accuracy_list1)"
   ]
  },
  {
   "cell_type": "markdown",
   "metadata": {},
   "source": []
  },
  {
   "cell_type": "markdown",
   "metadata": {},
   "source": [
    "# 予測精度の確認"
   ]
  },
  {
   "cell_type": "markdown",
   "metadata": {},
   "source": [
    "## 訓練データ "
   ]
  },
  {
   "cell_type": "code",
   "execution_count": 17,
   "metadata": {},
   "outputs": [
    {
     "data": {
      "text/plain": [
       "Net1(\n",
       "  (dropout1): Dropout(p=0.5, inplace=False)\n",
       "  (dropout2): Dropout(p=0.5, inplace=False)\n",
       "  (bn_cont): BatchNorm1d(1, eps=1e-05, momentum=0.1, affine=True, track_running_stats=True)\n",
       "  (fc1): Linear(in_features=39, out_features=25, bias=True)\n",
       "  (fc2): Linear(in_features=25, out_features=8, bias=True)\n",
       "  (fc3): Linear(in_features=8, out_features=1, bias=True)\n",
       ")"
      ]
     },
     "execution_count": 17,
     "metadata": {},
     "output_type": "execute_result"
    }
   ],
   "source": [
    "# 学習を行わないモードに変更\n",
    "model1.eval()"
   ]
  },
  {
   "cell_type": "code",
   "execution_count": 19,
   "metadata": {},
   "outputs": [
    {
     "name": "stdout",
     "output_type": "stream",
     "text": [
      "                     0\n",
      "0       tensor(0.1741)\n",
      "1       tensor(0.1716)\n",
      "2       tensor(0.1328)\n",
      "3       tensor(0.1363)\n",
      "4       tensor(0.1566)\n",
      "...                ...\n",
      "193715  tensor(0.1348)\n",
      "193716  tensor(0.1822)\n",
      "193717  tensor(0.1470)\n",
      "193718  tensor(0.2067)\n",
      "193719  tensor(0.2371)\n",
      "\n",
      "[193720 rows x 1 columns]\n"
     ]
    }
   ],
   "source": [
    "y_pred_train=model1(train_dataset.X_train_cate, train_dataset.X_train_cont).data\n",
    "df_pred_train = pd.DataFrame(y_pred_train.numpy())\n",
    "print(df_pred_train)\n"
   ]
  },
  {
   "cell_type": "code",
   "execution_count": 23,
   "metadata": {},
   "outputs": [
    {
     "name": "stdout",
     "output_type": "stream",
     "text": [
      "               0\n",
      "0       0.174141\n",
      "1       0.171629\n",
      "2       0.132780\n",
      "3       0.136274\n",
      "4       0.156589\n",
      "...          ...\n",
      "193715  0.134837\n",
      "193716  0.182211\n",
      "193717  0.146986\n",
      "193718  0.206675\n",
      "193719  0.237116\n",
      "\n",
      "[193720 rows x 1 columns]\n"
     ]
    }
   ],
   "source": [
    "\n"
   ]
  },
  {
   "cell_type": "code",
   "execution_count": 33,
   "metadata": {},
   "outputs": [
    {
     "name": "stdout",
     "output_type": "stream",
     "text": [
      "0.28275996\n"
     ]
    }
   ],
   "source": [
    "# 予測結果から閾値の算出\n",
    "chargedoff_val = train_dataset.Y_train.sum()\n",
    "chargedoff_val = int(chargedoff_val)\n",
    "proba_desc = df_pred_train[0].sort_values(ascending = False)\n",
    "threshold = proba_desc.iat[chargedoff_val]\n",
    "print(threshold)\n",
    "\n",
    "\n",
    "def classification(x):\n",
    "    #print(len(x))\n",
    "    \n",
    "    if (x.ndim == 1)and (len(x) == 1):\n",
    "        if x >= threshold:\n",
    "            return 1\n",
    "        else:\n",
    "            return 0\n",
    "    else:\n",
    "        tmp = np.zeros(len(x) ,dtype=np.int32)\n",
    "        for i in range(len(x)):\n",
    "            if x[i] >= threshold:\n",
    "                tmp[i] = 1\n",
    "            \n",
    "        return tmp\n",
    "\n",
    "        "
   ]
  },
  {
   "cell_type": "code",
   "execution_count": 36,
   "metadata": {},
   "outputs": [
    {
     "name": "stdout",
     "output_type": "stream",
     "text": [
      "0.35625082936466984\n"
     ]
    }
   ],
   "source": [
    "pred_tmp = classification(np.array(df_pred_train[0]))\n",
    "score_train = f1_score(train_dataset.Y_train, pred_tmp)\n",
    "# f1_scoreの表示\n",
    "print(score_train)"
   ]
  },
  {
   "cell_type": "code",
   "execution_count": 37,
   "metadata": {},
   "outputs": [
    {
     "data": {
      "text/plain": [
       "array([[137978,  21831],\n",
       "       [ 21830,  12081]], dtype=int64)"
      ]
     },
     "execution_count": 37,
     "metadata": {},
     "output_type": "execute_result"
    }
   ],
   "source": [
    "# 混同行列\n",
    "confusion_matrix(train_dataset.Y_train, pred_tmp)"
   ]
  },
  {
   "cell_type": "code",
   "execution_count": 38,
   "metadata": {},
   "outputs": [
    {
     "name": "stdout",
     "output_type": "stream",
     "text": [
      "              precision    recall  f1-score   support\n",
      "\n",
      "         0.0       0.86      0.86      0.86    159809\n",
      "         1.0       0.36      0.36      0.36     33911\n",
      "\n",
      "    accuracy                           0.77    193720\n",
      "   macro avg       0.61      0.61      0.61    193720\n",
      "weighted avg       0.77      0.77      0.77    193720\n",
      "\n"
     ]
    }
   ],
   "source": [
    "print(classification_report(train_dataset.Y_train, pred_tmp))"
   ]
  },
  {
   "cell_type": "markdown",
   "metadata": {},
   "source": [
    "## 検証データ"
   ]
  },
  {
   "cell_type": "code",
   "execution_count": 39,
   "metadata": {},
   "outputs": [
    {
     "name": "stdout",
     "output_type": "stream",
     "text": [
      "              0\n",
      "0      0.293091\n",
      "1      0.253157\n",
      "2      0.131809\n",
      "3      0.022470\n",
      "4      0.120276\n",
      "...         ...\n",
      "48425  0.177683\n",
      "48426  0.290260\n",
      "48427  0.123762\n",
      "48428  0.132536\n",
      "48429  0.291412\n",
      "\n",
      "[48430 rows x 1 columns]\n"
     ]
    }
   ],
   "source": [
    "y_pred_test=model1(train_dataset.X_test_cate, train_dataset.X_test_cont).data\n",
    "df_pred_test = pd.DataFrame(y_pred_test.numpy())\n",
    "print(df_pred_test)\n"
   ]
  },
  {
   "cell_type": "code",
   "execution_count": 40,
   "metadata": {},
   "outputs": [
    {
     "name": "stdout",
     "output_type": "stream",
     "text": [
      "0.35946736728966383\n"
     ]
    }
   ],
   "source": [
    "pred_tmp = classification(np.array(df_pred_test[0]))\n",
    "score_test = f1_score(train_dataset.Y_test, pred_tmp)\n",
    "# f1_scoreの表示\n",
    "print(score_test)"
   ]
  },
  {
   "cell_type": "code",
   "execution_count": 42,
   "metadata": {},
   "outputs": [
    {
     "data": {
      "text/plain": [
       "array([[34693,  5292],\n",
       "       [ 5435,  3010]], dtype=int64)"
      ]
     },
     "execution_count": 42,
     "metadata": {},
     "output_type": "execute_result"
    }
   ],
   "source": [
    "# 混同行列\n",
    "confusion_matrix(train_dataset.Y_test, pred_tmp)"
   ]
  },
  {
   "cell_type": "code",
   "execution_count": 43,
   "metadata": {},
   "outputs": [
    {
     "name": "stdout",
     "output_type": "stream",
     "text": [
      "              precision    recall  f1-score   support\n",
      "\n",
      "         0.0       0.86      0.87      0.87     39985\n",
      "         1.0       0.36      0.36      0.36      8445\n",
      "\n",
      "    accuracy                           0.78     48430\n",
      "   macro avg       0.61      0.61      0.61     48430\n",
      "weighted avg       0.78      0.78      0.78     48430\n",
      "\n"
     ]
    }
   ],
   "source": [
    "print(classification_report(train_dataset.Y_test, pred_tmp))"
   ]
  },
  {
   "cell_type": "code",
   "execution_count": null,
   "metadata": {},
   "outputs": [],
   "source": []
  },
  {
   "cell_type": "markdown",
   "metadata": {},
   "source": [
    "#  予測する"
   ]
  },
  {
   "cell_type": "code",
   "execution_count": 44,
   "metadata": {},
   "outputs": [
    {
     "data": {
      "text/html": [
       "<div>\n",
       "<style scoped>\n",
       "    .dataframe tbody tr th:only-of-type {\n",
       "        vertical-align: middle;\n",
       "    }\n",
       "\n",
       "    .dataframe tbody tr th {\n",
       "        vertical-align: top;\n",
       "    }\n",
       "\n",
       "    .dataframe thead th {\n",
       "        text-align: right;\n",
       "    }\n",
       "</style>\n",
       "<table border=\"1\" class=\"dataframe\">\n",
       "  <thead>\n",
       "    <tr style=\"text-align: right;\">\n",
       "      <th></th>\n",
       "      <th>id</th>\n",
       "      <th>val</th>\n",
       "    </tr>\n",
       "  </thead>\n",
       "  <tbody>\n",
       "    <tr>\n",
       "      <th>0</th>\n",
       "      <td>242150</td>\n",
       "      <td>0</td>\n",
       "    </tr>\n",
       "    <tr>\n",
       "      <th>1</th>\n",
       "      <td>242151</td>\n",
       "      <td>1</td>\n",
       "    </tr>\n",
       "    <tr>\n",
       "      <th>2</th>\n",
       "      <td>242152</td>\n",
       "      <td>0</td>\n",
       "    </tr>\n",
       "    <tr>\n",
       "      <th>3</th>\n",
       "      <td>242153</td>\n",
       "      <td>0</td>\n",
       "    </tr>\n",
       "    <tr>\n",
       "      <th>4</th>\n",
       "      <td>242154</td>\n",
       "      <td>0</td>\n",
       "    </tr>\n",
       "    <tr>\n",
       "      <th>...</th>\n",
       "      <td>...</td>\n",
       "      <td>...</td>\n",
       "    </tr>\n",
       "    <tr>\n",
       "      <th>26895</th>\n",
       "      <td>269045</td>\n",
       "      <td>0</td>\n",
       "    </tr>\n",
       "    <tr>\n",
       "      <th>26896</th>\n",
       "      <td>269046</td>\n",
       "      <td>0</td>\n",
       "    </tr>\n",
       "    <tr>\n",
       "      <th>26897</th>\n",
       "      <td>269047</td>\n",
       "      <td>0</td>\n",
       "    </tr>\n",
       "    <tr>\n",
       "      <th>26898</th>\n",
       "      <td>269048</td>\n",
       "      <td>0</td>\n",
       "    </tr>\n",
       "    <tr>\n",
       "      <th>26899</th>\n",
       "      <td>269049</td>\n",
       "      <td>0</td>\n",
       "    </tr>\n",
       "  </tbody>\n",
       "</table>\n",
       "<p>26900 rows × 2 columns</p>\n",
       "</div>"
      ],
      "text/plain": [
       "           id  val\n",
       "0      242150    0\n",
       "1      242151    1\n",
       "2      242152    0\n",
       "3      242153    0\n",
       "4      242154    0\n",
       "...       ...  ...\n",
       "26895  269045    0\n",
       "26896  269046    0\n",
       "26897  269047    0\n",
       "26898  269048    0\n",
       "26899  269049    0\n",
       "\n",
       "[26900 rows x 2 columns]"
      ]
     },
     "execution_count": 44,
     "metadata": {},
     "output_type": "execute_result"
    }
   ],
   "source": [
    "y_predict=model1(test_dataset.X_vat_cate, test_dataset.X_vat_cont).data\n",
    "df_predict = pd.DataFrame(y_predict.numpy())\n",
    "y_predict = classification(np.array(df_predict[0]))\n",
    "\n",
    "df_out = pd.DataFrame(y_predict, columns=['val'])\n",
    "df_out = pd.concat([test_dataset.x_id['id'] ,df_out['val']] , axis=1)\n",
    "df_out.to_csv('./submit.csv', encoding='utf_8_sig' , header=False ,index=False)\n",
    "df_out\n",
    "\n",
    "\n"
   ]
  },
  {
   "cell_type": "markdown",
   "metadata": {},
   "source": [
    "# モデルの保存"
   ]
  },
  {
   "cell_type": "code",
   "execution_count": 46,
   "metadata": {},
   "outputs": [],
   "source": [
    "#model_path = 'model1.pth'\n",
    "#torch.save(model1.to('cpu').state_dict(), model_path)\n"
   ]
  },
  {
   "cell_type": "code",
   "execution_count": null,
   "metadata": {},
   "outputs": [],
   "source": []
  },
  {
   "cell_type": "code",
   "execution_count": null,
   "metadata": {},
   "outputs": [],
   "source": []
  }
 ],
 "metadata": {
  "kernelspec": {
   "display_name": "Python 3",
   "language": "python",
   "name": "python3"
  },
  "language_info": {
   "codemirror_mode": {
    "name": "ipython",
    "version": 3
   },
   "file_extension": ".py",
   "mimetype": "text/x-python",
   "name": "python",
   "nbconvert_exporter": "python",
   "pygments_lexer": "ipython3",
   "version": "3.7.1"
  }
 },
 "nbformat": 4,
 "nbformat_minor": 4
}
