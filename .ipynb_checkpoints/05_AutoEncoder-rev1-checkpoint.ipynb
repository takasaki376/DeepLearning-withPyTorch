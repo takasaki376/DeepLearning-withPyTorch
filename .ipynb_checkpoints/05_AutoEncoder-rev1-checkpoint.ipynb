{
 "cells": [
  {
   "cell_type": "markdown",
   "metadata": {},
   "source": [
    "# 180日間のデータを入力として、異常値を検知する"
   ]
  },
  {
   "cell_type": "code",
   "execution_count": 1,
   "metadata": {},
   "outputs": [],
   "source": [
    "import torch\n",
    "# 自動微分の関数 \n",
    "from torch.autograd import Variable\n",
    "# ニューラルネットワークの関数\n",
    "import torch.nn as nn\n",
    "# 活性化関数\n",
    "import torch.nn.functional as F\n",
    "# 最適化のアルゴリズムの関数\n",
    "import torch.optim as optim\n",
    "#ユーティリティのデータから\n",
    "from torch.utils.data import DataLoader ,TensorDataset"
   ]
  },
  {
   "cell_type": "code",
   "execution_count": 2,
   "metadata": {},
   "outputs": [],
   "source": [
    "import pandas as pd\n",
    "import numpy as np\n",
    "from matplotlib import pyplot as plt\n",
    "%matplotlib inline"
   ]
  },
  {
   "cell_type": "code",
   "execution_count": 3,
   "metadata": {},
   "outputs": [],
   "source": [
    "data = pd.read_csv('weather/data.csv' ,skiprows=[0,1,2,4] ,encoding='shift-jis')"
   ]
  },
  {
   "cell_type": "code",
   "execution_count": 4,
   "metadata": {},
   "outputs": [],
   "source": [
    "temp_data=data['平均気温(℃)']"
   ]
  },
  {
   "cell_type": "code",
   "execution_count": 5,
   "metadata": {},
   "outputs": [
    {
     "data": {
      "text/plain": [
       "0       6.2\n",
       "1       4.5\n",
       "2       2.5\n",
       "3       4.1\n",
       "4       3.9\n",
       "       ... \n",
       "2187    5.5\n",
       "2188    4.7\n",
       "2189    5.5\n",
       "2190    6.6\n",
       "2191    4.4\n",
       "Name: 平均気温(℃), Length: 2192, dtype: float64"
      ]
     },
     "execution_count": 5,
     "metadata": {},
     "output_type": "execute_result"
    }
   ],
   "source": [
    "temp_data"
   ]
  },
  {
   "cell_type": "markdown",
   "metadata": {},
   "source": [
    "# データのチェック"
   ]
  },
  {
   "cell_type": "code",
   "execution_count": 6,
   "metadata": {},
   "outputs": [
    {
     "data": {
      "text/html": [
       "<div>\n",
       "<style scoped>\n",
       "    .dataframe tbody tr th:only-of-type {\n",
       "        vertical-align: middle;\n",
       "    }\n",
       "\n",
       "    .dataframe tbody tr th {\n",
       "        vertical-align: top;\n",
       "    }\n",
       "\n",
       "    .dataframe thead th {\n",
       "        text-align: right;\n",
       "    }\n",
       "</style>\n",
       "<table border=\"1\" class=\"dataframe\">\n",
       "  <thead>\n",
       "    <tr style=\"text-align: right;\">\n",
       "      <th></th>\n",
       "      <th>年月日</th>\n",
       "      <th>平均気温(℃)</th>\n",
       "      <th>平均気温(℃).1</th>\n",
       "      <th>平均気温(℃).2</th>\n",
       "    </tr>\n",
       "  </thead>\n",
       "  <tbody>\n",
       "    <tr>\n",
       "      <th>1820</th>\n",
       "      <td>2018/12/26</td>\n",
       "      <td>5.9</td>\n",
       "      <td>8</td>\n",
       "      <td>1</td>\n",
       "    </tr>\n",
       "    <tr>\n",
       "      <th>1821</th>\n",
       "      <td>2018/12/27</td>\n",
       "      <td>7.2</td>\n",
       "      <td>8</td>\n",
       "      <td>1</td>\n",
       "    </tr>\n",
       "    <tr>\n",
       "      <th>1822</th>\n",
       "      <td>2018/12/28</td>\n",
       "      <td>3.5</td>\n",
       "      <td>8</td>\n",
       "      <td>1</td>\n",
       "    </tr>\n",
       "    <tr>\n",
       "      <th>1823</th>\n",
       "      <td>2018/12/29</td>\n",
       "      <td>3.2</td>\n",
       "      <td>8</td>\n",
       "      <td>1</td>\n",
       "    </tr>\n",
       "    <tr>\n",
       "      <th>1824</th>\n",
       "      <td>2018/12/30</td>\n",
       "      <td>3.6</td>\n",
       "      <td>8</td>\n",
       "      <td>1</td>\n",
       "    </tr>\n",
       "    <tr>\n",
       "      <th>1825</th>\n",
       "      <td>2018/12/31</td>\n",
       "      <td>3.4</td>\n",
       "      <td>8</td>\n",
       "      <td>1</td>\n",
       "    </tr>\n",
       "    <tr>\n",
       "      <th>1826</th>\n",
       "      <td>2019/1/1</td>\n",
       "      <td>4.7</td>\n",
       "      <td>8</td>\n",
       "      <td>1</td>\n",
       "    </tr>\n",
       "    <tr>\n",
       "      <th>1827</th>\n",
       "      <td>2019/1/2</td>\n",
       "      <td>3.8</td>\n",
       "      <td>8</td>\n",
       "      <td>1</td>\n",
       "    </tr>\n",
       "    <tr>\n",
       "      <th>1828</th>\n",
       "      <td>2019/1/3</td>\n",
       "      <td>3.3</td>\n",
       "      <td>8</td>\n",
       "      <td>1</td>\n",
       "    </tr>\n",
       "    <tr>\n",
       "      <th>1829</th>\n",
       "      <td>2019/1/4</td>\n",
       "      <td>4.2</td>\n",
       "      <td>8</td>\n",
       "      <td>1</td>\n",
       "    </tr>\n",
       "  </tbody>\n",
       "</table>\n",
       "</div>"
      ],
      "text/plain": [
       "             年月日  平均気温(℃)  平均気温(℃).1  平均気温(℃).2\n",
       "1820  2018/12/26      5.9          8          1\n",
       "1821  2018/12/27      7.2          8          1\n",
       "1822  2018/12/28      3.5          8          1\n",
       "1823  2018/12/29      3.2          8          1\n",
       "1824  2018/12/30      3.6          8          1\n",
       "1825  2018/12/31      3.4          8          1\n",
       "1826    2019/1/1      4.7          8          1\n",
       "1827    2019/1/2      3.8          8          1\n",
       "1828    2019/1/3      3.3          8          1\n",
       "1829    2019/1/4      4.2          8          1"
      ]
     },
     "execution_count": 6,
     "metadata": {},
     "output_type": "execute_result"
    }
   ],
   "source": [
    "data[1820:1830]"
   ]
  },
  {
   "cell_type": "code",
   "execution_count": 7,
   "metadata": {},
   "outputs": [],
   "source": [
    "train_x=temp_data[:1826]\n",
    "test_x=temp_data[1826:]\n",
    "train_x=np.array(train_x)\n",
    "test_x=np.array(test_x)"
   ]
  },
  {
   "cell_type": "code",
   "execution_count": 8,
   "metadata": {},
   "outputs": [
    {
     "data": {
      "text/plain": [
       "array([6.2, 4.5, 2.5, ..., 3.2, 3.6, 3.4])"
      ]
     },
     "execution_count": 8,
     "metadata": {},
     "output_type": "execute_result"
    }
   ],
   "source": [
    "train_x"
   ]
  },
  {
   "cell_type": "code",
   "execution_count": 9,
   "metadata": {},
   "outputs": [
    {
     "data": {
      "text/plain": [
       "1826"
      ]
     },
     "execution_count": 9,
     "metadata": {},
     "output_type": "execute_result"
    }
   ],
   "source": [
    "len(train_x)"
   ]
  },
  {
   "cell_type": "code",
   "execution_count": 10,
   "metadata": {},
   "outputs": [
    {
     "data": {
      "text/plain": [
       "array([ 4.7,  3.8,  3.3,  4.2,  6.1,  3.6,  4.1,  3.1,  3.3,  0.2,  5.4,\n",
       "        3. ,  4.7,  2.6,  1.9,  4.7,  4.7,  4. ,  4.8,  4.9,  4. ,  2.9,\n",
       "        3.8,  4.8,  4.3,  3.4,  3.2,  2.9,  4.7,  3. ,  3.6,  2.9,  4.2,\n",
       "        5.9,  8.8,  5.1,  4.7,  6.7,  3.6, -0.3,  2.3,  1.5,  4.4,  4. ,\n",
       "        2.8,  1.8,  4.9,  5.3,  6.3,  6.7, 10.6,  8.3,  6.9,  7.2,  6.2,\n",
       "        9.4,  8.9,  6.5,  6.3,  7.9,  8.5,  5.5,  7.1,  8.7,  8.7,  7.4,\n",
       "        5.5,  7.9, 10.3, 10.8,  9.9,  9.4,  6. ,  7.1,  7.5,  6.9,  7.9,\n",
       "       10.3, 13.4, 15.4, 13.1,  5.9,  6. ,  8.2, 10.8, 12.9, 11.3,  7. ,\n",
       "        7.3,  9.1,  7.4,  6. ,  6.5,  9. , 13.5, 14. , 14. ,  8.2,  9.1,\n",
       "        3.5,  9.1,  8.3, 10.8, 13. , 14.6, 13.9, 13.2, 15.9, 16.7, 13.7,\n",
       "       15.9, 18.5, 17.9, 17.3, 20. , 11.6, 10. , 12. , 13.9, 13.7, 17. ,\n",
       "       17.2, 17.1, 16.2, 17.1, 17.2, 13.7, 15. , 16.3, 19.3, 19.8, 17.2,\n",
       "       17.3, 17. , 18.1, 18.6, 19.1, 18.6, 19.4, 18.6, 18.4, 18.3, 20.1,\n",
       "       21.4, 23. , 23.9, 24.8, 22.4, 20.3, 20.2, 20.1, 20.7, 20.9, 21.7,\n",
       "       21.5, 21.4, 24.9, 20.2, 20.7, 16.4, 15.7, 17.9, 17.6, 19.9, 21.1,\n",
       "       16.3, 22.2, 21.8, 22.1, 22.8, 23. , 23.1, 21.2, 20. , 18.6, 21.6,\n",
       "       23.5, 24.2, 24.5, 19.5, 21.3, 22.4, 23.3, 24. , 21.2, 21.1, 20.5,\n",
       "       18.9, 19.9, 18.6, 20. , 19.2, 19.3, 22.3, 20.7, 20.4, 20.1, 23.5,\n",
       "       24.3, 25.4, 25.7, 24.4, 21.7, 24.7, 25.7, 27. , 26.8, 27.5, 27.6,\n",
       "       28.6, 29. , 29.9, 29.1, 29.4, 29.2, 29. , 28.9, 29.3, 29.4, 29.3,\n",
       "       29.4, 28.7, 28.7, 28.5, 28. , 27.6, 27.5, 28.4, 29.4, 28.6, 27.1,\n",
       "       24.9, 25.7, 24.7, 25. , 26.4, 25.1, 23.7, 24.3, 23.1, 26.5, 24.4,\n",
       "       26.2, 26.6, 26.7, 24.3, 22.2, 23.5, 26.6, 27.3, 27.1, 28.3, 28.2,\n",
       "       26.3, 24.5, 21.1, 20.5, 24.5, 23.3, 25.4, 20.8, 21.3, 21.9, 20.3,\n",
       "       21.3, 25. , 24.4, 23. , 21.7, 22.4, 22.9, 23.2, 23.7, 23.2, 23.2,\n",
       "       22.9, 23.4, 25. , 19.8, 19.2, 19.5, 19.2, 19. , 19.2, 22.3, 23.5,\n",
       "       16.1, 16.9, 14.6, 14.9, 15.1, 17.4, 19.5, 17.4, 14.9, 18. , 16.8,\n",
       "       14.5, 18.2, 17. , 16.1, 13.6, 15.7, 15.6, 16.2, 13.8, 14.2, 13.9,\n",
       "       12.4, 12.5, 13.8, 13.8, 11.9, 11.8, 11.5, 13.8, 10.6, 13.1, 11.1,\n",
       "       11.3, 11.4, 13.9, 13.9,  9.7,  9. ,  7.3, 11.4, 15.9, 15.9,  7.7,\n",
       "        8.5,  8.1,  4.5,  5.6,  5.5,  8.6, 10.7,  7.7,  7.3,  6.5,  4.4,\n",
       "        6.3,  5.2,  9.1,  9.9, 10.1,  5.8,  7.1,  7. ,  6. ,  7. ,  9.9,\n",
       "        7.5,  9. ,  6.5,  5.3,  5.7,  6.5,  3.5,  6.5,  7.3,  5.5,  4.7,\n",
       "        5.5,  6.6,  4.4])"
      ]
     },
     "execution_count": 10,
     "metadata": {},
     "output_type": "execute_result"
    }
   ],
   "source": [
    "test_x"
   ]
  },
  {
   "cell_type": "code",
   "execution_count": 11,
   "metadata": {},
   "outputs": [
    {
     "data": {
      "text/plain": [
       "366"
      ]
     },
     "execution_count": 11,
     "metadata": {},
     "output_type": "execute_result"
    }
   ],
   "source": [
    "len(test_x)"
   ]
  },
  {
   "cell_type": "code",
   "execution_count": 12,
   "metadata": {},
   "outputs": [],
   "source": [
    "# ミニバッチ用のデータを作る\n",
    "window_size=180\n",
    "tmp= []\n",
    "train_X=[]\n",
    "\n",
    "for i in range(0 , len(train_x)-window_size):\n",
    "    tmp.append(train_x[i:i+window_size])\n",
    "\n",
    "train_X=np.array(tmp)"
   ]
  },
  {
   "cell_type": "code",
   "execution_count": 13,
   "metadata": {},
   "outputs": [
    {
     "data": {
      "text/html": [
       "<div>\n",
       "<style scoped>\n",
       "    .dataframe tbody tr th:only-of-type {\n",
       "        vertical-align: middle;\n",
       "    }\n",
       "\n",
       "    .dataframe tbody tr th {\n",
       "        vertical-align: top;\n",
       "    }\n",
       "\n",
       "    .dataframe thead th {\n",
       "        text-align: right;\n",
       "    }\n",
       "</style>\n",
       "<table border=\"1\" class=\"dataframe\">\n",
       "  <thead>\n",
       "    <tr style=\"text-align: right;\">\n",
       "      <th></th>\n",
       "      <th>0</th>\n",
       "      <th>1</th>\n",
       "      <th>2</th>\n",
       "      <th>3</th>\n",
       "      <th>4</th>\n",
       "      <th>5</th>\n",
       "      <th>6</th>\n",
       "      <th>7</th>\n",
       "      <th>8</th>\n",
       "      <th>9</th>\n",
       "      <th>...</th>\n",
       "      <th>170</th>\n",
       "      <th>171</th>\n",
       "      <th>172</th>\n",
       "      <th>173</th>\n",
       "      <th>174</th>\n",
       "      <th>175</th>\n",
       "      <th>176</th>\n",
       "      <th>177</th>\n",
       "      <th>178</th>\n",
       "      <th>179</th>\n",
       "    </tr>\n",
       "  </thead>\n",
       "  <tbody>\n",
       "    <tr>\n",
       "      <th>0</th>\n",
       "      <td>6.2</td>\n",
       "      <td>4.5</td>\n",
       "      <td>2.5</td>\n",
       "      <td>4.1</td>\n",
       "      <td>3.9</td>\n",
       "      <td>2.6</td>\n",
       "      <td>2.5</td>\n",
       "      <td>4.0</td>\n",
       "      <td>5.0</td>\n",
       "      <td>1.3</td>\n",
       "      <td>...</td>\n",
       "      <td>22.1</td>\n",
       "      <td>23.1</td>\n",
       "      <td>20.2</td>\n",
       "      <td>22.2</td>\n",
       "      <td>20.7</td>\n",
       "      <td>20.9</td>\n",
       "      <td>22.5</td>\n",
       "      <td>22.4</td>\n",
       "      <td>21.0</td>\n",
       "      <td>22.0</td>\n",
       "    </tr>\n",
       "    <tr>\n",
       "      <th>1</th>\n",
       "      <td>4.5</td>\n",
       "      <td>2.5</td>\n",
       "      <td>4.1</td>\n",
       "      <td>3.9</td>\n",
       "      <td>2.6</td>\n",
       "      <td>2.5</td>\n",
       "      <td>4.0</td>\n",
       "      <td>5.0</td>\n",
       "      <td>1.3</td>\n",
       "      <td>2.0</td>\n",
       "      <td>...</td>\n",
       "      <td>23.1</td>\n",
       "      <td>20.2</td>\n",
       "      <td>22.2</td>\n",
       "      <td>20.7</td>\n",
       "      <td>20.9</td>\n",
       "      <td>22.5</td>\n",
       "      <td>22.4</td>\n",
       "      <td>21.0</td>\n",
       "      <td>22.0</td>\n",
       "      <td>22.0</td>\n",
       "    </tr>\n",
       "    <tr>\n",
       "      <th>2</th>\n",
       "      <td>2.5</td>\n",
       "      <td>4.1</td>\n",
       "      <td>3.9</td>\n",
       "      <td>2.6</td>\n",
       "      <td>2.5</td>\n",
       "      <td>4.0</td>\n",
       "      <td>5.0</td>\n",
       "      <td>1.3</td>\n",
       "      <td>2.0</td>\n",
       "      <td>2.7</td>\n",
       "      <td>...</td>\n",
       "      <td>20.2</td>\n",
       "      <td>22.2</td>\n",
       "      <td>20.7</td>\n",
       "      <td>20.9</td>\n",
       "      <td>22.5</td>\n",
       "      <td>22.4</td>\n",
       "      <td>21.0</td>\n",
       "      <td>22.0</td>\n",
       "      <td>22.0</td>\n",
       "      <td>23.6</td>\n",
       "    </tr>\n",
       "    <tr>\n",
       "      <th>3</th>\n",
       "      <td>4.1</td>\n",
       "      <td>3.9</td>\n",
       "      <td>2.6</td>\n",
       "      <td>2.5</td>\n",
       "      <td>4.0</td>\n",
       "      <td>5.0</td>\n",
       "      <td>1.3</td>\n",
       "      <td>2.0</td>\n",
       "      <td>2.7</td>\n",
       "      <td>2.5</td>\n",
       "      <td>...</td>\n",
       "      <td>22.2</td>\n",
       "      <td>20.7</td>\n",
       "      <td>20.9</td>\n",
       "      <td>22.5</td>\n",
       "      <td>22.4</td>\n",
       "      <td>21.0</td>\n",
       "      <td>22.0</td>\n",
       "      <td>22.0</td>\n",
       "      <td>23.6</td>\n",
       "      <td>24.2</td>\n",
       "    </tr>\n",
       "    <tr>\n",
       "      <th>4</th>\n",
       "      <td>3.9</td>\n",
       "      <td>2.6</td>\n",
       "      <td>2.5</td>\n",
       "      <td>4.0</td>\n",
       "      <td>5.0</td>\n",
       "      <td>1.3</td>\n",
       "      <td>2.0</td>\n",
       "      <td>2.7</td>\n",
       "      <td>2.5</td>\n",
       "      <td>2.2</td>\n",
       "      <td>...</td>\n",
       "      <td>20.7</td>\n",
       "      <td>20.9</td>\n",
       "      <td>22.5</td>\n",
       "      <td>22.4</td>\n",
       "      <td>21.0</td>\n",
       "      <td>22.0</td>\n",
       "      <td>22.0</td>\n",
       "      <td>23.6</td>\n",
       "      <td>24.2</td>\n",
       "      <td>22.9</td>\n",
       "    </tr>\n",
       "    <tr>\n",
       "      <th>...</th>\n",
       "      <td>...</td>\n",
       "      <td>...</td>\n",
       "      <td>...</td>\n",
       "      <td>...</td>\n",
       "      <td>...</td>\n",
       "      <td>...</td>\n",
       "      <td>...</td>\n",
       "      <td>...</td>\n",
       "      <td>...</td>\n",
       "      <td>...</td>\n",
       "      <td>...</td>\n",
       "      <td>...</td>\n",
       "      <td>...</td>\n",
       "      <td>...</td>\n",
       "      <td>...</td>\n",
       "      <td>...</td>\n",
       "      <td>...</td>\n",
       "      <td>...</td>\n",
       "      <td>...</td>\n",
       "      <td>...</td>\n",
       "      <td>...</td>\n",
       "    </tr>\n",
       "    <tr>\n",
       "      <th>1641</th>\n",
       "      <td>28.4</td>\n",
       "      <td>27.4</td>\n",
       "      <td>28.2</td>\n",
       "      <td>28.0</td>\n",
       "      <td>27.5</td>\n",
       "      <td>27.4</td>\n",
       "      <td>20.7</td>\n",
       "      <td>22.9</td>\n",
       "      <td>26.2</td>\n",
       "      <td>26.7</td>\n",
       "      <td>...</td>\n",
       "      <td>6.3</td>\n",
       "      <td>7.6</td>\n",
       "      <td>6.3</td>\n",
       "      <td>7.2</td>\n",
       "      <td>6.9</td>\n",
       "      <td>8.2</td>\n",
       "      <td>9.0</td>\n",
       "      <td>6.3</td>\n",
       "      <td>3.5</td>\n",
       "      <td>5.9</td>\n",
       "    </tr>\n",
       "    <tr>\n",
       "      <th>1642</th>\n",
       "      <td>27.4</td>\n",
       "      <td>28.2</td>\n",
       "      <td>28.0</td>\n",
       "      <td>27.5</td>\n",
       "      <td>27.4</td>\n",
       "      <td>20.7</td>\n",
       "      <td>22.9</td>\n",
       "      <td>26.2</td>\n",
       "      <td>26.7</td>\n",
       "      <td>27.5</td>\n",
       "      <td>...</td>\n",
       "      <td>7.6</td>\n",
       "      <td>6.3</td>\n",
       "      <td>7.2</td>\n",
       "      <td>6.9</td>\n",
       "      <td>8.2</td>\n",
       "      <td>9.0</td>\n",
       "      <td>6.3</td>\n",
       "      <td>3.5</td>\n",
       "      <td>5.9</td>\n",
       "      <td>7.2</td>\n",
       "    </tr>\n",
       "    <tr>\n",
       "      <th>1643</th>\n",
       "      <td>28.2</td>\n",
       "      <td>28.0</td>\n",
       "      <td>27.5</td>\n",
       "      <td>27.4</td>\n",
       "      <td>20.7</td>\n",
       "      <td>22.9</td>\n",
       "      <td>26.2</td>\n",
       "      <td>26.7</td>\n",
       "      <td>27.5</td>\n",
       "      <td>28.1</td>\n",
       "      <td>...</td>\n",
       "      <td>6.3</td>\n",
       "      <td>7.2</td>\n",
       "      <td>6.9</td>\n",
       "      <td>8.2</td>\n",
       "      <td>9.0</td>\n",
       "      <td>6.3</td>\n",
       "      <td>3.5</td>\n",
       "      <td>5.9</td>\n",
       "      <td>7.2</td>\n",
       "      <td>3.5</td>\n",
       "    </tr>\n",
       "    <tr>\n",
       "      <th>1644</th>\n",
       "      <td>28.0</td>\n",
       "      <td>27.5</td>\n",
       "      <td>27.4</td>\n",
       "      <td>20.7</td>\n",
       "      <td>22.9</td>\n",
       "      <td>26.2</td>\n",
       "      <td>26.7</td>\n",
       "      <td>27.5</td>\n",
       "      <td>28.1</td>\n",
       "      <td>25.6</td>\n",
       "      <td>...</td>\n",
       "      <td>7.2</td>\n",
       "      <td>6.9</td>\n",
       "      <td>8.2</td>\n",
       "      <td>9.0</td>\n",
       "      <td>6.3</td>\n",
       "      <td>3.5</td>\n",
       "      <td>5.9</td>\n",
       "      <td>7.2</td>\n",
       "      <td>3.5</td>\n",
       "      <td>3.2</td>\n",
       "    </tr>\n",
       "    <tr>\n",
       "      <th>1645</th>\n",
       "      <td>27.5</td>\n",
       "      <td>27.4</td>\n",
       "      <td>20.7</td>\n",
       "      <td>22.9</td>\n",
       "      <td>26.2</td>\n",
       "      <td>26.7</td>\n",
       "      <td>27.5</td>\n",
       "      <td>28.1</td>\n",
       "      <td>25.6</td>\n",
       "      <td>28.2</td>\n",
       "      <td>...</td>\n",
       "      <td>6.9</td>\n",
       "      <td>8.2</td>\n",
       "      <td>9.0</td>\n",
       "      <td>6.3</td>\n",
       "      <td>3.5</td>\n",
       "      <td>5.9</td>\n",
       "      <td>7.2</td>\n",
       "      <td>3.5</td>\n",
       "      <td>3.2</td>\n",
       "      <td>3.6</td>\n",
       "    </tr>\n",
       "  </tbody>\n",
       "</table>\n",
       "<p>1646 rows × 180 columns</p>\n",
       "</div>"
      ],
      "text/plain": [
       "       0     1     2     3     4     5     6     7     8     9    ...   170  \\\n",
       "0      6.2   4.5   2.5   4.1   3.9   2.6   2.5   4.0   5.0   1.3  ...  22.1   \n",
       "1      4.5   2.5   4.1   3.9   2.6   2.5   4.0   5.0   1.3   2.0  ...  23.1   \n",
       "2      2.5   4.1   3.9   2.6   2.5   4.0   5.0   1.3   2.0   2.7  ...  20.2   \n",
       "3      4.1   3.9   2.6   2.5   4.0   5.0   1.3   2.0   2.7   2.5  ...  22.2   \n",
       "4      3.9   2.6   2.5   4.0   5.0   1.3   2.0   2.7   2.5   2.2  ...  20.7   \n",
       "...    ...   ...   ...   ...   ...   ...   ...   ...   ...   ...  ...   ...   \n",
       "1641  28.4  27.4  28.2  28.0  27.5  27.4  20.7  22.9  26.2  26.7  ...   6.3   \n",
       "1642  27.4  28.2  28.0  27.5  27.4  20.7  22.9  26.2  26.7  27.5  ...   7.6   \n",
       "1643  28.2  28.0  27.5  27.4  20.7  22.9  26.2  26.7  27.5  28.1  ...   6.3   \n",
       "1644  28.0  27.5  27.4  20.7  22.9  26.2  26.7  27.5  28.1  25.6  ...   7.2   \n",
       "1645  27.5  27.4  20.7  22.9  26.2  26.7  27.5  28.1  25.6  28.2  ...   6.9   \n",
       "\n",
       "       171   172   173   174   175   176   177   178   179  \n",
       "0     23.1  20.2  22.2  20.7  20.9  22.5  22.4  21.0  22.0  \n",
       "1     20.2  22.2  20.7  20.9  22.5  22.4  21.0  22.0  22.0  \n",
       "2     22.2  20.7  20.9  22.5  22.4  21.0  22.0  22.0  23.6  \n",
       "3     20.7  20.9  22.5  22.4  21.0  22.0  22.0  23.6  24.2  \n",
       "4     20.9  22.5  22.4  21.0  22.0  22.0  23.6  24.2  22.9  \n",
       "...    ...   ...   ...   ...   ...   ...   ...   ...   ...  \n",
       "1641   7.6   6.3   7.2   6.9   8.2   9.0   6.3   3.5   5.9  \n",
       "1642   6.3   7.2   6.9   8.2   9.0   6.3   3.5   5.9   7.2  \n",
       "1643   7.2   6.9   8.2   9.0   6.3   3.5   5.9   7.2   3.5  \n",
       "1644   6.9   8.2   9.0   6.3   3.5   5.9   7.2   3.5   3.2  \n",
       "1645   8.2   9.0   6.3   3.5   5.9   7.2   3.5   3.2   3.6  \n",
       "\n",
       "[1646 rows x 180 columns]"
      ]
     },
     "execution_count": 13,
     "metadata": {},
     "output_type": "execute_result"
    }
   ],
   "source": [
    "pd.DataFrame(train_X)"
   ]
  },
  {
   "cell_type": "markdown",
   "metadata": {},
   "source": [
    "# モデルの定義"
   ]
  },
  {
   "cell_type": "code",
   "execution_count": 32,
   "metadata": {},
   "outputs": [],
   "source": [
    "# Module を継承して、Netクラスを作成する\n",
    "class Net(nn.Module):\n",
    "    # 初期化の関数\n",
    "    def __init__(self):\n",
    "        super(Net, self).__init__()\n",
    "        # nn.Linear (入力のノード数 , 出力ノード数)　：４階層\n",
    "        self.fc1=nn.Linear(180 , 128)\n",
    "        self.fc2=nn.Linear(128 , 64)\n",
    "        self.fc3=nn.Linear(64 , 128)\n",
    "        self.fc4=nn.Linear(128 , 180)\n",
    "    \n",
    "    # ニューラルネットワークを通して、出力値を求める関数\n",
    "    def forward(self ,x):\n",
    "        x=F.relu(self.fc1(x))\n",
    "        x=self.fc2(x)\n",
    "        x=F.relu(self.fc3(x))\n",
    "        x=self.fc4(x)\n",
    "        return x\n",
    "    \n",
    "model=Net()"
   ]
  },
  {
   "cell_type": "markdown",
   "metadata": {},
   "source": [
    "# トレーニングの実行"
   ]
  },
  {
   "cell_type": "code",
   "execution_count": 34,
   "metadata": {},
   "outputs": [
    {
     "name": "stdout",
     "output_type": "stream",
     "text": [
      "1000 2.7164113521575928\n",
      "2000 2.4378509521484375\n",
      "3000 2.127403497695923\n",
      "4000 2.0320708751678467\n",
      "5000 1.9105839729309082\n",
      "6000 1.8279998302459717\n",
      "7000 1.669213056564331\n",
      "8000 1.7131741046905518\n",
      "9000 1.634798288345337\n",
      "10000 1.5936905145645142\n"
     ]
    }
   ],
   "source": [
    "# 損失をどうやって定義するのか\n",
    "#平均二乗和誤差\n",
    "criterion = nn.MSELoss()\n",
    "# 最適化のアルゴリズムの選択\n",
    "#勾配降下法の１つ　動的に学習率を変更して収束しやすくする　ＳＧＤやＡｄａＧｒａｄなどの改良版\n",
    "optimizer = optim.Adam(model.parameters() ,lr=0.0015)\n",
    "\n",
    "# トレーニングの回数分ループする。\n",
    "for epoch in range(10000):\n",
    "    total_loss=0\n",
    "    input_x=[]\n",
    "    \n",
    "    # データの件数のうち、１００回分ループする。\n",
    "    for i in range(100):\n",
    "        #100回ループするなかで、ランダムでデータを取得する\n",
    "        index= np.random.randint(0,len(train_X)-1)\n",
    "        input_x.append(train_X[index])\n",
    "    \n",
    "    # ランダムに取得した入力データを設定する\n",
    "    input_x=np.array(input_x , dtype='float32')\n",
    "    input_x=Variable(torch.from_numpy(input_x))\n",
    "    \n",
    "    # オプティマイザーの初期化\n",
    "    optimizer.zero_grad()\n",
    "    # 結果の計算\n",
    "    output = model(input_x)\n",
    "    # 損失の計算 (出力の結果；output と 正解：train_yを渡す)\n",
    "    loss=criterion(output ,input_x)\n",
    "    # ロスを伝播する\n",
    "    loss.backward()\n",
    "    # パラメータを更新する\n",
    "    optimizer.step()\n",
    "    # トータルロスを格納\n",
    "    total_loss += loss.item()\n",
    "    \n",
    "    if (epoch+1) % 1000 == 0:\n",
    "        print(epoch+1 ,total_loss)"
   ]
  },
  {
   "cell_type": "markdown",
   "metadata": {},
   "source": [
    "# matplotlibで描画する"
   ]
  },
  {
   "cell_type": "code",
   "execution_count": 35,
   "metadata": {},
   "outputs": [
    {
     "data": {
      "text/plain": [
       "<matplotlib.legend.Legend at 0x13cd9b64e08>"
      ]
     },
     "execution_count": 35,
     "metadata": {},
     "output_type": "execute_result"
    },
    {
     "data": {
      "image/png": "[encoded data removed]",
      "text/plain": [
       "<Figure size 432x288 with 1 Axes>"
      ]
     },
     "metadata": {
      "needs_background": "light"
     },
     "output_type": "display_data"
    }
   ],
   "source": [
    "plt.plot(input_x.data[0].numpy() , label='input')\n",
    "plt.plot(output.data[0].numpy() , label='output')\n",
    "plt.legend(loc='upper right')\n"
   ]
  },
  {
   "cell_type": "markdown",
   "metadata": {},
   "source": [
    "# 異常値の検知をする (テストデータで計算する）"
   ]
  },
  {
   "cell_type": "code",
   "execution_count": 36,
   "metadata": {},
   "outputs": [
    {
     "data": {
      "text/html": [
       "<div>\n",
       "<style scoped>\n",
       "    .dataframe tbody tr th:only-of-type {\n",
       "        vertical-align: middle;\n",
       "    }\n",
       "\n",
       "    .dataframe tbody tr th {\n",
       "        vertical-align: top;\n",
       "    }\n",
       "\n",
       "    .dataframe thead th {\n",
       "        text-align: right;\n",
       "    }\n",
       "</style>\n",
       "<table border=\"1\" class=\"dataframe\">\n",
       "  <thead>\n",
       "    <tr style=\"text-align: right;\">\n",
       "      <th></th>\n",
       "      <th>0</th>\n",
       "      <th>1</th>\n",
       "      <th>2</th>\n",
       "      <th>3</th>\n",
       "      <th>4</th>\n",
       "      <th>5</th>\n",
       "      <th>6</th>\n",
       "      <th>7</th>\n",
       "      <th>8</th>\n",
       "      <th>9</th>\n",
       "      <th>...</th>\n",
       "      <th>170</th>\n",
       "      <th>171</th>\n",
       "      <th>172</th>\n",
       "      <th>173</th>\n",
       "      <th>174</th>\n",
       "      <th>175</th>\n",
       "      <th>176</th>\n",
       "      <th>177</th>\n",
       "      <th>178</th>\n",
       "      <th>179</th>\n",
       "    </tr>\n",
       "  </thead>\n",
       "  <tbody>\n",
       "    <tr>\n",
       "      <th>0</th>\n",
       "      <td>4.700000</td>\n",
       "      <td>3.8</td>\n",
       "      <td>3.300000</td>\n",
       "      <td>4.2</td>\n",
       "      <td>6.100000</td>\n",
       "      <td>3.6</td>\n",
       "      <td>4.1</td>\n",
       "      <td>3.1</td>\n",
       "      <td>3.3</td>\n",
       "      <td>0.2</td>\n",
       "      <td>...</td>\n",
       "      <td>23.0</td>\n",
       "      <td>23.1</td>\n",
       "      <td>21.200001</td>\n",
       "      <td>20.0</td>\n",
       "      <td>18.6</td>\n",
       "      <td>21.6</td>\n",
       "      <td>23.5</td>\n",
       "      <td>24.200001</td>\n",
       "      <td>24.5</td>\n",
       "      <td>19.5</td>\n",
       "    </tr>\n",
       "    <tr>\n",
       "      <th>1</th>\n",
       "      <td>21.299999</td>\n",
       "      <td>22.4</td>\n",
       "      <td>23.299999</td>\n",
       "      <td>24.0</td>\n",
       "      <td>21.200001</td>\n",
       "      <td>21.1</td>\n",
       "      <td>20.5</td>\n",
       "      <td>18.9</td>\n",
       "      <td>19.9</td>\n",
       "      <td>18.6</td>\n",
       "      <td>...</td>\n",
       "      <td>7.0</td>\n",
       "      <td>9.9</td>\n",
       "      <td>7.500000</td>\n",
       "      <td>9.0</td>\n",
       "      <td>6.5</td>\n",
       "      <td>5.3</td>\n",
       "      <td>5.7</td>\n",
       "      <td>6.500000</td>\n",
       "      <td>3.5</td>\n",
       "      <td>6.5</td>\n",
       "    </tr>\n",
       "  </tbody>\n",
       "</table>\n",
       "<p>2 rows × 180 columns</p>\n",
       "</div>"
      ],
      "text/plain": [
       "         0     1          2     3          4     5     6     7     8     9    \\\n",
       "0   4.700000   3.8   3.300000   4.2   6.100000   3.6   4.1   3.1   3.3   0.2   \n",
       "1  21.299999  22.4  23.299999  24.0  21.200001  21.1  20.5  18.9  19.9  18.6   \n",
       "\n",
       "   ...   170   171        172   173   174   175   176        177   178   179  \n",
       "0  ...  23.0  23.1  21.200001  20.0  18.6  21.6  23.5  24.200001  24.5  19.5  \n",
       "1  ...   7.0   9.9   7.500000   9.0   6.5   5.3   5.7   6.500000   3.5   6.5  \n",
       "\n",
       "[2 rows x 180 columns]"
      ]
     },
     "execution_count": 36,
     "metadata": {},
     "output_type": "execute_result"
    }
   ],
   "source": [
    "# テスト用のデータを作る\n",
    "input_x=[]\n",
    "test_X=[]\n",
    "\n",
    "input_x.append(test_x[0:180])\n",
    "input_x.append(test_x[180:360])\n",
    "\n",
    "test_X = np.array(input_x ,dtype='float32')\n",
    "pd.DataFrame(test_X)"
   ]
  },
  {
   "cell_type": "code",
   "execution_count": 37,
   "metadata": {},
   "outputs": [],
   "source": [
    "# テスト用のデータに対して、検証結果\n",
    "input_test = Variable(torch.from_numpy(test_X))\n",
    "output = model(input_test)"
   ]
  },
  {
   "cell_type": "code",
   "execution_count": 38,
   "metadata": {},
   "outputs": [
    {
     "data": {
      "text/plain": [
       "<matplotlib.legend.Legend at 0x13cd9be4488>"
      ]
     },
     "execution_count": 38,
     "metadata": {},
     "output_type": "execute_result"
    },
    {
     "data": {
      "image/png": "[encoded data removed]",
      "text/plain": [
       "<Figure size 432x288 with 1 Axes>"
      ]
     },
     "metadata": {
      "needs_background": "light"
     },
     "output_type": "display_data"
    }
   ],
   "source": [
    "plt.plot(test_X.flatten() , label='original')\n",
    "plt.plot(output.data.numpy().flatten() , label='predict')\n",
    "plt.legend(loc='upper right')"
   ]
  },
  {
   "cell_type": "markdown",
   "metadata": {},
   "source": [
    "# 異常値の検知をする (検知する）"
   ]
  },
  {
   "cell_type": "code",
   "execution_count": 39,
   "metadata": {},
   "outputs": [],
   "source": [
    "test = test_X.flatten()\n",
    "predict = output.data.numpy().flatten() \n",
    "\n",
    "total_score = []\n",
    "for i in range(0,360):\n",
    "    diff = test[i] - predict[i]\n",
    "    score = pow(diff ,2)\n",
    "    total_score.append(score)\n",
    "    \n",
    "total_score = np.array(total_score)\n",
    "max_score = np.max(total_score)\n",
    "total_score = total_score / max_score"
   ]
  },
  {
   "cell_type": "code",
   "execution_count": 40,
   "metadata": {},
   "outputs": [
    {
     "data": {
      "text/plain": [
       "<matplotlib.collections.LineCollection at 0x13cd9c3d3c8>"
      ]
     },
     "execution_count": 40,
     "metadata": {},
     "output_type": "execute_result"
    },
    {
     "data": {
      "image/png": "[encoded data removed]",
      "text/plain": [
       "<Figure size 432x288 with 1 Axes>"
      ]
     },
     "metadata": {
      "needs_background": "light"
     },
     "output_type": "display_data"
    }
   ],
   "source": [
    "plt.plot(total_score)\n",
    "plt.hlines(0.4 , 0 ,360)"
   ]
  },
  {
   "cell_type": "code",
   "execution_count": null,
   "metadata": {},
   "outputs": [],
   "source": []
  }
 ],
 "metadata": {
  "kernelspec": {
   "display_name": "Python 3",
   "language": "python",
   "name": "python3"
  },
  "language_info": {
   "codemirror_mode": {
    "name": "ipython",
    "version": 3
   },
   "file_extension": ".py",
   "mimetype": "text/x-python",
   "name": "python",
   "nbconvert_exporter": "python",
   "pygments_lexer": "ipython3",
   "version": "3.7.7"
  }
 },
 "nbformat": 4,
 "nbformat_minor": 4
}
