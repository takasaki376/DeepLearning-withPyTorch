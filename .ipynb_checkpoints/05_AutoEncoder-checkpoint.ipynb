{
 "cells": [
  {
   "cell_type": "markdown",
   "metadata": {},
   "source": [
    "# 180日間のデータを入力として、異常値を検知する"
   ]
  },
  {
   "cell_type": "code",
   "execution_count": 1,
   "metadata": {},
   "outputs": [],
   "source": [
    "import torch\n",
    "# 自動微分の関数 \n",
    "from torch.autograd import Variable\n",
    "# ニューラルネットワークの関数\n",
    "import torch.nn as nn\n",
    "# 活性化関数\n",
    "import torch.nn.functional as F\n",
    "# 最適化のアルゴリズムの関数\n",
    "import torch.optim as optim\n",
    "#ユーティリティのデータから\n",
    "from torch.utils.data import DataLoader ,TensorDataset"
   ]
  },
  {
   "cell_type": "code",
   "execution_count": 4,
   "metadata": {},
   "outputs": [],
   "source": [
    "import pandas as pd\n",
    "import numpy as np\n",
    "from matplotlib import pyplot as plt\n",
    "%matplotlib inline"
   ]
  },
  {
   "cell_type": "code",
   "execution_count": 35,
   "metadata": {},
   "outputs": [],
   "source": [
    "data = pd.read_csv('weather/data.csv' ,skiprows=[0,1,2,4] ,encoding='shift-jis')"
   ]
  },
  {
   "cell_type": "code",
   "execution_count": 36,
   "metadata": {},
   "outputs": [],
   "source": [
    "temp_data=data['平均気温(℃)']"
   ]
  },
  {
   "cell_type": "code",
   "execution_count": 37,
   "metadata": {},
   "outputs": [
    {
     "data": {
      "text/plain": [
       "0       6.2\n",
       "1       4.5\n",
       "2       2.5\n",
       "3       4.1\n",
       "4       3.9\n",
       "       ... \n",
       "2187    5.5\n",
       "2188    4.7\n",
       "2189    5.5\n",
       "2190    6.6\n",
       "2191    4.4\n",
       "Name: 平均気温(℃), Length: 2192, dtype: float64"
      ]
     },
     "execution_count": 37,
     "metadata": {},
     "output_type": "execute_result"
    }
   ],
   "source": [
    "temp_data"
   ]
  },
  {
   "cell_type": "markdown",
   "metadata": {},
   "source": [
    "# データのチェック"
   ]
  },
  {
   "cell_type": "code",
   "execution_count": 38,
   "metadata": {},
   "outputs": [
    {
     "data": {
      "text/html": [
       "<div>\n",
       "<style scoped>\n",
       "    .dataframe tbody tr th:only-of-type {\n",
       "        vertical-align: middle;\n",
       "    }\n",
       "\n",
       "    .dataframe tbody tr th {\n",
       "        vertical-align: top;\n",
       "    }\n",
       "\n",
       "    .dataframe thead th {\n",
       "        text-align: right;\n",
       "    }\n",
       "</style>\n",
       "<table border=\"1\" class=\"dataframe\">\n",
       "  <thead>\n",
       "    <tr style=\"text-align: right;\">\n",
       "      <th></th>\n",
       "      <th>年月日</th>\n",
       "      <th>平均気温(℃)</th>\n",
       "      <th>平均気温(℃).1</th>\n",
       "      <th>平均気温(℃).2</th>\n",
       "    </tr>\n",
       "  </thead>\n",
       "  <tbody>\n",
       "    <tr>\n",
       "      <th>1820</th>\n",
       "      <td>2018/12/26</td>\n",
       "      <td>5.9</td>\n",
       "      <td>8</td>\n",
       "      <td>1</td>\n",
       "    </tr>\n",
       "    <tr>\n",
       "      <th>1821</th>\n",
       "      <td>2018/12/27</td>\n",
       "      <td>7.2</td>\n",
       "      <td>8</td>\n",
       "      <td>1</td>\n",
       "    </tr>\n",
       "    <tr>\n",
       "      <th>1822</th>\n",
       "      <td>2018/12/28</td>\n",
       "      <td>3.5</td>\n",
       "      <td>8</td>\n",
       "      <td>1</td>\n",
       "    </tr>\n",
       "    <tr>\n",
       "      <th>1823</th>\n",
       "      <td>2018/12/29</td>\n",
       "      <td>3.2</td>\n",
       "      <td>8</td>\n",
       "      <td>1</td>\n",
       "    </tr>\n",
       "    <tr>\n",
       "      <th>1824</th>\n",
       "      <td>2018/12/30</td>\n",
       "      <td>3.6</td>\n",
       "      <td>8</td>\n",
       "      <td>1</td>\n",
       "    </tr>\n",
       "    <tr>\n",
       "      <th>1825</th>\n",
       "      <td>2018/12/31</td>\n",
       "      <td>3.4</td>\n",
       "      <td>8</td>\n",
       "      <td>1</td>\n",
       "    </tr>\n",
       "    <tr>\n",
       "      <th>1826</th>\n",
       "      <td>2019/1/1</td>\n",
       "      <td>4.7</td>\n",
       "      <td>8</td>\n",
       "      <td>1</td>\n",
       "    </tr>\n",
       "    <tr>\n",
       "      <th>1827</th>\n",
       "      <td>2019/1/2</td>\n",
       "      <td>3.8</td>\n",
       "      <td>8</td>\n",
       "      <td>1</td>\n",
       "    </tr>\n",
       "    <tr>\n",
       "      <th>1828</th>\n",
       "      <td>2019/1/3</td>\n",
       "      <td>3.3</td>\n",
       "      <td>8</td>\n",
       "      <td>1</td>\n",
       "    </tr>\n",
       "    <tr>\n",
       "      <th>1829</th>\n",
       "      <td>2019/1/4</td>\n",
       "      <td>4.2</td>\n",
       "      <td>8</td>\n",
       "      <td>1</td>\n",
       "    </tr>\n",
       "  </tbody>\n",
       "</table>\n",
       "</div>"
      ],
      "text/plain": [
       "             年月日  平均気温(℃)  平均気温(℃).1  平均気温(℃).2\n",
       "1820  2018/12/26      5.9          8          1\n",
       "1821  2018/12/27      7.2          8          1\n",
       "1822  2018/12/28      3.5          8          1\n",
       "1823  2018/12/29      3.2          8          1\n",
       "1824  2018/12/30      3.6          8          1\n",
       "1825  2018/12/31      3.4          8          1\n",
       "1826    2019/1/1      4.7          8          1\n",
       "1827    2019/1/2      3.8          8          1\n",
       "1828    2019/1/3      3.3          8          1\n",
       "1829    2019/1/4      4.2          8          1"
      ]
     },
     "execution_count": 38,
     "metadata": {},
     "output_type": "execute_result"
    }
   ],
   "source": [
    "data[1820:1830]"
   ]
  },
  {
   "cell_type": "code",
   "execution_count": 39,
   "metadata": {},
   "outputs": [],
   "source": [
    "train_x=temp_data[:1826]\n",
    "test_x=temp_data[1826:]\n",
    "train_x=np.array(train_x)\n",
    "test_x=np.array(test_x)"
   ]
  },
  {
   "cell_type": "code",
   "execution_count": 40,
   "metadata": {},
   "outputs": [
    {
     "data": {
      "text/plain": [
       "array([6.2, 4.5, 2.5, ..., 3.2, 3.6, 3.4])"
      ]
     },
     "execution_count": 40,
     "metadata": {},
     "output_type": "execute_result"
    }
   ],
   "source": [
    "train_x"
   ]
  },
  {
   "cell_type": "code",
   "execution_count": 41,
   "metadata": {},
   "outputs": [
    {
     "data": {
      "text/plain": [
       "1826"
      ]
     },
     "execution_count": 41,
     "metadata": {},
     "output_type": "execute_result"
    }
   ],
   "source": [
    "len(train_x)"
   ]
  },
  {
   "cell_type": "code",
   "execution_count": 42,
   "metadata": {},
   "outputs": [
    {
     "data": {
      "text/plain": [
       "array([ 4.7,  3.8,  3.3,  4.2,  6.1,  3.6,  4.1,  3.1,  3.3,  0.2,  5.4,\n",
       "        3. ,  4.7,  2.6,  1.9,  4.7,  4.7,  4. ,  4.8,  4.9,  4. ,  2.9,\n",
       "        3.8,  4.8,  4.3,  3.4,  3.2,  2.9,  4.7,  3. ,  3.6,  2.9,  4.2,\n",
       "        5.9,  8.8,  5.1,  4.7,  6.7,  3.6, -0.3,  2.3,  1.5,  4.4,  4. ,\n",
       "        2.8,  1.8,  4.9,  5.3,  6.3,  6.7, 10.6,  8.3,  6.9,  7.2,  6.2,\n",
       "        9.4,  8.9,  6.5,  6.3,  7.9,  8.5,  5.5,  7.1,  8.7,  8.7,  7.4,\n",
       "        5.5,  7.9, 10.3, 10.8,  9.9,  9.4,  6. ,  7.1,  7.5,  6.9,  7.9,\n",
       "       10.3, 13.4, 15.4, 13.1,  5.9,  6. ,  8.2, 10.8, 12.9, 11.3,  7. ,\n",
       "        7.3,  9.1,  7.4,  6. ,  6.5,  9. , 13.5, 14. , 14. ,  8.2,  9.1,\n",
       "        3.5,  9.1,  8.3, 10.8, 13. , 14.6, 13.9, 13.2, 15.9, 16.7, 13.7,\n",
       "       15.9, 18.5, 17.9, 17.3, 20. , 11.6, 10. , 12. , 13.9, 13.7, 17. ,\n",
       "       17.2, 17.1, 16.2, 17.1, 17.2, 13.7, 15. , 16.3, 19.3, 19.8, 17.2,\n",
       "       17.3, 17. , 18.1, 18.6, 19.1, 18.6, 19.4, 18.6, 18.4, 18.3, 20.1,\n",
       "       21.4, 23. , 23.9, 24.8, 22.4, 20.3, 20.2, 20.1, 20.7, 20.9, 21.7,\n",
       "       21.5, 21.4, 24.9, 20.2, 20.7, 16.4, 15.7, 17.9, 17.6, 19.9, 21.1,\n",
       "       16.3, 22.2, 21.8, 22.1, 22.8, 23. , 23.1, 21.2, 20. , 18.6, 21.6,\n",
       "       23.5, 24.2, 24.5, 19.5, 21.3, 22.4, 23.3, 24. , 21.2, 21.1, 20.5,\n",
       "       18.9, 19.9, 18.6, 20. , 19.2, 19.3, 22.3, 20.7, 20.4, 20.1, 23.5,\n",
       "       24.3, 25.4, 25.7, 24.4, 21.7, 24.7, 25.7, 27. , 26.8, 27.5, 27.6,\n",
       "       28.6, 29. , 29.9, 29.1, 29.4, 29.2, 29. , 28.9, 29.3, 29.4, 29.3,\n",
       "       29.4, 28.7, 28.7, 28.5, 28. , 27.6, 27.5, 28.4, 29.4, 28.6, 27.1,\n",
       "       24.9, 25.7, 24.7, 25. , 26.4, 25.1, 23.7, 24.3, 23.1, 26.5, 24.4,\n",
       "       26.2, 26.6, 26.7, 24.3, 22.2, 23.5, 26.6, 27.3, 27.1, 28.3, 28.2,\n",
       "       26.3, 24.5, 21.1, 20.5, 24.5, 23.3, 25.4, 20.8, 21.3, 21.9, 20.3,\n",
       "       21.3, 25. , 24.4, 23. , 21.7, 22.4, 22.9, 23.2, 23.7, 23.2, 23.2,\n",
       "       22.9, 23.4, 25. , 19.8, 19.2, 19.5, 19.2, 19. , 19.2, 22.3, 23.5,\n",
       "       16.1, 16.9, 14.6, 14.9, 15.1, 17.4, 19.5, 17.4, 14.9, 18. , 16.8,\n",
       "       14.5, 18.2, 17. , 16.1, 13.6, 15.7, 15.6, 16.2, 13.8, 14.2, 13.9,\n",
       "       12.4, 12.5, 13.8, 13.8, 11.9, 11.8, 11.5, 13.8, 10.6, 13.1, 11.1,\n",
       "       11.3, 11.4, 13.9, 13.9,  9.7,  9. ,  7.3, 11.4, 15.9, 15.9,  7.7,\n",
       "        8.5,  8.1,  4.5,  5.6,  5.5,  8.6, 10.7,  7.7,  7.3,  6.5,  4.4,\n",
       "        6.3,  5.2,  9.1,  9.9, 10.1,  5.8,  7.1,  7. ,  6. ,  7. ,  9.9,\n",
       "        7.5,  9. ,  6.5,  5.3,  5.7,  6.5,  3.5,  6.5,  7.3,  5.5,  4.7,\n",
       "        5.5,  6.6,  4.4])"
      ]
     },
     "execution_count": 42,
     "metadata": {},
     "output_type": "execute_result"
    }
   ],
   "source": [
    "test_x"
   ]
  },
  {
   "cell_type": "code",
   "execution_count": 43,
   "metadata": {},
   "outputs": [
    {
     "data": {
      "text/plain": [
       "366"
      ]
     },
     "execution_count": 43,
     "metadata": {},
     "output_type": "execute_result"
    }
   ],
   "source": [
    "len(test_x)"
   ]
  },
  {
   "cell_type": "code",
   "execution_count": 45,
   "metadata": {},
   "outputs": [],
   "source": [
    "# ミニバッチ用のデータを作る\n",
    "window_size=180\n",
    "tmp= []\n",
    "train_X=[]\n",
    "\n",
    "for i in range(0 , len(train_x)-window_size):\n",
    "    tmp.append(train_x[i:i+window_size])\n",
    "\n",
    "train_X=np.array(tmp)"
   ]
  },
  {
   "cell_type": "code",
   "execution_count": 46,
   "metadata": {},
   "outputs": [
    {
     "data": {
      "text/html": [
       "<div>\n",
       "<style scoped>\n",
       "    .dataframe tbody tr th:only-of-type {\n",
       "        vertical-align: middle;\n",
       "    }\n",
       "\n",
       "    .dataframe tbody tr th {\n",
       "        vertical-align: top;\n",
       "    }\n",
       "\n",
       "    .dataframe thead th {\n",
       "        text-align: right;\n",
       "    }\n",
       "</style>\n",
       "<table border=\"1\" class=\"dataframe\">\n",
       "  <thead>\n",
       "    <tr style=\"text-align: right;\">\n",
       "      <th></th>\n",
       "      <th>0</th>\n",
       "      <th>1</th>\n",
       "      <th>2</th>\n",
       "      <th>3</th>\n",
       "      <th>4</th>\n",
       "      <th>5</th>\n",
       "      <th>6</th>\n",
       "      <th>7</th>\n",
       "      <th>8</th>\n",
       "      <th>9</th>\n",
       "      <th>...</th>\n",
       "      <th>170</th>\n",
       "      <th>171</th>\n",
       "      <th>172</th>\n",
       "      <th>173</th>\n",
       "      <th>174</th>\n",
       "      <th>175</th>\n",
       "      <th>176</th>\n",
       "      <th>177</th>\n",
       "      <th>178</th>\n",
       "      <th>179</th>\n",
       "    </tr>\n",
       "  </thead>\n",
       "  <tbody>\n",
       "    <tr>\n",
       "      <th>0</th>\n",
       "      <td>6.2</td>\n",
       "      <td>4.5</td>\n",
       "      <td>2.5</td>\n",
       "      <td>4.1</td>\n",
       "      <td>3.9</td>\n",
       "      <td>2.6</td>\n",
       "      <td>2.5</td>\n",
       "      <td>4.0</td>\n",
       "      <td>5.0</td>\n",
       "      <td>1.3</td>\n",
       "      <td>...</td>\n",
       "      <td>22.1</td>\n",
       "      <td>23.1</td>\n",
       "      <td>20.2</td>\n",
       "      <td>22.2</td>\n",
       "      <td>20.7</td>\n",
       "      <td>20.9</td>\n",
       "      <td>22.5</td>\n",
       "      <td>22.4</td>\n",
       "      <td>21.0</td>\n",
       "      <td>22.0</td>\n",
       "    </tr>\n",
       "    <tr>\n",
       "      <th>1</th>\n",
       "      <td>4.5</td>\n",
       "      <td>2.5</td>\n",
       "      <td>4.1</td>\n",
       "      <td>3.9</td>\n",
       "      <td>2.6</td>\n",
       "      <td>2.5</td>\n",
       "      <td>4.0</td>\n",
       "      <td>5.0</td>\n",
       "      <td>1.3</td>\n",
       "      <td>2.0</td>\n",
       "      <td>...</td>\n",
       "      <td>23.1</td>\n",
       "      <td>20.2</td>\n",
       "      <td>22.2</td>\n",
       "      <td>20.7</td>\n",
       "      <td>20.9</td>\n",
       "      <td>22.5</td>\n",
       "      <td>22.4</td>\n",
       "      <td>21.0</td>\n",
       "      <td>22.0</td>\n",
       "      <td>22.0</td>\n",
       "    </tr>\n",
       "    <tr>\n",
       "      <th>2</th>\n",
       "      <td>2.5</td>\n",
       "      <td>4.1</td>\n",
       "      <td>3.9</td>\n",
       "      <td>2.6</td>\n",
       "      <td>2.5</td>\n",
       "      <td>4.0</td>\n",
       "      <td>5.0</td>\n",
       "      <td>1.3</td>\n",
       "      <td>2.0</td>\n",
       "      <td>2.7</td>\n",
       "      <td>...</td>\n",
       "      <td>20.2</td>\n",
       "      <td>22.2</td>\n",
       "      <td>20.7</td>\n",
       "      <td>20.9</td>\n",
       "      <td>22.5</td>\n",
       "      <td>22.4</td>\n",
       "      <td>21.0</td>\n",
       "      <td>22.0</td>\n",
       "      <td>22.0</td>\n",
       "      <td>23.6</td>\n",
       "    </tr>\n",
       "    <tr>\n",
       "      <th>3</th>\n",
       "      <td>4.1</td>\n",
       "      <td>3.9</td>\n",
       "      <td>2.6</td>\n",
       "      <td>2.5</td>\n",
       "      <td>4.0</td>\n",
       "      <td>5.0</td>\n",
       "      <td>1.3</td>\n",
       "      <td>2.0</td>\n",
       "      <td>2.7</td>\n",
       "      <td>2.5</td>\n",
       "      <td>...</td>\n",
       "      <td>22.2</td>\n",
       "      <td>20.7</td>\n",
       "      <td>20.9</td>\n",
       "      <td>22.5</td>\n",
       "      <td>22.4</td>\n",
       "      <td>21.0</td>\n",
       "      <td>22.0</td>\n",
       "      <td>22.0</td>\n",
       "      <td>23.6</td>\n",
       "      <td>24.2</td>\n",
       "    </tr>\n",
       "    <tr>\n",
       "      <th>4</th>\n",
       "      <td>3.9</td>\n",
       "      <td>2.6</td>\n",
       "      <td>2.5</td>\n",
       "      <td>4.0</td>\n",
       "      <td>5.0</td>\n",
       "      <td>1.3</td>\n",
       "      <td>2.0</td>\n",
       "      <td>2.7</td>\n",
       "      <td>2.5</td>\n",
       "      <td>2.2</td>\n",
       "      <td>...</td>\n",
       "      <td>20.7</td>\n",
       "      <td>20.9</td>\n",
       "      <td>22.5</td>\n",
       "      <td>22.4</td>\n",
       "      <td>21.0</td>\n",
       "      <td>22.0</td>\n",
       "      <td>22.0</td>\n",
       "      <td>23.6</td>\n",
       "      <td>24.2</td>\n",
       "      <td>22.9</td>\n",
       "    </tr>\n",
       "    <tr>\n",
       "      <th>...</th>\n",
       "      <td>...</td>\n",
       "      <td>...</td>\n",
       "      <td>...</td>\n",
       "      <td>...</td>\n",
       "      <td>...</td>\n",
       "      <td>...</td>\n",
       "      <td>...</td>\n",
       "      <td>...</td>\n",
       "      <td>...</td>\n",
       "      <td>...</td>\n",
       "      <td>...</td>\n",
       "      <td>...</td>\n",
       "      <td>...</td>\n",
       "      <td>...</td>\n",
       "      <td>...</td>\n",
       "      <td>...</td>\n",
       "      <td>...</td>\n",
       "      <td>...</td>\n",
       "      <td>...</td>\n",
       "      <td>...</td>\n",
       "      <td>...</td>\n",
       "    </tr>\n",
       "    <tr>\n",
       "      <th>1641</th>\n",
       "      <td>28.4</td>\n",
       "      <td>27.4</td>\n",
       "      <td>28.2</td>\n",
       "      <td>28.0</td>\n",
       "      <td>27.5</td>\n",
       "      <td>27.4</td>\n",
       "      <td>20.7</td>\n",
       "      <td>22.9</td>\n",
       "      <td>26.2</td>\n",
       "      <td>26.7</td>\n",
       "      <td>...</td>\n",
       "      <td>6.3</td>\n",
       "      <td>7.6</td>\n",
       "      <td>6.3</td>\n",
       "      <td>7.2</td>\n",
       "      <td>6.9</td>\n",
       "      <td>8.2</td>\n",
       "      <td>9.0</td>\n",
       "      <td>6.3</td>\n",
       "      <td>3.5</td>\n",
       "      <td>5.9</td>\n",
       "    </tr>\n",
       "    <tr>\n",
       "      <th>1642</th>\n",
       "      <td>27.4</td>\n",
       "      <td>28.2</td>\n",
       "      <td>28.0</td>\n",
       "      <td>27.5</td>\n",
       "      <td>27.4</td>\n",
       "      <td>20.7</td>\n",
       "      <td>22.9</td>\n",
       "      <td>26.2</td>\n",
       "      <td>26.7</td>\n",
       "      <td>27.5</td>\n",
       "      <td>...</td>\n",
       "      <td>7.6</td>\n",
       "      <td>6.3</td>\n",
       "      <td>7.2</td>\n",
       "      <td>6.9</td>\n",
       "      <td>8.2</td>\n",
       "      <td>9.0</td>\n",
       "      <td>6.3</td>\n",
       "      <td>3.5</td>\n",
       "      <td>5.9</td>\n",
       "      <td>7.2</td>\n",
       "    </tr>\n",
       "    <tr>\n",
       "      <th>1643</th>\n",
       "      <td>28.2</td>\n",
       "      <td>28.0</td>\n",
       "      <td>27.5</td>\n",
       "      <td>27.4</td>\n",
       "      <td>20.7</td>\n",
       "      <td>22.9</td>\n",
       "      <td>26.2</td>\n",
       "      <td>26.7</td>\n",
       "      <td>27.5</td>\n",
       "      <td>28.1</td>\n",
       "      <td>...</td>\n",
       "      <td>6.3</td>\n",
       "      <td>7.2</td>\n",
       "      <td>6.9</td>\n",
       "      <td>8.2</td>\n",
       "      <td>9.0</td>\n",
       "      <td>6.3</td>\n",
       "      <td>3.5</td>\n",
       "      <td>5.9</td>\n",
       "      <td>7.2</td>\n",
       "      <td>3.5</td>\n",
       "    </tr>\n",
       "    <tr>\n",
       "      <th>1644</th>\n",
       "      <td>28.0</td>\n",
       "      <td>27.5</td>\n",
       "      <td>27.4</td>\n",
       "      <td>20.7</td>\n",
       "      <td>22.9</td>\n",
       "      <td>26.2</td>\n",
       "      <td>26.7</td>\n",
       "      <td>27.5</td>\n",
       "      <td>28.1</td>\n",
       "      <td>25.6</td>\n",
       "      <td>...</td>\n",
       "      <td>7.2</td>\n",
       "      <td>6.9</td>\n",
       "      <td>8.2</td>\n",
       "      <td>9.0</td>\n",
       "      <td>6.3</td>\n",
       "      <td>3.5</td>\n",
       "      <td>5.9</td>\n",
       "      <td>7.2</td>\n",
       "      <td>3.5</td>\n",
       "      <td>3.2</td>\n",
       "    </tr>\n",
       "    <tr>\n",
       "      <th>1645</th>\n",
       "      <td>27.5</td>\n",
       "      <td>27.4</td>\n",
       "      <td>20.7</td>\n",
       "      <td>22.9</td>\n",
       "      <td>26.2</td>\n",
       "      <td>26.7</td>\n",
       "      <td>27.5</td>\n",
       "      <td>28.1</td>\n",
       "      <td>25.6</td>\n",
       "      <td>28.2</td>\n",
       "      <td>...</td>\n",
       "      <td>6.9</td>\n",
       "      <td>8.2</td>\n",
       "      <td>9.0</td>\n",
       "      <td>6.3</td>\n",
       "      <td>3.5</td>\n",
       "      <td>5.9</td>\n",
       "      <td>7.2</td>\n",
       "      <td>3.5</td>\n",
       "      <td>3.2</td>\n",
       "      <td>3.6</td>\n",
       "    </tr>\n",
       "  </tbody>\n",
       "</table>\n",
       "<p>1646 rows × 180 columns</p>\n",
       "</div>"
      ],
      "text/plain": [
       "       0     1     2     3     4     5     6     7     8     9    ...   170  \\\n",
       "0      6.2   4.5   2.5   4.1   3.9   2.6   2.5   4.0   5.0   1.3  ...  22.1   \n",
       "1      4.5   2.5   4.1   3.9   2.6   2.5   4.0   5.0   1.3   2.0  ...  23.1   \n",
       "2      2.5   4.1   3.9   2.6   2.5   4.0   5.0   1.3   2.0   2.7  ...  20.2   \n",
       "3      4.1   3.9   2.6   2.5   4.0   5.0   1.3   2.0   2.7   2.5  ...  22.2   \n",
       "4      3.9   2.6   2.5   4.0   5.0   1.3   2.0   2.7   2.5   2.2  ...  20.7   \n",
       "...    ...   ...   ...   ...   ...   ...   ...   ...   ...   ...  ...   ...   \n",
       "1641  28.4  27.4  28.2  28.0  27.5  27.4  20.7  22.9  26.2  26.7  ...   6.3   \n",
       "1642  27.4  28.2  28.0  27.5  27.4  20.7  22.9  26.2  26.7  27.5  ...   7.6   \n",
       "1643  28.2  28.0  27.5  27.4  20.7  22.9  26.2  26.7  27.5  28.1  ...   6.3   \n",
       "1644  28.0  27.5  27.4  20.7  22.9  26.2  26.7  27.5  28.1  25.6  ...   7.2   \n",
       "1645  27.5  27.4  20.7  22.9  26.2  26.7  27.5  28.1  25.6  28.2  ...   6.9   \n",
       "\n",
       "       171   172   173   174   175   176   177   178   179  \n",
       "0     23.1  20.2  22.2  20.7  20.9  22.5  22.4  21.0  22.0  \n",
       "1     20.2  22.2  20.7  20.9  22.5  22.4  21.0  22.0  22.0  \n",
       "2     22.2  20.7  20.9  22.5  22.4  21.0  22.0  22.0  23.6  \n",
       "3     20.7  20.9  22.5  22.4  21.0  22.0  22.0  23.6  24.2  \n",
       "4     20.9  22.5  22.4  21.0  22.0  22.0  23.6  24.2  22.9  \n",
       "...    ...   ...   ...   ...   ...   ...   ...   ...   ...  \n",
       "1641   7.6   6.3   7.2   6.9   8.2   9.0   6.3   3.5   5.9  \n",
       "1642   6.3   7.2   6.9   8.2   9.0   6.3   3.5   5.9   7.2  \n",
       "1643   7.2   6.9   8.2   9.0   6.3   3.5   5.9   7.2   3.5  \n",
       "1644   6.9   8.2   9.0   6.3   3.5   5.9   7.2   3.5   3.2  \n",
       "1645   8.2   9.0   6.3   3.5   5.9   7.2   3.5   3.2   3.6  \n",
       "\n",
       "[1646 rows x 180 columns]"
      ]
     },
     "execution_count": 46,
     "metadata": {},
     "output_type": "execute_result"
    }
   ],
   "source": [
    "pd.DataFrame(train_X)"
   ]
  },
  {
   "cell_type": "markdown",
   "metadata": {},
   "source": [
    "# モデルの定義"
   ]
  },
  {
   "cell_type": "code",
   "execution_count": 90,
   "metadata": {},
   "outputs": [],
   "source": [
    "# Module を継承して、Netクラスを作成する\n",
    "class Net(nn.Module):\n",
    "    # 初期化の関数\n",
    "    def __init__(self):\n",
    "        super(Net, self).__init__()\n",
    "        # nn.Linear (入力のノード数 , 出力ノード数)　：４階層\n",
    "        self.fc1=nn.Linear(180 , 128)\n",
    "        self.fc2=nn.Linear(128 , 64)\n",
    "        self.fc3=nn.Linear(64 , 128)\n",
    "        self.fc4=nn.Linear(128 , 180)\n",
    "    \n",
    "    # ニューラルネットワークを通して、出力値を求める関数\n",
    "    def forward(self ,x):\n",
    "        x=F.relu(self.fc1(x))\n",
    "        x=self.fc2(x)\n",
    "        x=F.relu(self.fc3(x))\n",
    "        x=self.fc4(x)\n",
    "        return x\n",
    "    \n",
    "model=Net()"
   ]
  },
  {
   "cell_type": "markdown",
   "metadata": {},
   "source": [
    "# トレーニングの実行"
   ]
  },
  {
   "cell_type": "code",
   "execution_count": 91,
   "metadata": {},
   "outputs": [
    {
     "name": "stdout",
     "output_type": "stream",
     "text": [
      "200 5.2676496505737305\n",
      "400 5.154002666473389\n",
      "600 5.163513660430908\n",
      "800 4.602463245391846\n",
      "1000 4.433287620544434\n",
      "1200 4.156716346740723\n",
      "1400 3.9055399894714355\n",
      "1600 3.8023037910461426\n",
      "1800 3.282635450363159\n",
      "2000 3.4245338439941406\n",
      "2200 3.073087215423584\n",
      "2400 2.8981375694274902\n",
      "2600 2.9740493297576904\n",
      "2800 2.7253072261810303\n",
      "3000 2.6684954166412354\n",
      "3200 2.5986692905426025\n",
      "3400 2.705308675765991\n",
      "3600 2.423597812652588\n",
      "3800 2.3607215881347656\n",
      "4000 2.2782814502716064\n"
     ]
    }
   ],
   "source": [
    "#平均二乗和誤差\n",
    "criterion = nn.MSELoss()\n",
    "#勾配降下法の１つ　動的に学習率を変更して収束しやすくする　ＳＧＤやＡｄａＧｒａｄなどの改良版\n",
    "optimizer = optim.Adam(model.parameters() ,lr=0.002)\n",
    "\n",
    "# トレーニングの回数分ループする。（今回は1000回）\n",
    "for epoch in range(4000):\n",
    "    total_loss=0\n",
    "    input_x=[]\n",
    "    \n",
    "    # データの件数のうち、１００回分ループする。\n",
    "    for i in range(100):\n",
    "        #100回ループするなかで、ランダムでデータを取得する\n",
    "        index= np.random.randint(0,len(train_X)-1)\n",
    "        input_x.append(train_X[index])\n",
    "    \n",
    "    # ランダムに取得した入力データを設定する\n",
    "    input_x=np.array(input_x , dtype='float32')\n",
    "    input_x=Variable(torch.from_numpy(input_x))\n",
    "    \n",
    "    # オプティマイザーの初期化\n",
    "    optimizer.zero_grad()\n",
    "    # 結果の計算\n",
    "    output = model(input_x)\n",
    "    # 損失の計算 (出力の結果；output と 正解：train_yを渡す)\n",
    "    loss=criterion(output ,input_x)\n",
    "    # ロスを伝播する\n",
    "    loss.backward()\n",
    "    # パラメータを更新する\n",
    "    optimizer.step()\n",
    "    # トータルロスを格納\n",
    "    total_loss += loss.item()\n",
    "    \n",
    "    if (epoch+1) % 200 == 0:\n",
    "        print(epoch+1 ,total_loss)"
   ]
  },
  {
   "cell_type": "markdown",
   "metadata": {},
   "source": [
    "# matplotlibで描画する"
   ]
  },
  {
   "cell_type": "code",
   "execution_count": 93,
   "metadata": {},
   "outputs": [
    {
     "data": {
      "text/plain": [
       "<matplotlib.legend.Legend at 0x24dbbd0f488>"
      ]
     },
     "execution_count": 93,
     "metadata": {},
     "output_type": "execute_result"
    },
    {
     "name": "stderr",
     "output_type": "stream",
     "text": [
      "findfont: Font family ['IPAexGothic'] not found. Falling back to DejaVu Sans.\n"
     ]
    },
    {
     "data": {
      "image/png": "[encoded data removed]",
      "text/plain": [
       "<Figure size 432x288 with 1 Axes>"
      ]
     },
     "metadata": {
      "needs_background": "light"
     },
     "output_type": "display_data"
    }
   ],
   "source": [
    "plt.plot(input_x.data[0].numpy() , label='input')\n",
    "plt.plot(output.data[0].numpy() , label='output')\n",
    "plt.legend(loc='upper right')\n"
   ]
  },
  {
   "cell_type": "markdown",
   "metadata": {},
   "source": [
    "# 異常値の検知をする (テストデータで計算する）"
   ]
  },
  {
   "cell_type": "code",
   "execution_count": 96,
   "metadata": {},
   "outputs": [
    {
     "data": {
      "text/html": [
       "<div>\n",
       "<style scoped>\n",
       "    .dataframe tbody tr th:only-of-type {\n",
       "        vertical-align: middle;\n",
       "    }\n",
       "\n",
       "    .dataframe tbody tr th {\n",
       "        vertical-align: top;\n",
       "    }\n",
       "\n",
       "    .dataframe thead th {\n",
       "        text-align: right;\n",
       "    }\n",
       "</style>\n",
       "<table border=\"1\" class=\"dataframe\">\n",
       "  <thead>\n",
       "    <tr style=\"text-align: right;\">\n",
       "      <th></th>\n",
       "      <th>0</th>\n",
       "      <th>1</th>\n",
       "      <th>2</th>\n",
       "      <th>3</th>\n",
       "      <th>4</th>\n",
       "      <th>5</th>\n",
       "      <th>6</th>\n",
       "      <th>7</th>\n",
       "      <th>8</th>\n",
       "      <th>9</th>\n",
       "      <th>...</th>\n",
       "      <th>170</th>\n",
       "      <th>171</th>\n",
       "      <th>172</th>\n",
       "      <th>173</th>\n",
       "      <th>174</th>\n",
       "      <th>175</th>\n",
       "      <th>176</th>\n",
       "      <th>177</th>\n",
       "      <th>178</th>\n",
       "      <th>179</th>\n",
       "    </tr>\n",
       "  </thead>\n",
       "  <tbody>\n",
       "    <tr>\n",
       "      <th>0</th>\n",
       "      <td>4.700000</td>\n",
       "      <td>3.8</td>\n",
       "      <td>3.300000</td>\n",
       "      <td>4.2</td>\n",
       "      <td>6.100000</td>\n",
       "      <td>3.6</td>\n",
       "      <td>4.1</td>\n",
       "      <td>3.1</td>\n",
       "      <td>3.3</td>\n",
       "      <td>0.2</td>\n",
       "      <td>...</td>\n",
       "      <td>23.0</td>\n",
       "      <td>23.1</td>\n",
       "      <td>21.200001</td>\n",
       "      <td>20.0</td>\n",
       "      <td>18.6</td>\n",
       "      <td>21.6</td>\n",
       "      <td>23.5</td>\n",
       "      <td>24.200001</td>\n",
       "      <td>24.5</td>\n",
       "      <td>19.5</td>\n",
       "    </tr>\n",
       "    <tr>\n",
       "      <th>1</th>\n",
       "      <td>21.299999</td>\n",
       "      <td>22.4</td>\n",
       "      <td>23.299999</td>\n",
       "      <td>24.0</td>\n",
       "      <td>21.200001</td>\n",
       "      <td>21.1</td>\n",
       "      <td>20.5</td>\n",
       "      <td>18.9</td>\n",
       "      <td>19.9</td>\n",
       "      <td>18.6</td>\n",
       "      <td>...</td>\n",
       "      <td>7.0</td>\n",
       "      <td>9.9</td>\n",
       "      <td>7.500000</td>\n",
       "      <td>9.0</td>\n",
       "      <td>6.5</td>\n",
       "      <td>5.3</td>\n",
       "      <td>5.7</td>\n",
       "      <td>6.500000</td>\n",
       "      <td>3.5</td>\n",
       "      <td>6.5</td>\n",
       "    </tr>\n",
       "  </tbody>\n",
       "</table>\n",
       "<p>2 rows × 180 columns</p>\n",
       "</div>"
      ],
      "text/plain": [
       "         0     1          2     3          4     5     6     7     8     9    \\\n",
       "0   4.700000   3.8   3.300000   4.2   6.100000   3.6   4.1   3.1   3.3   0.2   \n",
       "1  21.299999  22.4  23.299999  24.0  21.200001  21.1  20.5  18.9  19.9  18.6   \n",
       "\n",
       "   ...   170   171        172   173   174   175   176        177   178   179  \n",
       "0  ...  23.0  23.1  21.200001  20.0  18.6  21.6  23.5  24.200001  24.5  19.5  \n",
       "1  ...   7.0   9.9   7.500000   9.0   6.5   5.3   5.7   6.500000   3.5   6.5  \n",
       "\n",
       "[2 rows x 180 columns]"
      ]
     },
     "execution_count": 96,
     "metadata": {},
     "output_type": "execute_result"
    }
   ],
   "source": [
    "# テスト用のデータを作る\n",
    "input_x=[]\n",
    "test_X=[]\n",
    "\n",
    "input_x.append(test_x[0:180])\n",
    "input_x.append(test_x[180:360])\n",
    "\n",
    "test_X = np.array(input_x ,dtype='float32')\n",
    "pd.DataFrame(test_X)"
   ]
  },
  {
   "cell_type": "code",
   "execution_count": 98,
   "metadata": {},
   "outputs": [],
   "source": [
    "# テスト用のデータに対して、検証結果\n",
    "input_test = Variable(torch.from_numpy(test_X))\n",
    "output = model(input_test)"
   ]
  },
  {
   "cell_type": "code",
   "execution_count": 102,
   "metadata": {},
   "outputs": [
    {
     "data": {
      "text/plain": [
       "<matplotlib.legend.Legend at 0x24dbdf69f08>"
      ]
     },
     "execution_count": 102,
     "metadata": {},
     "output_type": "execute_result"
    },
    {
     "data": {
      "image/png": "[encoded data removed]",
      "text/plain": [
       "<Figure size 432x288 with 1 Axes>"
      ]
     },
     "metadata": {
      "needs_background": "light"
     },
     "output_type": "display_data"
    }
   ],
   "source": [
    "plt.plot(test_X.flatten() , label='original')\n",
    "plt.plot(output.data.numpy().flatten() , label='predict')\n",
    "plt.legend(loc='upper right')"
   ]
  },
  {
   "cell_type": "markdown",
   "metadata": {},
   "source": [
    "# 異常値の検知をする (検知する）"
   ]
  },
  {
   "cell_type": "code",
   "execution_count": 108,
   "metadata": {},
   "outputs": [],
   "source": [
    "test = test_X.flatten()\n",
    "predict = output.data.numpy().flatten() \n",
    "\n",
    "total_score = []\n",
    "for i in range(0,360):\n",
    "    diff = test[i] - predict[i]\n",
    "    score = pow(diff ,2)\n",
    "    total_score.append(score)\n",
    "    \n",
    "total_score = np.array(total_score)\n",
    "max_score = np.max(total_score)\n",
    "total_score = total_score / max_score"
   ]
  },
  {
   "cell_type": "code",
   "execution_count": 109,
   "metadata": {},
   "outputs": [
    {
     "data": {
      "text/plain": [
       "array([2.05110182e-02, 3.76088876e-05, 5.64090048e-04, 8.34101550e-04,\n",
       "       1.84338207e-01, 1.15394147e-02, 3.22032552e-02, 5.86616511e-02,\n",
       "       2.18326168e-02, 4.35578056e-01, 1.51467648e-01, 9.31812553e-03,\n",
       "       2.55120943e-02, 2.76010079e-02, 8.84442761e-02, 9.71649518e-02,\n",
       "       4.99625947e-02, 2.30369775e-02, 1.57211075e-03, 2.55798264e-04,\n",
       "       1.07997010e-02, 9.59696989e-02, 1.45495304e-02, 1.04949688e-02,\n",
       "       1.80886491e-04, 6.26019928e-02, 6.83306228e-02, 5.14208556e-02,\n",
       "       1.55010730e-02, 1.25702364e-02, 5.07948940e-02, 5.76687613e-04,\n",
       "       4.27956847e-02, 4.37755802e-02, 2.46510469e-01, 8.17469381e-02,\n",
       "       5.78421630e-02, 1.86537727e-01, 4.89536803e-02, 1.53920510e-01,\n",
       "       2.54926721e-03, 3.93072595e-02, 1.13080145e-01, 7.13462539e-02,\n",
       "       8.81470289e-03, 2.67809470e-01, 3.48563756e-03, 3.83748897e-07,\n",
       "       1.85689524e-04, 2.45091154e-02, 9.19708549e-02, 1.24941940e-02,\n",
       "       7.47583855e-02, 1.26106976e-02, 5.59503334e-02, 1.07474694e-01,\n",
       "       3.39148682e-02, 1.14351673e-01, 2.74500972e-01, 2.31925136e-02,\n",
       "       2.33432953e-02, 1.10272116e-01, 1.39945658e-03, 4.11625665e-02,\n",
       "       1.88544110e-02, 2.51507165e-02, 2.05241656e-01, 1.71228616e-02,\n",
       "       3.39317797e-02, 1.49990363e-01, 1.55863371e-01, 2.15834240e-01,\n",
       "       4.51030598e-02, 1.89958870e-03, 3.17422491e-03, 2.05639507e-02,\n",
       "       4.40954490e-02, 3.88295446e-03, 1.90006986e-01, 5.20100559e-01,\n",
       "       1.24029376e-01, 5.10489185e-01, 3.77129342e-01, 2.83061773e-02,\n",
       "       3.88665620e-02, 3.52588435e-01, 5.28827083e-02, 2.28190528e-01,\n",
       "       2.54996063e-02, 1.00908478e-01, 2.16828353e-03, 1.03604403e-01,\n",
       "       3.14991013e-01, 1.27395483e-01, 2.89964735e-02, 2.64365166e-02,\n",
       "       3.94921154e-02, 1.92266492e-01, 3.55046890e-04, 7.32044079e-01,\n",
       "       1.10497646e-02, 5.52400722e-02, 1.59529178e-03, 5.65746822e-02,\n",
       "       2.22871148e-01, 2.25195857e-02, 3.66522915e-02, 1.15019309e-02,\n",
       "       6.60494835e-02, 1.61660542e-01, 2.42151728e-02, 7.04845440e-02,\n",
       "       5.69548067e-02, 1.14312468e-01, 1.00000000e+00, 1.28003706e-01,\n",
       "       3.14811600e-01, 4.08680986e-02, 1.11792048e-03, 5.25203461e-02,\n",
       "       1.24935105e-01, 6.84375829e-02, 5.39825120e-02, 5.63505490e-03,\n",
       "       4.63886829e-03, 2.57954777e-02, 1.82975528e-01, 8.72492889e-02,\n",
       "       3.62743846e-02, 8.69712206e-02, 1.25591435e-01, 6.12799726e-02,\n",
       "       8.13631820e-02, 8.70357290e-02, 2.69696846e-02, 2.86954762e-03,\n",
       "       5.17410761e-05, 9.18064862e-04, 2.31833950e-02, 9.70933309e-04,\n",
       "       8.48443172e-03, 1.52632862e-02, 2.03284976e-03, 7.82297559e-03,\n",
       "       2.43530102e-02, 1.01203565e-02, 7.51131723e-02, 9.28825880e-03,\n",
       "       8.06512114e-02, 2.31728295e-05, 1.93873906e-04, 4.85533785e-02,\n",
       "       7.38899673e-03, 2.40390419e-03, 1.31355515e-03, 1.68195287e-02,\n",
       "       1.68963254e-01, 1.32248045e-01, 1.06328680e-03, 1.99394927e-01,\n",
       "       8.93468719e-02, 3.05943123e-02, 3.81495253e-02, 3.26890492e-01,\n",
       "       3.47671156e-01, 4.25811116e-01, 1.33255808e-02, 4.93087757e-03,\n",
       "       2.87579150e-02, 1.47513076e-03, 1.83950452e-04, 3.00399286e-02,\n",
       "       6.52234461e-04, 8.77861848e-02, 4.01322590e-01, 5.29766296e-02,\n",
       "       2.08014388e-02, 1.55861247e-01, 2.57207103e-01, 2.65720358e-01,\n",
       "       9.49251445e-03, 7.28492556e-05, 2.96309927e-02, 1.49912800e-01,\n",
       "       1.20389420e-03, 4.17715016e-03, 2.96312317e-02, 1.71327330e-01,\n",
       "       7.45257865e-02, 3.06184771e-01, 1.54017665e-03, 1.80070830e-02,\n",
       "       9.60404647e-03, 1.85252270e-01, 8.43996050e-04, 1.93002913e-02,\n",
       "       6.72430029e-02, 3.59979213e-03, 3.77870995e-04, 3.54948230e-03,\n",
       "       4.06258543e-02, 6.48395864e-05, 2.70651485e-01, 6.97284987e-03,\n",
       "       4.31841564e-03, 3.49581424e-02, 2.87326797e-03, 1.87720143e-02,\n",
       "       1.11969813e-04, 1.21486733e-02, 3.80076146e-03, 3.49146692e-02,\n",
       "       4.42200428e-03, 1.20071646e-03, 1.38415704e-02, 4.08301413e-02,\n",
       "       1.60023982e-02, 4.25038565e-03, 5.99142706e-03, 4.06829096e-03,\n",
       "       1.65819431e-02, 2.82759318e-02, 6.65117134e-04, 3.73810173e-03,\n",
       "       1.50022228e-03, 1.36017363e-02, 1.07773867e-01, 6.72338214e-02,\n",
       "       1.80352302e-04, 6.30133283e-05, 6.54896858e-02, 2.03466576e-01,\n",
       "       4.24290924e-02, 9.63729703e-02, 2.66838040e-02, 6.34345674e-02,\n",
       "       5.40899985e-02, 7.04760526e-03, 3.88304099e-03, 1.69285609e-01,\n",
       "       5.17888514e-02, 8.21441329e-02, 7.62721979e-05, 4.70822762e-04,\n",
       "       3.48573520e-02, 1.52092101e-02, 1.21175058e-01, 2.24446329e-02,\n",
       "       1.08232485e-01, 1.56630766e-01, 8.07954076e-02, 1.41398294e-01,\n",
       "       6.66034211e-02, 8.32150652e-03, 8.75255398e-03, 1.26132088e-01,\n",
       "       9.86221011e-02, 1.90236000e-01, 6.76792835e-03, 2.32039220e-01,\n",
       "       1.25454917e-01, 1.01122561e-02, 3.38888858e-02, 3.54095822e-01,\n",
       "       1.50619544e-01, 1.06692804e-01, 2.90611786e-02, 3.86637045e-02,\n",
       "       1.90037099e-01, 1.44441920e-02, 1.97527728e-02, 2.26851289e-03,\n",
       "       3.82876309e-03, 1.14380588e-02, 2.70215879e-02, 2.08331936e-02,\n",
       "       1.68472730e-02, 3.57178330e-01, 9.78142024e-02, 7.45314727e-02,\n",
       "       9.17558816e-03, 2.07118751e-07, 6.17581082e-03, 7.32026895e-02,\n",
       "       5.70264082e-02, 5.55718557e-01, 9.06924272e-02, 2.26381966e-03,\n",
       "       1.80839805e-02, 4.07010362e-04, 2.12625912e-03, 1.27640930e-01,\n",
       "       2.69967092e-01, 8.67083889e-03, 2.22867051e-01, 5.99260941e-03,\n",
       "       2.16785611e-02, 3.43709929e-01, 5.37221484e-02, 6.76517650e-04,\n",
       "       5.66051708e-03, 3.29379338e-01, 3.71980763e-03, 5.66194436e-06,\n",
       "       2.28099496e-02, 2.73450763e-02, 1.17929312e-03, 9.95567408e-03,\n",
       "       1.28994115e-01, 3.07665112e-02, 2.95570669e-03, 2.78753973e-03,\n",
       "       4.63324931e-02, 1.15685944e-02, 3.99555365e-02, 5.21616081e-02,\n",
       "       1.18769575e-01, 3.58200780e-02, 1.49716848e-02, 2.54444511e-03,\n",
       "       6.69101171e-03, 3.19416036e-01, 2.94560891e-01, 2.92104403e-02,\n",
       "       1.65386801e-01, 6.84306746e-01, 9.41356992e-03, 4.24980629e-01,\n",
       "       6.76983904e-01, 2.35284520e-01, 1.09302174e-02, 1.79920864e-02,\n",
       "       1.60688469e-01, 1.21855074e-01, 5.69030396e-02, 3.81301292e-03,\n",
       "       7.75473389e-02, 1.90332308e-01, 1.51757686e-01, 5.98169291e-02,\n",
       "       1.93751547e-01, 9.49812971e-05, 1.25366895e-01, 8.23609231e-02,\n",
       "       2.88993489e-01, 2.36007362e-01, 1.91557974e-01, 1.88231786e-02,\n",
       "       1.58777952e-02, 6.06354935e-02, 3.73171505e-02, 3.99076026e-02,\n",
       "       6.95978259e-03, 3.87649302e-02, 3.21949393e-02, 1.03930651e-01,\n",
       "       4.51198990e-03, 8.18183661e-02, 7.34528311e-02, 4.22529076e-02])"
      ]
     },
     "execution_count": 109,
     "metadata": {},
     "output_type": "execute_result"
    }
   ],
   "source": [
    "total_score"
   ]
  },
  {
   "cell_type": "code",
   "execution_count": 110,
   "metadata": {},
   "outputs": [
    {
     "data": {
      "text/plain": [
       "[<matplotlib.lines.Line2D at 0x24dbe0494c8>]"
      ]
     },
     "execution_count": 110,
     "metadata": {},
     "output_type": "execute_result"
    },
    {
     "data": {
      "image/png": "[encoded data removed]",
      "text/plain": [
       "<Figure size 432x288 with 1 Axes>"
      ]
     },
     "metadata": {
      "needs_background": "light"
     },
     "output_type": "display_data"
    }
   ],
   "source": [
    "plt.plot(total_score)"
   ]
  },
  {
   "cell_type": "code",
   "execution_count": null,
   "metadata": {},
   "outputs": [],
   "source": []
  }
 ],
 "metadata": {
  "kernelspec": {
   "display_name": "Python 3",
   "language": "python",
   "name": "python3"
  },
  "language_info": {
   "codemirror_mode": {
    "name": "ipython",
    "version": 3
   },
   "file_extension": ".py",
   "mimetype": "text/x-python",
   "name": "python",
   "nbconvert_exporter": "python",
   "pygments_lexer": "ipython3",
   "version": "3.7.7"
  }
 },
 "nbformat": 4,
 "nbformat_minor": 4
}
