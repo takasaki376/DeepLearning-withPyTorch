{
 "cells": [
  {
   "cell_type": "code",
   "execution_count": 76,
   "metadata": {},
   "outputs": [],
   "source": [
    "import numpy as np\n",
    "# 訓練データと検証データの分割\n",
    "from sklearn.model_selection import train_test_split\n",
    "# データを扱う\n",
    "import pandas as pd\n",
    "# 予測結果の精度確認（ROC曲線の描画）\n",
    "from sklearn.metrics import roc_auc_score, roc_curve\n",
    "# グラフ描画\n",
    "from matplotlib import pyplot as plt\n",
    "# 標準化\n",
    "from sklearn.preprocessing import StandardScaler,MinMaxScaler"
   ]
  },
  {
   "cell_type": "code",
   "execution_count": 77,
   "metadata": {},
   "outputs": [],
   "source": [
    "import torch\n",
    "# 自動微分の関数 \n",
    "from torch.autograd import Variable\n",
    "# ニューラルネットワークの関数\n",
    "import torch.nn as nn\n",
    "# 活性化関数\n",
    "import torch.nn.functional as F\n",
    "# 最適化のアルゴリズムの関数\n",
    "import torch.optim as optim\n",
    "#ユーティリティのデータから\n",
    "from torch.utils.data import DataLoader ,TensorDataset"
   ]
  },
  {
   "cell_type": "code",
   "execution_count": 78,
   "metadata": {},
   "outputs": [
    {
     "data": {
      "text/html": [
       "<div>\n",
       "<style scoped>\n",
       "    .dataframe tbody tr th:only-of-type {\n",
       "        vertical-align: middle;\n",
       "    }\n",
       "\n",
       "    .dataframe tbody tr th {\n",
       "        vertical-align: top;\n",
       "    }\n",
       "\n",
       "    .dataframe thead th {\n",
       "        text-align: right;\n",
       "    }\n",
       "</style>\n",
       "<table border=\"1\" class=\"dataframe\">\n",
       "  <thead>\n",
       "    <tr style=\"text-align: right;\">\n",
       "      <th></th>\n",
       "      <th>Age</th>\n",
       "      <th>Gender</th>\n",
       "      <th>T_Bil</th>\n",
       "      <th>D_Bil</th>\n",
       "      <th>ALP</th>\n",
       "      <th>ALT_GPT</th>\n",
       "      <th>AST_GOT</th>\n",
       "      <th>TP</th>\n",
       "      <th>Alb</th>\n",
       "      <th>AG_ratio</th>\n",
       "      <th>disease</th>\n",
       "    </tr>\n",
       "  </thead>\n",
       "  <tbody>\n",
       "    <tr>\n",
       "      <th>0</th>\n",
       "      <td>59</td>\n",
       "      <td>Male</td>\n",
       "      <td>0.786886</td>\n",
       "      <td>0.150498</td>\n",
       "      <td>220.178691</td>\n",
       "      <td>13.467617</td>\n",
       "      <td>21.729246</td>\n",
       "      <td>6.815731</td>\n",
       "      <td>3.112276</td>\n",
       "      <td>1.006802</td>\n",
       "      <td>0</td>\n",
       "    </tr>\n",
       "    <tr>\n",
       "      <th>1</th>\n",
       "      <td>69</td>\n",
       "      <td>Male</td>\n",
       "      <td>1.003987</td>\n",
       "      <td>0.195625</td>\n",
       "      <td>221.218413</td>\n",
       "      <td>51.033462</td>\n",
       "      <td>64.752323</td>\n",
       "      <td>6.889608</td>\n",
       "      <td>3.051521</td>\n",
       "      <td>0.751346</td>\n",
       "      <td>1</td>\n",
       "    </tr>\n",
       "    <tr>\n",
       "      <th>2</th>\n",
       "      <td>65</td>\n",
       "      <td>Male</td>\n",
       "      <td>0.657140</td>\n",
       "      <td>0.081287</td>\n",
       "      <td>320.770533</td>\n",
       "      <td>12.625011</td>\n",
       "      <td>30.613180</td>\n",
       "      <td>5.947767</td>\n",
       "      <td>2.489167</td>\n",
       "      <td>0.774952</td>\n",
       "      <td>0</td>\n",
       "    </tr>\n",
       "    <tr>\n",
       "      <th>3</th>\n",
       "      <td>65</td>\n",
       "      <td>Male</td>\n",
       "      <td>0.906822</td>\n",
       "      <td>0.214173</td>\n",
       "      <td>369.278160</td>\n",
       "      <td>34.347597</td>\n",
       "      <td>54.510085</td>\n",
       "      <td>6.967183</td>\n",
       "      <td>3.613837</td>\n",
       "      <td>0.988155</td>\n",
       "      <td>1</td>\n",
       "    </tr>\n",
       "    <tr>\n",
       "      <th>4</th>\n",
       "      <td>22</td>\n",
       "      <td>Female</td>\n",
       "      <td>1.734959</td>\n",
       "      <td>0.197706</td>\n",
       "      <td>222.782025</td>\n",
       "      <td>20.572891</td>\n",
       "      <td>170.010177</td>\n",
       "      <td>5.837537</td>\n",
       "      <td>3.068697</td>\n",
       "      <td>1.026654</td>\n",
       "      <td>0</td>\n",
       "    </tr>\n",
       "  </tbody>\n",
       "</table>\n",
       "</div>"
      ],
      "text/plain": [
       "   Age  Gender     T_Bil     D_Bil         ALP    ALT_GPT     AST_GOT  \\\n",
       "0   59    Male  0.786886  0.150498  220.178691  13.467617   21.729246   \n",
       "1   69    Male  1.003987  0.195625  221.218413  51.033462   64.752323   \n",
       "2   65    Male  0.657140  0.081287  320.770533  12.625011   30.613180   \n",
       "3   65    Male  0.906822  0.214173  369.278160  34.347597   54.510085   \n",
       "4   22  Female  1.734959  0.197706  222.782025  20.572891  170.010177   \n",
       "\n",
       "         TP       Alb  AG_ratio  disease  \n",
       "0  6.815731  3.112276  1.006802        0  \n",
       "1  6.889608  3.051521  0.751346        1  \n",
       "2  5.947767  2.489167  0.774952        0  \n",
       "3  6.967183  3.613837  0.988155        1  \n",
       "4  5.837537  3.068697  1.026654        0  "
      ]
     },
     "execution_count": 78,
     "metadata": {},
     "output_type": "execute_result"
    }
   ],
   "source": [
    "# CSVファイル読み込み（訓練データ）\n",
    "df_train = pd.read_csv('train.csv')\n",
    "df_train.head()\n"
   ]
  },
  {
   "cell_type": "code",
   "execution_count": 79,
   "metadata": {
    "scrolled": true
   },
   "outputs": [
    {
     "data": {
      "text/html": [
       "<div>\n",
       "<style scoped>\n",
       "    .dataframe tbody tr th:only-of-type {\n",
       "        vertical-align: middle;\n",
       "    }\n",
       "\n",
       "    .dataframe tbody tr th {\n",
       "        vertical-align: top;\n",
       "    }\n",
       "\n",
       "    .dataframe thead th {\n",
       "        text-align: right;\n",
       "    }\n",
       "</style>\n",
       "<table border=\"1\" class=\"dataframe\">\n",
       "  <thead>\n",
       "    <tr style=\"text-align: right;\">\n",
       "      <th></th>\n",
       "      <th>Age</th>\n",
       "      <th>T_Bil</th>\n",
       "      <th>D_Bil</th>\n",
       "      <th>ALP</th>\n",
       "      <th>ALT_GPT</th>\n",
       "      <th>AST_GOT</th>\n",
       "      <th>TP</th>\n",
       "      <th>Alb</th>\n",
       "      <th>AG_ratio</th>\n",
       "      <th>disease</th>\n",
       "      <th>Female</th>\n",
       "      <th>Male</th>\n",
       "    </tr>\n",
       "  </thead>\n",
       "  <tbody>\n",
       "    <tr>\n",
       "      <th>0</th>\n",
       "      <td>59</td>\n",
       "      <td>0.786886</td>\n",
       "      <td>0.150498</td>\n",
       "      <td>220.178691</td>\n",
       "      <td>13.467617</td>\n",
       "      <td>21.729246</td>\n",
       "      <td>6.815731</td>\n",
       "      <td>3.112276</td>\n",
       "      <td>1.006802</td>\n",
       "      <td>0</td>\n",
       "      <td>0</td>\n",
       "      <td>1</td>\n",
       "    </tr>\n",
       "    <tr>\n",
       "      <th>1</th>\n",
       "      <td>69</td>\n",
       "      <td>1.003987</td>\n",
       "      <td>0.195625</td>\n",
       "      <td>221.218413</td>\n",
       "      <td>51.033462</td>\n",
       "      <td>64.752323</td>\n",
       "      <td>6.889608</td>\n",
       "      <td>3.051521</td>\n",
       "      <td>0.751346</td>\n",
       "      <td>1</td>\n",
       "      <td>0</td>\n",
       "      <td>1</td>\n",
       "    </tr>\n",
       "    <tr>\n",
       "      <th>2</th>\n",
       "      <td>65</td>\n",
       "      <td>0.657140</td>\n",
       "      <td>0.081287</td>\n",
       "      <td>320.770533</td>\n",
       "      <td>12.625011</td>\n",
       "      <td>30.613180</td>\n",
       "      <td>5.947767</td>\n",
       "      <td>2.489167</td>\n",
       "      <td>0.774952</td>\n",
       "      <td>0</td>\n",
       "      <td>0</td>\n",
       "      <td>1</td>\n",
       "    </tr>\n",
       "    <tr>\n",
       "      <th>3</th>\n",
       "      <td>65</td>\n",
       "      <td>0.906822</td>\n",
       "      <td>0.214173</td>\n",
       "      <td>369.278160</td>\n",
       "      <td>34.347597</td>\n",
       "      <td>54.510085</td>\n",
       "      <td>6.967183</td>\n",
       "      <td>3.613837</td>\n",
       "      <td>0.988155</td>\n",
       "      <td>1</td>\n",
       "      <td>0</td>\n",
       "      <td>1</td>\n",
       "    </tr>\n",
       "    <tr>\n",
       "      <th>4</th>\n",
       "      <td>22</td>\n",
       "      <td>1.734959</td>\n",
       "      <td>0.197706</td>\n",
       "      <td>222.782025</td>\n",
       "      <td>20.572891</td>\n",
       "      <td>170.010177</td>\n",
       "      <td>5.837537</td>\n",
       "      <td>3.068697</td>\n",
       "      <td>1.026654</td>\n",
       "      <td>0</td>\n",
       "      <td>1</td>\n",
       "      <td>0</td>\n",
       "    </tr>\n",
       "  </tbody>\n",
       "</table>\n",
       "</div>"
      ],
      "text/plain": [
       "   Age     T_Bil     D_Bil         ALP    ALT_GPT     AST_GOT        TP  \\\n",
       "0   59  0.786886  0.150498  220.178691  13.467617   21.729246  6.815731   \n",
       "1   69  1.003987  0.195625  221.218413  51.033462   64.752323  6.889608   \n",
       "2   65  0.657140  0.081287  320.770533  12.625011   30.613180  5.947767   \n",
       "3   65  0.906822  0.214173  369.278160  34.347597   54.510085  6.967183   \n",
       "4   22  1.734959  0.197706  222.782025  20.572891  170.010177  5.837537   \n",
       "\n",
       "        Alb  AG_ratio  disease  Female  Male  \n",
       "0  3.112276  1.006802        0       0     1  \n",
       "1  3.051521  0.751346        1       0     1  \n",
       "2  2.489167  0.774952        0       0     1  \n",
       "3  3.613837  0.988155        1       0     1  \n",
       "4  3.068697  1.026654        0       1     0  "
      ]
     },
     "execution_count": 79,
     "metadata": {},
     "output_type": "execute_result"
    }
   ],
   "source": [
    "# 性別を変換する（訓練データ）\n",
    "gemder=pd.get_dummies(df_train.loc[:,['Gender']])\n",
    "df_train['Female']=gemder.loc[:,['Gender_Female']]\n",
    "df_train['Male']=gemder.loc[:,['Gender_Male']]\n",
    "df_train.drop(columns=['Gender'],inplace=True)\n",
    "df_train.head()"
   ]
  },
  {
   "cell_type": "code",
   "execution_count": 80,
   "metadata": {},
   "outputs": [],
   "source": [
    "tain_col_colname=df_train.columns.values"
   ]
  },
  {
   "cell_type": "code",
   "execution_count": 81,
   "metadata": {
    "scrolled": true
   },
   "outputs": [
    {
     "data": {
      "text/html": [
       "<div>\n",
       "<style scoped>\n",
       "    .dataframe tbody tr th:only-of-type {\n",
       "        vertical-align: middle;\n",
       "    }\n",
       "\n",
       "    .dataframe tbody tr th {\n",
       "        vertical-align: top;\n",
       "    }\n",
       "\n",
       "    .dataframe thead th {\n",
       "        text-align: right;\n",
       "    }\n",
       "</style>\n",
       "<table border=\"1\" class=\"dataframe\">\n",
       "  <thead>\n",
       "    <tr style=\"text-align: right;\">\n",
       "      <th></th>\n",
       "      <th>Age</th>\n",
       "      <th>Gender</th>\n",
       "      <th>T_Bil</th>\n",
       "      <th>D_Bil</th>\n",
       "      <th>ALP</th>\n",
       "      <th>ALT_GPT</th>\n",
       "      <th>AST_GOT</th>\n",
       "      <th>TP</th>\n",
       "      <th>Alb</th>\n",
       "      <th>AG_ratio</th>\n",
       "    </tr>\n",
       "  </thead>\n",
       "  <tbody>\n",
       "    <tr>\n",
       "      <th>0</th>\n",
       "      <td>25</td>\n",
       "      <td>Male</td>\n",
       "      <td>0.801797</td>\n",
       "      <td>0.186800</td>\n",
       "      <td>214.448679</td>\n",
       "      <td>15.260516</td>\n",
       "      <td>19.496649</td>\n",
       "      <td>6.817903</td>\n",
       "      <td>3.600752</td>\n",
       "      <td>1.288006</td>\n",
       "    </tr>\n",
       "    <tr>\n",
       "      <th>1</th>\n",
       "      <td>26</td>\n",
       "      <td>Female</td>\n",
       "      <td>0.834857</td>\n",
       "      <td>0.116426</td>\n",
       "      <td>234.136816</td>\n",
       "      <td>10.509159</td>\n",
       "      <td>16.733312</td>\n",
       "      <td>6.795433</td>\n",
       "      <td>3.111043</td>\n",
       "      <td>1.030562</td>\n",
       "    </tr>\n",
       "    <tr>\n",
       "      <th>2</th>\n",
       "      <td>64</td>\n",
       "      <td>Male</td>\n",
       "      <td>0.791830</td>\n",
       "      <td>0.197940</td>\n",
       "      <td>216.039909</td>\n",
       "      <td>14.578304</td>\n",
       "      <td>20.695866</td>\n",
       "      <td>7.524030</td>\n",
       "      <td>3.627621</td>\n",
       "      <td>1.278579</td>\n",
       "    </tr>\n",
       "    <tr>\n",
       "      <th>3</th>\n",
       "      <td>65</td>\n",
       "      <td>Male</td>\n",
       "      <td>0.834003</td>\n",
       "      <td>0.175741</td>\n",
       "      <td>200.901130</td>\n",
       "      <td>12.820356</td>\n",
       "      <td>20.102517</td>\n",
       "      <td>6.829109</td>\n",
       "      <td>3.626758</td>\n",
       "      <td>1.275070</td>\n",
       "    </tr>\n",
       "    <tr>\n",
       "      <th>4</th>\n",
       "      <td>34</td>\n",
       "      <td>Female</td>\n",
       "      <td>0.690296</td>\n",
       "      <td>0.135503</td>\n",
       "      <td>208.705835</td>\n",
       "      <td>20.279018</td>\n",
       "      <td>25.096685</td>\n",
       "      <td>8.663530</td>\n",
       "      <td>4.170750</td>\n",
       "      <td>1.280078</td>\n",
       "    </tr>\n",
       "  </tbody>\n",
       "</table>\n",
       "</div>"
      ],
      "text/plain": [
       "   Age  Gender     T_Bil     D_Bil         ALP    ALT_GPT    AST_GOT  \\\n",
       "0   25    Male  0.801797  0.186800  214.448679  15.260516  19.496649   \n",
       "1   26  Female  0.834857  0.116426  234.136816  10.509159  16.733312   \n",
       "2   64    Male  0.791830  0.197940  216.039909  14.578304  20.695866   \n",
       "3   65    Male  0.834003  0.175741  200.901130  12.820356  20.102517   \n",
       "4   34  Female  0.690296  0.135503  208.705835  20.279018  25.096685   \n",
       "\n",
       "         TP       Alb  AG_ratio  \n",
       "0  6.817903  3.600752  1.288006  \n",
       "1  6.795433  3.111043  1.030562  \n",
       "2  7.524030  3.627621  1.278579  \n",
       "3  6.829109  3.626758  1.275070  \n",
       "4  8.663530  4.170750  1.280078  "
      ]
     },
     "execution_count": 81,
     "metadata": {},
     "output_type": "execute_result"
    }
   ],
   "source": [
    "# CSVファイル読み込み（評価データ）\n",
    "df_vat = pd.read_csv('test.csv')\n",
    "df_vat.head()"
   ]
  },
  {
   "cell_type": "code",
   "execution_count": 82,
   "metadata": {},
   "outputs": [
    {
     "data": {
      "text/html": [
       "<div>\n",
       "<style scoped>\n",
       "    .dataframe tbody tr th:only-of-type {\n",
       "        vertical-align: middle;\n",
       "    }\n",
       "\n",
       "    .dataframe tbody tr th {\n",
       "        vertical-align: top;\n",
       "    }\n",
       "\n",
       "    .dataframe thead th {\n",
       "        text-align: right;\n",
       "    }\n",
       "</style>\n",
       "<table border=\"1\" class=\"dataframe\">\n",
       "  <thead>\n",
       "    <tr style=\"text-align: right;\">\n",
       "      <th></th>\n",
       "      <th>Age</th>\n",
       "      <th>T_Bil</th>\n",
       "      <th>D_Bil</th>\n",
       "      <th>ALP</th>\n",
       "      <th>ALT_GPT</th>\n",
       "      <th>AST_GOT</th>\n",
       "      <th>TP</th>\n",
       "      <th>Alb</th>\n",
       "      <th>AG_ratio</th>\n",
       "      <th>Female</th>\n",
       "      <th>Male</th>\n",
       "    </tr>\n",
       "  </thead>\n",
       "  <tbody>\n",
       "    <tr>\n",
       "      <th>0</th>\n",
       "      <td>25</td>\n",
       "      <td>0.801797</td>\n",
       "      <td>0.186800</td>\n",
       "      <td>214.448679</td>\n",
       "      <td>15.260516</td>\n",
       "      <td>19.496649</td>\n",
       "      <td>6.817903</td>\n",
       "      <td>3.600752</td>\n",
       "      <td>1.288006</td>\n",
       "      <td>0</td>\n",
       "      <td>1</td>\n",
       "    </tr>\n",
       "    <tr>\n",
       "      <th>1</th>\n",
       "      <td>26</td>\n",
       "      <td>0.834857</td>\n",
       "      <td>0.116426</td>\n",
       "      <td>234.136816</td>\n",
       "      <td>10.509159</td>\n",
       "      <td>16.733312</td>\n",
       "      <td>6.795433</td>\n",
       "      <td>3.111043</td>\n",
       "      <td>1.030562</td>\n",
       "      <td>1</td>\n",
       "      <td>0</td>\n",
       "    </tr>\n",
       "    <tr>\n",
       "      <th>2</th>\n",
       "      <td>64</td>\n",
       "      <td>0.791830</td>\n",
       "      <td>0.197940</td>\n",
       "      <td>216.039909</td>\n",
       "      <td>14.578304</td>\n",
       "      <td>20.695866</td>\n",
       "      <td>7.524030</td>\n",
       "      <td>3.627621</td>\n",
       "      <td>1.278579</td>\n",
       "      <td>0</td>\n",
       "      <td>1</td>\n",
       "    </tr>\n",
       "    <tr>\n",
       "      <th>3</th>\n",
       "      <td>65</td>\n",
       "      <td>0.834003</td>\n",
       "      <td>0.175741</td>\n",
       "      <td>200.901130</td>\n",
       "      <td>12.820356</td>\n",
       "      <td>20.102517</td>\n",
       "      <td>6.829109</td>\n",
       "      <td>3.626758</td>\n",
       "      <td>1.275070</td>\n",
       "      <td>0</td>\n",
       "      <td>1</td>\n",
       "    </tr>\n",
       "    <tr>\n",
       "      <th>4</th>\n",
       "      <td>34</td>\n",
       "      <td>0.690296</td>\n",
       "      <td>0.135503</td>\n",
       "      <td>208.705835</td>\n",
       "      <td>20.279018</td>\n",
       "      <td>25.096685</td>\n",
       "      <td>8.663530</td>\n",
       "      <td>4.170750</td>\n",
       "      <td>1.280078</td>\n",
       "      <td>1</td>\n",
       "      <td>0</td>\n",
       "    </tr>\n",
       "  </tbody>\n",
       "</table>\n",
       "</div>"
      ],
      "text/plain": [
       "   Age     T_Bil     D_Bil         ALP    ALT_GPT    AST_GOT        TP  \\\n",
       "0   25  0.801797  0.186800  214.448679  15.260516  19.496649  6.817903   \n",
       "1   26  0.834857  0.116426  234.136816  10.509159  16.733312  6.795433   \n",
       "2   64  0.791830  0.197940  216.039909  14.578304  20.695866  7.524030   \n",
       "3   65  0.834003  0.175741  200.901130  12.820356  20.102517  6.829109   \n",
       "4   34  0.690296  0.135503  208.705835  20.279018  25.096685  8.663530   \n",
       "\n",
       "        Alb  AG_ratio  Female  Male  \n",
       "0  3.600752  1.288006       0     1  \n",
       "1  3.111043  1.030562       1     0  \n",
       "2  3.627621  1.278579       0     1  \n",
       "3  3.626758  1.275070       0     1  \n",
       "4  4.170750  1.280078       1     0  "
      ]
     },
     "execution_count": 82,
     "metadata": {},
     "output_type": "execute_result"
    }
   ],
   "source": [
    "# 性別を変換する（評価データ）\n",
    "gemder=pd.get_dummies(df_vat.loc[:,['Gender']])\n",
    "df_vat['Female']=gemder.loc[:,['Gender_Female']]\n",
    "df_vat['Male']=gemder.loc[:,['Gender_Male']]\n",
    "df_vat.drop(columns=['Gender'],inplace=True)\n",
    "df_vat.head()"
   ]
  },
  {
   "cell_type": "code",
   "execution_count": 83,
   "metadata": {},
   "outputs": [],
   "source": [
    "# 説明変数（訓練データ）\n",
    "x_train = np.array(df_train.loc[:,['Age', 'T_Bil', 'D_Bil', 'ALP', 'ALT_GPT', 'AST_GOT', 'TP', 'Alb','AG_ratio', 'Female', 'Male']])\n",
    "# 目的変数（訓練データ）\n",
    "y_train = np.array(df_train.loc[:,['disease']])\n",
    "# 説明変数（訓練データ）\n",
    "x_vat = np.array(df_vat)"
   ]
  },
  {
   "cell_type": "code",
   "execution_count": 84,
   "metadata": {},
   "outputs": [],
   "source": [
    "y = np.zeros((len(y_train), 1 + y_train.max()), dtype=int)\n",
    "y[np.arange(len(y_train)), y_train.T] = 1\n",
    "y_train = y\n",
    "X_train,X_test,Y_train,Y_test=train_test_split(x_train, y_train, test_size=0.20, random_state=1) "
   ]
  },
  {
   "cell_type": "code",
   "execution_count": null,
   "metadata": {},
   "outputs": [],
   "source": []
  },
  {
   "cell_type": "code",
   "execution_count": 85,
   "metadata": {},
   "outputs": [],
   "source": [
    "#sc = StandardScaler() \n",
    "norm = MinMaxScaler()\n",
    "X_train=norm.fit_transform(X_train)\n",
    "X_test=norm.transform(X_test)\n",
    "X_vat=norm.transform(x_vat)"
   ]
  },
  {
   "cell_type": "code",
   "execution_count": 86,
   "metadata": {},
   "outputs": [
    {
     "data": {
      "text/html": [
       "<div>\n",
       "<style scoped>\n",
       "    .dataframe tbody tr th:only-of-type {\n",
       "        vertical-align: middle;\n",
       "    }\n",
       "\n",
       "    .dataframe tbody tr th {\n",
       "        vertical-align: top;\n",
       "    }\n",
       "\n",
       "    .dataframe thead th {\n",
       "        text-align: right;\n",
       "    }\n",
       "</style>\n",
       "<table border=\"1\" class=\"dataframe\">\n",
       "  <thead>\n",
       "    <tr style=\"text-align: right;\">\n",
       "      <th></th>\n",
       "      <th>Age</th>\n",
       "      <th>T_Bil</th>\n",
       "      <th>D_Bil</th>\n",
       "      <th>ALP</th>\n",
       "      <th>ALT_GPT</th>\n",
       "      <th>AST_GOT</th>\n",
       "      <th>TP</th>\n",
       "      <th>Alb</th>\n",
       "      <th>AG_ratio</th>\n",
       "      <th>Female</th>\n",
       "      <th>Male</th>\n",
       "    </tr>\n",
       "  </thead>\n",
       "  <tbody>\n",
       "    <tr>\n",
       "      <th>count</th>\n",
       "      <td>680.000000</td>\n",
       "      <td>680.000000</td>\n",
       "      <td>680.000000</td>\n",
       "      <td>680.000000</td>\n",
       "      <td>680.000000</td>\n",
       "      <td>680.000000</td>\n",
       "      <td>680.000000</td>\n",
       "      <td>680.000000</td>\n",
       "      <td>680.000000</td>\n",
       "      <td>680.000000</td>\n",
       "      <td>680.000000</td>\n",
       "    </tr>\n",
       "    <tr>\n",
       "      <th>mean</th>\n",
       "      <td>0.534905</td>\n",
       "      <td>0.045186</td>\n",
       "      <td>0.031156</td>\n",
       "      <td>0.058217</td>\n",
       "      <td>0.023745</td>\n",
       "      <td>0.059021</td>\n",
       "      <td>0.563957</td>\n",
       "      <td>0.474299</td>\n",
       "      <td>0.436378</td>\n",
       "      <td>0.188235</td>\n",
       "      <td>0.811765</td>\n",
       "    </tr>\n",
       "    <tr>\n",
       "      <th>std</th>\n",
       "      <td>0.242825</td>\n",
       "      <td>0.107321</td>\n",
       "      <td>0.085852</td>\n",
       "      <td>0.108265</td>\n",
       "      <td>0.095030</td>\n",
       "      <td>0.130112</td>\n",
       "      <td>0.214871</td>\n",
       "      <td>0.198614</td>\n",
       "      <td>0.190352</td>\n",
       "      <td>0.391188</td>\n",
       "      <td>0.391188</td>\n",
       "    </tr>\n",
       "    <tr>\n",
       "      <th>min</th>\n",
       "      <td>0.000000</td>\n",
       "      <td>0.000000</td>\n",
       "      <td>0.000000</td>\n",
       "      <td>0.000000</td>\n",
       "      <td>0.000000</td>\n",
       "      <td>0.000000</td>\n",
       "      <td>0.000000</td>\n",
       "      <td>0.000000</td>\n",
       "      <td>0.000000</td>\n",
       "      <td>0.000000</td>\n",
       "      <td>0.000000</td>\n",
       "    </tr>\n",
       "    <tr>\n",
       "      <th>25%</th>\n",
       "      <td>0.323529</td>\n",
       "      <td>0.008669</td>\n",
       "      <td>0.006229</td>\n",
       "      <td>0.026103</td>\n",
       "      <td>0.005712</td>\n",
       "      <td>0.012316</td>\n",
       "      <td>0.489672</td>\n",
       "      <td>0.338552</td>\n",
       "      <td>0.316594</td>\n",
       "      <td>0.000000</td>\n",
       "      <td>1.000000</td>\n",
       "    </tr>\n",
       "    <tr>\n",
       "      <th>50%</th>\n",
       "      <td>0.558824</td>\n",
       "      <td>0.010980</td>\n",
       "      <td>0.008883</td>\n",
       "      <td>0.029352</td>\n",
       "      <td>0.008030</td>\n",
       "      <td>0.020005</td>\n",
       "      <td>0.530462</td>\n",
       "      <td>0.509008</td>\n",
       "      <td>0.485942</td>\n",
       "      <td>0.000000</td>\n",
       "      <td>1.000000</td>\n",
       "    </tr>\n",
       "    <tr>\n",
       "      <th>75%</th>\n",
       "      <td>0.750000</td>\n",
       "      <td>0.025006</td>\n",
       "      <td>0.016488</td>\n",
       "      <td>0.034027</td>\n",
       "      <td>0.012593</td>\n",
       "      <td>0.055500</td>\n",
       "      <td>0.690686</td>\n",
       "      <td>0.544787</td>\n",
       "      <td>0.553694</td>\n",
       "      <td>0.000000</td>\n",
       "      <td>1.000000</td>\n",
       "    </tr>\n",
       "    <tr>\n",
       "      <th>max</th>\n",
       "      <td>1.000000</td>\n",
       "      <td>1.000000</td>\n",
       "      <td>1.000000</td>\n",
       "      <td>1.000000</td>\n",
       "      <td>1.000000</td>\n",
       "      <td>1.000000</td>\n",
       "      <td>1.000000</td>\n",
       "      <td>1.000000</td>\n",
       "      <td>1.000000</td>\n",
       "      <td>1.000000</td>\n",
       "      <td>1.000000</td>\n",
       "    </tr>\n",
       "  </tbody>\n",
       "</table>\n",
       "</div>"
      ],
      "text/plain": [
       "              Age       T_Bil       D_Bil         ALP     ALT_GPT     AST_GOT  \\\n",
       "count  680.000000  680.000000  680.000000  680.000000  680.000000  680.000000   \n",
       "mean     0.534905    0.045186    0.031156    0.058217    0.023745    0.059021   \n",
       "std      0.242825    0.107321    0.085852    0.108265    0.095030    0.130112   \n",
       "min      0.000000    0.000000    0.000000    0.000000    0.000000    0.000000   \n",
       "25%      0.323529    0.008669    0.006229    0.026103    0.005712    0.012316   \n",
       "50%      0.558824    0.010980    0.008883    0.029352    0.008030    0.020005   \n",
       "75%      0.750000    0.025006    0.016488    0.034027    0.012593    0.055500   \n",
       "max      1.000000    1.000000    1.000000    1.000000    1.000000    1.000000   \n",
       "\n",
       "               TP         Alb    AG_ratio      Female        Male  \n",
       "count  680.000000  680.000000  680.000000  680.000000  680.000000  \n",
       "mean     0.563957    0.474299    0.436378    0.188235    0.811765  \n",
       "std      0.214871    0.198614    0.190352    0.391188    0.391188  \n",
       "min      0.000000    0.000000    0.000000    0.000000    0.000000  \n",
       "25%      0.489672    0.338552    0.316594    0.000000    1.000000  \n",
       "50%      0.530462    0.509008    0.485942    0.000000    1.000000  \n",
       "75%      0.690686    0.544787    0.553694    0.000000    1.000000  \n",
       "max      1.000000    1.000000    1.000000    1.000000    1.000000  "
      ]
     },
     "execution_count": 86,
     "metadata": {},
     "output_type": "execute_result"
    }
   ],
   "source": [
    "df_train = pd.DataFrame(X_train, columns=['Age', 'T_Bil', 'D_Bil', 'ALP', 'ALT_GPT', 'AST_GOT', 'TP', 'Alb','AG_ratio', 'Female', 'Male'])\n",
    "df_train.describe()"
   ]
  },
  {
   "cell_type": "code",
   "execution_count": null,
   "metadata": {},
   "outputs": [],
   "source": []
  },
  {
   "cell_type": "code",
   "execution_count": 87,
   "metadata": {},
   "outputs": [],
   "source": [
    "# numpy の値を torch の値に変換する\n",
    "X_train = torch.from_numpy(X_train).float()\n",
    "Y_train = torch.from_numpy(Y_train).float()\n",
    "X_test = torch.from_numpy(X_test).float()\n",
    "Y_test = torch.from_numpy(Y_test).float()\n",
    "X_vat  = torch.from_numpy(x_vat).float()"
   ]
  },
  {
   "cell_type": "code",
   "execution_count": 88,
   "metadata": {},
   "outputs": [
    {
     "name": "stdout",
     "output_type": "stream",
     "text": [
      "torch.Size([680, 11])\n"
     ]
    }
   ],
   "source": [
    "# 行数、列数の確認\n",
    "in_size=X_train.shape[1]\n",
    "print(X_train.shape)"
   ]
  },
  {
   "cell_type": "code",
   "execution_count": 89,
   "metadata": {},
   "outputs": [
    {
     "data": {
      "text/plain": [
       "torch.Size([680, 2])"
      ]
     },
     "execution_count": 89,
     "metadata": {},
     "output_type": "execute_result"
    }
   ],
   "source": [
    "out_size=Y_train.shape[1]\n",
    "Y_train.shape"
   ]
  },
  {
   "cell_type": "code",
   "execution_count": 90,
   "metadata": {},
   "outputs": [],
   "source": [
    "# x と y の値をひとつの変数に格納する\n",
    "train = TensorDataset(X_train ,Y_train)"
   ]
  },
  {
   "cell_type": "code",
   "execution_count": 97,
   "metadata": {},
   "outputs": [],
   "source": [
    "# batch_size ：学習する時にまとめるデータ数\n",
    "# shuffle    : データをランダムに並び替える場合はTrue\n",
    "train_loader = DataLoader(train ,batch_size=5, shuffle=True)"
   ]
  },
  {
   "cell_type": "code",
   "execution_count": 98,
   "metadata": {},
   "outputs": [],
   "source": [
    "node1=10\n",
    "# node2=20\n",
    "\n",
    "\n",
    "# Module を継承して、Netクラスを作成する\n",
    "#  ノード数や階層を増やす　⇒　精度が向上する、学習のパフォーマンスは落ちる\n",
    "#  ノード数や階層を減らす　⇒　精度が下がる、学習のパフォーマンスは上がる\n",
    "#   　ノードや階層を変更しても精度が上がらない　⇒　入力データが不足している\n",
    "class Net(nn.Module):\n",
    "    # 初期化の関数\n",
    "    def __init__(self):\n",
    "        super(Net ,self).__init__()\n",
    "        #   中間層のノード数は、精度向上やパフォーマンス向上を狙って調整する\n",
    "        self.fc1 = nn.Linear(in_size , node1)         # nn.Linear (入力のノード数 , 中間層ノード数)\n",
    "#        self.fc2 = nn.Linear(node1 , node2)             # nn.Linear (中間層ノード数 , 中間層ノード数)\n",
    "        self.fc2 = nn.Linear(node1,  out_size)        # nn.Linear (中間層ノード数 , 出力のノード数)\n",
    "    \n",
    "    # ネットワークを通して、出力値を求める関数\n",
    "    def forward(self ,x):\n",
    "        y = F.sigmoid(self.fc1(x))              # 入力のノードを中間層（１階層目）に渡して結果を得る\n",
    "        y = F.sigmoid(self.fc2(y))              # 中間層（１階層目）を中間層（２階層目）に渡して結果を得る\n",
    "#        y = self.fc2(y)                         # 中間層（２階層目）の結果を出力層に渡す\n",
    "        # dim　:求めたい確率の値　今回は１になる確率\n",
    "        #return F.log_softmax(y , dim=0)\n",
    "        return y"
   ]
  },
  {
   "cell_type": "code",
   "execution_count": 99,
   "metadata": {},
   "outputs": [],
   "source": [
    "# モデルの定義\n",
    "model = Net()\n",
    "# 損失の定義 (平均二乗誤差)\n",
    "# criterion = nn.MSELoss()\n",
    "# 損失の定義 (交差エントロピー誤差関数)\n",
    "# criterion = nn.CrossEntropyLoss()\n",
    "# 損失の定義 (エントロピー誤差関数)\n",
    "criterion = nn.BCELoss()"
   ]
  },
  {
   "cell_type": "code",
   "execution_count": 100,
   "metadata": {},
   "outputs": [],
   "source": [
    "# 最適化のアルゴリズムの選択　（Adam：Stochastic Gradient Descent）\n",
    "## model.parameters  調整する値\n",
    "## lr(learning rate) ：学習率　どれぐらいの幅でパラメータを更新していくのか\n",
    "# optimizer = optim.Adam(model.parameters() , lr=0.01)\n",
    "optimizer = optim.SGD(model.parameters() , lr=0.01)"
   ]
  },
  {
   "cell_type": "code",
   "execution_count": 101,
   "metadata": {},
   "outputs": [
    {
     "name": "stdout",
     "output_type": "stream",
     "text": [
      "Epoch 100 Loss 0.0005431950968854568 -- 9273.46875\n",
      "Epoch 200 Loss 0.00040710905895513646 -- 8869.9248046875\n",
      "Epoch 300 Loss 0.0003739637925344355 -- 8062.36865234375\n"
     ]
    }
   ],
   "source": [
    "loss_list = []\n",
    "loss_temp = 0\n",
    "# トレーニングの回数分ループする。\n",
    "for epoch in range(300):\n",
    "    # 損失を初期化　\n",
    "    total_loss = 0\n",
    "    \n",
    "    # データの件数分ループする。（x_train , y_train　に１レコードずつ格納される）\n",
    "    for x_train , y_train in train_loader:\n",
    "        # Variable ：　torch,autograd.Variable  ：テンソルをwrapして計算操作を記録する\n",
    "        x_train ,y_train = Variable(x_train) ,Variable(y_train)\n",
    "        # 出力を計算する \n",
    "        output = model(x_train)\n",
    "        \n",
    "        #print('epoch', epoch+1)\n",
    "        #print('output',output)\n",
    "        #print('y_train',y_train)\n",
    "        \n",
    "        # 損失の計算 (出力の結果；output と 正解：y_trainを渡す)\n",
    "        loss = criterion(output ,y_train)\n",
    "        # パラメータの勾配を初期化する\n",
    "        optimizer.zero_grad()\n",
    "        # ロスを伝播する\n",
    "        loss.backward()\n",
    "        # パラメータを更新する\n",
    "        optimizer.step()\n",
    "        # トータルロスを格納\n",
    "        total_loss += loss.item()\n",
    "        loss_temp += loss\n",
    "\n",
    "    # 10回毎に回数とトータルロスを表示する\n",
    "    if (epoch+1)%100 == 0:\n",
    "        loss_list.append(loss.item()/(10*len(train_loader)))\n",
    "        print(f'Epoch {epoch+1} Loss {loss.item()/(10*len(train_loader))} -- {loss_temp}')\n",
    "        loss_temp = 0"
   ]
  },
  {
   "cell_type": "code",
   "execution_count": 102,
   "metadata": {},
   "outputs": [
    {
     "data": {
      "text/plain": [
       "[<matplotlib.lines.Line2D at 0x22bf5865cc0>]"
      ]
     },
     "execution_count": 102,
     "metadata": {},
     "output_type": "execute_result"
    },
    {
     "data": {
      "image/png": "[encoded data removed]",
      "text/plain": [
       "<Figure size 432x288 with 1 Axes>"
      ]
     },
     "metadata": {
      "needs_background": "light"
     },
     "output_type": "display_data"
    }
   ],
   "source": [
    "# ロスのプロット\n",
    "plt.plot(loss_list)"
   ]
  },
  {
   "cell_type": "markdown",
   "metadata": {},
   "source": [
    "## 誤差の確認"
   ]
  },
  {
   "cell_type": "code",
   "execution_count": 103,
   "metadata": {},
   "outputs": [
    {
     "name": "stdout",
     "output_type": "stream",
     "text": [
      "0.7411764705882353\n",
      "[0 1 0 1 0 1 0 1 1 0 1 1 1 0 0 0 0 1 0 0 0 0 1 0 1 0 1 0 1 0 1 0 1 0 0 0 1\n",
      " 0 0 0 1 0 1 0 0 1 0 0 0 0 0 0 0 1 1 1 1 0 0 0 0 1 0 0 0 1 0 1 1 1 0 0 0 0\n",
      " 1 0 1 1 0 0 0 0 0 0 1 0 0 0 0 0 0 0 0 0 0 0 0 1 1 0 0 0 0 0 0 0 0 0 0 0 0\n",
      " 0 0 0 1 0 0 0 1 1 0 0 1 0 0 1 1 0 0 1 0 0 0 0 0 1 1 0 0 1 0 0 0 0 1 1 0 0\n",
      " 1 0 0 1 0 0 1 0 0 0 0 0 0 0 0 1 0 0 0 0 0 0]\n",
      "[1 1 0 1 1 1 0 1 1 1 1 1 1 0 1 0 1 1 1 0 0 1 0 0 1 1 1 0 1 1 1 0 1 1 0 0 1\n",
      " 0 0 0 1 0 0 1 1 1 0 1 0 0 0 0 0 0 1 1 1 0 0 0 0 1 1 0 0 1 1 1 1 1 0 0 1 0\n",
      " 1 0 1 1 0 0 0 0 0 0 0 0 1 0 0 0 0 1 0 0 0 0 0 0 1 1 0 0 0 0 1 0 0 0 0 0 1\n",
      " 1 0 0 1 1 0 0 1 0 1 1 1 0 0 1 1 1 0 1 0 0 0 1 0 1 0 1 0 1 1 1 0 0 1 1 0 1\n",
      " 1 0 1 1 0 1 1 0 0 0 0 0 1 0 0 1 1 1 1 0 0 0]\n"
     ]
    }
   ],
   "source": [
    "# 学習を行わないモードに変更\n",
    "model.eval()\n",
    "\n",
    "# テストデータ\n",
    "x ,y = Variable(X_test) ,Variable(Y_test)\n",
    "# テストデータｘに対する結果　（値の大きい方を取得する）\n",
    "y_hat = torch.max(model(x).data ,1)[1]\n",
    "y_true = torch.max(y ,1)[1]\n",
    "# テストｘの結果とｙの比較　（結果が一致したら加算して、不一致は加算しない。その結果をデータ数で割る）\n",
    "accuracy = np.sum(y_true.data.numpy() == y_hat.numpy()) /len(y_true.data.numpy())\n",
    "print(accuracy)\n",
    "print(y_hat.numpy())\n",
    "print(y_true.data.numpy())"
   ]
  },
  {
   "cell_type": "markdown",
   "metadata": {},
   "source": [
    "## ROC曲線の描画（偽陽性率、真陽性率、閾値の算出）"
   ]
  },
  {
   "cell_type": "code",
   "execution_count": 104,
   "metadata": {},
   "outputs": [
    {
     "data": {
      "image/png": "[encoded data removed]",
      "text/plain": [
       "<Figure size 432x288 with 1 Axes>"
      ]
     },
     "metadata": {
      "needs_background": "light"
     },
     "output_type": "display_data"
    },
    {
     "name": "stdout",
     "output_type": "stream",
     "text": [
      "[2 1 0]\n"
     ]
    }
   ],
   "source": [
    "# ROC曲線の描画（偽陽性率、真陽性率、閾値の算出）\n",
    "fpr, tpr, thresholds = roc_curve(y_true=y_true, y_score=y_hat)\n",
    "plt.plot(fpr, tpr, label='roc curve')\n",
    "plt.plot([0, 1], [0, 1], linestyle=':', label='random')\n",
    "plt.plot([0, 0, 1], [0, 1, 1], linestyle=':', label='ideal')\n",
    "plt.legend()\n",
    "plt.xlabel('false positive rate')\n",
    "plt.ylabel('true positive rate')\n",
    "plt.show()\n",
    "print(thresholds)"
   ]
  },
  {
   "cell_type": "code",
   "execution_count": 105,
   "metadata": {},
   "outputs": [
    {
     "name": "stdout",
     "output_type": "stream",
     "text": [
      "AUC: 0.7298611111111113\n"
     ]
    }
   ],
   "source": [
    "# AUCスコアの算出\n",
    "auc_score = roc_auc_score(y_true=y_true, y_score=y_hat)\n",
    "print(\"AUC:\", auc_score)"
   ]
  },
  {
   "cell_type": "code",
   "execution_count": null,
   "metadata": {},
   "outputs": [],
   "source": []
  },
  {
   "cell_type": "code",
   "execution_count": null,
   "metadata": {},
   "outputs": [],
   "source": []
  },
  {
   "cell_type": "markdown",
   "metadata": {},
   "source": [
    "#  予測する"
   ]
  },
  {
   "cell_type": "code",
   "execution_count": null,
   "metadata": {},
   "outputs": [],
   "source": [
    "y_predict = torch.max(model(X_vat).data ,1)[1]\n",
    "df_out = pd.DataFrame(np.array(np.round(y_predict.detach().numpy().copy()),dtype=np.int64), columns=['val'])\n",
    "               \n",
    "df_out.to_csv('./submit.csv', encoding='utf_8_sig' , header=False)\n"
   ]
  },
  {
   "cell_type": "markdown",
   "metadata": {},
   "source": [
    "# モデルの保存"
   ]
  },
  {
   "cell_type": "code",
   "execution_count": null,
   "metadata": {},
   "outputs": [],
   "source": [
    "#model_path = 'model.pth'\n",
    "#torch.save(model.to('cpu').state_dict(), model_path)"
   ]
  },
  {
   "cell_type": "code",
   "execution_count": null,
   "metadata": {},
   "outputs": [],
   "source": []
  }
 ],
 "metadata": {
  "kernelspec": {
   "display_name": "Python 3",
   "language": "python",
   "name": "python3"
  },
  "language_info": {
   "codemirror_mode": {
    "name": "ipython",
    "version": 3
   },
   "file_extension": ".py",
   "mimetype": "text/x-python",
   "name": "python",
   "nbconvert_exporter": "python",
   "pygments_lexer": "ipython3",
   "version": "3.7.1"
  }
 },
 "nbformat": 4,
 "nbformat_minor": 4
}
