{
 "cells": [
  {
   "cell_type": "code",
   "execution_count": 1,
   "metadata": {},
   "outputs": [],
   "source": [
    "import numpy as np\n",
    "# 訓練データと検証データの分割\n",
    "from sklearn.model_selection import train_test_split\n",
    "# 予測結果の精度確認（ROC曲線の描画）\n",
    "from sklearn.metrics import roc_auc_score, roc_curve\n",
    "# データを扱う\n",
    "import pandas as pd\n",
    "# グラフ描画\n",
    "from matplotlib import pyplot as plt"
   ]
  },
  {
   "cell_type": "code",
   "execution_count": 109,
   "metadata": {},
   "outputs": [],
   "source": [
    "# モデル\n",
    "from keras.models import Sequential\n",
    "from keras.layers import Dense, Flatten, Activation\n",
    "from keras.layers import Conv2D, MaxPooling2D"
   ]
  },
  {
   "cell_type": "markdown",
   "metadata": {},
   "source": [
    "## 訓練データの読み込み"
   ]
  },
  {
   "cell_type": "code",
   "execution_count": 153,
   "metadata": {},
   "outputs": [
    {
     "data": {
      "text/html": [
       "<div>\n",
       "<style scoped>\n",
       "    .dataframe tbody tr th:only-of-type {\n",
       "        vertical-align: middle;\n",
       "    }\n",
       "\n",
       "    .dataframe tbody tr th {\n",
       "        vertical-align: top;\n",
       "    }\n",
       "\n",
       "    .dataframe thead th {\n",
       "        text-align: right;\n",
       "    }\n",
       "</style>\n",
       "<table border=\"1\" class=\"dataframe\">\n",
       "  <thead>\n",
       "    <tr style=\"text-align: right;\">\n",
       "      <th></th>\n",
       "      <th>Age</th>\n",
       "      <th>Gender</th>\n",
       "      <th>T_Bil</th>\n",
       "      <th>D_Bil</th>\n",
       "      <th>ALP</th>\n",
       "      <th>ALT_GPT</th>\n",
       "      <th>AST_GOT</th>\n",
       "      <th>TP</th>\n",
       "      <th>Alb</th>\n",
       "      <th>AG_ratio</th>\n",
       "      <th>disease</th>\n",
       "    </tr>\n",
       "  </thead>\n",
       "  <tbody>\n",
       "    <tr>\n",
       "      <th>0</th>\n",
       "      <td>59</td>\n",
       "      <td>Male</td>\n",
       "      <td>0.786886</td>\n",
       "      <td>0.150498</td>\n",
       "      <td>220.178691</td>\n",
       "      <td>13.467617</td>\n",
       "      <td>21.729246</td>\n",
       "      <td>6.815731</td>\n",
       "      <td>3.112276</td>\n",
       "      <td>1.006802</td>\n",
       "      <td>0</td>\n",
       "    </tr>\n",
       "    <tr>\n",
       "      <th>1</th>\n",
       "      <td>69</td>\n",
       "      <td>Male</td>\n",
       "      <td>1.003987</td>\n",
       "      <td>0.195625</td>\n",
       "      <td>221.218413</td>\n",
       "      <td>51.033462</td>\n",
       "      <td>64.752323</td>\n",
       "      <td>6.889608</td>\n",
       "      <td>3.051521</td>\n",
       "      <td>0.751346</td>\n",
       "      <td>1</td>\n",
       "    </tr>\n",
       "    <tr>\n",
       "      <th>2</th>\n",
       "      <td>65</td>\n",
       "      <td>Male</td>\n",
       "      <td>0.657140</td>\n",
       "      <td>0.081287</td>\n",
       "      <td>320.770533</td>\n",
       "      <td>12.625011</td>\n",
       "      <td>30.613180</td>\n",
       "      <td>5.947767</td>\n",
       "      <td>2.489167</td>\n",
       "      <td>0.774952</td>\n",
       "      <td>0</td>\n",
       "    </tr>\n",
       "    <tr>\n",
       "      <th>3</th>\n",
       "      <td>65</td>\n",
       "      <td>Male</td>\n",
       "      <td>0.906822</td>\n",
       "      <td>0.214173</td>\n",
       "      <td>369.278160</td>\n",
       "      <td>34.347597</td>\n",
       "      <td>54.510085</td>\n",
       "      <td>6.967183</td>\n",
       "      <td>3.613837</td>\n",
       "      <td>0.988155</td>\n",
       "      <td>1</td>\n",
       "    </tr>\n",
       "    <tr>\n",
       "      <th>4</th>\n",
       "      <td>22</td>\n",
       "      <td>Female</td>\n",
       "      <td>1.734959</td>\n",
       "      <td>0.197706</td>\n",
       "      <td>222.782025</td>\n",
       "      <td>20.572891</td>\n",
       "      <td>170.010177</td>\n",
       "      <td>5.837537</td>\n",
       "      <td>3.068697</td>\n",
       "      <td>1.026654</td>\n",
       "      <td>0</td>\n",
       "    </tr>\n",
       "  </tbody>\n",
       "</table>\n",
       "</div>"
      ],
      "text/plain": [
       "   Age  Gender     T_Bil     D_Bil         ALP    ALT_GPT     AST_GOT  \\\n",
       "0   59    Male  0.786886  0.150498  220.178691  13.467617   21.729246   \n",
       "1   69    Male  1.003987  0.195625  221.218413  51.033462   64.752323   \n",
       "2   65    Male  0.657140  0.081287  320.770533  12.625011   30.613180   \n",
       "3   65    Male  0.906822  0.214173  369.278160  34.347597   54.510085   \n",
       "4   22  Female  1.734959  0.197706  222.782025  20.572891  170.010177   \n",
       "\n",
       "         TP       Alb  AG_ratio  disease  \n",
       "0  6.815731  3.112276  1.006802        0  \n",
       "1  6.889608  3.051521  0.751346        1  \n",
       "2  5.947767  2.489167  0.774952        0  \n",
       "3  6.967183  3.613837  0.988155        1  \n",
       "4  5.837537  3.068697  1.026654        0  "
      ]
     },
     "execution_count": 153,
     "metadata": {},
     "output_type": "execute_result"
    }
   ],
   "source": [
    "# CSVファイル読み込み（訓練データ）\n",
    "df_train = pd.read_csv('train.csv')\n",
    "df_train.head()"
   ]
  },
  {
   "cell_type": "code",
   "execution_count": 154,
   "metadata": {
    "scrolled": true
   },
   "outputs": [
    {
     "data": {
      "text/html": [
       "<div>\n",
       "<style scoped>\n",
       "    .dataframe tbody tr th:only-of-type {\n",
       "        vertical-align: middle;\n",
       "    }\n",
       "\n",
       "    .dataframe tbody tr th {\n",
       "        vertical-align: top;\n",
       "    }\n",
       "\n",
       "    .dataframe thead th {\n",
       "        text-align: right;\n",
       "    }\n",
       "</style>\n",
       "<table border=\"1\" class=\"dataframe\">\n",
       "  <thead>\n",
       "    <tr style=\"text-align: right;\">\n",
       "      <th></th>\n",
       "      <th>T_Bil</th>\n",
       "      <th>D_Bil</th>\n",
       "      <th>ALP</th>\n",
       "      <th>ALT_GPT</th>\n",
       "      <th>AST_GOT</th>\n",
       "      <th>TP</th>\n",
       "      <th>Alb</th>\n",
       "      <th>AG_ratio</th>\n",
       "      <th>disease</th>\n",
       "    </tr>\n",
       "  </thead>\n",
       "  <tbody>\n",
       "    <tr>\n",
       "      <th>0</th>\n",
       "      <td>0.786886</td>\n",
       "      <td>0.150498</td>\n",
       "      <td>220.178691</td>\n",
       "      <td>13.467617</td>\n",
       "      <td>21.729246</td>\n",
       "      <td>6.815731</td>\n",
       "      <td>3.112276</td>\n",
       "      <td>1.006802</td>\n",
       "      <td>0</td>\n",
       "    </tr>\n",
       "    <tr>\n",
       "      <th>1</th>\n",
       "      <td>1.003987</td>\n",
       "      <td>0.195625</td>\n",
       "      <td>221.218413</td>\n",
       "      <td>51.033462</td>\n",
       "      <td>64.752323</td>\n",
       "      <td>6.889608</td>\n",
       "      <td>3.051521</td>\n",
       "      <td>0.751346</td>\n",
       "      <td>1</td>\n",
       "    </tr>\n",
       "    <tr>\n",
       "      <th>2</th>\n",
       "      <td>0.657140</td>\n",
       "      <td>0.081287</td>\n",
       "      <td>320.770533</td>\n",
       "      <td>12.625011</td>\n",
       "      <td>30.613180</td>\n",
       "      <td>5.947767</td>\n",
       "      <td>2.489167</td>\n",
       "      <td>0.774952</td>\n",
       "      <td>0</td>\n",
       "    </tr>\n",
       "    <tr>\n",
       "      <th>3</th>\n",
       "      <td>0.906822</td>\n",
       "      <td>0.214173</td>\n",
       "      <td>369.278160</td>\n",
       "      <td>34.347597</td>\n",
       "      <td>54.510085</td>\n",
       "      <td>6.967183</td>\n",
       "      <td>3.613837</td>\n",
       "      <td>0.988155</td>\n",
       "      <td>1</td>\n",
       "    </tr>\n",
       "    <tr>\n",
       "      <th>4</th>\n",
       "      <td>1.734959</td>\n",
       "      <td>0.197706</td>\n",
       "      <td>222.782025</td>\n",
       "      <td>20.572891</td>\n",
       "      <td>170.010177</td>\n",
       "      <td>5.837537</td>\n",
       "      <td>3.068697</td>\n",
       "      <td>1.026654</td>\n",
       "      <td>0</td>\n",
       "    </tr>\n",
       "  </tbody>\n",
       "</table>\n",
       "</div>"
      ],
      "text/plain": [
       "      T_Bil     D_Bil         ALP    ALT_GPT     AST_GOT        TP       Alb  \\\n",
       "0  0.786886  0.150498  220.178691  13.467617   21.729246  6.815731  3.112276   \n",
       "1  1.003987  0.195625  221.218413  51.033462   64.752323  6.889608  3.051521   \n",
       "2  0.657140  0.081287  320.770533  12.625011   30.613180  5.947767  2.489167   \n",
       "3  0.906822  0.214173  369.278160  34.347597   54.510085  6.967183  3.613837   \n",
       "4  1.734959  0.197706  222.782025  20.572891  170.010177  5.837537  3.068697   \n",
       "\n",
       "   AG_ratio  disease  \n",
       "0  1.006802        0  \n",
       "1  0.751346        1  \n",
       "2  0.774952        0  \n",
       "3  0.988155        1  \n",
       "4  1.026654        0  "
      ]
     },
     "execution_count": 154,
     "metadata": {},
     "output_type": "execute_result"
    }
   ],
   "source": [
    "# 性別を変換する（訓練データ）\n",
    "gemder=pd.get_dummies(df_train.loc[:,['Gender']])\n",
    "# df_train['Age0']=gemder.loc[:,['Gender_Female']]\n",
    "# df_train['Age1']=gemder.loc[:,['Gender_Male']]\n",
    "# df_train = df_train.astype({'Age0': 'int32', 'Age1': 'int32'})\n",
    "df_train.drop(columns=['Gender'],inplace=True)\n",
    "df_train.drop(columns=['Age'],inplace=True)\n",
    "df_train.head()"
   ]
  },
  {
   "cell_type": "markdown",
   "metadata": {},
   "source": [
    "## 評価データの読み込み"
   ]
  },
  {
   "cell_type": "code",
   "execution_count": 155,
   "metadata": {
    "scrolled": true
   },
   "outputs": [
    {
     "data": {
      "text/html": [
       "<div>\n",
       "<style scoped>\n",
       "    .dataframe tbody tr th:only-of-type {\n",
       "        vertical-align: middle;\n",
       "    }\n",
       "\n",
       "    .dataframe tbody tr th {\n",
       "        vertical-align: top;\n",
       "    }\n",
       "\n",
       "    .dataframe thead th {\n",
       "        text-align: right;\n",
       "    }\n",
       "</style>\n",
       "<table border=\"1\" class=\"dataframe\">\n",
       "  <thead>\n",
       "    <tr style=\"text-align: right;\">\n",
       "      <th></th>\n",
       "      <th>Age</th>\n",
       "      <th>Gender</th>\n",
       "      <th>T_Bil</th>\n",
       "      <th>D_Bil</th>\n",
       "      <th>ALP</th>\n",
       "      <th>ALT_GPT</th>\n",
       "      <th>AST_GOT</th>\n",
       "      <th>TP</th>\n",
       "      <th>Alb</th>\n",
       "      <th>AG_ratio</th>\n",
       "    </tr>\n",
       "  </thead>\n",
       "  <tbody>\n",
       "    <tr>\n",
       "      <th>0</th>\n",
       "      <td>25</td>\n",
       "      <td>Male</td>\n",
       "      <td>0.801797</td>\n",
       "      <td>0.186800</td>\n",
       "      <td>214.448679</td>\n",
       "      <td>15.260516</td>\n",
       "      <td>19.496649</td>\n",
       "      <td>6.817903</td>\n",
       "      <td>3.600752</td>\n",
       "      <td>1.288006</td>\n",
       "    </tr>\n",
       "    <tr>\n",
       "      <th>1</th>\n",
       "      <td>26</td>\n",
       "      <td>Female</td>\n",
       "      <td>0.834857</td>\n",
       "      <td>0.116426</td>\n",
       "      <td>234.136816</td>\n",
       "      <td>10.509159</td>\n",
       "      <td>16.733312</td>\n",
       "      <td>6.795433</td>\n",
       "      <td>3.111043</td>\n",
       "      <td>1.030562</td>\n",
       "    </tr>\n",
       "    <tr>\n",
       "      <th>2</th>\n",
       "      <td>64</td>\n",
       "      <td>Male</td>\n",
       "      <td>0.791830</td>\n",
       "      <td>0.197940</td>\n",
       "      <td>216.039909</td>\n",
       "      <td>14.578304</td>\n",
       "      <td>20.695866</td>\n",
       "      <td>7.524030</td>\n",
       "      <td>3.627621</td>\n",
       "      <td>1.278579</td>\n",
       "    </tr>\n",
       "    <tr>\n",
       "      <th>3</th>\n",
       "      <td>65</td>\n",
       "      <td>Male</td>\n",
       "      <td>0.834003</td>\n",
       "      <td>0.175741</td>\n",
       "      <td>200.901130</td>\n",
       "      <td>12.820356</td>\n",
       "      <td>20.102517</td>\n",
       "      <td>6.829109</td>\n",
       "      <td>3.626758</td>\n",
       "      <td>1.275070</td>\n",
       "    </tr>\n",
       "    <tr>\n",
       "      <th>4</th>\n",
       "      <td>34</td>\n",
       "      <td>Female</td>\n",
       "      <td>0.690296</td>\n",
       "      <td>0.135503</td>\n",
       "      <td>208.705835</td>\n",
       "      <td>20.279018</td>\n",
       "      <td>25.096685</td>\n",
       "      <td>8.663530</td>\n",
       "      <td>4.170750</td>\n",
       "      <td>1.280078</td>\n",
       "    </tr>\n",
       "  </tbody>\n",
       "</table>\n",
       "</div>"
      ],
      "text/plain": [
       "   Age  Gender     T_Bil     D_Bil         ALP    ALT_GPT    AST_GOT  \\\n",
       "0   25    Male  0.801797  0.186800  214.448679  15.260516  19.496649   \n",
       "1   26  Female  0.834857  0.116426  234.136816  10.509159  16.733312   \n",
       "2   64    Male  0.791830  0.197940  216.039909  14.578304  20.695866   \n",
       "3   65    Male  0.834003  0.175741  200.901130  12.820356  20.102517   \n",
       "4   34  Female  0.690296  0.135503  208.705835  20.279018  25.096685   \n",
       "\n",
       "         TP       Alb  AG_ratio  \n",
       "0  6.817903  3.600752  1.288006  \n",
       "1  6.795433  3.111043  1.030562  \n",
       "2  7.524030  3.627621  1.278579  \n",
       "3  6.829109  3.626758  1.275070  \n",
       "4  8.663530  4.170750  1.280078  "
      ]
     },
     "execution_count": 155,
     "metadata": {},
     "output_type": "execute_result"
    }
   ],
   "source": [
    "# CSVファイル読み込み（評価データ）\n",
    "df_vat = pd.read_csv('test.csv')\n",
    "df_vat.head()"
   ]
  },
  {
   "cell_type": "code",
   "execution_count": 156,
   "metadata": {},
   "outputs": [
    {
     "data": {
      "text/html": [
       "<div>\n",
       "<style scoped>\n",
       "    .dataframe tbody tr th:only-of-type {\n",
       "        vertical-align: middle;\n",
       "    }\n",
       "\n",
       "    .dataframe tbody tr th {\n",
       "        vertical-align: top;\n",
       "    }\n",
       "\n",
       "    .dataframe thead th {\n",
       "        text-align: right;\n",
       "    }\n",
       "</style>\n",
       "<table border=\"1\" class=\"dataframe\">\n",
       "  <thead>\n",
       "    <tr style=\"text-align: right;\">\n",
       "      <th></th>\n",
       "      <th>T_Bil</th>\n",
       "      <th>D_Bil</th>\n",
       "      <th>ALP</th>\n",
       "      <th>ALT_GPT</th>\n",
       "      <th>AST_GOT</th>\n",
       "      <th>TP</th>\n",
       "      <th>Alb</th>\n",
       "      <th>AG_ratio</th>\n",
       "    </tr>\n",
       "  </thead>\n",
       "  <tbody>\n",
       "    <tr>\n",
       "      <th>0</th>\n",
       "      <td>0.801797</td>\n",
       "      <td>0.186800</td>\n",
       "      <td>214.448679</td>\n",
       "      <td>15.260516</td>\n",
       "      <td>19.496649</td>\n",
       "      <td>6.817903</td>\n",
       "      <td>3.600752</td>\n",
       "      <td>1.288006</td>\n",
       "    </tr>\n",
       "    <tr>\n",
       "      <th>1</th>\n",
       "      <td>0.834857</td>\n",
       "      <td>0.116426</td>\n",
       "      <td>234.136816</td>\n",
       "      <td>10.509159</td>\n",
       "      <td>16.733312</td>\n",
       "      <td>6.795433</td>\n",
       "      <td>3.111043</td>\n",
       "      <td>1.030562</td>\n",
       "    </tr>\n",
       "    <tr>\n",
       "      <th>2</th>\n",
       "      <td>0.791830</td>\n",
       "      <td>0.197940</td>\n",
       "      <td>216.039909</td>\n",
       "      <td>14.578304</td>\n",
       "      <td>20.695866</td>\n",
       "      <td>7.524030</td>\n",
       "      <td>3.627621</td>\n",
       "      <td>1.278579</td>\n",
       "    </tr>\n",
       "    <tr>\n",
       "      <th>3</th>\n",
       "      <td>0.834003</td>\n",
       "      <td>0.175741</td>\n",
       "      <td>200.901130</td>\n",
       "      <td>12.820356</td>\n",
       "      <td>20.102517</td>\n",
       "      <td>6.829109</td>\n",
       "      <td>3.626758</td>\n",
       "      <td>1.275070</td>\n",
       "    </tr>\n",
       "    <tr>\n",
       "      <th>4</th>\n",
       "      <td>0.690296</td>\n",
       "      <td>0.135503</td>\n",
       "      <td>208.705835</td>\n",
       "      <td>20.279018</td>\n",
       "      <td>25.096685</td>\n",
       "      <td>8.663530</td>\n",
       "      <td>4.170750</td>\n",
       "      <td>1.280078</td>\n",
       "    </tr>\n",
       "  </tbody>\n",
       "</table>\n",
       "</div>"
      ],
      "text/plain": [
       "      T_Bil     D_Bil         ALP    ALT_GPT    AST_GOT        TP       Alb  \\\n",
       "0  0.801797  0.186800  214.448679  15.260516  19.496649  6.817903  3.600752   \n",
       "1  0.834857  0.116426  234.136816  10.509159  16.733312  6.795433  3.111043   \n",
       "2  0.791830  0.197940  216.039909  14.578304  20.695866  7.524030  3.627621   \n",
       "3  0.834003  0.175741  200.901130  12.820356  20.102517  6.829109  3.626758   \n",
       "4  0.690296  0.135503  208.705835  20.279018  25.096685  8.663530  4.170750   \n",
       "\n",
       "   AG_ratio  \n",
       "0  1.288006  \n",
       "1  1.030562  \n",
       "2  1.278579  \n",
       "3  1.275070  \n",
       "4  1.280078  "
      ]
     },
     "execution_count": 156,
     "metadata": {},
     "output_type": "execute_result"
    }
   ],
   "source": [
    "# 性別を変換する（評価データ）\n",
    "#gemder=pd.get_dummies(df_vat.loc[:,['Gender']])\n",
    "#df_vat['Age0']=gemder.loc[:,['Gender_Female']]\n",
    "#df_vat['Age1']=gemder.loc[:,['Gender_Male']]\n",
    "#df_vat = df_vat.astype({'Age0': 'int32', 'Age1': 'int32'})\n",
    "df_vat.drop(columns=['Gender'],inplace=True)\n",
    "df_vat.drop(columns=['Age'],inplace=True)\n",
    "df_vat.head()"
   ]
  },
  {
   "cell_type": "markdown",
   "metadata": {},
   "source": [
    "## データを加工する"
   ]
  },
  {
   "cell_type": "code",
   "execution_count": 157,
   "metadata": {},
   "outputs": [],
   "source": [
    "def xConv(x_tmp):\n",
    "    \n",
    "    ## 性別のダミーデータを作成\n",
    "    #nZero = np.zeros((x_tmp.shape[0], 10), dtype=np.int32)\n",
    "    #df=pd.DataFrame(zero ,columns=['Age2'])\n",
    "    #x_tmp = pd.concat([x_tmp, df], axis=1)\n",
    "    #df=pd.DataFrame(zero ,columns=['Age3'])\n",
    "    #x_tmp = pd.concat([x_tmp, df], axis=1)\n",
    "    #df=pd.DataFrame(zero ,columns=['Age4'])\n",
    "    #x_tmp = pd.concat([x_tmp, df], axis=1)\n",
    "    #df=pd.DataFrame(zero ,columns=['Age5'])\n",
    "    #x_tmp = pd.concat([x_tmp, df], axis=1)\n",
    "    #df=pd.DataFrame(zero ,columns=['Age6'])\n",
    "    #x_tmp = pd.concat([x_tmp, df], axis=1)\n",
    "    #df=pd.DataFrame(zero ,columns=['Age7'])\n",
    "    #x_tmp = pd.concat([x_tmp, df], axis=1)\n",
    "    #df=pd.DataFrame(zero ,columns=['Age8'])\n",
    "    #x_tmp = pd.concat([x_tmp, df], axis=1)\n",
    "    #df=pd.DataFrame(zero ,columns=['Age9'])\n",
    "    #x_tmp = pd.concat([x_tmp, df], axis=1)\n",
    "    \n",
    "    # T_Bilの変換   7\n",
    "    bins = [0, 0.8, 0.85, 0.9, 0.95, 1.0, 1.5, 100]\n",
    "    x_tmp=comCutCnnect(x_tmp, bins, 'T_Bil')\n",
    "\n",
    "    # D_Bilの変換   7\n",
    "    bins = [0, 0.1, 0.15, 0.2, 0.25, 0.5, 0.75, 100]\n",
    "    x_tmp=comCutCnnect(x_tmp,  bins, 'D_Bil' )\n",
    "    \n",
    "    # ALT_GPTの変換  7\n",
    "    bins = [0,  13, 15, 17, 19, 20.5, 25, 1500]\n",
    "    x_tmp=comCutCnnect(x_tmp,  bins, 'ALT_GPT' )\n",
    "    \n",
    "    # AST_GOTの変換  7\n",
    "    bins = [0, 20, 25, 30, 40, 50, 60, 1000]\n",
    "    x_tmp=comCutCnnect(x_tmp, bins, 'AST_GOT' )\n",
    "\n",
    "    # TPの変換  7\n",
    "    bins = [0, 5.5, 6, 6.5, 7, 7.5, 8, 1000]\n",
    "    x_tmp=comCutCnnect(x_tmp,  bins, 'TP' )\n",
    "    \n",
    "    # AG_ratioの変換  7\n",
    "    bins = [0, 1, 1.1, 1.25, 1.28, 1.32, 1.4, 1000]\n",
    "    x_tmp=comCutCnnect(x_tmp,  bins, 'AG_ratio' )\n",
    "    \n",
    "    # ALPの変換  7\n",
    "    bins = [0, 210, 220, 225, 240, 350, 540, 2500]\n",
    "    x_tmp=comCutCnnect(x_tmp,  bins, 'ALP' )\n",
    "    \n",
    "    # Albの変換  7\n",
    "    bins = [0, 2.5, 2.8, 3.1, 3.5, 3.8, 4.5, 1000]\n",
    "    x_tmp=comCutCnnect(x_tmp,  bins, 'Alb' )\n",
    "\n",
    "    # Ageの変換の変換  7\n",
    "    # bins = [0, 30, 40, 50, 60, 65, 70, 1000]\n",
    "    # x_tmp=comCutCnnect(x_tmp,  bins, 'Age' )\n",
    "    \n",
    "    print(x_tmp.info())\n",
    "    \n",
    "    nRet = np.array(x_tmp)\n",
    "    nRet = nRet.reshape(x_tmp.shape[0] ,8, 10, 1)\n",
    "    \n",
    "    return nRet\n",
    "\n",
    "\n",
    "def comCutCnnect(x_tmp, bins ,col ):   \n",
    "    #X_cut = pd.cut(x_tmp[col], bins=bins, labels=False)\n",
    "    #cutTemp = np.zeros((len(X_cut), len(bins) -1 ), dtype=np.int32)\n",
    "    #df=pd.DataFrame(cutTemp ,columns=[col + str(x) for x in range(cutTemp.shape[1])])\n",
    "    \n",
    "    X_cut = pd.qcut(x_tmp[col], 10 ,labels=['0', '1', '2', '3', '4', '5', '6', '7', '8', '9'])\n",
    "    X_cut =pd.get_dummies(X_cut, dtype= 'int32')\n",
    "    #oneTmp = np.ones((len(X_cut), 10 ), dtype=np.int32)\n",
    "    #x=oneTmp * X_cut\n",
    "    #for idx in X_cut\n",
    "        \n",
    "    #df=pd.DataFrame(X_cut ,columns=[col + str(x) for x in range(X_cut.shape[1])] )\n",
    "    \n",
    "    \n",
    "    # 列の削除\n",
    "    x_tmp.drop(columns=[col], inplace=True, axis=1)\n",
    "    # 列の追加\n",
    "    x_tmp = pd.concat([x_tmp, X_cut], axis=1)\n",
    "    return x_tmp"
   ]
  },
  {
   "cell_type": "code",
   "execution_count": 158,
   "metadata": {},
   "outputs": [
    {
     "name": "stdout",
     "output_type": "stream",
     "text": [
      "<class 'pandas.core.frame.DataFrame'>\n",
      "RangeIndex: 850 entries, 0 to 849\n",
      "Data columns (total 80 columns):\n",
      " #   Column  Non-Null Count  Dtype\n",
      "---  ------  --------------  -----\n",
      " 0   0       850 non-null    int32\n",
      " 1   1       850 non-null    int32\n",
      " 2   2       850 non-null    int32\n",
      " 3   3       850 non-null    int32\n",
      " 4   4       850 non-null    int32\n",
      " 5   5       850 non-null    int32\n",
      " 6   6       850 non-null    int32\n",
      " 7   7       850 non-null    int32\n",
      " 8   8       850 non-null    int32\n",
      " 9   9       850 non-null    int32\n",
      " 10  0       850 non-null    int32\n",
      " 11  1       850 non-null    int32\n",
      " 12  2       850 non-null    int32\n",
      " 13  3       850 non-null    int32\n",
      " 14  4       850 non-null    int32\n",
      " 15  5       850 non-null    int32\n",
      " 16  6       850 non-null    int32\n",
      " 17  7       850 non-null    int32\n",
      " 18  8       850 non-null    int32\n",
      " 19  9       850 non-null    int32\n",
      " 20  0       850 non-null    int32\n",
      " 21  1       850 non-null    int32\n",
      " 22  2       850 non-null    int32\n",
      " 23  3       850 non-null    int32\n",
      " 24  4       850 non-null    int32\n",
      " 25  5       850 non-null    int32\n",
      " 26  6       850 non-null    int32\n",
      " 27  7       850 non-null    int32\n",
      " 28  8       850 non-null    int32\n",
      " 29  9       850 non-null    int32\n",
      " 30  0       850 non-null    int32\n",
      " 31  1       850 non-null    int32\n",
      " 32  2       850 non-null    int32\n",
      " 33  3       850 non-null    int32\n",
      " 34  4       850 non-null    int32\n",
      " 35  5       850 non-null    int32\n",
      " 36  6       850 non-null    int32\n",
      " 37  7       850 non-null    int32\n",
      " 38  8       850 non-null    int32\n",
      " 39  9       850 non-null    int32\n",
      " 40  0       850 non-null    int32\n",
      " 41  1       850 non-null    int32\n",
      " 42  2       850 non-null    int32\n",
      " 43  3       850 non-null    int32\n",
      " 44  4       850 non-null    int32\n",
      " 45  5       850 non-null    int32\n",
      " 46  6       850 non-null    int32\n",
      " 47  7       850 non-null    int32\n",
      " 48  8       850 non-null    int32\n",
      " 49  9       850 non-null    int32\n",
      " 50  0       850 non-null    int32\n",
      " 51  1       850 non-null    int32\n",
      " 52  2       850 non-null    int32\n",
      " 53  3       850 non-null    int32\n",
      " 54  4       850 non-null    int32\n",
      " 55  5       850 non-null    int32\n",
      " 56  6       850 non-null    int32\n",
      " 57  7       850 non-null    int32\n",
      " 58  8       850 non-null    int32\n",
      " 59  9       850 non-null    int32\n",
      " 60  0       850 non-null    int32\n",
      " 61  1       850 non-null    int32\n",
      " 62  2       850 non-null    int32\n",
      " 63  3       850 non-null    int32\n",
      " 64  4       850 non-null    int32\n",
      " 65  5       850 non-null    int32\n",
      " 66  6       850 non-null    int32\n",
      " 67  7       850 non-null    int32\n",
      " 68  8       850 non-null    int32\n",
      " 69  9       850 non-null    int32\n",
      " 70  0       850 non-null    int32\n",
      " 71  1       850 non-null    int32\n",
      " 72  2       850 non-null    int32\n",
      " 73  3       850 non-null    int32\n",
      " 74  4       850 non-null    int32\n",
      " 75  5       850 non-null    int32\n",
      " 76  6       850 non-null    int32\n",
      " 77  7       850 non-null    int32\n",
      " 78  8       850 non-null    int32\n",
      " 79  9       850 non-null    int32\n",
      "dtypes: int32(80)\n",
      "memory usage: 265.8 KB\n",
      "None\n"
     ]
    }
   ],
   "source": [
    "# 説明変数（訓練データ）\n",
    "#x_train=xConv(df_train.loc[:,['Age', 'T_Bil', 'D_Bil', 'ALP', 'ALT_GPT', 'AST_GOT', 'TP', 'Alb','AG_ratio', 'Age0', 'Age1']])\n",
    "x_train=xConv(df_train.loc[:,[ 'T_Bil', 'D_Bil', 'ALP', 'ALT_GPT', 'AST_GOT', 'TP', 'Alb','AG_ratio']])\n",
    "\n",
    "# 目的変数（訓練データ）\n",
    "y_train = np.array(df_train.loc[:,['disease']])"
   ]
  },
  {
   "cell_type": "code",
   "execution_count": 159,
   "metadata": {},
   "outputs": [],
   "source": [
    "# x_tmp.to_csv('./chk.csv', encoding='utf_8_sig' , header=True)"
   ]
  },
  {
   "cell_type": "code",
   "execution_count": 160,
   "metadata": {},
   "outputs": [],
   "source": [
    "y = np.zeros((len(y_train), 1 + y_train.max()), dtype=np.int32)\n",
    "y[np.arange(len(y_train)), y_train.T] = 1\n",
    "y_train = y\n",
    "X_train,X_test,Y_train,Y_test=train_test_split(x_train, y_train, test_size=0.25, random_state=1) "
   ]
  },
  {
   "cell_type": "code",
   "execution_count": 161,
   "metadata": {},
   "outputs": [
    {
     "name": "stdout",
     "output_type": "stream",
     "text": [
      "(637, 8, 10, 1)\n"
     ]
    }
   ],
   "source": [
    "# 行数、列数の確認\n",
    "in_size1=X_train.shape[1]\n",
    "in_size2=X_train.shape[2]\n",
    "in_size3=X_train.shape[3]\n",
    "print(X_train.shape)"
   ]
  },
  {
   "cell_type": "code",
   "execution_count": 162,
   "metadata": {},
   "outputs": [
    {
     "data": {
      "text/plain": [
       "(637, 2)"
      ]
     },
     "execution_count": 162,
     "metadata": {},
     "output_type": "execute_result"
    }
   ],
   "source": [
    "out_size=Y_train.shape[1]\n",
    "Y_train.shape"
   ]
  },
  {
   "cell_type": "code",
   "execution_count": 163,
   "metadata": {},
   "outputs": [
    {
     "data": {
      "text/plain": [
       "numpy.ndarray"
      ]
     },
     "execution_count": 163,
     "metadata": {},
     "output_type": "execute_result"
    }
   ],
   "source": [
    "type(X_train[0][2])"
   ]
  },
  {
   "cell_type": "code",
   "execution_count": 164,
   "metadata": {},
   "outputs": [
    {
     "name": "stdout",
     "output_type": "stream",
     "text": [
      "<class 'pandas.core.frame.DataFrame'>\n",
      "RangeIndex: 350 entries, 0 to 349\n",
      "Data columns (total 80 columns):\n",
      " #   Column  Non-Null Count  Dtype\n",
      "---  ------  --------------  -----\n",
      " 0   0       350 non-null    int32\n",
      " 1   1       350 non-null    int32\n",
      " 2   2       350 non-null    int32\n",
      " 3   3       350 non-null    int32\n",
      " 4   4       350 non-null    int32\n",
      " 5   5       350 non-null    int32\n",
      " 6   6       350 non-null    int32\n",
      " 7   7       350 non-null    int32\n",
      " 8   8       350 non-null    int32\n",
      " 9   9       350 non-null    int32\n",
      " 10  0       350 non-null    int32\n",
      " 11  1       350 non-null    int32\n",
      " 12  2       350 non-null    int32\n",
      " 13  3       350 non-null    int32\n",
      " 14  4       350 non-null    int32\n",
      " 15  5       350 non-null    int32\n",
      " 16  6       350 non-null    int32\n",
      " 17  7       350 non-null    int32\n",
      " 18  8       350 non-null    int32\n",
      " 19  9       350 non-null    int32\n",
      " 20  0       350 non-null    int32\n",
      " 21  1       350 non-null    int32\n",
      " 22  2       350 non-null    int32\n",
      " 23  3       350 non-null    int32\n",
      " 24  4       350 non-null    int32\n",
      " 25  5       350 non-null    int32\n",
      " 26  6       350 non-null    int32\n",
      " 27  7       350 non-null    int32\n",
      " 28  8       350 non-null    int32\n",
      " 29  9       350 non-null    int32\n",
      " 30  0       350 non-null    int32\n",
      " 31  1       350 non-null    int32\n",
      " 32  2       350 non-null    int32\n",
      " 33  3       350 non-null    int32\n",
      " 34  4       350 non-null    int32\n",
      " 35  5       350 non-null    int32\n",
      " 36  6       350 non-null    int32\n",
      " 37  7       350 non-null    int32\n",
      " 38  8       350 non-null    int32\n",
      " 39  9       350 non-null    int32\n",
      " 40  0       350 non-null    int32\n",
      " 41  1       350 non-null    int32\n",
      " 42  2       350 non-null    int32\n",
      " 43  3       350 non-null    int32\n",
      " 44  4       350 non-null    int32\n",
      " 45  5       350 non-null    int32\n",
      " 46  6       350 non-null    int32\n",
      " 47  7       350 non-null    int32\n",
      " 48  8       350 non-null    int32\n",
      " 49  9       350 non-null    int32\n",
      " 50  0       350 non-null    int32\n",
      " 51  1       350 non-null    int32\n",
      " 52  2       350 non-null    int32\n",
      " 53  3       350 non-null    int32\n",
      " 54  4       350 non-null    int32\n",
      " 55  5       350 non-null    int32\n",
      " 56  6       350 non-null    int32\n",
      " 57  7       350 non-null    int32\n",
      " 58  8       350 non-null    int32\n",
      " 59  9       350 non-null    int32\n",
      " 60  0       350 non-null    int32\n",
      " 61  1       350 non-null    int32\n",
      " 62  2       350 non-null    int32\n",
      " 63  3       350 non-null    int32\n",
      " 64  4       350 non-null    int32\n",
      " 65  5       350 non-null    int32\n",
      " 66  6       350 non-null    int32\n",
      " 67  7       350 non-null    int32\n",
      " 68  8       350 non-null    int32\n",
      " 69  9       350 non-null    int32\n",
      " 70  0       350 non-null    int32\n",
      " 71  1       350 non-null    int32\n",
      " 72  2       350 non-null    int32\n",
      " 73  3       350 non-null    int32\n",
      " 74  4       350 non-null    int32\n",
      " 75  5       350 non-null    int32\n",
      " 76  6       350 non-null    int32\n",
      " 77  7       350 non-null    int32\n",
      " 78  8       350 non-null    int32\n",
      " 79  9       350 non-null    int32\n",
      "dtypes: int32(80)\n",
      "memory usage: 109.5 KB\n",
      "None\n"
     ]
    }
   ],
   "source": [
    "# 説明変数（評価データ）\n",
    "x_tmp=xConv(df_vat)\n",
    "x_vat = np.array(x_tmp)\n"
   ]
  },
  {
   "cell_type": "code",
   "execution_count": 165,
   "metadata": {},
   "outputs": [
    {
     "name": "stdout",
     "output_type": "stream",
     "text": [
      "(350, 8, 10, 1)\n"
     ]
    }
   ],
   "source": [
    "print(x_vat.shape)"
   ]
  },
  {
   "cell_type": "markdown",
   "metadata": {},
   "source": [
    "# モデルの定義"
   ]
  },
  {
   "cell_type": "code",
   "execution_count": 166,
   "metadata": {},
   "outputs": [],
   "source": [
    "node1=20\n",
    "node2=8\n",
    "\n",
    "# 以下、ネットワークを構築\n",
    "model = Sequential()\n",
    "\n",
    "\n",
    "# 1. 畳み込み層(フィルタサイズ=6, カーネルサイズ=(3,3), 入力サイズ=(96,96,3))  \n",
    "#input = Input(shape = (10,10))\n",
    "#hidden = Reshape((10,10, 1), input_shape = (10,10))(input) \n",
    "model.add(Conv2D(filters=6, kernel_size=(2, 2), activation='sigmoid',  input_shape=(in_size1, in_size2, in_size3)))\n",
    "# 2. プーリング層(プーリングサイズ=(2,2))  \n",
    "model.add(MaxPooling2D(pool_size=(2, 2)))\n",
    "# 3. 畳み込み層(フィルタサイズ=12, カーネルサイズ=(3,3))  \n",
    "#model.add(Conv2D(filters=12, kernel_size=(3, 3)))\n",
    "#model.add(Activation(\"sigmoid\"))\n",
    "# 4. プーリング層(プーリングサイズ=(2,2))  \n",
    "#model.add(MaxPooling2D(pool_size=(2, 2)))\n",
    "# 5. 平坦化()  \n",
    "model.add(Flatten())\n",
    "# 6. 全結合層(出力=120)  \n",
    "model.add(Dense(units=60))\n",
    "model.add(Activation(\"sigmoid\"))\n",
    "# 7. 全結合層(出力=30)  \n",
    "model.add(Dense(units=30))\n",
    "model.add(Activation(\"sigmoid\"))\n",
    "# 12. 全結合層(出力=2)  \n",
    "model.add(Dense(units=2))\n",
    "model.add(Activation(\"softmax\"))"
   ]
  },
  {
   "cell_type": "code",
   "execution_count": 167,
   "metadata": {},
   "outputs": [
    {
     "name": "stdout",
     "output_type": "stream",
     "text": [
      "Model: \"sequential_6\"\n",
      "_________________________________________________________________\n",
      "Layer (type)                 Output Shape              Param #   \n",
      "=================================================================\n",
      "conv2d_6 (Conv2D)            (None, 7, 9, 6)           30        \n",
      "_________________________________________________________________\n",
      "max_pooling2d_5 (MaxPooling2 (None, 3, 4, 6)           0         \n",
      "_________________________________________________________________\n",
      "flatten_5 (Flatten)          (None, 72)                0         \n",
      "_________________________________________________________________\n",
      "dense_15 (Dense)             (None, 60)                4380      \n",
      "_________________________________________________________________\n",
      "activation_19 (Activation)   (None, 60)                0         \n",
      "_________________________________________________________________\n",
      "dense_16 (Dense)             (None, 30)                1830      \n",
      "_________________________________________________________________\n",
      "activation_20 (Activation)   (None, 30)                0         \n",
      "_________________________________________________________________\n",
      "dense_17 (Dense)             (None, 2)                 62        \n",
      "_________________________________________________________________\n",
      "activation_21 (Activation)   (None, 2)                 0         \n",
      "=================================================================\n",
      "Total params: 6,302\n",
      "Trainable params: 6,302\n",
      "Non-trainable params: 0\n",
      "_________________________________________________________________\n"
     ]
    }
   ],
   "source": [
    "# モデルの確認\n",
    "model.summary()"
   ]
  },
  {
   "cell_type": "code",
   "execution_count": 168,
   "metadata": {},
   "outputs": [],
   "source": [
    "# パラメータの設定 \n",
    "#  mean_squared_error   平均二乗誤差\n",
    "#  categorical_crossentropy   クロスエントロピー\n",
    "#model.compile(loss=\"categorical_crossentropy\",\n",
    "#             optimizer='adam',\n",
    "#             metrics=[\"accuracy\"])\n",
    "\n",
    "model.compile(loss=\"mean_squared_error\",\n",
    "             optimizer='adam',\n",
    "             metrics=[\"accuracy\"])\n",
    "\n",
    "#model.compile(loss=\"mean_squared_error\",\n",
    "#             optimizer='sgd',\n",
    "#             metrics=[\"accuracy\"])"
   ]
  },
  {
   "cell_type": "code",
   "execution_count": 169,
   "metadata": {},
   "outputs": [
    {
     "name": "stdout",
     "output_type": "stream",
     "text": [
      "Epoch 1/50\n",
      "64/64 [==============================] - 0s 2ms/step - loss: 0.2498 - accuracy: 0.5228\n",
      "Epoch 2/50\n",
      "64/64 [==============================] - 0s 2ms/step - loss: 0.2471 - accuracy: 0.5636\n",
      "Epoch 3/50\n",
      "64/64 [==============================] - 0s 2ms/step - loss: 0.2469 - accuracy: 0.5589\n",
      "Epoch 4/50\n",
      "64/64 [==============================] - 0s 2ms/step - loss: 0.2493 - accuracy: 0.5353\n",
      "Epoch 5/50\n",
      "64/64 [==============================] - 0s 2ms/step - loss: 0.2438 - accuracy: 0.5589\n",
      "Epoch 6/50\n",
      "64/64 [==============================] - 0s 2ms/step - loss: 0.2423 - accuracy: 0.5636\n",
      "Epoch 7/50\n",
      "64/64 [==============================] - 0s 2ms/step - loss: 0.2403 - accuracy: 0.5620\n",
      "Epoch 8/50\n",
      "64/64 [==============================] - 0s 2ms/step - loss: 0.2358 - accuracy: 0.5793\n",
      "Epoch 9/50\n",
      "64/64 [==============================] - 0s 2ms/step - loss: 0.2262 - accuracy: 0.6374\n",
      "Epoch 10/50\n",
      "64/64 [==============================] - 0s 2ms/step - loss: 0.2161 - accuracy: 0.6797\n",
      "Epoch 11/50\n",
      "64/64 [==============================] - 0s 2ms/step - loss: 0.1994 - accuracy: 0.7378\n",
      "Epoch 12/50\n",
      "64/64 [==============================] - 0s 2ms/step - loss: 0.1762 - accuracy: 0.7991\n",
      "Epoch 13/50\n",
      "64/64 [==============================] - 0s 2ms/step - loss: 0.1600 - accuracy: 0.8085\n",
      "Epoch 14/50\n",
      "64/64 [==============================] - 0s 1ms/step - loss: 0.1525 - accuracy: 0.7943\n",
      "Epoch 15/50\n",
      "64/64 [==============================] - 0s 1ms/step - loss: 0.1436 - accuracy: 0.8210\n",
      "Epoch 16/50\n",
      "64/64 [==============================] - 0s 2ms/step - loss: 0.1372 - accuracy: 0.8100\n",
      "Epoch 17/50\n",
      "64/64 [==============================] - 0s 2ms/step - loss: 0.1364 - accuracy: 0.8195\n",
      "Epoch 18/50\n",
      "64/64 [==============================] - 0s 2ms/step - loss: 0.1347 - accuracy: 0.8289\n",
      "Epoch 19/50\n",
      "64/64 [==============================] - 0s 2ms/step - loss: 0.1326 - accuracy: 0.8289\n",
      "Epoch 20/50\n",
      "64/64 [==============================] - 0s 2ms/step - loss: 0.1298 - accuracy: 0.8289\n",
      "Epoch 21/50\n",
      "64/64 [==============================] - 0s 2ms/step - loss: 0.1300 - accuracy: 0.8399\n",
      "Epoch 22/50\n",
      "64/64 [==============================] - 0s 2ms/step - loss: 0.1322 - accuracy: 0.8367\n",
      "Epoch 23/50\n",
      "64/64 [==============================] - 0s 2ms/step - loss: 0.1271 - accuracy: 0.8399\n",
      "Epoch 24/50\n",
      "64/64 [==============================] - 0s 2ms/step - loss: 0.1281 - accuracy: 0.8289\n",
      "Epoch 25/50\n",
      "64/64 [==============================] - 0s 2ms/step - loss: 0.1245 - accuracy: 0.8462\n",
      "Epoch 26/50\n",
      "64/64 [==============================] - 0s 2ms/step - loss: 0.1247 - accuracy: 0.8352\n",
      "Epoch 27/50\n",
      "64/64 [==============================] - 0s 2ms/step - loss: 0.1242 - accuracy: 0.8446\n",
      "Epoch 28/50\n",
      "64/64 [==============================] - 0s 2ms/step - loss: 0.1241 - accuracy: 0.8430\n",
      "Epoch 29/50\n",
      "64/64 [==============================] - 0s 2ms/step - loss: 0.1224 - accuracy: 0.8414\n",
      "Epoch 30/50\n",
      "64/64 [==============================] - 0s 2ms/step - loss: 0.1277 - accuracy: 0.8336\n",
      "Epoch 31/50\n",
      "64/64 [==============================] - 0s 2ms/step - loss: 0.1220 - accuracy: 0.8462\n",
      "Epoch 32/50\n",
      "64/64 [==============================] - 0s 2ms/step - loss: 0.1195 - accuracy: 0.8477\n",
      "Epoch 33/50\n",
      "64/64 [==============================] - 0s 2ms/step - loss: 0.1219 - accuracy: 0.8414\n",
      "Epoch 34/50\n",
      "64/64 [==============================] - 0s 2ms/step - loss: 0.1183 - accuracy: 0.8509\n",
      "Epoch 35/50\n",
      "64/64 [==============================] - 0s 2ms/step - loss: 0.1212 - accuracy: 0.8367\n",
      "Epoch 36/50\n",
      "64/64 [==============================] - 0s 2ms/step - loss: 0.1183 - accuracy: 0.8540\n",
      "Epoch 37/50\n",
      "64/64 [==============================] - 0s 2ms/step - loss: 0.1168 - accuracy: 0.8493\n",
      "Epoch 38/50\n",
      "64/64 [==============================] - 0s 2ms/step - loss: 0.1186 - accuracy: 0.8493\n",
      "Epoch 39/50\n",
      "64/64 [==============================] - 0s 2ms/step - loss: 0.1218 - accuracy: 0.8383\n",
      "Epoch 40/50\n",
      "64/64 [==============================] - 0s 2ms/step - loss: 0.1200 - accuracy: 0.8493\n",
      "Epoch 41/50\n",
      "64/64 [==============================] - 0s 2ms/step - loss: 0.1177 - accuracy: 0.8477\n",
      "Epoch 42/50\n",
      "64/64 [==============================] - 0s 2ms/step - loss: 0.1157 - accuracy: 0.8493\n",
      "Epoch 43/50\n",
      "64/64 [==============================] - 0s 2ms/step - loss: 0.1177 - accuracy: 0.8477\n",
      "Epoch 44/50\n",
      "64/64 [==============================] - 0s 2ms/step - loss: 0.1205 - accuracy: 0.8352\n",
      "Epoch 45/50\n",
      "64/64 [==============================] - 0s 2ms/step - loss: 0.1140 - accuracy: 0.8509\n",
      "Epoch 46/50\n",
      "64/64 [==============================] - 0s 2ms/step - loss: 0.1159 - accuracy: 0.8462\n",
      "Epoch 47/50\n",
      "64/64 [==============================] - 0s 2ms/step - loss: 0.1136 - accuracy: 0.8509\n",
      "Epoch 48/50\n",
      "64/64 [==============================] - 0s 2ms/step - loss: 0.1173 - accuracy: 0.8477\n",
      "Epoch 49/50\n",
      "64/64 [==============================] - 0s 2ms/step - loss: 0.1165 - accuracy: 0.8446\n",
      "Epoch 50/50\n",
      "64/64 [==============================] - 0s 2ms/step - loss: 0.1192 - accuracy: 0.8399\n"
     ]
    }
   ],
   "source": [
    "result = model.fit(x=X_train, y=Y_train, epochs=50, batch_size=10)"
   ]
  },
  {
   "cell_type": "markdown",
   "metadata": {},
   "source": [
    "## 学習曲線（損失）の確認"
   ]
  },
  {
   "cell_type": "code",
   "execution_count": 170,
   "metadata": {},
   "outputs": [
    {
     "data": {
      "image/png": "[encoded data removed]",
      "text/plain": [
       "<Figure size 432x288 with 1 Axes>"
      ]
     },
     "metadata": {
      "needs_background": "light"
     },
     "output_type": "display_data"
    }
   ],
   "source": [
    "# 折れ線グラフによる学習データの損失の描画\n",
    "plt.plot(result.history['loss'])\n",
    "\n",
    "# 凡例の指定\n",
    "plt.legend(['Train', 'Val'])\n",
    "\n",
    "# グラフの軸タイトルの指定\n",
    "plt.xlabel('Epoch')\n",
    "plt.ylabel('Loss')\n",
    "\n",
    "# 描画の実行\n",
    "plt.show()\n"
   ]
  },
  {
   "cell_type": "markdown",
   "metadata": {},
   "source": [
    "## 検証データを使って予測値の検証"
   ]
  },
  {
   "cell_type": "code",
   "execution_count": 171,
   "metadata": {},
   "outputs": [
    {
     "name": "stdout",
     "output_type": "stream",
     "text": [
      "Test loss: 0.11595872789621353\n",
      "Test accuracy: 0.8587127327919006\n"
     ]
    }
   ],
   "source": [
    "# 検証 <-訓練データ \n",
    "score = model.evaluate(X_train, Y_train, verbose=0)\n",
    "print('Test loss:', score[0])\n",
    "print('Test accuracy:', score[1])"
   ]
  },
  {
   "cell_type": "code",
   "execution_count": 172,
   "metadata": {},
   "outputs": [
    {
     "name": "stdout",
     "output_type": "stream",
     "text": [
      "Test loss: 0.09981606155633926\n",
      "Test accuracy: 0.8732394576072693\n"
     ]
    }
   ],
   "source": [
    "# 検証 <-訓練データ \n",
    "score = model.evaluate(X_test, Y_test, verbose=0)\n",
    "print('Test loss:', score[0])\n",
    "print('Test accuracy:', score[1])"
   ]
  },
  {
   "cell_type": "code",
   "execution_count": 173,
   "metadata": {},
   "outputs": [],
   "source": [
    "def y_conv(y):\n",
    "    tmp = []\n",
    "    for idx in y:\n",
    "        if idx[0]  <  idx[1]:\n",
    "            tmp.append(1)\n",
    "        else:\n",
    "            tmp.append(0)\n",
    "    return tmp\n"
   ]
  },
  {
   "cell_type": "code",
   "execution_count": 174,
   "metadata": {},
   "outputs": [
    {
     "data": {
      "image/png": "[encoded data removed]",
      "text/plain": [
       "<Figure size 432x288 with 1 Axes>"
      ]
     },
     "metadata": {
      "needs_background": "light"
     },
     "output_type": "display_data"
    }
   ],
   "source": [
    "y_pred = model.predict(X_test)  \n",
    "y_pred = y_conv(y_pred)\n",
    "y_true = y_conv(Y_test)\n",
    "fpr, tpr, thresholds = roc_curve(y_true=y_true, y_score=y_pred)\n",
    "plt.plot(fpr, tpr, label='roc curve')\n",
    "plt.plot([0, 1], [0, 1], linestyle=':', label='random')\n",
    "plt.plot([0, 0, 1], [0, 1, 1], linestyle=':', label='ideal')\n",
    "plt.legend()\n",
    "plt.xlabel('false positive rate')\n",
    "plt.ylabel('true positive rate')\n",
    "plt.show()"
   ]
  },
  {
   "cell_type": "code",
   "execution_count": 175,
   "metadata": {},
   "outputs": [
    {
     "name": "stdout",
     "output_type": "stream",
     "text": [
      "AUC: 0.8768663348738002\n"
     ]
    }
   ],
   "source": [
    "# AUCスコアの算出\n",
    "auc_score = roc_auc_score(y_true=y_true, y_score=y_pred)\n",
    "print(\"AUC:\", auc_score)"
   ]
  },
  {
   "cell_type": "markdown",
   "metadata": {},
   "source": [
    "#  予測する"
   ]
  },
  {
   "cell_type": "code",
   "execution_count": 176,
   "metadata": {},
   "outputs": [],
   "source": [
    "y_predict = model.predict(x_vat)  \n",
    "y_predict = y_conv(y_predict)\n",
    "df_out = pd.DataFrame(y_predict, columns=['val'])\n",
    "\n",
    "df_out.to_csv('./submit.csv', encoding='utf_8_sig' , header=False)\n"
   ]
  },
  {
   "cell_type": "markdown",
   "metadata": {},
   "source": [
    "# モデルの保存"
   ]
  },
  {
   "cell_type": "code",
   "execution_count": 177,
   "metadata": {},
   "outputs": [],
   "source": [
    "model_path = 'param.hdf5'\n",
    "model.save_weights(model_path)"
   ]
  },
  {
   "cell_type": "code",
   "execution_count": null,
   "metadata": {},
   "outputs": [],
   "source": []
  }
 ],
 "metadata": {
  "kernelspec": {
   "display_name": "Python 3",
   "language": "python",
   "name": "python3"
  },
  "language_info": {
   "codemirror_mode": {
    "name": "ipython",
    "version": 3
   },
   "file_extension": ".py",
   "mimetype": "text/x-python",
   "name": "python",
   "nbconvert_exporter": "python",
   "pygments_lexer": "ipython3",
   "version": "3.7.1"
  }
 },
 "nbformat": 4,
 "nbformat_minor": 4
}
