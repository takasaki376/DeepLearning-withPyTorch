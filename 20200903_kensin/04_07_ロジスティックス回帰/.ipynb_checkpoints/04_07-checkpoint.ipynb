{
 "cells": [
  {
   "cell_type": "code",
   "execution_count": 1,
   "metadata": {},
   "outputs": [
    {
     "name": "stderr",
     "output_type": "stream",
     "text": [
      "C:\\Users\\takasaki\\Anaconda3\\envs\\matplotlib\\lib\\site-packages\\japanize_matplotlib\\japanize_matplotlib.py:15: MatplotlibDeprecationWarning: \n",
      "The createFontList function was deprecated in Matplotlib 3.2 and will be removed two minor releases later. Use FontManager.addfont instead.\n",
      "  font_list = font_manager.createFontList(font_files)\n"
     ]
    }
   ],
   "source": [
    "import numpy as np\n",
    "\n",
    "from sklearn.linear_model import LogisticRegression\n",
    "# 多項式・交互作用特徴量の生成\n",
    "from sklearn.preprocessing import PolynomialFeatures\n",
    "from sklearn.feature_selection import SelectFromModel\n",
    "# 予測結果の精度確認（ROC曲線の描画）\n",
    "from sklearn.metrics import roc_auc_score, roc_curve\n",
    "# 訓練データと検証データの分割\n",
    "from sklearn.model_selection import train_test_split\n",
    "# データを扱う\n",
    "import pandas as pd\n",
    "# グラフ描画\n",
    "from matplotlib import pyplot as plt\n",
    "import japanize_matplotlib"
   ]
  },
  {
   "cell_type": "markdown",
   "metadata": {},
   "source": [
    "## 訓練データの読み込み"
   ]
  },
  {
   "cell_type": "code",
   "execution_count": 43,
   "metadata": {},
   "outputs": [
    {
     "data": {
      "text/html": [
       "<div>\n",
       "<style scoped>\n",
       "    .dataframe tbody tr th:only-of-type {\n",
       "        vertical-align: middle;\n",
       "    }\n",
       "\n",
       "    .dataframe tbody tr th {\n",
       "        vertical-align: top;\n",
       "    }\n",
       "\n",
       "    .dataframe thead th {\n",
       "        text-align: right;\n",
       "    }\n",
       "</style>\n",
       "<table border=\"1\" class=\"dataframe\">\n",
       "  <thead>\n",
       "    <tr style=\"text-align: right;\">\n",
       "      <th></th>\n",
       "      <th>Age</th>\n",
       "      <th>Gender</th>\n",
       "      <th>T_Bil</th>\n",
       "      <th>D_Bil</th>\n",
       "      <th>ALP</th>\n",
       "      <th>ALT_GPT</th>\n",
       "      <th>AST_GOT</th>\n",
       "      <th>TP</th>\n",
       "      <th>Alb</th>\n",
       "      <th>AG_ratio</th>\n",
       "      <th>disease</th>\n",
       "    </tr>\n",
       "  </thead>\n",
       "  <tbody>\n",
       "    <tr>\n",
       "      <th>0</th>\n",
       "      <td>59</td>\n",
       "      <td>Male</td>\n",
       "      <td>0.786886</td>\n",
       "      <td>0.150498</td>\n",
       "      <td>220.178691</td>\n",
       "      <td>13.467617</td>\n",
       "      <td>21.729246</td>\n",
       "      <td>6.815731</td>\n",
       "      <td>3.112276</td>\n",
       "      <td>1.006802</td>\n",
       "      <td>0</td>\n",
       "    </tr>\n",
       "    <tr>\n",
       "      <th>1</th>\n",
       "      <td>69</td>\n",
       "      <td>Male</td>\n",
       "      <td>1.003987</td>\n",
       "      <td>0.195625</td>\n",
       "      <td>221.218413</td>\n",
       "      <td>51.033462</td>\n",
       "      <td>64.752323</td>\n",
       "      <td>6.889608</td>\n",
       "      <td>3.051521</td>\n",
       "      <td>0.751346</td>\n",
       "      <td>1</td>\n",
       "    </tr>\n",
       "    <tr>\n",
       "      <th>2</th>\n",
       "      <td>65</td>\n",
       "      <td>Male</td>\n",
       "      <td>0.657140</td>\n",
       "      <td>0.081287</td>\n",
       "      <td>320.770533</td>\n",
       "      <td>12.625011</td>\n",
       "      <td>30.613180</td>\n",
       "      <td>5.947767</td>\n",
       "      <td>2.489167</td>\n",
       "      <td>0.774952</td>\n",
       "      <td>0</td>\n",
       "    </tr>\n",
       "    <tr>\n",
       "      <th>3</th>\n",
       "      <td>65</td>\n",
       "      <td>Male</td>\n",
       "      <td>0.906822</td>\n",
       "      <td>0.214173</td>\n",
       "      <td>369.278160</td>\n",
       "      <td>34.347597</td>\n",
       "      <td>54.510085</td>\n",
       "      <td>6.967183</td>\n",
       "      <td>3.613837</td>\n",
       "      <td>0.988155</td>\n",
       "      <td>1</td>\n",
       "    </tr>\n",
       "    <tr>\n",
       "      <th>4</th>\n",
       "      <td>22</td>\n",
       "      <td>Female</td>\n",
       "      <td>1.734959</td>\n",
       "      <td>0.197706</td>\n",
       "      <td>222.782025</td>\n",
       "      <td>20.572891</td>\n",
       "      <td>170.010177</td>\n",
       "      <td>5.837537</td>\n",
       "      <td>3.068697</td>\n",
       "      <td>1.026654</td>\n",
       "      <td>0</td>\n",
       "    </tr>\n",
       "  </tbody>\n",
       "</table>\n",
       "</div>"
      ],
      "text/plain": [
       "   Age  Gender     T_Bil     D_Bil         ALP    ALT_GPT     AST_GOT  \\\n",
       "0   59    Male  0.786886  0.150498  220.178691  13.467617   21.729246   \n",
       "1   69    Male  1.003987  0.195625  221.218413  51.033462   64.752323   \n",
       "2   65    Male  0.657140  0.081287  320.770533  12.625011   30.613180   \n",
       "3   65    Male  0.906822  0.214173  369.278160  34.347597   54.510085   \n",
       "4   22  Female  1.734959  0.197706  222.782025  20.572891  170.010177   \n",
       "\n",
       "         TP       Alb  AG_ratio  disease  \n",
       "0  6.815731  3.112276  1.006802        0  \n",
       "1  6.889608  3.051521  0.751346        1  \n",
       "2  5.947767  2.489167  0.774952        0  \n",
       "3  6.967183  3.613837  0.988155        1  \n",
       "4  5.837537  3.068697  1.026654        0  "
      ]
     },
     "execution_count": 43,
     "metadata": {},
     "output_type": "execute_result"
    }
   ],
   "source": [
    "# CSVファイル読み込み（訓練データ）\n",
    "df_train = pd.read_csv('train.csv')\n",
    "df_train.head()"
   ]
  },
  {
   "cell_type": "code",
   "execution_count": 44,
   "metadata": {},
   "outputs": [
    {
     "data": {
      "text/html": [
       "<div>\n",
       "<style scoped>\n",
       "    .dataframe tbody tr th:only-of-type {\n",
       "        vertical-align: middle;\n",
       "    }\n",
       "\n",
       "    .dataframe tbody tr th {\n",
       "        vertical-align: top;\n",
       "    }\n",
       "\n",
       "    .dataframe thead th {\n",
       "        text-align: right;\n",
       "    }\n",
       "</style>\n",
       "<table border=\"1\" class=\"dataframe\">\n",
       "  <thead>\n",
       "    <tr style=\"text-align: right;\">\n",
       "      <th></th>\n",
       "      <th>Age</th>\n",
       "      <th>T_Bil</th>\n",
       "      <th>D_Bil</th>\n",
       "      <th>ALP</th>\n",
       "      <th>ALT_GPT</th>\n",
       "      <th>AST_GOT</th>\n",
       "      <th>TP</th>\n",
       "      <th>Alb</th>\n",
       "      <th>AG_ratio</th>\n",
       "      <th>disease</th>\n",
       "      <th>Female</th>\n",
       "      <th>Male</th>\n",
       "    </tr>\n",
       "  </thead>\n",
       "  <tbody>\n",
       "    <tr>\n",
       "      <th>0</th>\n",
       "      <td>59</td>\n",
       "      <td>0.786886</td>\n",
       "      <td>0.150498</td>\n",
       "      <td>220.178691</td>\n",
       "      <td>13.467617</td>\n",
       "      <td>21.729246</td>\n",
       "      <td>6.815731</td>\n",
       "      <td>3.112276</td>\n",
       "      <td>1.006802</td>\n",
       "      <td>0</td>\n",
       "      <td>0</td>\n",
       "      <td>1</td>\n",
       "    </tr>\n",
       "    <tr>\n",
       "      <th>1</th>\n",
       "      <td>69</td>\n",
       "      <td>1.003987</td>\n",
       "      <td>0.195625</td>\n",
       "      <td>221.218413</td>\n",
       "      <td>51.033462</td>\n",
       "      <td>64.752323</td>\n",
       "      <td>6.889608</td>\n",
       "      <td>3.051521</td>\n",
       "      <td>0.751346</td>\n",
       "      <td>1</td>\n",
       "      <td>0</td>\n",
       "      <td>1</td>\n",
       "    </tr>\n",
       "    <tr>\n",
       "      <th>2</th>\n",
       "      <td>65</td>\n",
       "      <td>0.657140</td>\n",
       "      <td>0.081287</td>\n",
       "      <td>320.770533</td>\n",
       "      <td>12.625011</td>\n",
       "      <td>30.613180</td>\n",
       "      <td>5.947767</td>\n",
       "      <td>2.489167</td>\n",
       "      <td>0.774952</td>\n",
       "      <td>0</td>\n",
       "      <td>0</td>\n",
       "      <td>1</td>\n",
       "    </tr>\n",
       "    <tr>\n",
       "      <th>3</th>\n",
       "      <td>65</td>\n",
       "      <td>0.906822</td>\n",
       "      <td>0.214173</td>\n",
       "      <td>369.278160</td>\n",
       "      <td>34.347597</td>\n",
       "      <td>54.510085</td>\n",
       "      <td>6.967183</td>\n",
       "      <td>3.613837</td>\n",
       "      <td>0.988155</td>\n",
       "      <td>1</td>\n",
       "      <td>0</td>\n",
       "      <td>1</td>\n",
       "    </tr>\n",
       "    <tr>\n",
       "      <th>4</th>\n",
       "      <td>22</td>\n",
       "      <td>1.734959</td>\n",
       "      <td>0.197706</td>\n",
       "      <td>222.782025</td>\n",
       "      <td>20.572891</td>\n",
       "      <td>170.010177</td>\n",
       "      <td>5.837537</td>\n",
       "      <td>3.068697</td>\n",
       "      <td>1.026654</td>\n",
       "      <td>0</td>\n",
       "      <td>1</td>\n",
       "      <td>0</td>\n",
       "    </tr>\n",
       "  </tbody>\n",
       "</table>\n",
       "</div>"
      ],
      "text/plain": [
       "   Age     T_Bil     D_Bil         ALP    ALT_GPT     AST_GOT        TP  \\\n",
       "0   59  0.786886  0.150498  220.178691  13.467617   21.729246  6.815731   \n",
       "1   69  1.003987  0.195625  221.218413  51.033462   64.752323  6.889608   \n",
       "2   65  0.657140  0.081287  320.770533  12.625011   30.613180  5.947767   \n",
       "3   65  0.906822  0.214173  369.278160  34.347597   54.510085  6.967183   \n",
       "4   22  1.734959  0.197706  222.782025  20.572891  170.010177  5.837537   \n",
       "\n",
       "        Alb  AG_ratio  disease  Female  Male  \n",
       "0  3.112276  1.006802        0       0     1  \n",
       "1  3.051521  0.751346        1       0     1  \n",
       "2  2.489167  0.774952        0       0     1  \n",
       "3  3.613837  0.988155        1       0     1  \n",
       "4  3.068697  1.026654        0       1     0  "
      ]
     },
     "execution_count": 44,
     "metadata": {},
     "output_type": "execute_result"
    }
   ],
   "source": [
    "# 性別を変換する（訓練データ）\n",
    "gemder=pd.get_dummies(df_train.loc[:,['Gender']])\n",
    "df_train['Female']=gemder.loc[:,['Gender_Female']]\n",
    "df_train['Male']=gemder.loc[:,['Gender_Male']]\n",
    "df_train.drop(columns=['Gender'],inplace=True)\n",
    "df_train.head()"
   ]
  },
  {
   "cell_type": "code",
   "execution_count": 45,
   "metadata": {},
   "outputs": [],
   "source": [
    "sigma=df_train.std()\n",
    "df_desc = df_train.describe()"
   ]
  },
  {
   "cell_type": "markdown",
   "metadata": {},
   "source": [
    "## 評価データの読み込み"
   ]
  },
  {
   "cell_type": "code",
   "execution_count": 46,
   "metadata": {},
   "outputs": [
    {
     "data": {
      "text/html": [
       "<div>\n",
       "<style scoped>\n",
       "    .dataframe tbody tr th:only-of-type {\n",
       "        vertical-align: middle;\n",
       "    }\n",
       "\n",
       "    .dataframe tbody tr th {\n",
       "        vertical-align: top;\n",
       "    }\n",
       "\n",
       "    .dataframe thead th {\n",
       "        text-align: right;\n",
       "    }\n",
       "</style>\n",
       "<table border=\"1\" class=\"dataframe\">\n",
       "  <thead>\n",
       "    <tr style=\"text-align: right;\">\n",
       "      <th></th>\n",
       "      <th>Age</th>\n",
       "      <th>Gender</th>\n",
       "      <th>T_Bil</th>\n",
       "      <th>D_Bil</th>\n",
       "      <th>ALP</th>\n",
       "      <th>ALT_GPT</th>\n",
       "      <th>AST_GOT</th>\n",
       "      <th>TP</th>\n",
       "      <th>Alb</th>\n",
       "      <th>AG_ratio</th>\n",
       "    </tr>\n",
       "  </thead>\n",
       "  <tbody>\n",
       "    <tr>\n",
       "      <th>0</th>\n",
       "      <td>25</td>\n",
       "      <td>Male</td>\n",
       "      <td>0.801797</td>\n",
       "      <td>0.186800</td>\n",
       "      <td>214.448679</td>\n",
       "      <td>15.260516</td>\n",
       "      <td>19.496649</td>\n",
       "      <td>6.817903</td>\n",
       "      <td>3.600752</td>\n",
       "      <td>1.288006</td>\n",
       "    </tr>\n",
       "    <tr>\n",
       "      <th>1</th>\n",
       "      <td>26</td>\n",
       "      <td>Female</td>\n",
       "      <td>0.834857</td>\n",
       "      <td>0.116426</td>\n",
       "      <td>234.136816</td>\n",
       "      <td>10.509159</td>\n",
       "      <td>16.733312</td>\n",
       "      <td>6.795433</td>\n",
       "      <td>3.111043</td>\n",
       "      <td>1.030562</td>\n",
       "    </tr>\n",
       "    <tr>\n",
       "      <th>2</th>\n",
       "      <td>64</td>\n",
       "      <td>Male</td>\n",
       "      <td>0.791830</td>\n",
       "      <td>0.197940</td>\n",
       "      <td>216.039909</td>\n",
       "      <td>14.578304</td>\n",
       "      <td>20.695866</td>\n",
       "      <td>7.524030</td>\n",
       "      <td>3.627621</td>\n",
       "      <td>1.278579</td>\n",
       "    </tr>\n",
       "    <tr>\n",
       "      <th>3</th>\n",
       "      <td>65</td>\n",
       "      <td>Male</td>\n",
       "      <td>0.834003</td>\n",
       "      <td>0.175741</td>\n",
       "      <td>200.901130</td>\n",
       "      <td>12.820356</td>\n",
       "      <td>20.102517</td>\n",
       "      <td>6.829109</td>\n",
       "      <td>3.626758</td>\n",
       "      <td>1.275070</td>\n",
       "    </tr>\n",
       "    <tr>\n",
       "      <th>4</th>\n",
       "      <td>34</td>\n",
       "      <td>Female</td>\n",
       "      <td>0.690296</td>\n",
       "      <td>0.135503</td>\n",
       "      <td>208.705835</td>\n",
       "      <td>20.279018</td>\n",
       "      <td>25.096685</td>\n",
       "      <td>8.663530</td>\n",
       "      <td>4.170750</td>\n",
       "      <td>1.280078</td>\n",
       "    </tr>\n",
       "  </tbody>\n",
       "</table>\n",
       "</div>"
      ],
      "text/plain": [
       "   Age  Gender     T_Bil     D_Bil         ALP    ALT_GPT    AST_GOT  \\\n",
       "0   25    Male  0.801797  0.186800  214.448679  15.260516  19.496649   \n",
       "1   26  Female  0.834857  0.116426  234.136816  10.509159  16.733312   \n",
       "2   64    Male  0.791830  0.197940  216.039909  14.578304  20.695866   \n",
       "3   65    Male  0.834003  0.175741  200.901130  12.820356  20.102517   \n",
       "4   34  Female  0.690296  0.135503  208.705835  20.279018  25.096685   \n",
       "\n",
       "         TP       Alb  AG_ratio  \n",
       "0  6.817903  3.600752  1.288006  \n",
       "1  6.795433  3.111043  1.030562  \n",
       "2  7.524030  3.627621  1.278579  \n",
       "3  6.829109  3.626758  1.275070  \n",
       "4  8.663530  4.170750  1.280078  "
      ]
     },
     "execution_count": 46,
     "metadata": {},
     "output_type": "execute_result"
    }
   ],
   "source": [
    "# CSVファイル読み込み（評価データ）\n",
    "df_vat = pd.read_csv('test.csv')\n",
    "df_vat.head()"
   ]
  },
  {
   "cell_type": "code",
   "execution_count": 47,
   "metadata": {},
   "outputs": [
    {
     "data": {
      "text/html": [
       "<div>\n",
       "<style scoped>\n",
       "    .dataframe tbody tr th:only-of-type {\n",
       "        vertical-align: middle;\n",
       "    }\n",
       "\n",
       "    .dataframe tbody tr th {\n",
       "        vertical-align: top;\n",
       "    }\n",
       "\n",
       "    .dataframe thead th {\n",
       "        text-align: right;\n",
       "    }\n",
       "</style>\n",
       "<table border=\"1\" class=\"dataframe\">\n",
       "  <thead>\n",
       "    <tr style=\"text-align: right;\">\n",
       "      <th></th>\n",
       "      <th>Age</th>\n",
       "      <th>T_Bil</th>\n",
       "      <th>D_Bil</th>\n",
       "      <th>ALP</th>\n",
       "      <th>ALT_GPT</th>\n",
       "      <th>AST_GOT</th>\n",
       "      <th>TP</th>\n",
       "      <th>Alb</th>\n",
       "      <th>AG_ratio</th>\n",
       "      <th>Female</th>\n",
       "      <th>Male</th>\n",
       "    </tr>\n",
       "  </thead>\n",
       "  <tbody>\n",
       "    <tr>\n",
       "      <th>0</th>\n",
       "      <td>25</td>\n",
       "      <td>0.801797</td>\n",
       "      <td>0.186800</td>\n",
       "      <td>214.448679</td>\n",
       "      <td>15.260516</td>\n",
       "      <td>19.496649</td>\n",
       "      <td>6.817903</td>\n",
       "      <td>3.600752</td>\n",
       "      <td>1.288006</td>\n",
       "      <td>0</td>\n",
       "      <td>1</td>\n",
       "    </tr>\n",
       "    <tr>\n",
       "      <th>1</th>\n",
       "      <td>26</td>\n",
       "      <td>0.834857</td>\n",
       "      <td>0.116426</td>\n",
       "      <td>234.136816</td>\n",
       "      <td>10.509159</td>\n",
       "      <td>16.733312</td>\n",
       "      <td>6.795433</td>\n",
       "      <td>3.111043</td>\n",
       "      <td>1.030562</td>\n",
       "      <td>1</td>\n",
       "      <td>0</td>\n",
       "    </tr>\n",
       "    <tr>\n",
       "      <th>2</th>\n",
       "      <td>64</td>\n",
       "      <td>0.791830</td>\n",
       "      <td>0.197940</td>\n",
       "      <td>216.039909</td>\n",
       "      <td>14.578304</td>\n",
       "      <td>20.695866</td>\n",
       "      <td>7.524030</td>\n",
       "      <td>3.627621</td>\n",
       "      <td>1.278579</td>\n",
       "      <td>0</td>\n",
       "      <td>1</td>\n",
       "    </tr>\n",
       "    <tr>\n",
       "      <th>3</th>\n",
       "      <td>65</td>\n",
       "      <td>0.834003</td>\n",
       "      <td>0.175741</td>\n",
       "      <td>200.901130</td>\n",
       "      <td>12.820356</td>\n",
       "      <td>20.102517</td>\n",
       "      <td>6.829109</td>\n",
       "      <td>3.626758</td>\n",
       "      <td>1.275070</td>\n",
       "      <td>0</td>\n",
       "      <td>1</td>\n",
       "    </tr>\n",
       "    <tr>\n",
       "      <th>4</th>\n",
       "      <td>34</td>\n",
       "      <td>0.690296</td>\n",
       "      <td>0.135503</td>\n",
       "      <td>208.705835</td>\n",
       "      <td>20.279018</td>\n",
       "      <td>25.096685</td>\n",
       "      <td>8.663530</td>\n",
       "      <td>4.170750</td>\n",
       "      <td>1.280078</td>\n",
       "      <td>1</td>\n",
       "      <td>0</td>\n",
       "    </tr>\n",
       "  </tbody>\n",
       "</table>\n",
       "</div>"
      ],
      "text/plain": [
       "   Age     T_Bil     D_Bil         ALP    ALT_GPT    AST_GOT        TP  \\\n",
       "0   25  0.801797  0.186800  214.448679  15.260516  19.496649  6.817903   \n",
       "1   26  0.834857  0.116426  234.136816  10.509159  16.733312  6.795433   \n",
       "2   64  0.791830  0.197940  216.039909  14.578304  20.695866  7.524030   \n",
       "3   65  0.834003  0.175741  200.901130  12.820356  20.102517  6.829109   \n",
       "4   34  0.690296  0.135503  208.705835  20.279018  25.096685  8.663530   \n",
       "\n",
       "        Alb  AG_ratio  Female  Male  \n",
       "0  3.600752  1.288006       0     1  \n",
       "1  3.111043  1.030562       1     0  \n",
       "2  3.627621  1.278579       0     1  \n",
       "3  3.626758  1.275070       0     1  \n",
       "4  4.170750  1.280078       1     0  "
      ]
     },
     "execution_count": 47,
     "metadata": {},
     "output_type": "execute_result"
    }
   ],
   "source": [
    "# 性別を変換する（評価データ）\n",
    "gemder=pd.get_dummies(df_vat.loc[:,['Gender']])\n",
    "df_vat['Female']=gemder.loc[:,['Gender_Female']]\n",
    "df_vat['Male']=gemder.loc[:,['Gender_Male']]\n",
    "df_vat.drop(columns=['Gender'],inplace=True)\n",
    "df_vat.head()"
   ]
  },
  {
   "cell_type": "markdown",
   "metadata": {},
   "source": [
    "## データ加工"
   ]
  },
  {
   "cell_type": "markdown",
   "metadata": {},
   "source": [
    "#### 訓練データのデータ加工前処理"
   ]
  },
  {
   "cell_type": "code",
   "execution_count": 48,
   "metadata": {},
   "outputs": [],
   "source": [
    "# 特徴量選択\n",
    "from sklearn.linear_model import LogisticRegression\n",
    "from sklearn.feature_selection import SelectFromModel\n",
    "# 多項式・交互作用特徴量\n",
    "from sklearn.preprocessing import PolynomialFeatures\n"
   ]
  },
  {
   "cell_type": "code",
   "execution_count": 49,
   "metadata": {},
   "outputs": [],
   "source": [
    "x_tmp=df_train.loc[:,['T_Bil', 'D_Bil', 'ALP', 'ALT_GPT', 'AST_GOT', 'TP', 'Alb','AG_ratio']]"
   ]
  },
  {
   "cell_type": "code",
   "execution_count": 50,
   "metadata": {},
   "outputs": [],
   "source": [
    "col='T_Bil'\n",
    "std=sigma[col]*3\n",
    "vat=df_desc.loc['75%',col]*3\n",
    "#x_tmp.loc[x_tmp[col]>(std),col]=std\n",
    "x_tmp.loc[x_tmp[col]>(std),col]=vat\n",
    "\n",
    "col='D_Bil'\n",
    "std=sigma[col]*3\n",
    "vat=df_desc.loc['75%',col]*3\n",
    "#x_tmp.loc[x_tmp[col]>(std),col]=std\n",
    "x_tmp.loc[x_tmp[col]>(std),col]=vat\n",
    "\n",
    "\n",
    "col='ALP'\n",
    "std=sigma[col]*3\n",
    "vat=df_desc.loc['75%',col]*3\n",
    "#x_tmp.loc[x_tmp[col]>(std),col]=std\n",
    "x_tmp.loc[x_tmp[col]>(std),col]=vat\n",
    "\n",
    "\n",
    "col='ALT_GPT'\n",
    "std=sigma[col]*3\n",
    "vat=df_desc.loc['75%',col]*3\n",
    "#x_tmp.loc[x_tmp[col]>(std),col]=std\n",
    "x_tmp.loc[x_tmp[col]>(std),col]=vat\n",
    "\n",
    "\n",
    "col='AST_GOT'\n",
    "std=sigma[col]*3\n",
    "vat=df_desc.loc['75%',col]*3\n",
    "#x_tmp.loc[x_tmp[col]>(std),col]=std\n",
    "x_tmp.loc[x_tmp[col]>(std),col]=vat"
   ]
  },
  {
   "cell_type": "code",
   "execution_count": 51,
   "metadata": {},
   "outputs": [
    {
     "data": {
      "text/html": [
       "<div>\n",
       "<style scoped>\n",
       "    .dataframe tbody tr th:only-of-type {\n",
       "        vertical-align: middle;\n",
       "    }\n",
       "\n",
       "    .dataframe tbody tr th {\n",
       "        vertical-align: top;\n",
       "    }\n",
       "\n",
       "    .dataframe thead th {\n",
       "        text-align: right;\n",
       "    }\n",
       "</style>\n",
       "<table border=\"1\" class=\"dataframe\">\n",
       "  <thead>\n",
       "    <tr style=\"text-align: right;\">\n",
       "      <th></th>\n",
       "      <th>T_Bil</th>\n",
       "      <th>D_Bil</th>\n",
       "      <th>ALP</th>\n",
       "      <th>ALT_GPT</th>\n",
       "      <th>AST_GOT</th>\n",
       "      <th>TP</th>\n",
       "      <th>Alb</th>\n",
       "      <th>AG_ratio</th>\n",
       "    </tr>\n",
       "  </thead>\n",
       "  <tbody>\n",
       "    <tr>\n",
       "      <th>count</th>\n",
       "      <td>850.000000</td>\n",
       "      <td>850.000000</td>\n",
       "      <td>850.000000</td>\n",
       "      <td>850.000000</td>\n",
       "      <td>850.000000</td>\n",
       "      <td>850.000000</td>\n",
       "      <td>850.000000</td>\n",
       "      <td>850.000000</td>\n",
       "    </tr>\n",
       "    <tr>\n",
       "      <th>mean</th>\n",
       "      <td>1.212683</td>\n",
       "      <td>0.461926</td>\n",
       "      <td>259.404120</td>\n",
       "      <td>25.565119</td>\n",
       "      <td>46.009185</td>\n",
       "      <td>7.032290</td>\n",
       "      <td>3.517458</td>\n",
       "      <td>1.144570</td>\n",
       "    </tr>\n",
       "    <tr>\n",
       "      <th>std</th>\n",
       "      <td>0.927980</td>\n",
       "      <td>0.785715</td>\n",
       "      <td>112.027572</td>\n",
       "      <td>36.870576</td>\n",
       "      <td>41.686726</td>\n",
       "      <td>0.840664</td>\n",
       "      <td>0.559942</td>\n",
       "      <td>0.227237</td>\n",
       "    </tr>\n",
       "    <tr>\n",
       "      <th>min</th>\n",
       "      <td>0.585961</td>\n",
       "      <td>0.034861</td>\n",
       "      <td>163.261838</td>\n",
       "      <td>3.924518</td>\n",
       "      <td>11.283497</td>\n",
       "      <td>4.858679</td>\n",
       "      <td>2.180884</td>\n",
       "      <td>0.627133</td>\n",
       "    </tr>\n",
       "    <tr>\n",
       "      <th>25%</th>\n",
       "      <td>0.781258</td>\n",
       "      <td>0.144889</td>\n",
       "      <td>213.991414</td>\n",
       "      <td>13.644658</td>\n",
       "      <td>21.239157</td>\n",
       "      <td>6.730612</td>\n",
       "      <td>3.139153</td>\n",
       "      <td>1.004466</td>\n",
       "    </tr>\n",
       "    <tr>\n",
       "      <th>50%</th>\n",
       "      <td>0.835591</td>\n",
       "      <td>0.194085</td>\n",
       "      <td>220.092503</td>\n",
       "      <td>16.638001</td>\n",
       "      <td>27.056026</td>\n",
       "      <td>6.915580</td>\n",
       "      <td>3.621339</td>\n",
       "      <td>1.205016</td>\n",
       "    </tr>\n",
       "    <tr>\n",
       "      <th>75%</th>\n",
       "      <td>1.196759</td>\n",
       "      <td>0.335447</td>\n",
       "      <td>229.455927</td>\n",
       "      <td>23.056081</td>\n",
       "      <td>56.461568</td>\n",
       "      <td>7.536151</td>\n",
       "      <td>3.712524</td>\n",
       "      <td>1.287880</td>\n",
       "    </tr>\n",
       "    <tr>\n",
       "      <th>max</th>\n",
       "      <td>7.314605</td>\n",
       "      <td>4.614812</td>\n",
       "      <td>688.367780</td>\n",
       "      <td>370.984154</td>\n",
       "      <td>327.287931</td>\n",
       "      <td>8.739000</td>\n",
       "      <td>5.016970</td>\n",
       "      <td>1.821496</td>\n",
       "    </tr>\n",
       "  </tbody>\n",
       "</table>\n",
       "</div>"
      ],
      "text/plain": [
       "            T_Bil       D_Bil         ALP     ALT_GPT     AST_GOT          TP  \\\n",
       "count  850.000000  850.000000  850.000000  850.000000  850.000000  850.000000   \n",
       "mean     1.212683    0.461926  259.404120   25.565119   46.009185    7.032290   \n",
       "std      0.927980    0.785715  112.027572   36.870576   41.686726    0.840664   \n",
       "min      0.585961    0.034861  163.261838    3.924518   11.283497    4.858679   \n",
       "25%      0.781258    0.144889  213.991414   13.644658   21.239157    6.730612   \n",
       "50%      0.835591    0.194085  220.092503   16.638001   27.056026    6.915580   \n",
       "75%      1.196759    0.335447  229.455927   23.056081   56.461568    7.536151   \n",
       "max      7.314605    4.614812  688.367780  370.984154  327.287931    8.739000   \n",
       "\n",
       "              Alb    AG_ratio  \n",
       "count  850.000000  850.000000  \n",
       "mean     3.517458    1.144570  \n",
       "std      0.559942    0.227237  \n",
       "min      2.180884    0.627133  \n",
       "25%      3.139153    1.004466  \n",
       "50%      3.621339    1.205016  \n",
       "75%      3.712524    1.287880  \n",
       "max      5.016970    1.821496  "
      ]
     },
     "execution_count": 51,
     "metadata": {},
     "output_type": "execute_result"
    }
   ],
   "source": [
    "x_tmp.describe()"
   ]
  },
  {
   "cell_type": "code",
   "execution_count": 52,
   "metadata": {},
   "outputs": [
    {
     "data": {
      "text/plain": [
       "(850, 8)"
      ]
     },
     "execution_count": 52,
     "metadata": {},
     "output_type": "execute_result"
    }
   ],
   "source": [
    "x_tmp.shape"
   ]
  },
  {
   "cell_type": "code",
   "execution_count": 53,
   "metadata": {},
   "outputs": [
    {
     "name": "stdout",
     "output_type": "stream",
     "text": [
      "      T_Bil     D_Bil         ALP    ALT_GPT     AST_GOT        TP       Alb  \\\n",
      "0  0.786886  0.150498  220.178691  13.467617   21.729246  6.815731  3.112276   \n",
      "1  1.003987  0.195625  221.218413  51.033462   64.752323  6.889608  3.051521   \n",
      "2  0.657140  0.081287  320.770533  12.625011   30.613180  5.947767  2.489167   \n",
      "3  0.906822  0.214173  369.278160  34.347597   54.510085  6.967183  3.613837   \n",
      "4  1.734959  0.197706  222.782025  20.572891  170.010177  5.837537  3.068697   \n",
      "\n",
      "   AG_ratio  \n",
      "0  1.006802  \n",
      "1  0.751346  \n",
      "2  0.774952  \n",
      "3  0.988155  \n",
      "4  1.026654  \n"
     ]
    }
   ],
   "source": [
    "# 説明変数（訓練データ）\n",
    "x_train = np.array(x_tmp)\n",
    "print(x_tmp.head())\n",
    "\n",
    "# 目的変数（訓練データ）\n",
    "y_train = np.array(df_train.loc[:,['disease']])\n"
   ]
  },
  {
   "cell_type": "code",
   "execution_count": null,
   "metadata": {},
   "outputs": [],
   "source": []
  },
  {
   "cell_type": "code",
   "execution_count": 54,
   "metadata": {},
   "outputs": [],
   "source": [
    "# 説明変数（評価データ）\n",
    "x_tmp=df_vat.loc[:,['T_Bil', 'D_Bil', 'ALP', 'ALT_GPT', 'AST_GOT', 'TP', 'Alb','AG_ratio']]"
   ]
  },
  {
   "cell_type": "code",
   "execution_count": 55,
   "metadata": {},
   "outputs": [],
   "source": [
    "col='T_Bil'\n",
    "std=sigma[col]*3\n",
    "vat=df_desc.loc['75%',col]*3\n",
    "#x_tmp.loc[x_tmp[col]>(std),col]=std\n",
    "x_tmp.loc[x_tmp[col]>(std),col]=vat\n",
    "\n",
    "col='D_Bil'\n",
    "std=sigma[col]*3\n",
    "vat=df_desc.loc['75%',col]*3\n",
    "#x_tmp.loc[x_tmp[col]>(std),col]=std\n",
    "x_tmp.loc[x_tmp[col]>(std),col]=vat\n",
    "\n",
    "\n",
    "col='ALP'\n",
    "std=sigma[col]*3\n",
    "vat=df_desc.loc['75%',col]*3\n",
    "#x_tmp.loc[x_tmp[col]>(std),col]=std\n",
    "x_tmp.loc[x_tmp[col]>(std),col]=vat\n",
    "\n",
    "\n",
    "col='ALT_GPT'\n",
    "std=sigma[col]*3\n",
    "vat=df_desc.loc['75%',col]*3\n",
    "#x_tmp.loc[x_tmp[col]>(std),col]=std\n",
    "x_tmp.loc[x_tmp[col]>(std),col]=vat\n",
    "\n",
    "\n",
    "col='AST_GOT'\n",
    "std=sigma[col]*3\n",
    "vat=df_desc.loc['75%',col]*3\n",
    "#x_tmp.loc[x_tmp[col]>(std),col]=std\n",
    "x_tmp.loc[x_tmp[col]>(std),col]=vat"
   ]
  },
  {
   "cell_type": "code",
   "execution_count": 56,
   "metadata": {},
   "outputs": [
    {
     "data": {
      "text/html": [
       "<div>\n",
       "<style scoped>\n",
       "    .dataframe tbody tr th:only-of-type {\n",
       "        vertical-align: middle;\n",
       "    }\n",
       "\n",
       "    .dataframe tbody tr th {\n",
       "        vertical-align: top;\n",
       "    }\n",
       "\n",
       "    .dataframe thead th {\n",
       "        text-align: right;\n",
       "    }\n",
       "</style>\n",
       "<table border=\"1\" class=\"dataframe\">\n",
       "  <thead>\n",
       "    <tr style=\"text-align: right;\">\n",
       "      <th></th>\n",
       "      <th>T_Bil</th>\n",
       "      <th>D_Bil</th>\n",
       "      <th>ALP</th>\n",
       "      <th>ALT_GPT</th>\n",
       "      <th>AST_GOT</th>\n",
       "      <th>TP</th>\n",
       "      <th>Alb</th>\n",
       "      <th>AG_ratio</th>\n",
       "    </tr>\n",
       "  </thead>\n",
       "  <tbody>\n",
       "    <tr>\n",
       "      <th>count</th>\n",
       "      <td>350.000000</td>\n",
       "      <td>350.000000</td>\n",
       "      <td>350.000000</td>\n",
       "      <td>350.000000</td>\n",
       "      <td>350.000000</td>\n",
       "      <td>350.000000</td>\n",
       "      <td>350.000000</td>\n",
       "      <td>350.000000</td>\n",
       "    </tr>\n",
       "    <tr>\n",
       "      <th>mean</th>\n",
       "      <td>1.163750</td>\n",
       "      <td>0.425247</td>\n",
       "      <td>270.622807</td>\n",
       "      <td>25.951229</td>\n",
       "      <td>44.255609</td>\n",
       "      <td>7.089375</td>\n",
       "      <td>3.561579</td>\n",
       "      <td>1.154658</td>\n",
       "    </tr>\n",
       "    <tr>\n",
       "      <th>std</th>\n",
       "      <td>0.796683</td>\n",
       "      <td>0.763121</td>\n",
       "      <td>130.214897</td>\n",
       "      <td>41.253597</td>\n",
       "      <td>42.084924</td>\n",
       "      <td>0.877987</td>\n",
       "      <td>0.607376</td>\n",
       "      <td>0.248094</td>\n",
       "    </tr>\n",
       "    <tr>\n",
       "      <th>min</th>\n",
       "      <td>0.610073</td>\n",
       "      <td>0.053853</td>\n",
       "      <td>175.747532</td>\n",
       "      <td>7.862773</td>\n",
       "      <td>11.278741</td>\n",
       "      <td>4.970108</td>\n",
       "      <td>2.296308</td>\n",
       "      <td>0.668751</td>\n",
       "    </tr>\n",
       "    <tr>\n",
       "      <th>25%</th>\n",
       "      <td>0.787081</td>\n",
       "      <td>0.147714</td>\n",
       "      <td>214.211425</td>\n",
       "      <td>13.551174</td>\n",
       "      <td>20.842910</td>\n",
       "      <td>6.725417</td>\n",
       "      <td>3.128234</td>\n",
       "      <td>1.008996</td>\n",
       "    </tr>\n",
       "    <tr>\n",
       "      <th>50%</th>\n",
       "      <td>0.845039</td>\n",
       "      <td>0.193881</td>\n",
       "      <td>220.738618</td>\n",
       "      <td>16.449139</td>\n",
       "      <td>25.971274</td>\n",
       "      <td>6.931101</td>\n",
       "      <td>3.620933</td>\n",
       "      <td>1.216902</td>\n",
       "    </tr>\n",
       "    <tr>\n",
       "      <th>75%</th>\n",
       "      <td>0.973743</td>\n",
       "      <td>0.236440</td>\n",
       "      <td>231.839764</td>\n",
       "      <td>22.760056</td>\n",
       "      <td>52.746083</td>\n",
       "      <td>7.553500</td>\n",
       "      <td>3.738682</td>\n",
       "      <td>1.287962</td>\n",
       "    </tr>\n",
       "    <tr>\n",
       "      <th>max</th>\n",
       "      <td>6.822959</td>\n",
       "      <td>4.671090</td>\n",
       "      <td>688.367780</td>\n",
       "      <td>361.417106</td>\n",
       "      <td>284.304483</td>\n",
       "      <td>8.752045</td>\n",
       "      <td>5.009589</td>\n",
       "      <td>1.805157</td>\n",
       "    </tr>\n",
       "  </tbody>\n",
       "</table>\n",
       "</div>"
      ],
      "text/plain": [
       "            T_Bil       D_Bil         ALP     ALT_GPT     AST_GOT          TP  \\\n",
       "count  350.000000  350.000000  350.000000  350.000000  350.000000  350.000000   \n",
       "mean     1.163750    0.425247  270.622807   25.951229   44.255609    7.089375   \n",
       "std      0.796683    0.763121  130.214897   41.253597   42.084924    0.877987   \n",
       "min      0.610073    0.053853  175.747532    7.862773   11.278741    4.970108   \n",
       "25%      0.787081    0.147714  214.211425   13.551174   20.842910    6.725417   \n",
       "50%      0.845039    0.193881  220.738618   16.449139   25.971274    6.931101   \n",
       "75%      0.973743    0.236440  231.839764   22.760056   52.746083    7.553500   \n",
       "max      6.822959    4.671090  688.367780  361.417106  284.304483    8.752045   \n",
       "\n",
       "              Alb    AG_ratio  \n",
       "count  350.000000  350.000000  \n",
       "mean     3.561579    1.154658  \n",
       "std      0.607376    0.248094  \n",
       "min      2.296308    0.668751  \n",
       "25%      3.128234    1.008996  \n",
       "50%      3.620933    1.216902  \n",
       "75%      3.738682    1.287962  \n",
       "max      5.009589    1.805157  "
      ]
     },
     "execution_count": 56,
     "metadata": {},
     "output_type": "execute_result"
    }
   ],
   "source": [
    "x_tmp.describe()"
   ]
  },
  {
   "cell_type": "code",
   "execution_count": 57,
   "metadata": {},
   "outputs": [
    {
     "data": {
      "text/plain": [
       "(350, 8)"
      ]
     },
     "execution_count": 57,
     "metadata": {},
     "output_type": "execute_result"
    }
   ],
   "source": [
    "x_tmp.shape"
   ]
  },
  {
   "cell_type": "code",
   "execution_count": 58,
   "metadata": {},
   "outputs": [
    {
     "name": "stdout",
     "output_type": "stream",
     "text": [
      "      T_Bil     D_Bil         ALP    ALT_GPT    AST_GOT        TP       Alb  \\\n",
      "0  0.801797  0.186800  214.448679  15.260516  19.496649  6.817903  3.600752   \n",
      "1  0.834857  0.116426  234.136816  10.509159  16.733312  6.795433  3.111043   \n",
      "2  0.791830  0.197940  216.039909  14.578304  20.695866  7.524030  3.627621   \n",
      "3  0.834003  0.175741  200.901130  12.820356  20.102517  6.829109  3.626758   \n",
      "4  0.690296  0.135503  208.705835  20.279018  25.096685  8.663530  4.170750   \n",
      "\n",
      "   AG_ratio  \n",
      "0  1.288006  \n",
      "1  1.030562  \n",
      "2  1.278579  \n",
      "3  1.275070  \n",
      "4  1.280078  \n"
     ]
    }
   ],
   "source": [
    "print(x_tmp.head())\n",
    "x_vat = np.array(x_tmp)"
   ]
  },
  {
   "cell_type": "markdown",
   "metadata": {},
   "source": [
    "## 訓練"
   ]
  },
  {
   "cell_type": "code",
   "execution_count": 59,
   "metadata": {},
   "outputs": [],
   "source": [
    "X_train,X_test,Y_train,Y_test=train_test_split(x_train, y_train, test_size=0.25, random_state=1) "
   ]
  },
  {
   "cell_type": "code",
   "execution_count": 60,
   "metadata": {},
   "outputs": [
    {
     "name": "stderr",
     "output_type": "stream",
     "text": [
      "C:\\Users\\takasaki\\Anaconda3\\envs\\matplotlib\\lib\\site-packages\\sklearn\\utils\\validation.py:73: DataConversionWarning: A column-vector y was passed when a 1d array was expected. Please change the shape of y to (n_samples, ), for example using ravel().\n",
      "  return f(**kwargs)\n",
      "C:\\Users\\takasaki\\Anaconda3\\envs\\matplotlib\\lib\\site-packages\\sklearn\\linear_model\\_logistic.py:764: ConvergenceWarning: lbfgs failed to converge (status=1):\n",
      "STOP: TOTAL NO. of ITERATIONS REACHED LIMIT.\n",
      "\n",
      "Increase the number of iterations (max_iter) or scale the data as shown in:\n",
      "    https://scikit-learn.org/stable/modules/preprocessing.html\n",
      "Please also refer to the documentation for alternative solver options:\n",
      "    https://scikit-learn.org/stable/modules/linear_model.html#logistic-regression\n",
      "  extra_warning_msg=_LOGISTIC_SOLVER_CONVERGENCE_MSG)\n"
     ]
    },
    {
     "data": {
      "text/plain": [
       "LogisticRegression()"
      ]
     },
     "execution_count": 60,
     "metadata": {},
     "output_type": "execute_result"
    }
   ],
   "source": [
    "# モデルの学習・予測\n",
    "model = LogisticRegression()\n",
    "model.fit(X_train, Y_train)"
   ]
  },
  {
   "cell_type": "markdown",
   "metadata": {},
   "source": [
    "## 検証データを使って予測値の検証"
   ]
  },
  {
   "cell_type": "code",
   "execution_count": 61,
   "metadata": {},
   "outputs": [
    {
     "data": {
      "text/plain": [
       "0.8414442700156985"
      ]
     },
     "execution_count": 61,
     "metadata": {},
     "output_type": "execute_result"
    }
   ],
   "source": [
    "# 検証 <-訓練データ \n",
    "model.score(X_train ,Y_train)"
   ]
  },
  {
   "cell_type": "code",
   "execution_count": 62,
   "metadata": {},
   "outputs": [
    {
     "data": {
      "text/plain": [
       "0.8591549295774648"
      ]
     },
     "execution_count": 62,
     "metadata": {},
     "output_type": "execute_result"
    }
   ],
   "source": [
    "# 検証 <-検証データ\n",
    "# (検証データと値が近いなら信用できる。\n",
    "#  どこまでの差異を近いとするかはそれぞれ\n",
    "#  判断する必要がある。)\n",
    "model.score(X_test,Y_test)"
   ]
  },
  {
   "cell_type": "markdown",
   "metadata": {},
   "source": [
    "## ROC曲線の描画（偽陽性率、真陽性率、閾値の算出）"
   ]
  },
  {
   "cell_type": "code",
   "execution_count": 63,
   "metadata": {},
   "outputs": [
    {
     "data": {
      "image/png": "[encoded data removed]",
      "text/plain": [
       "<Figure size 432x288 with 1 Axes>"
      ]
     },
     "metadata": {
      "needs_background": "light"
     },
     "output_type": "display_data"
    },
    {
     "name": "stdout",
     "output_type": "stream",
     "text": [
      "[2.         1.         0.97925861 0.97905015 0.96585169 0.96492089\n",
      " 0.85991725 0.85905094 0.73517808 0.72253916 0.69534869 0.6762213\n",
      " 0.64629954 0.64037119 0.6310929  0.62271023 0.60169465 0.58228892\n",
      " 0.57799323 0.5738577  0.50108822 0.49720842 0.41570219 0.41021096\n",
      " 0.39665553 0.37791013 0.36338667 0.33764711 0.32819575 0.32518048\n",
      " 0.32156989 0.25538707 0.23997809 0.21499516 0.21465759 0.19821864\n",
      " 0.19719591 0.12880034 0.12774583 0.03893968]\n"
     ]
    }
   ],
   "source": [
    "# ROC曲線の描画（偽陽性率、真陽性率、閾値の算出）\n",
    "y_pred = model.predict_proba(X_test)[:, 1]\n",
    "fpr, tpr, thresholds = roc_curve(y_true=Y_test, y_score=y_pred)\n",
    "plt.plot(fpr, tpr, label='roc curve')\n",
    "plt.plot([0, 1], [0, 1], linestyle=':', label='random')\n",
    "plt.plot([0, 0, 1], [0, 1, 1], linestyle=':', label='ideal')\n",
    "plt.legend()\n",
    "plt.xlabel('false positive rate')\n",
    "plt.ylabel('true positive rate')\n",
    "plt.show()\n",
    "print(thresholds)"
   ]
  },
  {
   "cell_type": "code",
   "execution_count": 64,
   "metadata": {},
   "outputs": [
    {
     "name": "stdout",
     "output_type": "stream",
     "text": [
      "AUC: 0.9338784216139354\n"
     ]
    }
   ],
   "source": [
    "# AUCスコアの算出\n",
    "auc_score = roc_auc_score(y_true=Y_test, y_score=y_pred)\n",
    "print(\"AUC:\", auc_score)"
   ]
  },
  {
   "cell_type": "code",
   "execution_count": null,
   "metadata": {},
   "outputs": [],
   "source": []
  },
  {
   "cell_type": "markdown",
   "metadata": {},
   "source": [
    "## 予測する"
   ]
  },
  {
   "cell_type": "code",
   "execution_count": 65,
   "metadata": {},
   "outputs": [],
   "source": [
    "y_pred = model.predict_proba(x_vat)[:, 1]\n",
    "y_pred=np.array(y_pred.round() ,dtype=np.int64)\n",
    "df_out = pd.DataFrame(y_pred, columns=['val'])\n",
    "df_out.to_csv('./submit.csv', encoding='utf_8_sig' , header=False)"
   ]
  },
  {
   "cell_type": "code",
   "execution_count": null,
   "metadata": {},
   "outputs": [],
   "source": [
    "#from collections import Counter\n",
    "#print(Counter(y_predict))"
   ]
  },
  {
   "cell_type": "markdown",
   "metadata": {},
   "source": [
    "## モデルの保存"
   ]
  },
  {
   "cell_type": "code",
   "execution_count": null,
   "metadata": {},
   "outputs": [],
   "source": [
    "#import pickle\n",
    "#with open('model.pickle', mode='wb') as fp:\n",
    "#    pickle.dump(model, fp)"
   ]
  },
  {
   "cell_type": "code",
   "execution_count": null,
   "metadata": {},
   "outputs": [],
   "source": []
  }
 ],
 "metadata": {
  "kernelspec": {
   "display_name": "Python 3",
   "language": "python",
   "name": "python3"
  },
  "language_info": {
   "codemirror_mode": {
    "name": "ipython",
    "version": 3
   },
   "file_extension": ".py",
   "mimetype": "text/x-python",
   "name": "python",
   "nbconvert_exporter": "python",
   "pygments_lexer": "ipython3",
   "version": "3.7.1"
  }
 },
 "nbformat": 4,
 "nbformat_minor": 4
}
