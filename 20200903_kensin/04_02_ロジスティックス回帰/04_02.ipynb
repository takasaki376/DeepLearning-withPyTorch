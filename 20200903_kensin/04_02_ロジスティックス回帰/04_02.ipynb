{
 "cells": [
  {
   "cell_type": "code",
   "execution_count": 16,
   "metadata": {},
   "outputs": [],
   "source": [
    "import numpy as np\n",
    "\n",
    "from sklearn.linear_model import LogisticRegression\n",
    "# 多項式・交互作用特徴量の生成\n",
    "from sklearn.preprocessing import PolynomialFeatures\n",
    "from sklearn.feature_selection import SelectFromModel\n",
    "# 予測結果の精度確認（ROC曲線の描画）\n",
    "from sklearn.metrics import roc_auc_score, roc_curve\n",
    "# 訓練データと検証データの分割\n",
    "from sklearn.model_selection import train_test_split\n",
    "# データを扱う\n",
    "import pandas as pd\n",
    "# グラフ描画\n",
    "from matplotlib import pyplot as plt\n",
    "import japanize_matplotlib"
   ]
  },
  {
   "cell_type": "markdown",
   "metadata": {},
   "source": [
    "## 訓練データの読み込み"
   ]
  },
  {
   "cell_type": "code",
   "execution_count": 17,
   "metadata": {},
   "outputs": [
    {
     "data": {
      "text/html": [
       "<div>\n",
       "<style scoped>\n",
       "    .dataframe tbody tr th:only-of-type {\n",
       "        vertical-align: middle;\n",
       "    }\n",
       "\n",
       "    .dataframe tbody tr th {\n",
       "        vertical-align: top;\n",
       "    }\n",
       "\n",
       "    .dataframe thead th {\n",
       "        text-align: right;\n",
       "    }\n",
       "</style>\n",
       "<table border=\"1\" class=\"dataframe\">\n",
       "  <thead>\n",
       "    <tr style=\"text-align: right;\">\n",
       "      <th></th>\n",
       "      <th>Age</th>\n",
       "      <th>Gender</th>\n",
       "      <th>T_Bil</th>\n",
       "      <th>D_Bil</th>\n",
       "      <th>ALP</th>\n",
       "      <th>ALT_GPT</th>\n",
       "      <th>AST_GOT</th>\n",
       "      <th>TP</th>\n",
       "      <th>Alb</th>\n",
       "      <th>AG_ratio</th>\n",
       "      <th>disease</th>\n",
       "    </tr>\n",
       "  </thead>\n",
       "  <tbody>\n",
       "    <tr>\n",
       "      <th>0</th>\n",
       "      <td>59</td>\n",
       "      <td>Male</td>\n",
       "      <td>0.786886</td>\n",
       "      <td>0.150498</td>\n",
       "      <td>220.178691</td>\n",
       "      <td>13.467617</td>\n",
       "      <td>21.729246</td>\n",
       "      <td>6.815731</td>\n",
       "      <td>3.112276</td>\n",
       "      <td>1.006802</td>\n",
       "      <td>0</td>\n",
       "    </tr>\n",
       "    <tr>\n",
       "      <th>1</th>\n",
       "      <td>69</td>\n",
       "      <td>Male</td>\n",
       "      <td>1.003987</td>\n",
       "      <td>0.195625</td>\n",
       "      <td>221.218413</td>\n",
       "      <td>51.033462</td>\n",
       "      <td>64.752323</td>\n",
       "      <td>6.889608</td>\n",
       "      <td>3.051521</td>\n",
       "      <td>0.751346</td>\n",
       "      <td>1</td>\n",
       "    </tr>\n",
       "    <tr>\n",
       "      <th>2</th>\n",
       "      <td>65</td>\n",
       "      <td>Male</td>\n",
       "      <td>0.657140</td>\n",
       "      <td>0.081287</td>\n",
       "      <td>320.770533</td>\n",
       "      <td>12.625011</td>\n",
       "      <td>30.613180</td>\n",
       "      <td>5.947767</td>\n",
       "      <td>2.489167</td>\n",
       "      <td>0.774952</td>\n",
       "      <td>0</td>\n",
       "    </tr>\n",
       "    <tr>\n",
       "      <th>3</th>\n",
       "      <td>65</td>\n",
       "      <td>Male</td>\n",
       "      <td>0.906822</td>\n",
       "      <td>0.214173</td>\n",
       "      <td>369.278160</td>\n",
       "      <td>34.347597</td>\n",
       "      <td>54.510085</td>\n",
       "      <td>6.967183</td>\n",
       "      <td>3.613837</td>\n",
       "      <td>0.988155</td>\n",
       "      <td>1</td>\n",
       "    </tr>\n",
       "    <tr>\n",
       "      <th>4</th>\n",
       "      <td>22</td>\n",
       "      <td>Female</td>\n",
       "      <td>1.734959</td>\n",
       "      <td>0.197706</td>\n",
       "      <td>222.782025</td>\n",
       "      <td>20.572891</td>\n",
       "      <td>170.010177</td>\n",
       "      <td>5.837537</td>\n",
       "      <td>3.068697</td>\n",
       "      <td>1.026654</td>\n",
       "      <td>0</td>\n",
       "    </tr>\n",
       "  </tbody>\n",
       "</table>\n",
       "</div>"
      ],
      "text/plain": [
       "   Age  Gender     T_Bil     D_Bil         ALP    ALT_GPT     AST_GOT  \\\n",
       "0   59    Male  0.786886  0.150498  220.178691  13.467617   21.729246   \n",
       "1   69    Male  1.003987  0.195625  221.218413  51.033462   64.752323   \n",
       "2   65    Male  0.657140  0.081287  320.770533  12.625011   30.613180   \n",
       "3   65    Male  0.906822  0.214173  369.278160  34.347597   54.510085   \n",
       "4   22  Female  1.734959  0.197706  222.782025  20.572891  170.010177   \n",
       "\n",
       "         TP       Alb  AG_ratio  disease  \n",
       "0  6.815731  3.112276  1.006802        0  \n",
       "1  6.889608  3.051521  0.751346        1  \n",
       "2  5.947767  2.489167  0.774952        0  \n",
       "3  6.967183  3.613837  0.988155        1  \n",
       "4  5.837537  3.068697  1.026654        0  "
      ]
     },
     "execution_count": 17,
     "metadata": {},
     "output_type": "execute_result"
    }
   ],
   "source": [
    "# CSVファイル読み込み（訓練データ）\n",
    "df_train = pd.read_csv('train.csv')\n",
    "df_train.head()"
   ]
  },
  {
   "cell_type": "code",
   "execution_count": 18,
   "metadata": {},
   "outputs": [
    {
     "data": {
      "text/html": [
       "<div>\n",
       "<style scoped>\n",
       "    .dataframe tbody tr th:only-of-type {\n",
       "        vertical-align: middle;\n",
       "    }\n",
       "\n",
       "    .dataframe tbody tr th {\n",
       "        vertical-align: top;\n",
       "    }\n",
       "\n",
       "    .dataframe thead th {\n",
       "        text-align: right;\n",
       "    }\n",
       "</style>\n",
       "<table border=\"1\" class=\"dataframe\">\n",
       "  <thead>\n",
       "    <tr style=\"text-align: right;\">\n",
       "      <th></th>\n",
       "      <th>Age</th>\n",
       "      <th>T_Bil</th>\n",
       "      <th>D_Bil</th>\n",
       "      <th>ALP</th>\n",
       "      <th>ALT_GPT</th>\n",
       "      <th>AST_GOT</th>\n",
       "      <th>TP</th>\n",
       "      <th>Alb</th>\n",
       "      <th>AG_ratio</th>\n",
       "      <th>disease</th>\n",
       "      <th>Female</th>\n",
       "      <th>Male</th>\n",
       "    </tr>\n",
       "  </thead>\n",
       "  <tbody>\n",
       "    <tr>\n",
       "      <th>0</th>\n",
       "      <td>59</td>\n",
       "      <td>0.786886</td>\n",
       "      <td>0.150498</td>\n",
       "      <td>220.178691</td>\n",
       "      <td>13.467617</td>\n",
       "      <td>21.729246</td>\n",
       "      <td>6.815731</td>\n",
       "      <td>3.112276</td>\n",
       "      <td>1.006802</td>\n",
       "      <td>0</td>\n",
       "      <td>0</td>\n",
       "      <td>1</td>\n",
       "    </tr>\n",
       "    <tr>\n",
       "      <th>1</th>\n",
       "      <td>69</td>\n",
       "      <td>1.003987</td>\n",
       "      <td>0.195625</td>\n",
       "      <td>221.218413</td>\n",
       "      <td>51.033462</td>\n",
       "      <td>64.752323</td>\n",
       "      <td>6.889608</td>\n",
       "      <td>3.051521</td>\n",
       "      <td>0.751346</td>\n",
       "      <td>1</td>\n",
       "      <td>0</td>\n",
       "      <td>1</td>\n",
       "    </tr>\n",
       "    <tr>\n",
       "      <th>2</th>\n",
       "      <td>65</td>\n",
       "      <td>0.657140</td>\n",
       "      <td>0.081287</td>\n",
       "      <td>320.770533</td>\n",
       "      <td>12.625011</td>\n",
       "      <td>30.613180</td>\n",
       "      <td>5.947767</td>\n",
       "      <td>2.489167</td>\n",
       "      <td>0.774952</td>\n",
       "      <td>0</td>\n",
       "      <td>0</td>\n",
       "      <td>1</td>\n",
       "    </tr>\n",
       "    <tr>\n",
       "      <th>3</th>\n",
       "      <td>65</td>\n",
       "      <td>0.906822</td>\n",
       "      <td>0.214173</td>\n",
       "      <td>369.278160</td>\n",
       "      <td>34.347597</td>\n",
       "      <td>54.510085</td>\n",
       "      <td>6.967183</td>\n",
       "      <td>3.613837</td>\n",
       "      <td>0.988155</td>\n",
       "      <td>1</td>\n",
       "      <td>0</td>\n",
       "      <td>1</td>\n",
       "    </tr>\n",
       "    <tr>\n",
       "      <th>4</th>\n",
       "      <td>22</td>\n",
       "      <td>1.734959</td>\n",
       "      <td>0.197706</td>\n",
       "      <td>222.782025</td>\n",
       "      <td>20.572891</td>\n",
       "      <td>170.010177</td>\n",
       "      <td>5.837537</td>\n",
       "      <td>3.068697</td>\n",
       "      <td>1.026654</td>\n",
       "      <td>0</td>\n",
       "      <td>1</td>\n",
       "      <td>0</td>\n",
       "    </tr>\n",
       "  </tbody>\n",
       "</table>\n",
       "</div>"
      ],
      "text/plain": [
       "   Age     T_Bil     D_Bil         ALP    ALT_GPT     AST_GOT        TP  \\\n",
       "0   59  0.786886  0.150498  220.178691  13.467617   21.729246  6.815731   \n",
       "1   69  1.003987  0.195625  221.218413  51.033462   64.752323  6.889608   \n",
       "2   65  0.657140  0.081287  320.770533  12.625011   30.613180  5.947767   \n",
       "3   65  0.906822  0.214173  369.278160  34.347597   54.510085  6.967183   \n",
       "4   22  1.734959  0.197706  222.782025  20.572891  170.010177  5.837537   \n",
       "\n",
       "        Alb  AG_ratio  disease  Female  Male  \n",
       "0  3.112276  1.006802        0       0     1  \n",
       "1  3.051521  0.751346        1       0     1  \n",
       "2  2.489167  0.774952        0       0     1  \n",
       "3  3.613837  0.988155        1       0     1  \n",
       "4  3.068697  1.026654        0       1     0  "
      ]
     },
     "execution_count": 18,
     "metadata": {},
     "output_type": "execute_result"
    }
   ],
   "source": [
    "# 性別を変換する（訓練データ）\n",
    "gemder=pd.get_dummies(df_train.loc[:,['Gender']])\n",
    "df_train['Female']=gemder.loc[:,['Gender_Female']]\n",
    "df_train['Male']=gemder.loc[:,['Gender_Male']]\n",
    "df_train.drop(columns=['Gender'],inplace=True)\n",
    "df_train.head()"
   ]
  },
  {
   "cell_type": "code",
   "execution_count": 19,
   "metadata": {},
   "outputs": [],
   "source": [
    "# 重複データを削除する\n",
    "# df.drop_duplicates(inplace=True)\n",
    "# インデックスを採番し直す\n",
    "#df.reset_index(drop=True, inplace=True)"
   ]
  },
  {
   "cell_type": "markdown",
   "metadata": {},
   "source": [
    "## 評価データの読み込み"
   ]
  },
  {
   "cell_type": "code",
   "execution_count": 20,
   "metadata": {},
   "outputs": [
    {
     "data": {
      "text/html": [
       "<div>\n",
       "<style scoped>\n",
       "    .dataframe tbody tr th:only-of-type {\n",
       "        vertical-align: middle;\n",
       "    }\n",
       "\n",
       "    .dataframe tbody tr th {\n",
       "        vertical-align: top;\n",
       "    }\n",
       "\n",
       "    .dataframe thead th {\n",
       "        text-align: right;\n",
       "    }\n",
       "</style>\n",
       "<table border=\"1\" class=\"dataframe\">\n",
       "  <thead>\n",
       "    <tr style=\"text-align: right;\">\n",
       "      <th></th>\n",
       "      <th>Age</th>\n",
       "      <th>Gender</th>\n",
       "      <th>T_Bil</th>\n",
       "      <th>D_Bil</th>\n",
       "      <th>ALP</th>\n",
       "      <th>ALT_GPT</th>\n",
       "      <th>AST_GOT</th>\n",
       "      <th>TP</th>\n",
       "      <th>Alb</th>\n",
       "      <th>AG_ratio</th>\n",
       "    </tr>\n",
       "  </thead>\n",
       "  <tbody>\n",
       "    <tr>\n",
       "      <th>0</th>\n",
       "      <td>25</td>\n",
       "      <td>Male</td>\n",
       "      <td>0.801797</td>\n",
       "      <td>0.186800</td>\n",
       "      <td>214.448679</td>\n",
       "      <td>15.260516</td>\n",
       "      <td>19.496649</td>\n",
       "      <td>6.817903</td>\n",
       "      <td>3.600752</td>\n",
       "      <td>1.288006</td>\n",
       "    </tr>\n",
       "    <tr>\n",
       "      <th>1</th>\n",
       "      <td>26</td>\n",
       "      <td>Female</td>\n",
       "      <td>0.834857</td>\n",
       "      <td>0.116426</td>\n",
       "      <td>234.136816</td>\n",
       "      <td>10.509159</td>\n",
       "      <td>16.733312</td>\n",
       "      <td>6.795433</td>\n",
       "      <td>3.111043</td>\n",
       "      <td>1.030562</td>\n",
       "    </tr>\n",
       "    <tr>\n",
       "      <th>2</th>\n",
       "      <td>64</td>\n",
       "      <td>Male</td>\n",
       "      <td>0.791830</td>\n",
       "      <td>0.197940</td>\n",
       "      <td>216.039909</td>\n",
       "      <td>14.578304</td>\n",
       "      <td>20.695866</td>\n",
       "      <td>7.524030</td>\n",
       "      <td>3.627621</td>\n",
       "      <td>1.278579</td>\n",
       "    </tr>\n",
       "    <tr>\n",
       "      <th>3</th>\n",
       "      <td>65</td>\n",
       "      <td>Male</td>\n",
       "      <td>0.834003</td>\n",
       "      <td>0.175741</td>\n",
       "      <td>200.901130</td>\n",
       "      <td>12.820356</td>\n",
       "      <td>20.102517</td>\n",
       "      <td>6.829109</td>\n",
       "      <td>3.626758</td>\n",
       "      <td>1.275070</td>\n",
       "    </tr>\n",
       "    <tr>\n",
       "      <th>4</th>\n",
       "      <td>34</td>\n",
       "      <td>Female</td>\n",
       "      <td>0.690296</td>\n",
       "      <td>0.135503</td>\n",
       "      <td>208.705835</td>\n",
       "      <td>20.279018</td>\n",
       "      <td>25.096685</td>\n",
       "      <td>8.663530</td>\n",
       "      <td>4.170750</td>\n",
       "      <td>1.280078</td>\n",
       "    </tr>\n",
       "  </tbody>\n",
       "</table>\n",
       "</div>"
      ],
      "text/plain": [
       "   Age  Gender     T_Bil     D_Bil         ALP    ALT_GPT    AST_GOT  \\\n",
       "0   25    Male  0.801797  0.186800  214.448679  15.260516  19.496649   \n",
       "1   26  Female  0.834857  0.116426  234.136816  10.509159  16.733312   \n",
       "2   64    Male  0.791830  0.197940  216.039909  14.578304  20.695866   \n",
       "3   65    Male  0.834003  0.175741  200.901130  12.820356  20.102517   \n",
       "4   34  Female  0.690296  0.135503  208.705835  20.279018  25.096685   \n",
       "\n",
       "         TP       Alb  AG_ratio  \n",
       "0  6.817903  3.600752  1.288006  \n",
       "1  6.795433  3.111043  1.030562  \n",
       "2  7.524030  3.627621  1.278579  \n",
       "3  6.829109  3.626758  1.275070  \n",
       "4  8.663530  4.170750  1.280078  "
      ]
     },
     "execution_count": 20,
     "metadata": {},
     "output_type": "execute_result"
    }
   ],
   "source": [
    "# CSVファイル読み込み（評価データ）\n",
    "df_vat = pd.read_csv('test.csv')\n",
    "df_vat.head()"
   ]
  },
  {
   "cell_type": "code",
   "execution_count": 21,
   "metadata": {},
   "outputs": [
    {
     "data": {
      "text/html": [
       "<div>\n",
       "<style scoped>\n",
       "    .dataframe tbody tr th:only-of-type {\n",
       "        vertical-align: middle;\n",
       "    }\n",
       "\n",
       "    .dataframe tbody tr th {\n",
       "        vertical-align: top;\n",
       "    }\n",
       "\n",
       "    .dataframe thead th {\n",
       "        text-align: right;\n",
       "    }\n",
       "</style>\n",
       "<table border=\"1\" class=\"dataframe\">\n",
       "  <thead>\n",
       "    <tr style=\"text-align: right;\">\n",
       "      <th></th>\n",
       "      <th>Age</th>\n",
       "      <th>T_Bil</th>\n",
       "      <th>D_Bil</th>\n",
       "      <th>ALP</th>\n",
       "      <th>ALT_GPT</th>\n",
       "      <th>AST_GOT</th>\n",
       "      <th>TP</th>\n",
       "      <th>Alb</th>\n",
       "      <th>AG_ratio</th>\n",
       "      <th>Female</th>\n",
       "      <th>Male</th>\n",
       "    </tr>\n",
       "  </thead>\n",
       "  <tbody>\n",
       "    <tr>\n",
       "      <th>0</th>\n",
       "      <td>25</td>\n",
       "      <td>0.801797</td>\n",
       "      <td>0.186800</td>\n",
       "      <td>214.448679</td>\n",
       "      <td>15.260516</td>\n",
       "      <td>19.496649</td>\n",
       "      <td>6.817903</td>\n",
       "      <td>3.600752</td>\n",
       "      <td>1.288006</td>\n",
       "      <td>0</td>\n",
       "      <td>1</td>\n",
       "    </tr>\n",
       "    <tr>\n",
       "      <th>1</th>\n",
       "      <td>26</td>\n",
       "      <td>0.834857</td>\n",
       "      <td>0.116426</td>\n",
       "      <td>234.136816</td>\n",
       "      <td>10.509159</td>\n",
       "      <td>16.733312</td>\n",
       "      <td>6.795433</td>\n",
       "      <td>3.111043</td>\n",
       "      <td>1.030562</td>\n",
       "      <td>1</td>\n",
       "      <td>0</td>\n",
       "    </tr>\n",
       "    <tr>\n",
       "      <th>2</th>\n",
       "      <td>64</td>\n",
       "      <td>0.791830</td>\n",
       "      <td>0.197940</td>\n",
       "      <td>216.039909</td>\n",
       "      <td>14.578304</td>\n",
       "      <td>20.695866</td>\n",
       "      <td>7.524030</td>\n",
       "      <td>3.627621</td>\n",
       "      <td>1.278579</td>\n",
       "      <td>0</td>\n",
       "      <td>1</td>\n",
       "    </tr>\n",
       "    <tr>\n",
       "      <th>3</th>\n",
       "      <td>65</td>\n",
       "      <td>0.834003</td>\n",
       "      <td>0.175741</td>\n",
       "      <td>200.901130</td>\n",
       "      <td>12.820356</td>\n",
       "      <td>20.102517</td>\n",
       "      <td>6.829109</td>\n",
       "      <td>3.626758</td>\n",
       "      <td>1.275070</td>\n",
       "      <td>0</td>\n",
       "      <td>1</td>\n",
       "    </tr>\n",
       "    <tr>\n",
       "      <th>4</th>\n",
       "      <td>34</td>\n",
       "      <td>0.690296</td>\n",
       "      <td>0.135503</td>\n",
       "      <td>208.705835</td>\n",
       "      <td>20.279018</td>\n",
       "      <td>25.096685</td>\n",
       "      <td>8.663530</td>\n",
       "      <td>4.170750</td>\n",
       "      <td>1.280078</td>\n",
       "      <td>1</td>\n",
       "      <td>0</td>\n",
       "    </tr>\n",
       "  </tbody>\n",
       "</table>\n",
       "</div>"
      ],
      "text/plain": [
       "   Age     T_Bil     D_Bil         ALP    ALT_GPT    AST_GOT        TP  \\\n",
       "0   25  0.801797  0.186800  214.448679  15.260516  19.496649  6.817903   \n",
       "1   26  0.834857  0.116426  234.136816  10.509159  16.733312  6.795433   \n",
       "2   64  0.791830  0.197940  216.039909  14.578304  20.695866  7.524030   \n",
       "3   65  0.834003  0.175741  200.901130  12.820356  20.102517  6.829109   \n",
       "4   34  0.690296  0.135503  208.705835  20.279018  25.096685  8.663530   \n",
       "\n",
       "        Alb  AG_ratio  Female  Male  \n",
       "0  3.600752  1.288006       0     1  \n",
       "1  3.111043  1.030562       1     0  \n",
       "2  3.627621  1.278579       0     1  \n",
       "3  3.626758  1.275070       0     1  \n",
       "4  4.170750  1.280078       1     0  "
      ]
     },
     "execution_count": 21,
     "metadata": {},
     "output_type": "execute_result"
    }
   ],
   "source": [
    "# 性別を変換する（評価データ）\n",
    "gemder=pd.get_dummies(df_vat.loc[:,['Gender']])\n",
    "df_vat['Female']=gemder.loc[:,['Gender_Female']]\n",
    "df_vat['Male']=gemder.loc[:,['Gender_Male']]\n",
    "df_vat.drop(columns=['Gender'],inplace=True)\n",
    "df_vat.head()"
   ]
  },
  {
   "cell_type": "markdown",
   "metadata": {},
   "source": [
    "## データ加工"
   ]
  },
  {
   "cell_type": "code",
   "execution_count": 22,
   "metadata": {},
   "outputs": [],
   "source": [
    "def xConv(x_tmp,):\n",
    "    # T_Bil、D_Bilの変換\n",
    "    bins1 = [0, 0.6,  0.7, 0.75, 0.8, 0.9, 1.0, 1.2, 1.3, 1.4, 1.5, 1.8, 100]\n",
    "    bins2 = [0, 0.05, 0.1, 0.15, 0.2, 0.25, 0.3, 0.4, 0.5, 0.6, 0.8, 100]\n",
    "    x_tmp=comCutCnnect(x_tmp, bins1, 'T_Bil' , bins2, 'D_Bil' )\n",
    "    \n",
    "    # T_Bil、D_Bilの変換\n",
    "    bins1 = [0, 5, 7.5, 10, 12.5, 15, 17.5, 20, 22.5, 25, 50, 100, 125,1500]\n",
    "    bins2 = [0, 20, 25,  30, 35,  40, 50, 60, 70, 80, 100, 140, 180,900]\n",
    "    x_tmp=comCutCnnect(x_tmp, bins1, 'ALT_GPT' , bins2, 'AST_GOT' )\n",
    "       \n",
    "    return x_tmp\n",
    "\n",
    "\n",
    "def comCutCnnect(x_tmp,bins1 ,col1, bins2 ,col2 ):   \n",
    "    X_cut_1 = pd.cut(x_tmp[col1], bins=bins1, labels=False)\n",
    "    X_cut_2 = pd.cut(x_tmp[col2], bins=bins2, labels=False)\n",
    "    X_cut = pd.DataFrame(np.array(X_cut_1) * np.array(X_cut_2) , columns={col1})\n",
    "    x_tmp.drop(columns=[col1 , col2], inplace=True, axis=1)\n",
    "    x_tmp = pd.concat([x_tmp, X_cut], axis=1)\n",
    "    return x_tmp\n",
    "\n",
    "   "
   ]
  },
  {
   "cell_type": "code",
   "execution_count": 26,
   "metadata": {},
   "outputs": [
    {
     "name": "stdout",
     "output_type": "stream",
     "text": [
      "   Age         ALP        TP       Alb  AG_ratio  Female  Male  T_Bil  ALT_GPT\n",
      "0   59  220.178691  6.815731  3.112276  1.006802       0     1      9        4\n",
      "1   69  221.218413  6.889608  3.051521  0.751346       0     1     18       70\n",
      "2   65  320.770533  5.947767  2.489167  0.774952       0     1      1       12\n",
      "3   65  369.278160  6.967183  3.613837  0.988155       0     1     20       54\n",
      "4   22  222.782025  5.837537  3.068697  1.026654       1     0     30       77\n",
      "   Age         ALP        TP       Alb  AG_ratio  Female  Male  T_Bil  ALT_GPT\n",
      "0   25  214.448679  6.817903  3.600752  1.288006       0     1     12        0\n",
      "1   26  234.136816  6.795433  3.111043  1.030562       1     0      8        0\n",
      "2   64  216.039909  7.524030  3.627621  1.278579       0     1      9        4\n",
      "3   65  200.901130  6.829109  3.626758  1.275070       0     1     12        4\n",
      "4   34  208.705835  8.663530  4.170750  1.280078       1     0      2       14\n"
     ]
    }
   ],
   "source": [
    "# 説明変数（訓練データ）\n",
    "x_tmp=df_train.loc[:,['Age',  'T_Bil', 'D_Bil', 'ALP', 'ALT_GPT', 'AST_GOT', 'TP', 'Alb','AG_ratio','Female','Male']]\n",
    "x_tmp=xConv(x_tmp)\n",
    "x_train = np.array(x_tmp)\n",
    "print(x_tmp.head())\n",
    "# 目的変数（訓練データ）\n",
    "y_train = np.array(df_train.loc[:,['disease']])\n",
    "\n",
    "\n",
    "# 説明変数（評価データ）\n",
    "x_tmp=df_vat\n",
    "x_tmp=xConv(x_tmp)\n",
    "print(x_tmp.head())\n",
    "x_vat = np.array(x_tmp)"
   ]
  },
  {
   "cell_type": "markdown",
   "metadata": {},
   "source": [
    "## 訓練"
   ]
  },
  {
   "cell_type": "code",
   "execution_count": 27,
   "metadata": {},
   "outputs": [],
   "source": [
    "X_train,X_test,Y_train,Y_test=train_test_split(x_train, y_train, test_size=0.25, random_state=1) "
   ]
  },
  {
   "cell_type": "code",
   "execution_count": 28,
   "metadata": {},
   "outputs": [
    {
     "name": "stderr",
     "output_type": "stream",
     "text": [
      "C:\\Users\\takasaki\\Anaconda3\\envs\\matplotlib\\lib\\site-packages\\sklearn\\utils\\validation.py:73: DataConversionWarning: A column-vector y was passed when a 1d array was expected. Please change the shape of y to (n_samples, ), for example using ravel().\n",
      "  return f(**kwargs)\n",
      "C:\\Users\\takasaki\\Anaconda3\\envs\\matplotlib\\lib\\site-packages\\sklearn\\linear_model\\_logistic.py:764: ConvergenceWarning: lbfgs failed to converge (status=1):\n",
      "STOP: TOTAL NO. of ITERATIONS REACHED LIMIT.\n",
      "\n",
      "Increase the number of iterations (max_iter) or scale the data as shown in:\n",
      "    https://scikit-learn.org/stable/modules/preprocessing.html\n",
      "Please also refer to the documentation for alternative solver options:\n",
      "    https://scikit-learn.org/stable/modules/linear_model.html#logistic-regression\n",
      "  extra_warning_msg=_LOGISTIC_SOLVER_CONVERGENCE_MSG)\n"
     ]
    },
    {
     "data": {
      "text/plain": [
       "LogisticRegression()"
      ]
     },
     "execution_count": 28,
     "metadata": {},
     "output_type": "execute_result"
    }
   ],
   "source": [
    "# モデルの学習・予測\n",
    "model = LogisticRegression()\n",
    "model.fit(X_train, Y_train)"
   ]
  },
  {
   "cell_type": "markdown",
   "metadata": {},
   "source": [
    "## 検証データを使って予測値の検証"
   ]
  },
  {
   "cell_type": "code",
   "execution_count": 29,
   "metadata": {},
   "outputs": [
    {
     "data": {
      "text/plain": [
       "0.8288854003139717"
      ]
     },
     "execution_count": 29,
     "metadata": {},
     "output_type": "execute_result"
    }
   ],
   "source": [
    "# 検証 <-訓練データ \n",
    "model.score(X_train ,Y_train)"
   ]
  },
  {
   "cell_type": "code",
   "execution_count": 30,
   "metadata": {},
   "outputs": [
    {
     "data": {
      "text/plain": [
       "0.8403755868544601"
      ]
     },
     "execution_count": 30,
     "metadata": {},
     "output_type": "execute_result"
    }
   ],
   "source": [
    "# 検証 <-検証データ\n",
    "# (検証データと値が近いなら信用できる。\n",
    "#  どこまでの差異を近いとするかはそれぞれ\n",
    "#  判断する必要がある。)\n",
    "model.score(X_test,Y_test)"
   ]
  },
  {
   "cell_type": "markdown",
   "metadata": {},
   "source": [
    "## ROC曲線の描画（偽陽性率、真陽性率、閾値の算出）"
   ]
  },
  {
   "cell_type": "code",
   "execution_count": 31,
   "metadata": {},
   "outputs": [
    {
     "data": {
      "image/png": "[encoded data removed]",
      "text/plain": [
       "<Figure size 432x288 with 1 Axes>"
      ]
     },
     "metadata": {
      "needs_background": "light"
     },
     "output_type": "display_data"
    },
    {
     "name": "stdout",
     "output_type": "stream",
     "text": [
      "[1.99949849 0.99949849 0.98991354 0.98655882 0.83693707 0.83392795\n",
      " 0.81818309 0.8101738  0.79456655 0.78258746 0.75962914 0.73703379\n",
      " 0.71166721 0.70477657 0.63644352 0.6336293  0.62535265 0.61855042\n",
      " 0.6135548  0.60023095 0.59615601 0.57939154 0.55361664 0.54075493\n",
      " 0.48139902 0.38866219 0.37905354 0.37465068 0.37242711 0.36291764\n",
      " 0.35478668 0.33294499 0.3160103  0.31600596 0.30333894 0.28988857\n",
      " 0.28711206 0.27417852 0.26891028 0.25082548 0.24440677 0.23654681\n",
      " 0.23299846 0.21277469 0.2120567  0.19534796 0.19381322 0.18537337\n",
      " 0.18052746 0.17792942 0.17372121 0.1502192  0.15006976 0.05237902]\n"
     ]
    }
   ],
   "source": [
    "# ROC曲線の描画（偽陽性率、真陽性率、閾値の算出）\n",
    "y_pred = model.predict_proba(X_test)[:, 1]\n",
    "fpr, tpr, thresholds = roc_curve(y_true=Y_test, y_score=y_pred)\n",
    "plt.plot(fpr, tpr, label='roc curve')\n",
    "plt.plot([0, 1], [0, 1], linestyle=':', label='random')\n",
    "plt.plot([0, 0, 1], [0, 1, 1], linestyle=':', label='ideal')\n",
    "plt.legend()\n",
    "plt.xlabel('false positive rate')\n",
    "plt.ylabel('true positive rate')\n",
    "plt.show()\n",
    "print(thresholds)"
   ]
  },
  {
   "cell_type": "code",
   "execution_count": 32,
   "metadata": {},
   "outputs": [
    {
     "name": "stdout",
     "output_type": "stream",
     "text": [
      "AUC: 0.9242801279772485\n"
     ]
    }
   ],
   "source": [
    "# AUCスコアの算出\n",
    "auc_score = roc_auc_score(y_true=Y_test, y_score=y_pred)\n",
    "print(\"AUC:\", auc_score)"
   ]
  },
  {
   "cell_type": "code",
   "execution_count": null,
   "metadata": {},
   "outputs": [],
   "source": []
  },
  {
   "cell_type": "markdown",
   "metadata": {},
   "source": [
    "## 予測する"
   ]
  },
  {
   "cell_type": "code",
   "execution_count": 40,
   "metadata": {},
   "outputs": [],
   "source": [
    "y_pred = model.predict_proba(df_vat)[:, 1]\n",
    "y_pred=np.array(y_pred.round() ,dtype=np.int64)\n",
    "df_out = pd.DataFrame(y_pred, columns=['val'])\n",
    "df_out.to_csv('./submit.csv', encoding='utf_8_sig' , header=False)"
   ]
  },
  {
   "cell_type": "code",
   "execution_count": null,
   "metadata": {},
   "outputs": [],
   "source": [
    "#from collections import Counter\n",
    "#print(Counter(y_predict))"
   ]
  },
  {
   "cell_type": "markdown",
   "metadata": {},
   "source": [
    "## モデルの保存"
   ]
  },
  {
   "cell_type": "code",
   "execution_count": 35,
   "metadata": {},
   "outputs": [],
   "source": [
    "#import pickle\n",
    "#with open('model.pickle', mode='wb') as fp:\n",
    "#    pickle.dump(model, fp)"
   ]
  },
  {
   "cell_type": "code",
   "execution_count": null,
   "metadata": {},
   "outputs": [],
   "source": []
  }
 ],
 "metadata": {
  "kernelspec": {
   "display_name": "Python 3",
   "language": "python",
   "name": "python3"
  },
  "language_info": {
   "codemirror_mode": {
    "name": "ipython",
    "version": 3
   },
   "file_extension": ".py",
   "mimetype": "text/x-python",
   "name": "python",
   "nbconvert_exporter": "python",
   "pygments_lexer": "ipython3",
   "version": "3.7.1"
  }
 },
 "nbformat": 4,
 "nbformat_minor": 4
}
