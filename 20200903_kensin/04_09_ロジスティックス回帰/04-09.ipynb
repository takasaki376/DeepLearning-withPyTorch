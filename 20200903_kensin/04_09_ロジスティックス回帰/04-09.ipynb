{
 "cells": [
  {
   "cell_type": "code",
   "execution_count": 1,
   "metadata": {},
   "outputs": [
    {
     "name": "stderr",
     "output_type": "stream",
     "text": [
      "C:\\Users\\takasaki\\Anaconda3\\envs\\matplotlib\\lib\\site-packages\\japanize_matplotlib\\japanize_matplotlib.py:15: MatplotlibDeprecationWarning: \n",
      "The createFontList function was deprecated in Matplotlib 3.2 and will be removed two minor releases later. Use FontManager.addfont instead.\n",
      "  font_list = font_manager.createFontList(font_files)\n"
     ]
    }
   ],
   "source": [
    "import numpy as np\n",
    "\n",
    "from sklearn.linear_model import LogisticRegression\n",
    "# 多項式・交互作用特徴量の生成\n",
    "from sklearn.preprocessing import PolynomialFeatures\n",
    "from sklearn.feature_selection import SelectFromModel\n",
    "# 予測結果の精度確認（ROC曲線の描画）\n",
    "from sklearn.metrics import roc_auc_score, roc_curve\n",
    "# 訓練データと検証データの分割\n",
    "from sklearn.model_selection import train_test_split\n",
    "# データを扱う\n",
    "import pandas as pd\n",
    "# グラフ描画\n",
    "from matplotlib import pyplot as plt\n",
    "import japanize_matplotlib"
   ]
  },
  {
   "cell_type": "markdown",
   "metadata": {},
   "source": [
    "## 訓練データの読み込み"
   ]
  },
  {
   "cell_type": "code",
   "execution_count": 6,
   "metadata": {},
   "outputs": [],
   "source": [
    "def MedcDataChange(df_x):\n",
    "    categ_cols = ['Age','Gender']\n",
    "    contin_cols = ['T_Bil', 'D_Bil', 'ALP', 'ALT_GPT', 'AST_GOT', 'TP', 'Alb','AG_ratio']\n",
    "\n",
    "\n",
    "    ####################################\n",
    "    ##  データ分割\n",
    "    ##  説明変数と目的変数に分ける。\n",
    "    ##  説明変数はカテゴリデータと連続データに分ける。\n",
    "    ####################################\n",
    "    x_cate = df_x[categ_cols].copy()\n",
    "    x_cont = df_x[contin_cols].copy()\n",
    "\n",
    "    ####################################\n",
    "    ##  カテゴリデータ\n",
    "    ##  値変換\n",
    "    ####################################\n",
    "\n",
    "    # --------------------------------------\n",
    "    # Ageの変換の変換\n",
    "    # '0'  ～18歳未満\n",
    "    # '1'  18歳～25歳未満\n",
    "    # '2'  25歳～30歳未満\n",
    "    # '3'  30歳～35歳未満\n",
    "    # '4'  35歳～40歳未満\n",
    "    # '5'  40歳～50歳未満\n",
    "    # '6'  50歳～60歳未満\n",
    "    # '7'  60歳～70歳未満\n",
    "    # '8'  70歳～80歳未満\n",
    "    # '9'  80歳～\n",
    "    bins = [0, 18, 25, 30, 35, 40, 50, 60, 70, 80 ,1000]\n",
    "    #X_cut = pd.cut(x_cate['Age'], bins=bins, labels=['Age' + str(x) for x in range(len(bins)-1)])\n",
    "    X_cut = pd.cut(x_cate['Age'], bins=bins, labels=False)\n",
    "    cutTemp = np.zeros((len(X_cut), len(bins) -1 ), dtype=int)\n",
    "    cutTemp[np.arange(len(X_cut)), X_cut.T] = 1\n",
    "    df_cut=pd.DataFrame(cutTemp ,columns=['Age' + str(x) for x in range(cutTemp.shape[1])])\n",
    "    # 列の削除\n",
    "    x_cate.drop(columns=['Age'], inplace=True, axis=1)\n",
    "    # 列の追加\n",
    "    x_cate = pd.concat([x_cate, df_cut], axis=1)\n",
    "\n",
    "    # --------------------------------------\n",
    "    # 性別を変換する\n",
    "    colval=['Female','Male']\n",
    "    # 初期値０の列を作成する\n",
    "    for col in colval:\n",
    "        x_cate[col]=0\n",
    "\n",
    "    # カテゴリ毎に値編集\n",
    "    for col in colval:\n",
    "        x_cate.loc[x_cate['Gender']==col, col]=1\n",
    "    x_cate.drop(columns=['Gender'],inplace=True)\n",
    "\n",
    "    return x_cate , x_cont "
   ]
  },
  {
   "cell_type": "code",
   "execution_count": 13,
   "metadata": {},
   "outputs": [],
   "source": [
    "def binSplit2(x_cont):\n",
    "    contin_cols = ['T_Bil', 'D_Bil', 'ALP', 'ALT_GPT', 'AST_GOT', 'TP', 'Alb','AG_ratio']\n",
    "    \n",
    "    for col in contin_cols:\n",
    "        split_min = 0\n",
    "        split1 = df_desc.loc['25%',col]\n",
    "        split2 = df_desc.loc['50%',col]\n",
    "        split3 = df_desc.loc['75%',col]\n",
    "        split_max=  df_desc.loc['max',col]*10\n",
    "        bins = [split_min,  split1,  split2,  split3, split_max]\n",
    "        x_cont[col] = pd.cut(x_cont[col], bins=bins, labels=False)\n",
    "    \n",
    "    x_cont.drop(columns=['TP'], inplace=True)\n",
    "    return x_cont\n",
    "        \n",
    "    "
   ]
  },
  {
   "cell_type": "code",
   "execution_count": 14,
   "metadata": {},
   "outputs": [
    {
     "data": {
      "text/html": [
       "<div>\n",
       "<style scoped>\n",
       "    .dataframe tbody tr th:only-of-type {\n",
       "        vertical-align: middle;\n",
       "    }\n",
       "\n",
       "    .dataframe tbody tr th {\n",
       "        vertical-align: top;\n",
       "    }\n",
       "\n",
       "    .dataframe thead th {\n",
       "        text-align: right;\n",
       "    }\n",
       "</style>\n",
       "<table border=\"1\" class=\"dataframe\">\n",
       "  <thead>\n",
       "    <tr style=\"text-align: right;\">\n",
       "      <th></th>\n",
       "      <th>Age</th>\n",
       "      <th>Gender</th>\n",
       "      <th>T_Bil</th>\n",
       "      <th>D_Bil</th>\n",
       "      <th>ALP</th>\n",
       "      <th>ALT_GPT</th>\n",
       "      <th>AST_GOT</th>\n",
       "      <th>TP</th>\n",
       "      <th>Alb</th>\n",
       "      <th>AG_ratio</th>\n",
       "      <th>disease</th>\n",
       "    </tr>\n",
       "  </thead>\n",
       "  <tbody>\n",
       "    <tr>\n",
       "      <th>0</th>\n",
       "      <td>59</td>\n",
       "      <td>Male</td>\n",
       "      <td>0.786886</td>\n",
       "      <td>0.150498</td>\n",
       "      <td>220.178691</td>\n",
       "      <td>13.467617</td>\n",
       "      <td>21.729246</td>\n",
       "      <td>6.815731</td>\n",
       "      <td>3.112276</td>\n",
       "      <td>1.006802</td>\n",
       "      <td>0</td>\n",
       "    </tr>\n",
       "    <tr>\n",
       "      <th>1</th>\n",
       "      <td>69</td>\n",
       "      <td>Male</td>\n",
       "      <td>1.003987</td>\n",
       "      <td>0.195625</td>\n",
       "      <td>221.218413</td>\n",
       "      <td>51.033462</td>\n",
       "      <td>64.752323</td>\n",
       "      <td>6.889608</td>\n",
       "      <td>3.051521</td>\n",
       "      <td>0.751346</td>\n",
       "      <td>1</td>\n",
       "    </tr>\n",
       "    <tr>\n",
       "      <th>2</th>\n",
       "      <td>65</td>\n",
       "      <td>Male</td>\n",
       "      <td>0.657140</td>\n",
       "      <td>0.081287</td>\n",
       "      <td>320.770533</td>\n",
       "      <td>12.625011</td>\n",
       "      <td>30.613180</td>\n",
       "      <td>5.947767</td>\n",
       "      <td>2.489167</td>\n",
       "      <td>0.774952</td>\n",
       "      <td>0</td>\n",
       "    </tr>\n",
       "    <tr>\n",
       "      <th>3</th>\n",
       "      <td>65</td>\n",
       "      <td>Male</td>\n",
       "      <td>0.906822</td>\n",
       "      <td>0.214173</td>\n",
       "      <td>369.278160</td>\n",
       "      <td>34.347597</td>\n",
       "      <td>54.510085</td>\n",
       "      <td>6.967183</td>\n",
       "      <td>3.613837</td>\n",
       "      <td>0.988155</td>\n",
       "      <td>1</td>\n",
       "    </tr>\n",
       "    <tr>\n",
       "      <th>4</th>\n",
       "      <td>22</td>\n",
       "      <td>Female</td>\n",
       "      <td>1.734959</td>\n",
       "      <td>0.197706</td>\n",
       "      <td>222.782025</td>\n",
       "      <td>20.572891</td>\n",
       "      <td>170.010177</td>\n",
       "      <td>5.837537</td>\n",
       "      <td>3.068697</td>\n",
       "      <td>1.026654</td>\n",
       "      <td>0</td>\n",
       "    </tr>\n",
       "  </tbody>\n",
       "</table>\n",
       "</div>"
      ],
      "text/plain": [
       "   Age  Gender     T_Bil     D_Bil         ALP    ALT_GPT     AST_GOT  \\\n",
       "0   59    Male  0.786886  0.150498  220.178691  13.467617   21.729246   \n",
       "1   69    Male  1.003987  0.195625  221.218413  51.033462   64.752323   \n",
       "2   65    Male  0.657140  0.081287  320.770533  12.625011   30.613180   \n",
       "3   65    Male  0.906822  0.214173  369.278160  34.347597   54.510085   \n",
       "4   22  Female  1.734959  0.197706  222.782025  20.572891  170.010177   \n",
       "\n",
       "         TP       Alb  AG_ratio  disease  \n",
       "0  6.815731  3.112276  1.006802        0  \n",
       "1  6.889608  3.051521  0.751346        1  \n",
       "2  5.947767  2.489167  0.774952        0  \n",
       "3  6.967183  3.613837  0.988155        1  \n",
       "4  5.837537  3.068697  1.026654        0  "
      ]
     },
     "execution_count": 14,
     "metadata": {},
     "output_type": "execute_result"
    }
   ],
   "source": [
    "# CSVファイル読み込み（訓練データ）\n",
    "df_train = pd.read_csv('train.csv')\n",
    "df_train.head()"
   ]
  },
  {
   "cell_type": "code",
   "execution_count": 15,
   "metadata": {},
   "outputs": [],
   "source": [
    "df_y = df_train['disease'].copy()\n",
    "x_cate , x_cont = MedcDataChange(df_train.drop(['disease'], axis=1).copy())"
   ]
  },
  {
   "cell_type": "code",
   "execution_count": 16,
   "metadata": {},
   "outputs": [
    {
     "data": {
      "text/html": [
       "<div>\n",
       "<style scoped>\n",
       "    .dataframe tbody tr th:only-of-type {\n",
       "        vertical-align: middle;\n",
       "    }\n",
       "\n",
       "    .dataframe tbody tr th {\n",
       "        vertical-align: top;\n",
       "    }\n",
       "\n",
       "    .dataframe thead th {\n",
       "        text-align: right;\n",
       "    }\n",
       "</style>\n",
       "<table border=\"1\" class=\"dataframe\">\n",
       "  <thead>\n",
       "    <tr style=\"text-align: right;\">\n",
       "      <th></th>\n",
       "      <th>Age</th>\n",
       "      <th>T_Bil</th>\n",
       "      <th>D_Bil</th>\n",
       "      <th>ALP</th>\n",
       "      <th>ALT_GPT</th>\n",
       "      <th>AST_GOT</th>\n",
       "      <th>TP</th>\n",
       "      <th>Alb</th>\n",
       "      <th>AG_ratio</th>\n",
       "      <th>disease</th>\n",
       "    </tr>\n",
       "  </thead>\n",
       "  <tbody>\n",
       "    <tr>\n",
       "      <th>count</th>\n",
       "      <td>850.000000</td>\n",
       "      <td>850.000000</td>\n",
       "      <td>850.000000</td>\n",
       "      <td>850.000000</td>\n",
       "      <td>850.000000</td>\n",
       "      <td>850.000000</td>\n",
       "      <td>850.000000</td>\n",
       "      <td>850.000000</td>\n",
       "      <td>850.000000</td>\n",
       "      <td>850.000000</td>\n",
       "    </tr>\n",
       "    <tr>\n",
       "      <th>mean</th>\n",
       "      <td>46.610588</td>\n",
       "      <td>1.607337</td>\n",
       "      <td>0.606737</td>\n",
       "      <td>272.211316</td>\n",
       "      <td>41.978476</td>\n",
       "      <td>61.018120</td>\n",
       "      <td>7.032290</td>\n",
       "      <td>3.517458</td>\n",
       "      <td>1.144570</td>\n",
       "      <td>0.444706</td>\n",
       "    </tr>\n",
       "    <tr>\n",
       "      <th>std</th>\n",
       "      <td>16.453672</td>\n",
       "      <td>2.443585</td>\n",
       "      <td>1.569032</td>\n",
       "      <td>200.348515</td>\n",
       "      <td>145.927366</td>\n",
       "      <td>110.125390</td>\n",
       "      <td>0.840664</td>\n",
       "      <td>0.559942</td>\n",
       "      <td>0.227237</td>\n",
       "      <td>0.497226</td>\n",
       "    </tr>\n",
       "    <tr>\n",
       "      <th>min</th>\n",
       "      <td>10.000000</td>\n",
       "      <td>0.585961</td>\n",
       "      <td>0.034861</td>\n",
       "      <td>163.261838</td>\n",
       "      <td>3.924518</td>\n",
       "      <td>11.283497</td>\n",
       "      <td>4.858679</td>\n",
       "      <td>2.180884</td>\n",
       "      <td>0.627133</td>\n",
       "      <td>0.000000</td>\n",
       "    </tr>\n",
       "    <tr>\n",
       "      <th>25%</th>\n",
       "      <td>32.000000</td>\n",
       "      <td>0.781258</td>\n",
       "      <td>0.144889</td>\n",
       "      <td>213.991414</td>\n",
       "      <td>13.644658</td>\n",
       "      <td>21.239157</td>\n",
       "      <td>6.730612</td>\n",
       "      <td>3.139153</td>\n",
       "      <td>1.004466</td>\n",
       "      <td>0.000000</td>\n",
       "    </tr>\n",
       "    <tr>\n",
       "      <th>50%</th>\n",
       "      <td>48.000000</td>\n",
       "      <td>0.835591</td>\n",
       "      <td>0.194085</td>\n",
       "      <td>220.092503</td>\n",
       "      <td>16.638001</td>\n",
       "      <td>27.056026</td>\n",
       "      <td>6.915580</td>\n",
       "      <td>3.621339</td>\n",
       "      <td>1.205016</td>\n",
       "      <td>0.000000</td>\n",
       "    </tr>\n",
       "    <tr>\n",
       "      <th>75%</th>\n",
       "      <td>62.000000</td>\n",
       "      <td>1.196759</td>\n",
       "      <td>0.335447</td>\n",
       "      <td>229.455927</td>\n",
       "      <td>23.056081</td>\n",
       "      <td>56.461568</td>\n",
       "      <td>7.536151</td>\n",
       "      <td>3.712524</td>\n",
       "      <td>1.287880</td>\n",
       "      <td>1.000000</td>\n",
       "    </tr>\n",
       "    <tr>\n",
       "      <th>max</th>\n",
       "      <td>78.000000</td>\n",
       "      <td>23.017027</td>\n",
       "      <td>17.692164</td>\n",
       "      <td>2108.483728</td>\n",
       "      <td>1423.186473</td>\n",
       "      <td>814.439397</td>\n",
       "      <td>8.739000</td>\n",
       "      <td>5.016970</td>\n",
       "      <td>1.821496</td>\n",
       "      <td>1.000000</td>\n",
       "    </tr>\n",
       "  </tbody>\n",
       "</table>\n",
       "</div>"
      ],
      "text/plain": [
       "              Age       T_Bil       D_Bil          ALP      ALT_GPT  \\\n",
       "count  850.000000  850.000000  850.000000   850.000000   850.000000   \n",
       "mean    46.610588    1.607337    0.606737   272.211316    41.978476   \n",
       "std     16.453672    2.443585    1.569032   200.348515   145.927366   \n",
       "min     10.000000    0.585961    0.034861   163.261838     3.924518   \n",
       "25%     32.000000    0.781258    0.144889   213.991414    13.644658   \n",
       "50%     48.000000    0.835591    0.194085   220.092503    16.638001   \n",
       "75%     62.000000    1.196759    0.335447   229.455927    23.056081   \n",
       "max     78.000000   23.017027   17.692164  2108.483728  1423.186473   \n",
       "\n",
       "          AST_GOT          TP         Alb    AG_ratio     disease  \n",
       "count  850.000000  850.000000  850.000000  850.000000  850.000000  \n",
       "mean    61.018120    7.032290    3.517458    1.144570    0.444706  \n",
       "std    110.125390    0.840664    0.559942    0.227237    0.497226  \n",
       "min     11.283497    4.858679    2.180884    0.627133    0.000000  \n",
       "25%     21.239157    6.730612    3.139153    1.004466    0.000000  \n",
       "50%     27.056026    6.915580    3.621339    1.205016    0.000000  \n",
       "75%     56.461568    7.536151    3.712524    1.287880    1.000000  \n",
       "max    814.439397    8.739000    5.016970    1.821496    1.000000  "
      ]
     },
     "execution_count": 16,
     "metadata": {},
     "output_type": "execute_result"
    }
   ],
   "source": [
    "sigma=df_train.std()\n",
    "df_desc = df_train.describe()\n",
    "df_desc"
   ]
  },
  {
   "cell_type": "markdown",
   "metadata": {},
   "source": [
    "## 評価データの読み込み"
   ]
  },
  {
   "cell_type": "code",
   "execution_count": 17,
   "metadata": {},
   "outputs": [
    {
     "data": {
      "text/html": [
       "<div>\n",
       "<style scoped>\n",
       "    .dataframe tbody tr th:only-of-type {\n",
       "        vertical-align: middle;\n",
       "    }\n",
       "\n",
       "    .dataframe tbody tr th {\n",
       "        vertical-align: top;\n",
       "    }\n",
       "\n",
       "    .dataframe thead th {\n",
       "        text-align: right;\n",
       "    }\n",
       "</style>\n",
       "<table border=\"1\" class=\"dataframe\">\n",
       "  <thead>\n",
       "    <tr style=\"text-align: right;\">\n",
       "      <th></th>\n",
       "      <th>Age</th>\n",
       "      <th>Gender</th>\n",
       "      <th>T_Bil</th>\n",
       "      <th>D_Bil</th>\n",
       "      <th>ALP</th>\n",
       "      <th>ALT_GPT</th>\n",
       "      <th>AST_GOT</th>\n",
       "      <th>TP</th>\n",
       "      <th>Alb</th>\n",
       "      <th>AG_ratio</th>\n",
       "    </tr>\n",
       "  </thead>\n",
       "  <tbody>\n",
       "    <tr>\n",
       "      <th>0</th>\n",
       "      <td>25</td>\n",
       "      <td>Male</td>\n",
       "      <td>0.801797</td>\n",
       "      <td>0.186800</td>\n",
       "      <td>214.448679</td>\n",
       "      <td>15.260516</td>\n",
       "      <td>19.496649</td>\n",
       "      <td>6.817903</td>\n",
       "      <td>3.600752</td>\n",
       "      <td>1.288006</td>\n",
       "    </tr>\n",
       "    <tr>\n",
       "      <th>1</th>\n",
       "      <td>26</td>\n",
       "      <td>Female</td>\n",
       "      <td>0.834857</td>\n",
       "      <td>0.116426</td>\n",
       "      <td>234.136816</td>\n",
       "      <td>10.509159</td>\n",
       "      <td>16.733312</td>\n",
       "      <td>6.795433</td>\n",
       "      <td>3.111043</td>\n",
       "      <td>1.030562</td>\n",
       "    </tr>\n",
       "    <tr>\n",
       "      <th>2</th>\n",
       "      <td>64</td>\n",
       "      <td>Male</td>\n",
       "      <td>0.791830</td>\n",
       "      <td>0.197940</td>\n",
       "      <td>216.039909</td>\n",
       "      <td>14.578304</td>\n",
       "      <td>20.695866</td>\n",
       "      <td>7.524030</td>\n",
       "      <td>3.627621</td>\n",
       "      <td>1.278579</td>\n",
       "    </tr>\n",
       "    <tr>\n",
       "      <th>3</th>\n",
       "      <td>65</td>\n",
       "      <td>Male</td>\n",
       "      <td>0.834003</td>\n",
       "      <td>0.175741</td>\n",
       "      <td>200.901130</td>\n",
       "      <td>12.820356</td>\n",
       "      <td>20.102517</td>\n",
       "      <td>6.829109</td>\n",
       "      <td>3.626758</td>\n",
       "      <td>1.275070</td>\n",
       "    </tr>\n",
       "    <tr>\n",
       "      <th>4</th>\n",
       "      <td>34</td>\n",
       "      <td>Female</td>\n",
       "      <td>0.690296</td>\n",
       "      <td>0.135503</td>\n",
       "      <td>208.705835</td>\n",
       "      <td>20.279018</td>\n",
       "      <td>25.096685</td>\n",
       "      <td>8.663530</td>\n",
       "      <td>4.170750</td>\n",
       "      <td>1.280078</td>\n",
       "    </tr>\n",
       "  </tbody>\n",
       "</table>\n",
       "</div>"
      ],
      "text/plain": [
       "   Age  Gender     T_Bil     D_Bil         ALP    ALT_GPT    AST_GOT  \\\n",
       "0   25    Male  0.801797  0.186800  214.448679  15.260516  19.496649   \n",
       "1   26  Female  0.834857  0.116426  234.136816  10.509159  16.733312   \n",
       "2   64    Male  0.791830  0.197940  216.039909  14.578304  20.695866   \n",
       "3   65    Male  0.834003  0.175741  200.901130  12.820356  20.102517   \n",
       "4   34  Female  0.690296  0.135503  208.705835  20.279018  25.096685   \n",
       "\n",
       "         TP       Alb  AG_ratio  \n",
       "0  6.817903  3.600752  1.288006  \n",
       "1  6.795433  3.111043  1.030562  \n",
       "2  7.524030  3.627621  1.278579  \n",
       "3  6.829109  3.626758  1.275070  \n",
       "4  8.663530  4.170750  1.280078  "
      ]
     },
     "execution_count": 17,
     "metadata": {},
     "output_type": "execute_result"
    }
   ],
   "source": [
    "# CSVファイル読み込み（評価データ）\n",
    "df_vat = pd.read_csv('test.csv')\n",
    "df_vat.head()"
   ]
  },
  {
   "cell_type": "code",
   "execution_count": null,
   "metadata": {},
   "outputs": [],
   "source": []
  },
  {
   "cell_type": "code",
   "execution_count": 18,
   "metadata": {},
   "outputs": [],
   "source": [
    "# 性別を変換する（評価データ）\n",
    "x_cate_vat , x_cont_vat = MedcDataChange(df_vat.copy())"
   ]
  },
  {
   "cell_type": "markdown",
   "metadata": {},
   "source": [
    "## データ加工"
   ]
  },
  {
   "cell_type": "markdown",
   "metadata": {},
   "source": [
    "#### 訓練データのデータ加工前処理"
   ]
  },
  {
   "cell_type": "code",
   "execution_count": 19,
   "metadata": {},
   "outputs": [],
   "source": [
    "x_tmp=binSplit2(x_cont.copy())"
   ]
  },
  {
   "cell_type": "code",
   "execution_count": 20,
   "metadata": {},
   "outputs": [
    {
     "data": {
      "text/html": [
       "<div>\n",
       "<style scoped>\n",
       "    .dataframe tbody tr th:only-of-type {\n",
       "        vertical-align: middle;\n",
       "    }\n",
       "\n",
       "    .dataframe tbody tr th {\n",
       "        vertical-align: top;\n",
       "    }\n",
       "\n",
       "    .dataframe thead th {\n",
       "        text-align: right;\n",
       "    }\n",
       "</style>\n",
       "<table border=\"1\" class=\"dataframe\">\n",
       "  <thead>\n",
       "    <tr style=\"text-align: right;\">\n",
       "      <th></th>\n",
       "      <th>T_Bil</th>\n",
       "      <th>D_Bil</th>\n",
       "      <th>ALP</th>\n",
       "      <th>ALT_GPT</th>\n",
       "      <th>AST_GOT</th>\n",
       "      <th>Alb</th>\n",
       "      <th>AG_ratio</th>\n",
       "    </tr>\n",
       "  </thead>\n",
       "  <tbody>\n",
       "    <tr>\n",
       "      <th>count</th>\n",
       "      <td>850.000000</td>\n",
       "      <td>850.000000</td>\n",
       "      <td>850.000000</td>\n",
       "      <td>850.000000</td>\n",
       "      <td>850.000000</td>\n",
       "      <td>850.000000</td>\n",
       "      <td>850.000000</td>\n",
       "    </tr>\n",
       "    <tr>\n",
       "      <th>mean</th>\n",
       "      <td>1.500000</td>\n",
       "      <td>1.500000</td>\n",
       "      <td>1.500000</td>\n",
       "      <td>1.500000</td>\n",
       "      <td>1.500000</td>\n",
       "      <td>1.500000</td>\n",
       "      <td>1.500000</td>\n",
       "    </tr>\n",
       "    <tr>\n",
       "      <th>std</th>\n",
       "      <td>1.119745</td>\n",
       "      <td>1.119745</td>\n",
       "      <td>1.119745</td>\n",
       "      <td>1.119745</td>\n",
       "      <td>1.119745</td>\n",
       "      <td>1.119745</td>\n",
       "      <td>1.119745</td>\n",
       "    </tr>\n",
       "    <tr>\n",
       "      <th>min</th>\n",
       "      <td>0.000000</td>\n",
       "      <td>0.000000</td>\n",
       "      <td>0.000000</td>\n",
       "      <td>0.000000</td>\n",
       "      <td>0.000000</td>\n",
       "      <td>0.000000</td>\n",
       "      <td>0.000000</td>\n",
       "    </tr>\n",
       "    <tr>\n",
       "      <th>25%</th>\n",
       "      <td>0.250000</td>\n",
       "      <td>0.250000</td>\n",
       "      <td>0.250000</td>\n",
       "      <td>0.250000</td>\n",
       "      <td>0.250000</td>\n",
       "      <td>0.250000</td>\n",
       "      <td>0.250000</td>\n",
       "    </tr>\n",
       "    <tr>\n",
       "      <th>50%</th>\n",
       "      <td>1.500000</td>\n",
       "      <td>1.500000</td>\n",
       "      <td>1.500000</td>\n",
       "      <td>1.500000</td>\n",
       "      <td>1.500000</td>\n",
       "      <td>1.500000</td>\n",
       "      <td>1.500000</td>\n",
       "    </tr>\n",
       "    <tr>\n",
       "      <th>75%</th>\n",
       "      <td>2.750000</td>\n",
       "      <td>2.750000</td>\n",
       "      <td>2.750000</td>\n",
       "      <td>2.750000</td>\n",
       "      <td>2.750000</td>\n",
       "      <td>2.750000</td>\n",
       "      <td>2.750000</td>\n",
       "    </tr>\n",
       "    <tr>\n",
       "      <th>max</th>\n",
       "      <td>3.000000</td>\n",
       "      <td>3.000000</td>\n",
       "      <td>3.000000</td>\n",
       "      <td>3.000000</td>\n",
       "      <td>3.000000</td>\n",
       "      <td>3.000000</td>\n",
       "      <td>3.000000</td>\n",
       "    </tr>\n",
       "  </tbody>\n",
       "</table>\n",
       "</div>"
      ],
      "text/plain": [
       "            T_Bil       D_Bil         ALP     ALT_GPT     AST_GOT         Alb  \\\n",
       "count  850.000000  850.000000  850.000000  850.000000  850.000000  850.000000   \n",
       "mean     1.500000    1.500000    1.500000    1.500000    1.500000    1.500000   \n",
       "std      1.119745    1.119745    1.119745    1.119745    1.119745    1.119745   \n",
       "min      0.000000    0.000000    0.000000    0.000000    0.000000    0.000000   \n",
       "25%      0.250000    0.250000    0.250000    0.250000    0.250000    0.250000   \n",
       "50%      1.500000    1.500000    1.500000    1.500000    1.500000    1.500000   \n",
       "75%      2.750000    2.750000    2.750000    2.750000    2.750000    2.750000   \n",
       "max      3.000000    3.000000    3.000000    3.000000    3.000000    3.000000   \n",
       "\n",
       "         AG_ratio  \n",
       "count  850.000000  \n",
       "mean     1.500000  \n",
       "std      1.119745  \n",
       "min      0.000000  \n",
       "25%      0.250000  \n",
       "50%      1.500000  \n",
       "75%      2.750000  \n",
       "max      3.000000  "
      ]
     },
     "execution_count": 20,
     "metadata": {},
     "output_type": "execute_result"
    }
   ],
   "source": [
    "x_tmp.describe()"
   ]
  },
  {
   "cell_type": "code",
   "execution_count": 21,
   "metadata": {},
   "outputs": [
    {
     "name": "stdout",
     "output_type": "stream",
     "text": [
      "<class 'pandas.core.frame.DataFrame'>\n",
      "RangeIndex: 850 entries, 0 to 849\n",
      "Data columns (total 7 columns):\n",
      " #   Column    Non-Null Count  Dtype\n",
      "---  ------    --------------  -----\n",
      " 0   T_Bil     850 non-null    int64\n",
      " 1   D_Bil     850 non-null    int64\n",
      " 2   ALP       850 non-null    int64\n",
      " 3   ALT_GPT   850 non-null    int64\n",
      " 4   AST_GOT   850 non-null    int64\n",
      " 5   Alb       850 non-null    int64\n",
      " 6   AG_ratio  850 non-null    int64\n",
      "dtypes: int64(7)\n",
      "memory usage: 46.6 KB\n"
     ]
    }
   ],
   "source": [
    "x_tmp.info()"
   ]
  },
  {
   "cell_type": "code",
   "execution_count": 22,
   "metadata": {},
   "outputs": [
    {
     "data": {
      "text/plain": [
       "(850, 7)"
      ]
     },
     "execution_count": 22,
     "metadata": {},
     "output_type": "execute_result"
    }
   ],
   "source": [
    "x_tmp.shape"
   ]
  },
  {
   "cell_type": "code",
   "execution_count": 23,
   "metadata": {},
   "outputs": [],
   "source": [
    "# 説明変数（訓練データ）\n",
    "x_train = np.array(x_tmp)\n",
    "\n",
    "# 目的変数（訓練データ）\n",
    "y_train = np.array(df_train.loc[:,['disease']])\n"
   ]
  },
  {
   "cell_type": "markdown",
   "metadata": {},
   "source": [
    "#### 評価データのデータ加工前処理"
   ]
  },
  {
   "cell_type": "code",
   "execution_count": 24,
   "metadata": {},
   "outputs": [],
   "source": [
    "x_tmp=binSplit2(x_cont_vat)"
   ]
  },
  {
   "cell_type": "code",
   "execution_count": 25,
   "metadata": {},
   "outputs": [
    {
     "data": {
      "text/html": [
       "<div>\n",
       "<style scoped>\n",
       "    .dataframe tbody tr th:only-of-type {\n",
       "        vertical-align: middle;\n",
       "    }\n",
       "\n",
       "    .dataframe tbody tr th {\n",
       "        vertical-align: top;\n",
       "    }\n",
       "\n",
       "    .dataframe thead th {\n",
       "        text-align: right;\n",
       "    }\n",
       "</style>\n",
       "<table border=\"1\" class=\"dataframe\">\n",
       "  <thead>\n",
       "    <tr style=\"text-align: right;\">\n",
       "      <th></th>\n",
       "      <th>T_Bil</th>\n",
       "      <th>D_Bil</th>\n",
       "      <th>ALP</th>\n",
       "      <th>ALT_GPT</th>\n",
       "      <th>AST_GOT</th>\n",
       "      <th>Alb</th>\n",
       "      <th>AG_ratio</th>\n",
       "    </tr>\n",
       "  </thead>\n",
       "  <tbody>\n",
       "    <tr>\n",
       "      <th>count</th>\n",
       "      <td>350.000000</td>\n",
       "      <td>350.000000</td>\n",
       "      <td>350.000000</td>\n",
       "      <td>350.000000</td>\n",
       "      <td>350.000000</td>\n",
       "      <td>350.000000</td>\n",
       "      <td>350.000000</td>\n",
       "    </tr>\n",
       "    <tr>\n",
       "      <th>mean</th>\n",
       "      <td>1.511429</td>\n",
       "      <td>1.465714</td>\n",
       "      <td>1.557143</td>\n",
       "      <td>1.482857</td>\n",
       "      <td>1.380000</td>\n",
       "      <td>1.497143</td>\n",
       "      <td>1.528571</td>\n",
       "    </tr>\n",
       "    <tr>\n",
       "      <th>std</th>\n",
       "      <td>1.080505</td>\n",
       "      <td>1.074701</td>\n",
       "      <td>1.123285</td>\n",
       "      <td>1.119503</td>\n",
       "      <td>1.079186</td>\n",
       "      <td>1.149931</td>\n",
       "      <td>1.103802</td>\n",
       "    </tr>\n",
       "    <tr>\n",
       "      <th>min</th>\n",
       "      <td>0.000000</td>\n",
       "      <td>0.000000</td>\n",
       "      <td>0.000000</td>\n",
       "      <td>0.000000</td>\n",
       "      <td>0.000000</td>\n",
       "      <td>0.000000</td>\n",
       "      <td>0.000000</td>\n",
       "    </tr>\n",
       "    <tr>\n",
       "      <th>25%</th>\n",
       "      <td>1.000000</td>\n",
       "      <td>1.000000</td>\n",
       "      <td>1.000000</td>\n",
       "      <td>0.000000</td>\n",
       "      <td>0.000000</td>\n",
       "      <td>0.000000</td>\n",
       "      <td>1.000000</td>\n",
       "    </tr>\n",
       "    <tr>\n",
       "      <th>50%</th>\n",
       "      <td>2.000000</td>\n",
       "      <td>1.500000</td>\n",
       "      <td>2.000000</td>\n",
       "      <td>1.000000</td>\n",
       "      <td>1.000000</td>\n",
       "      <td>1.000000</td>\n",
       "      <td>2.000000</td>\n",
       "    </tr>\n",
       "    <tr>\n",
       "      <th>75%</th>\n",
       "      <td>2.000000</td>\n",
       "      <td>2.000000</td>\n",
       "      <td>3.000000</td>\n",
       "      <td>2.000000</td>\n",
       "      <td>2.000000</td>\n",
       "      <td>3.000000</td>\n",
       "      <td>3.000000</td>\n",
       "    </tr>\n",
       "    <tr>\n",
       "      <th>max</th>\n",
       "      <td>3.000000</td>\n",
       "      <td>3.000000</td>\n",
       "      <td>3.000000</td>\n",
       "      <td>3.000000</td>\n",
       "      <td>3.000000</td>\n",
       "      <td>3.000000</td>\n",
       "      <td>3.000000</td>\n",
       "    </tr>\n",
       "  </tbody>\n",
       "</table>\n",
       "</div>"
      ],
      "text/plain": [
       "            T_Bil       D_Bil         ALP     ALT_GPT     AST_GOT         Alb  \\\n",
       "count  350.000000  350.000000  350.000000  350.000000  350.000000  350.000000   \n",
       "mean     1.511429    1.465714    1.557143    1.482857    1.380000    1.497143   \n",
       "std      1.080505    1.074701    1.123285    1.119503    1.079186    1.149931   \n",
       "min      0.000000    0.000000    0.000000    0.000000    0.000000    0.000000   \n",
       "25%      1.000000    1.000000    1.000000    0.000000    0.000000    0.000000   \n",
       "50%      2.000000    1.500000    2.000000    1.000000    1.000000    1.000000   \n",
       "75%      2.000000    2.000000    3.000000    2.000000    2.000000    3.000000   \n",
       "max      3.000000    3.000000    3.000000    3.000000    3.000000    3.000000   \n",
       "\n",
       "         AG_ratio  \n",
       "count  350.000000  \n",
       "mean     1.528571  \n",
       "std      1.103802  \n",
       "min      0.000000  \n",
       "25%      1.000000  \n",
       "50%      2.000000  \n",
       "75%      3.000000  \n",
       "max      3.000000  "
      ]
     },
     "execution_count": 25,
     "metadata": {},
     "output_type": "execute_result"
    }
   ],
   "source": [
    "x_tmp.describe()"
   ]
  },
  {
   "cell_type": "code",
   "execution_count": 26,
   "metadata": {},
   "outputs": [
    {
     "data": {
      "text/plain": [
       "(350, 7)"
      ]
     },
     "execution_count": 26,
     "metadata": {},
     "output_type": "execute_result"
    }
   ],
   "source": [
    "x_tmp.shape"
   ]
  },
  {
   "cell_type": "code",
   "execution_count": 27,
   "metadata": {},
   "outputs": [],
   "source": [
    "x_vat = np.array(x_tmp)"
   ]
  },
  {
   "cell_type": "markdown",
   "metadata": {},
   "source": [
    "## 訓練"
   ]
  },
  {
   "cell_type": "code",
   "execution_count": 28,
   "metadata": {},
   "outputs": [],
   "source": [
    "X_train,X_test,Y_train,Y_test=train_test_split(x_train, y_train, test_size=0.25, random_state=1) "
   ]
  },
  {
   "cell_type": "code",
   "execution_count": 29,
   "metadata": {},
   "outputs": [
    {
     "name": "stderr",
     "output_type": "stream",
     "text": [
      "C:\\Users\\takasaki\\Anaconda3\\envs\\matplotlib\\lib\\site-packages\\sklearn\\utils\\validation.py:73: DataConversionWarning: A column-vector y was passed when a 1d array was expected. Please change the shape of y to (n_samples, ), for example using ravel().\n",
      "  return f(**kwargs)\n"
     ]
    },
    {
     "data": {
      "text/plain": [
       "LogisticRegression()"
      ]
     },
     "execution_count": 29,
     "metadata": {},
     "output_type": "execute_result"
    }
   ],
   "source": [
    "# モデルの学習・予測\n",
    "model = LogisticRegression()\n",
    "model.fit(X_train, Y_train)"
   ]
  },
  {
   "cell_type": "markdown",
   "metadata": {},
   "source": [
    "## 検証データを使って予測値の検証"
   ]
  },
  {
   "cell_type": "code",
   "execution_count": 30,
   "metadata": {},
   "outputs": [
    {
     "data": {
      "text/plain": [
       "0.8555729984301413"
      ]
     },
     "execution_count": 30,
     "metadata": {},
     "output_type": "execute_result"
    }
   ],
   "source": [
    "# 検証 <-訓練データ \n",
    "model.score(X_train ,Y_train)"
   ]
  },
  {
   "cell_type": "code",
   "execution_count": 31,
   "metadata": {},
   "outputs": [
    {
     "data": {
      "text/plain": [
       "0.8685446009389671"
      ]
     },
     "execution_count": 31,
     "metadata": {},
     "output_type": "execute_result"
    }
   ],
   "source": [
    "# 検証 <-検証データ\n",
    "# (検証データと値が近いなら信用できる。\n",
    "#  どこまでの差異を近いとするかはそれぞれ\n",
    "#  判断する必要がある。)\n",
    "model.score(X_test,Y_test)"
   ]
  },
  {
   "cell_type": "markdown",
   "metadata": {},
   "source": [
    "## ROC曲線の描画（偽陽性率、真陽性率、閾値の算出）"
   ]
  },
  {
   "cell_type": "code",
   "execution_count": 32,
   "metadata": {},
   "outputs": [
    {
     "data": {
      "image/png": "[encoded data removed]",
      "text/plain": [
       "<Figure size 432x288 with 1 Axes>"
      ]
     },
     "metadata": {
      "needs_background": "light"
     },
     "output_type": "display_data"
    },
    {
     "name": "stdout",
     "output_type": "stream",
     "text": [
      "[1.98674457 0.98674457 0.97570317 0.97425356 0.96787505 0.96594339\n",
      " 0.94766606 0.94458881 0.93793821 0.93521369 0.92959181 0.92748113\n",
      " 0.92545057 0.92331304 0.90548741 0.90333873 0.90195515 0.90016633\n",
      " 0.89782307 0.89032298 0.88856001 0.88335426 0.87029049 0.86953482\n",
      " 0.77006958 0.76998596 0.6943742  0.68449343 0.53681248 0.53462538\n",
      " 0.52091671 0.49349515 0.40488415 0.3927037  0.37470823 0.37382907\n",
      " 0.33355851 0.3173356  0.30107226 0.29059835 0.25764914 0.25048616\n",
      " 0.23068546 0.21046231 0.20125616 0.20006488 0.18318409 0.18193269\n",
      " 0.17898258 0.17743522 0.14845997 0.14657422 0.1068445  0.10546712\n",
      " 0.10070338 0.09881592 0.08275731 0.08019856 0.07244016 0.07187872\n",
      " 0.07052058 0.06703909 0.06533169 0.05279596 0.04985628 0.00823479]\n"
     ]
    }
   ],
   "source": [
    "# ROC曲線の描画（偽陽性率、真陽性率、閾値の算出）\n",
    "y_pred = model.predict_proba(X_test)[:, 1]\n",
    "fpr, tpr, thresholds = roc_curve(y_true=Y_test, y_score=y_pred)\n",
    "plt.plot(fpr, tpr, label='roc curve')\n",
    "plt.plot([0, 1], [0, 1], linestyle=':', label='random')\n",
    "plt.plot([0, 0, 1], [0, 1, 1], linestyle=':', label='ideal')\n",
    "plt.legend()\n",
    "plt.xlabel('false positive rate')\n",
    "plt.ylabel('true positive rate')\n",
    "plt.show()\n",
    "print(thresholds)"
   ]
  },
  {
   "cell_type": "code",
   "execution_count": 33,
   "metadata": {},
   "outputs": [
    {
     "name": "stdout",
     "output_type": "stream",
     "text": [
      "AUC: 0.932767507998578\n"
     ]
    }
   ],
   "source": [
    "# AUCスコアの算出\n",
    "auc_score = roc_auc_score(y_true=Y_test, y_score=y_pred)\n",
    "print(\"AUC:\", auc_score)"
   ]
  },
  {
   "cell_type": "code",
   "execution_count": null,
   "metadata": {},
   "outputs": [],
   "source": []
  },
  {
   "cell_type": "markdown",
   "metadata": {},
   "source": [
    "## 予測する"
   ]
  },
  {
   "cell_type": "code",
   "execution_count": 148,
   "metadata": {},
   "outputs": [],
   "source": [
    "y_pred = model.predict_proba(x_vat)[:, 1]\n",
    "y_pred=np.array(y_pred ,dtype=np.float)\n",
    "df_out = pd.DataFrame(y_pred, columns=['val'])\n",
    "df_out.to_csv('./submit.csv', encoding='utf_8_sig' , header=False)"
   ]
  },
  {
   "cell_type": "code",
   "execution_count": 27,
   "metadata": {},
   "outputs": [],
   "source": [
    "#from collections import Counter\n",
    "#print(Counter(y_predict))"
   ]
  },
  {
   "cell_type": "markdown",
   "metadata": {},
   "source": [
    "## モデルの保存"
   ]
  },
  {
   "cell_type": "code",
   "execution_count": 150,
   "metadata": {},
   "outputs": [],
   "source": [
    "#import pickle\n",
    "#with open('model.pickle', mode='wb') as fp:\n",
    "#    pickle.dump(model, fp)"
   ]
  },
  {
   "cell_type": "code",
   "execution_count": null,
   "metadata": {},
   "outputs": [],
   "source": []
  }
 ],
 "metadata": {
  "kernelspec": {
   "display_name": "Python 3",
   "language": "python",
   "name": "python3"
  },
  "language_info": {
   "codemirror_mode": {
    "name": "ipython",
    "version": 3
   },
   "file_extension": ".py",
   "mimetype": "text/x-python",
   "name": "python",
   "nbconvert_exporter": "python",
   "pygments_lexer": "ipython3",
   "version": "3.7.1"
  }
 },
 "nbformat": 4,
 "nbformat_minor": 4
}
